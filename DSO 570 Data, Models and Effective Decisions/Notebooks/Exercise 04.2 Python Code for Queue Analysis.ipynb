{
 "cells": [
  {
   "cell_type": "markdown",
   "metadata": {},
   "source": [
    "## Exercise 4.2 Python Code for Queue Analysis\n",
    "\n",
    "A popular fast food restaurant is planning to open a branch in a new location and wants to decide how many servers to hire. To help them, write a function \"avQueueLength\" with two input parameters:\n",
    "\n",
    "- k: the number of customers that can be served in a minute. (assumed to be integer)\n",
    "- demand: a list of integers specifying how many customers arrive each minute. (For simplicity, assume that customers arrive at the beginning of each minute and up to k customers can be served instantly.)\n",
    "\n",
    "The function should return (not print) the average queue length.\n",
    "\n",
    "**Sample run:**\n",
    "```python\n",
    "avQueueLength(3,[2,3,6,8,10,2,1,0,1,0])\n",
    "```\n",
    "\n",
    "**Output:**\n",
    "```\n",
    "7.2\n",
    "```\n",
    "\n",
    "The following table summarizes the evolution of the queue corresponding to the above sample input.\n",
    "\n",
    "| Minute | # of Arrivals | # Served | Queue Length| \n",
    "| -- | -- | -- | -- |\n",
    "| 0  | -- | -- | 0  |\n",
    "| 1  | 2  | 2  | 0  |\n",
    "| 2  | 3  | 3  | 0  |\n",
    "| 3  | 6  | 3  | 3  |\n",
    "| 4  | 8  | 3  | 8  |\n",
    "| 5  | 10 | 3  | 15 |\n",
    "| 6  | 2  | 3  | 14 |\n",
    "| 7  | 1  | 3  | 12 | \n",
    "| 8  | 0  | 3  | 9  |\n",
    "| 9  | 1  | 3  | 7  |\n",
    "| 10 | 0  | 3  | 4  |\n",
    "| **Average** | -- | -- | **7.2** |\n"
   ]
  },
  {
   "cell_type": "markdown",
   "metadata": {},
   "source": [
    "## Solutions\n",
    "\n",
    "**Steps 1 and 2.** See part a) of the in-class exercise."
   ]
  },
  {
   "cell_type": "markdown",
   "metadata": {},
   "source": [
    "**Step 3. Analyze:** For each part of the instructions above, plan how you would carry them out using Python. For the trickest parts, write fragments of runnable Python code to implement them, while creating sample intermediate inputs to test each fragment separately on the computer. "
   ]
  },
  {
   "cell_type": "code",
   "execution_count": 11,
   "metadata": {},
   "outputs": [
    {
     "name": "stdout",
     "output_type": "stream",
     "text": [
      "Minute: 1\n",
      "Arrivals: 2\n",
      "Served: 2\n",
      "Queue Length 0 \n",
      "\n",
      "Minute: 2\n",
      "Arrivals: 3\n",
      "Served: 3\n",
      "Queue Length 0 \n",
      "\n",
      "Minute: 3\n",
      "Arrivals: 6\n",
      "Served: 3\n",
      "Queue Length 3 \n",
      "\n",
      "Minute: 4\n",
      "Arrivals: 8\n",
      "Served: 3\n",
      "Queue Length 5 \n",
      "\n",
      "Minute: 5\n",
      "Arrivals: 10\n",
      "Served: 3\n",
      "Queue Length 7 \n",
      "\n",
      "Minute: 1\n",
      "Arrivals: 2\n",
      "Served: 2\n",
      "Queue Length 0 \n",
      "\n",
      "Minute: 7\n",
      "Arrivals: 1\n",
      "Served: 1\n",
      "Queue Length 0 \n",
      "\n",
      "Minute: 8\n",
      "Arrivals: 0\n",
      "Served: 0\n",
      "Queue Length 0 \n",
      "\n",
      "Minute: 7\n",
      "Arrivals: 1\n",
      "Served: 1\n",
      "Queue Length 0 \n",
      "\n",
      "Minute: 8\n",
      "Arrivals: 0\n",
      "Served: 0\n",
      "Queue Length 0 \n",
      "\n",
      "Queue length at minute 1: 0\n",
      "Queue length at minute 2: 0\n",
      "Queue length at minute 3: 3\n",
      "Queue length at minute 4: 5\n",
      "Queue length at minute 5: 7\n",
      "Queue length at minute 6: 0\n",
      "Queue length at minute 7: 0\n",
      "Queue length at minute 8: 0\n",
      "Queue length at minute 9: 0\n",
      "Queue length at minute 10: 0\n"
     ]
    }
   ],
   "source": [
    "rem = []\n",
    "arrivals = [2,3,6,8,10,2,1,0,1,0]\n",
    "served = 3\n",
    "for i in arrivals:\n",
    "    print('Minute:',arrivals.index(i)+1)\n",
    "    print('Arrivals:',i)\n",
    "    print('Served:',min(i,3))\n",
    "    print('Queue Length',max(0,i-3),'\\n')\n",
    "    rem.append(i-3 if i-3 >= 0 else 0)\n",
    "for i in range(len(rem)):\n",
    "    print(f'Queue length at minute {i+1}: {rem[i]}')"
   ]
  },
  {
   "cell_type": "code",
   "execution_count": 12,
   "metadata": {},
   "outputs": [
    {
     "data": {
      "text/plain": [
       "[0, 0, 3, 8, 15, 14, 12, 9, 7, 4]"
      ]
     },
     "execution_count": 12,
     "metadata": {},
     "output_type": "execute_result"
    }
   ],
   "source": [
    "rem = []\n",
    "arrivals = [2,3,6,8,10,2,1,0,1,0]\n",
    "served = 3\n",
    "for i in range(len(arrivals)):\n",
    "    rem.append(arrivals[i]-3 if arrivals[i]-3 >= 0 else 0)\n",
    "    if i != len(arrivals)-1:\n",
    "        arrivals[i+1] += max(0,arrivals[i]-3)\n",
    "rem"
   ]
  },
  {
   "cell_type": "code",
   "execution_count": 13,
   "metadata": {},
   "outputs": [
    {
     "name": "stdout",
     "output_type": "stream",
     "text": [
      "7.2\n"
     ]
    }
   ],
   "source": [
    "print(sum(rem)/len(rem))"
   ]
  },
  {
   "cell_type": "markdown",
   "metadata": {},
   "source": [
    "**Step 4. Synthesize:** Following the instructions from Step 2 and the code fragments from Step 3, write complete Python code to implement the instructions and solve the problem. You should do this in an incremental fashion and print intermediate outputs as you go to make sure that each part of the code matches your expectations."
   ]
  },
  {
   "cell_type": "code",
   "execution_count": 14,
   "metadata": {},
   "outputs": [
    {
     "name": "stdout",
     "output_type": "stream",
     "text": [
      "Minute\tArrival\tServed\tQueue\n",
      "1\t2\t2\t3\n",
      "2\t3\t3\t6\n",
      "3\t6\t3\t11\n",
      "4\t11\t3\t18\n",
      "5\t18\t3\t17\n",
      "6\t17\t3\t15\n",
      "7\t15\t3\t12\n",
      "8\t12\t3\t10\n",
      "9\t10\t3\t7\n"
     ]
    },
    {
     "data": {
      "text/plain": [
       "7.2"
      ]
     },
     "execution_count": 14,
     "metadata": {},
     "output_type": "execute_result"
    }
   ],
   "source": [
    "# Code with intermediate printing, without function declaration.\n",
    "def avQueueLength(k,demand):\n",
    "    temp = demand[:]\n",
    "    print('Minute\\tArrival\\tServed\\tQueue')\n",
    "    rem = []\n",
    "    for i in range(len(temp)):\n",
    "        rem.append(temp[i]-k if temp[i]-k >= 0 else 0)\n",
    "        if i != len(temp)-1:\n",
    "            temp[i+1] += max(0,temp[i]-k)\n",
    "            print(f'{i+1}\\t{temp[i]}\\t{min(temp[i],k)}\\t{temp[i+1]}')\n",
    "    return(sum(rem)/len(rem))\n",
    "avQueueLength(3,[2,3,6,8,10,2,1,0,1,0])"
   ]
  },
  {
   "cell_type": "code",
   "execution_count": 15,
   "metadata": {},
   "outputs": [],
   "source": [
    "# Final code\n",
    "def avQueueLength(k,demand):\n",
    "    temp = demand[:]\n",
    "    rem = []\n",
    "    for i in range(len(temp)):\n",
    "        rem.append(temp[i]-k if temp[i]-k >= 0 else 0)\n",
    "        if i != len(temp)-1:\n",
    "            temp[i+1] += max(0,temp[i]-k)\n",
    "    return(round(sum(rem)/len(rem),1))"
   ]
  },
  {
   "cell_type": "code",
   "execution_count": 16,
   "metadata": {},
   "outputs": [
    {
     "data": {
      "text/plain": [
       "7.2"
      ]
     },
     "execution_count": 16,
     "metadata": {},
     "output_type": "execute_result"
    }
   ],
   "source": [
    "# Test code 1\n",
    "avQueueLength(3,[2,3,6,8,10,2,1,0,1,0])"
   ]
  },
  {
   "cell_type": "code",
   "execution_count": 17,
   "metadata": {},
   "outputs": [
    {
     "name": "stdout",
     "output_type": "stream",
     "text": [
      "Av. Queue Length with 1 server(s): 17.2\n",
      "Av. Queue Length with 2 server(s): 11.7\n",
      "Av. Queue Length with 3 server(s): 7.2\n",
      "Av. Queue Length with 4 server(s): 4.0\n",
      "Av. Queue Length with 5 server(s): 2.2\n"
     ]
    }
   ],
   "source": [
    "# Test code 2\n",
    "demand=[2,3,6,8,10,2,1,0,1,0]\n",
    "for k in range(1,6):\n",
    "    print(f'Av. Queue Length with {k} server(s):',avQueueLength(k,demand))"
   ]
  },
  {
   "cell_type": "markdown",
   "metadata": {},
   "source": [
    "To illustrate why the above function is useful, according to a mathematical result known as Little's Law, the average queuing time of customers is \n",
    "\n",
    "$$\\frac{\\text{Average Queue Length}}{\\text{Average Arrival Rate}}=\\frac{7.2}{3.3} \\approx 2.2 \\text{ minutes.}$$"
   ]
  },
  {
   "cell_type": "code",
   "execution_count": 18,
   "metadata": {},
   "outputs": [
    {
     "data": {
      "image/png": "[encoded data removed]",
      "text/plain": [
       "<Figure size 640x480 with 1 Axes>"
      ]
     },
     "metadata": {},
     "output_type": "display_data"
    }
   ],
   "source": [
    "# Test code 3\n",
    "demand=[2,3,6,8,10,8,4,3,2,6,3,2,1,4,5]\n",
    "servers=range(1,11)\n",
    "avArrivalRate=sum(demand)/len(demand)\n",
    "queuingTime=[avQueueLength(k,demand)/avArrivalRate for k in servers]\n",
    "import matplotlib.pyplot as plt\n",
    "plt.plot(servers,queuingTime,'ro-')\n",
    "plt.xlabel('Number of Servers')\n",
    "plt.ylabel('Average Queueing Time (Minutes)')\n",
    "plt.title('Dependence of Queuing Time on Service Rate')\n",
    "plt.show()"
   ]
  }
 ],
 "metadata": {
  "kernelspec": {
   "display_name": "Python 3",
   "language": "python",
   "name": "python3"
  },
  "language_info": {
   "codemirror_mode": {
    "name": "ipython",
    "version": 3
   },
   "file_extension": ".py",
   "mimetype": "text/x-python",
   "name": "python",
   "nbconvert_exporter": "python",
   "pygments_lexer": "ipython3",
   "version": "3.8.8"
  }
 },
 "nbformat": 4,
 "nbformat_minor": 4
}
