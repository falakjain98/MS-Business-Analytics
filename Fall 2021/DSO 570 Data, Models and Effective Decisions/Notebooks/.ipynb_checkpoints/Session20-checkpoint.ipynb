{
 "cells": [
  {
   "cell_type": "code",
   "execution_count": 2,
   "id": "8f7d6f09",
   "metadata": {},
   "outputs": [
    {
     "data": {
      "text/html": [
       "<div>\n",
       "<style scoped>\n",
       "    .dataframe tbody tr th:only-of-type {\n",
       "        vertical-align: middle;\n",
       "    }\n",
       "\n",
       "    .dataframe tbody tr th {\n",
       "        vertical-align: top;\n",
       "    }\n",
       "\n",
       "    .dataframe thead th {\n",
       "        text-align: right;\n",
       "    }\n",
       "</style>\n",
       "<table border=\"1\" class=\"dataframe\">\n",
       "  <thead>\n",
       "    <tr style=\"text-align: right;\">\n",
       "      <th></th>\n",
       "      <th>A</th>\n",
       "      <th>B</th>\n",
       "      <th>C</th>\n",
       "      <th>D</th>\n",
       "    </tr>\n",
       "  </thead>\n",
       "  <tbody>\n",
       "    <tr>\n",
       "      <th>1</th>\n",
       "      <td>20</td>\n",
       "      <td>18</td>\n",
       "      <td>21</td>\n",
       "      <td>8</td>\n",
       "    </tr>\n",
       "    <tr>\n",
       "      <th>2</th>\n",
       "      <td>8</td>\n",
       "      <td>23</td>\n",
       "      <td>24</td>\n",
       "      <td>8</td>\n",
       "    </tr>\n",
       "    <tr>\n",
       "      <th>3</th>\n",
       "      <td>25</td>\n",
       "      <td>8</td>\n",
       "      <td>8</td>\n",
       "      <td>19</td>\n",
       "    </tr>\n",
       "  </tbody>\n",
       "</table>\n",
       "</div>"
      ],
      "text/plain": [
       "    A   B   C   D\n",
       "1  20  18  21   8\n",
       "2   8  23  24   8\n",
       "3  25   8   8  19"
      ]
     },
     "execution_count": 2,
     "metadata": {},
     "output_type": "execute_result"
    }
   ],
   "source": [
    "import pandas as pd\n",
    "cost = pd.DataFrame([[20,18,21,8],[8,23,24,8],[25,8,8,19]],\\\n",
    "                    index = [1,2,3],columns=['A','B','C','D'])\n",
    "cost"
   ]
  },
  {
   "cell_type": "code",
   "execution_count": 7,
   "id": "65462ec7",
   "metadata": {},
   "outputs": [
    {
     "name": "stdout",
     "output_type": "stream",
     "text": [
      "20 18 21 8 \n",
      "8 23 24 8 \n",
      "25 8 8 19 \n"
     ]
    }
   ],
   "source": [
    "for f in cost.index:\n",
    "    for r in cost.columns:\n",
    "        print(cost.loc[f,r],end=' ')\n",
    "    print()"
   ]
  },
  {
   "cell_type": "code",
   "execution_count": 11,
   "id": "488b82cf",
   "metadata": {},
   "outputs": [
    {
     "data": {
      "text/plain": [
       "A    30\n",
       "B    50\n",
       "C    10\n",
       "D    20\n",
       "dtype: int64"
      ]
     },
     "execution_count": 11,
     "metadata": {},
     "output_type": "execute_result"
    }
   ],
   "source": [
    "demand = pd.Series([30,50,10,20],index=['A','B','C','D'])\n",
    "demand"
   ]
  },
  {
   "cell_type": "code",
   "execution_count": 12,
   "id": "1a887975",
   "metadata": {},
   "outputs": [
    {
     "data": {
      "text/plain": [
       "30"
      ]
     },
     "execution_count": 12,
     "metadata": {},
     "output_type": "execute_result"
    }
   ],
   "source": [
    "demand['A']"
   ]
  },
  {
   "cell_type": "code",
   "execution_count": 13,
   "id": "e9250905",
   "metadata": {},
   "outputs": [
    {
     "data": {
      "text/plain": [
       "30"
      ]
     },
     "execution_count": 13,
     "metadata": {},
     "output_type": "execute_result"
    }
   ],
   "source": [
    "demand.loc['A']"
   ]
  },
  {
   "cell_type": "code",
   "execution_count": 14,
   "id": "b094e6e0",
   "metadata": {},
   "outputs": [
    {
     "data": {
      "text/plain": [
       "Index(['A', 'B', 'C', 'D'], dtype='object')"
      ]
     },
     "execution_count": 14,
     "metadata": {},
     "output_type": "execute_result"
    }
   ],
   "source": [
    "demand.index"
   ]
  },
  {
   "cell_type": "code",
   "execution_count": 15,
   "id": "226af47f",
   "metadata": {},
   "outputs": [
    {
     "data": {
      "text/plain": [
       "1    40\n",
       "2    40\n",
       "3    40\n",
       "dtype: int64"
      ]
     },
     "execution_count": 15,
     "metadata": {},
     "output_type": "execute_result"
    }
   ],
   "source": [
    "capacity = pd.Series([40]*3,index=[1,2,3])\n",
    "capacity"
   ]
  },
  {
   "cell_type": "markdown",
   "id": "905827e6",
   "metadata": {},
   "source": [
    "# Implementing the Formulation Incrementally"
   ]
  },
  {
   "cell_type": "code",
   "execution_count": 19,
   "id": "82ccb4fa",
   "metadata": {},
   "outputs": [
    {
     "data": {
      "text/plain": [
       "{(1, 'A'): <gurobi.Var x[1,A]>,\n",
       " (1, 'B'): <gurobi.Var x[1,B]>,\n",
       " (1, 'C'): <gurobi.Var x[1,C]>,\n",
       " (1, 'D'): <gurobi.Var x[1,D]>,\n",
       " (2, 'A'): <gurobi.Var x[2,A]>,\n",
       " (2, 'B'): <gurobi.Var x[2,B]>,\n",
       " (2, 'C'): <gurobi.Var x[2,C]>,\n",
       " (2, 'D'): <gurobi.Var x[2,D]>,\n",
       " (3, 'A'): <gurobi.Var x[3,A]>,\n",
       " (3, 'B'): <gurobi.Var x[3,B]>,\n",
       " (3, 'C'): <gurobi.Var x[3,C]>,\n",
       " (3, 'D'): <gurobi.Var x[3,D]>}"
      ]
     },
     "execution_count": 19,
     "metadata": {},
     "output_type": "execute_result"
    }
   ],
   "source": [
    "# Creating variables\n",
    "from gurobipy import Model, GRB\n",
    "mod = Model()\n",
    "FCs = cost.index\n",
    "regions = cost.columns\n",
    "x = mod.addVars(FCs,regions,name='x')\n",
    "mod.update()\n",
    "x"
   ]
  },
  {
   "cell_type": "code",
   "execution_count": null,
   "id": "840e1536",
   "metadata": {
    "collapsed": true
   },
   "outputs": [],
   "source": []
  }
 ],
 "metadata": {
  "kernelspec": {
   "display_name": "Python 3 (ipykernel)",
   "language": "python",
   "name": "python3"
  },
  "language_info": {
   "codemirror_mode": {
    "name": "ipython",
    "version": 3
   },
   "file_extension": ".py",
   "mimetype": "text/x-python",
   "name": "python",
   "nbconvert_exporter": "python",
   "pygments_lexer": "ipython3",
   "version": "3.8.8"
  }
 },
 "nbformat": 4,
 "nbformat_minor": 5
}
