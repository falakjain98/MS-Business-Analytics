{
 "cells": [
  {
   "cell_type": "markdown",
   "metadata": {},
   "source": [
    "## Exercise 2.5. Practicing Dictionary Syntax\n",
    "\n",
    "**a)** Create an empty dictionary called \"english\"."
   ]
  },
  {
   "cell_type": "code",
   "execution_count": 1,
   "metadata": {},
   "outputs": [],
   "source": [
    "# Code for part a)\n",
    "english = {}"
   ]
  },
  {
   "cell_type": "markdown",
   "metadata": {},
   "source": [
    "**b)** Add the keys '0', '1', '2', '3', '4', '5', '6', '7', '8', '9' to this dictionary, and each number should maps to its name in English in lowercase. (i.e. the key '3' should map the the value 'three'). You should do this one key-value pair at a time."
   ]
  },
  {
   "cell_type": "code",
   "execution_count": 2,
   "metadata": {},
   "outputs": [],
   "source": [
    "# Code for part b)\n",
    "english['0'] = 'zero'\n",
    "english['1'] = 'one'\n",
    "english['2'] = 'two'\n",
    "english['3'] = 'three'\n",
    "english['4'] = 'four'\n",
    "english['5'] = 'five'\n",
    "english['6'] = 'six'\n",
    "english['7'] = 'seven'\n",
    "english['8'] = 'eight'\n",
    "english['9'] = 'nine'"
   ]
  },
  {
   "cell_type": "markdown",
   "metadata": {},
   "source": [
    "**c)** Ask the user to input a digit. If the input is one of the keys of the above dictionary, then print \"You entered XXX.\" where XXX is the corresponding value. For any other input, print \"I cannot read your input.\" "
   ]
  },
  {
   "cell_type": "code",
   "execution_count": 4,
   "metadata": {},
   "outputs": [
    {
     "name": "stdin",
     "output_type": "stream",
     "text": [
      "Please enter a number: 1\n"
     ]
    },
    {
     "name": "stdout",
     "output_type": "stream",
     "text": [
      "You entered one.\n"
     ]
    }
   ],
   "source": [
    "# Code for part c)\n",
    "n = input('Please enter a number:')\n",
    "if n in english.keys():\n",
    "    print(f'You entered {english[n]}.')\n",
    "else:\n",
    "    print('I cannot read your input.')"
   ]
  },
  {
   "cell_type": "markdown",
   "metadata": {},
   "source": [
    "**d)** Loop through the keys of the dictionary and print the corresponding value, as below."
   ]
  },
  {
   "cell_type": "code",
   "execution_count": 6,
   "metadata": {},
   "outputs": [
    {
     "name": "stdout",
     "output_type": "stream",
     "text": [
      "0 is zero.\n",
      "1 is one.\n",
      "2 is two.\n",
      "3 is three.\n",
      "4 is four.\n",
      "5 is five.\n",
      "6 is six.\n",
      "7 is seven.\n",
      "8 is eight.\n",
      "9 is nine.\n"
     ]
    }
   ],
   "source": [
    "# Code for part d)\n",
    "for key, value in english.items():\n",
    "    print(f'{key} is {value}.')"
   ]
  },
  {
   "cell_type": "markdown",
   "metadata": {},
   "source": [
    "**e)** Write a program that asks the user to input a phone number and prints every numeric character into the English word, while ignoring all non-numerical characters. You should print the result in one line, separating words with space.\n",
    "\n",
    "**Hint:** For loops can be used to iterate through the characters of a string. For example the character `c` loops through each character of the below phone number. Try it and see. \n",
    "\n",
    "```python\n",
    "number='312-740-0000'\n",
    "for c in number:\n",
    "    print(c)\n",
    "```"
   ]
  },
  {
   "cell_type": "code",
   "execution_count": 5,
   "metadata": {},
   "outputs": [
    {
     "name": "stdin",
     "output_type": "stream",
     "text": [
      "Please input a phone number: 312-740-0000\n"
     ]
    },
    {
     "name": "stdout",
     "output_type": "stream",
     "text": [
      "three one two seven four zero zero zero zero zero "
     ]
    }
   ],
   "source": [
    "n = input('Please input a phone number:')\n",
    "for i in n:\n",
    "    if i in english.keys():\n",
    "        print(english[i],end=' ')"
   ]
  }
 ],
 "metadata": {
  "kernelspec": {
   "display_name": "Python 3",
   "language": "python",
   "name": "python3"
  },
  "language_info": {
   "codemirror_mode": {
    "name": "ipython",
    "version": 3
   },
   "file_extension": ".py",
   "mimetype": "text/x-python",
   "name": "python",
   "nbconvert_exporter": "python",
   "pygments_lexer": "ipython3",
   "version": "3.8.8"
  }
 },
 "nbformat": 4,
 "nbformat_minor": 4
}
