{
 "cells": [
  {
   "cell_type": "markdown",
   "id": "16f51d3a",
   "metadata": {},
   "source": [
    "## Exercise 10.2 Numerical Solution for Food Production\n",
    "\n",
    "Solve the following concrete formulation, while loading input data from the given data structures.\n",
    "\n",
    "**Decision Variables:** \n",
    "\n",
    "- $X_1, X_2, \\cdots, X_6$: amount of oil to buy in each month. (continuous)\n",
    "- $Y_1, Y_2, \\cdots, Y_6$: amount of oil stored at the end of each month. (continuous)\n",
    "\n",
    "**Objective:**\n",
    "\n",
    "$$ \\text{Min. } 150X_1 + 160X_2 + 180X_3 + 170X_4 + 180X_5 + 160X_6 $$\n",
    "\n",
    "\n",
    "**Constraints:**\n",
    "\n",
    "$$\\begin{aligned}\n",
    "&& Y_1 &= X_1 - 2000 \\\\\n",
    "&& Y_2 &= X_2 + Y_1 - 2000 \\\\\n",
    "&& Y_3 &= X_3 + Y_2 - 2000 \\\\\n",
    "&& Y_4 &= X_4 + Y_3 - 2000 \\\\\n",
    "&& Y_5 &= X_5 + Y_4 - 2000 \\\\\n",
    "&& Y_6 &= X_6 + Y_5 - 2000 \\\\\n",
    "&& Y_t &\\le 1000 && \\text{for each month $t \\in \\{1, 2, \\cdots, 6\\}$.}\\\\\n",
    "&& X_t, Y_t & \\ge 0 && \\text{for each month $t$.}\n",
    "\\end{aligned}$$"
   ]
  },
  {
   "cell_type": "code",
   "execution_count": 18,
   "id": "98ada559",
   "metadata": {},
   "outputs": [],
   "source": [
    "# Input data\n",
    "import pandas as pd\n",
    "months=range(1,7)\n",
    "price=pd.Series([150,160,180,170,180,160],index=months)"
   ]
  },
  {
   "cell_type": "code",
   "execution_count": 19,
   "id": "7df1d36c",
   "metadata": {},
   "outputs": [
    {
     "name": "stdout",
     "output_type": "stream",
     "text": [
      "Minimum purchase cost: 1960000.0\n",
      "Month\tBuy\tStore\n",
      "1\t3000.0\t1000.0\n",
      "2\t2000.0\t1000.0\n",
      "3\t1000.0\t0.0\n",
      "4\t3000.0\t1000.0\n",
      "5\t1000.0\t0.0\n",
      "6\t2000.0\t0.0\n"
     ]
    }
   ],
   "source": [
    "# Write your code here\n",
    "from gurobipy import Model, GRB\n",
    "mod=Model()\n",
    "x=mod.addVars(months, vtype=GRB.CONTINUOUS)\n",
    "y=mod.addVars(months, vtype=GRB.CONTINUOUS)\n",
    "mod.setObjective(sum([i*x[j] for i,j in zip(price,months)]))\n",
    "mod.addConstr(y[1] - x[1] ==  -2000)\n",
    "for m in months[1:]:\n",
    "    mod.addConstr(y[m] - x[m] - y[m-1] == -2000)\n",
    "for m in months:\n",
    "    mod.addConstr(x[m] >= 0)\n",
    "    mod.addConstr(y[m] >= 0)\n",
    "    mod.addConstr(y[m] <= 1000)\n",
    "mod.setParam('OutputFlag',False)\n",
    "mod.optimize()\n",
    "print('Minimum purchase cost:',mod.objVal)\n",
    "print('Month\\tBuy\\tStore')\n",
    "for i in months:\n",
    "    print(f'{i}\\t{x[i].x}\\t{y[i].x}')"
   ]
  },
  {
   "cell_type": "code",
   "execution_count": 21,
   "id": "4bbb30f7",
   "metadata": {},
   "outputs": [
    {
     "name": "stdout",
     "output_type": "stream",
     "text": [
      "Minimum purchase cost: 1960000.0\n",
      "Month\tBuy\tStore\n",
      "1\t3000.0\t1000.0\n",
      "2\t2000.0\t1000.0\n",
      "3\t1000.0\t0.0\n",
      "4\t3000.0\t1000.0\n",
      "5\t1000.0\t0.0\n",
      "6\t2000.0\t0.0\n"
     ]
    }
   ],
   "source": [
    "# Sample output"
   ]
  }
 ],
 "metadata": {
  "kernelspec": {
   "display_name": "Python 3 (ipykernel)",
   "language": "python",
   "name": "python3"
  },
  "language_info": {
   "codemirror_mode": {
    "name": "ipython",
    "version": 3
   },
   "file_extension": ".py",
   "mimetype": "text/x-python",
   "name": "python",
   "nbconvert_exporter": "python",
   "pygments_lexer": "ipython3",
   "version": "3.8.8"
  }
 },
 "nbformat": 4,
 "nbformat_minor": 5
}
