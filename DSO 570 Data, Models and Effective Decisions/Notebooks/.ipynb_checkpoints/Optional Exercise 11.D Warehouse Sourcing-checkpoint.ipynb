{
 "cells": [
  {
   "cell_type": "markdown",
   "id": "74bcba51",
   "metadata": {},
   "source": [
    "## (Optional) Practice Problem: Warehouse Sourcing\n",
    "\n",
    "A warehouse needs to make sure it has enough inventory in each week to fulfill all customer demand based on its forecast. However, the warehouse can control when it receives shipments of inventory from suppliers and would like to optimize the timing of shipments so as to minimize the combination of the following two types of costs:\n",
    "\n",
    "1. **fixed cost of receiving a single shipment from the supplier**: each time the warehouse receives a shipment, there is a certain fixed cost, which does not depend on the amount of inventory received. Hence, it is preferable to receive shipments in large batches so as to need fewer shipments.\n",
    "2. **holding cost**: carrying extra inventory from the end of one week to the next requires storage space, so that having low inventory at the end of each week is desired. \n",
    "\n",
    "For example, suppose that the fixed cost of receiving each shipment is 100 dollars and the cost of carrying each unit of inventory from the end of one week to the next is 2 dollars. Suppose that the warehouse forecasts the following demand in the next eight weeks. \n",
    "\n",
    "|Week: | 1 | 2 | 3 | 4 | 5 | 6 | 7 | 8 |\n",
    "|--|--|--|--|--|--|--|--|--|\n",
    "|**Demand:** |20|10|0|40|50|10|0|30|\n",
    "\n",
    "The beginning inventory at the end of Week 0 is zero, and shipments from the supplier arrive at the beginning of a week before any demand needs to be fulfilled. Suppose that the warehouse wants to receive only one shipment, then it needs to receive 160 units at the beginning of Week 1 in order to have enough to fulfill all demand in the 8 weeks. Call this plan A. Under plan A, the amount of leftover inventory at the end of each week is as follows:\n",
    "\n",
    "|Week: | 1 | 2 | 3 | 4 | 5 | 6 | 7 | 8 |\n",
    "|--|--|--|--|--|--|--|--|--|\n",
    "|**Leftover inventory under plan A:** |140|130|130|90|40|30|30|0|\n",
    "\n",
    "Hence, the total holding cost is $2 \\times (140+130+130+90+40+30+30+0)=1180$. Since only one shipment needs to be received, the total cost of plan A is $1180+100 \\times 1 = 1280$. \n",
    "\n",
    "An alternative plan, which we refer to as plan B, is to receive a separate shipment at the beginning of each week with positive demand, and to receive just enough to fulfil the demand for that week. The total holding cost under this plan is 0, since all received inventory will be used up by the end of a week, and the total fixed cost is $100 \\times 6 = 600$ (since there are 6 weeks with non-zero demand in this example). The total cost of plan B is $0+600=600$, which is lower than plan A.\n",
    "\n",
    "The **optimal plan** in this example is to receive 4 shipments from the supplier: receive 30 units at the beginning of Week 1, 40 units at the beginning of Week 4, 60 units at the beginning of Week 5, and 30 units at the beginning of Week 8. Under this plan, the leftover inventory at the end of each week is as follows:\n",
    "\n",
    "|Week: | 1 | 2 | 3 | 4 | 5 | 6 | 7 | 8 |\n",
    "|--|--|--|--|--|--|--|--|--|\n",
    "|**Leftover inventory under plan A:** |10|0|0|0|10|0|0|0|\n",
    "\n",
    "Hence, the total cost is $2 \\times 20 + 100 \\times 4 = 440$, which is lower than both plans A and B.\n",
    "\n",
    "**Write an abstract formulation of a LP/MIP to solve for the optimal plan for receiving shipments for arbitrary data.** Your formulation must be able to handle arbitrary number of weeks, arbitrary unit holding cost, arbitrary fixed cost of receiving a shipment, as well as arbitrary demand in each week. You can assume that the inventory at the end of Week 0 is zero, and that accurate demand forecasts are given. You can define additional data variables as needed, as long as you precisely specify how they can be computed based on the data. Your objective and constraints must all be linear. \n"
   ]
  },
  {
   "cell_type": "markdown",
   "id": "ac259b11",
   "metadata": {},
   "source": [
    "**Data Variables:**\n",
    "\n",
    "\n",
    "\n",
    "\n",
    "\n",
    "\n",
    "**Decision Variables:**\n",
    "\n",
    "\n",
    "\n",
    "\n",
    "\n",
    "**Objective and Constraints:**\n",
    "\n",
    "\n",
    "\n",
    "\n",
    "\n"
   ]
  }
 ],
 "metadata": {
  "kernelspec": {
   "display_name": "Python 3 (ipykernel)",
   "language": "python",
   "name": "python3"
  },
  "language_info": {
   "codemirror_mode": {
    "name": "ipython",
    "version": 3
   },
   "file_extension": ".py",
   "mimetype": "text/x-python",
   "name": "python",
   "nbconvert_exporter": "python",
   "pygments_lexer": "ipython3",
   "version": "3.8.8"
  }
 },
 "nbformat": 4,
 "nbformat_minor": 5
}
