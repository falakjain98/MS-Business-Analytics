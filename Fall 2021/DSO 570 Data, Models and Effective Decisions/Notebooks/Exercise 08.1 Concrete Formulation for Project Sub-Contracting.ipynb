{
 "cells": [
  {
   "cell_type": "markdown",
   "metadata": {},
   "source": [
    "## Exercise 8.1: Concrete Formulation for Project Sub-Contracting\n",
    "\n",
    "Write a linear optimization formulation of the following problem and typeset it in Latex.\n",
    "\n",
    "Tom Burke, owner of Burke Construction, has promised to complete five projects this winter. Burke Construction has 10 workers that will work 40 hours a week for 12 weeks this winter. Since this is a limited workforce, Tom knows that he will not be able to complete all of his construction projects without subcontracting some of them. In the table below, he has estimated the amount of labor hours required by each project, and the profit to his company. (All profits are in thousands of dollars.)\n",
    "\n",
    "| Project | 1 | 2 | 3 | 4 | 5 |\n",
    "|--|--|--|--|--|--|\n",
    "| Labor hours required | 1300 | 950 | 1000 | 1400 | 1600 |\n",
    "| Profit (if done by own company) | 30 | 10 | 26 | 18 | 20 |\n",
    "| Profit (if subcontracted) | 6 | 2 | 8 | 9 | 4 |\n",
    "\n",
    "To maximize profit, which jobs should Tom schedule for his company, and which should be subcontracted? (Assume that projects cannot be partially subcontracted; that is, a project will be completed entirely by either Burke Construction or the subcontractor.) "
   ]
  },
  {
   "cell_type": "markdown",
   "metadata": {},
   "source": [
    "### Concrete Formulation\n",
    "\n",
    "**Decision Variable:**\n",
    "- $X_i$: Whether to schedule project i for own company. (Binary)\n",
    "- $Y_i$: Whether to subcontract project i. (Binary)\n",
    "\n",
    "**Objective:**\n",
    "$$\\text{Maximize:} \\qquad 30X_1+10X_2+26X_3+18X_4+20X_5+6Y_1+2Y_2+8Y_3+9Y_4+4Y_5$$\n",
    "\n",
    "**Constraints:**\n",
    "$$\\begin{aligned}\n",
    "\\text{(Labour Hours)} && 1300X_1+950X_2+1000X_3+1400X_4+1600X_5 & \\le 4800 \\\\\n",
    "\\text{(Project 1)} && X_1+Y_1 & = 1 \\\\\n",
    "\\text{(Project 2)} && X_2+Y_2 & = 1 \\\\\n",
    "\\text{(Project 3)} && X_3+Y_3 & = 1 \\\\\n",
    "\\text{(Project 4)} && X_4+Y_4 & = 1 \\\\\n",
    "\\text{(Project 5)} && X_5+Y_5 & = 1 \\\\\n",
    "\\end{aligned}$$"
   ]
  }
 ],
 "metadata": {
  "kernelspec": {
   "display_name": "Python 3 (ipykernel)",
   "language": "python",
   "name": "python3"
  },
  "language_info": {
   "codemirror_mode": {
    "name": "ipython",
    "version": 3
   },
   "file_extension": ".py",
   "mimetype": "text/x-python",
   "name": "python",
   "nbconvert_exporter": "python",
   "pygments_lexer": "ipython3",
   "version": "3.8.8"
  }
 },
 "nbformat": 4,
 "nbformat_minor": 4
}
