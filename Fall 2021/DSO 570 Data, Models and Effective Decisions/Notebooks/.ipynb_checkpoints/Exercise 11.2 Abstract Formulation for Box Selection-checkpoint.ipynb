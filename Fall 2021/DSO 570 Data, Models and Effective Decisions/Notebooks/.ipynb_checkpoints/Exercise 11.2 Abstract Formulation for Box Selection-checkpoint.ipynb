{
 "cells": [
  {
   "cell_type": "markdown",
   "id": "9edb2b47",
   "metadata": {
    "toc": true
   },
   "source": [
    "<h1>Table of Contents<span class=\"tocSkip\"></span></h1>\n",
    "<div class=\"toc\"><ul class=\"toc-item\"><li><span><a href=\"#Exercise-11.2:-Abstract-Formulation-for-Box-Selection\" data-toc-modified-id=\"Exercise-11.2:-Abstract-Formulation-for-Box-Selection-1\"><span class=\"toc-item-num\">1&nbsp;&nbsp;</span>Exercise 11.2: Abstract Formulation for Box Selection</a></span><ul class=\"toc-item\"><li><span><a href=\"#Concrete-Formulation\" data-toc-modified-id=\"Concrete-Formulation-1.1\"><span class=\"toc-item-num\">1.1&nbsp;&nbsp;</span>Concrete Formulation</a></span></li><li><span><a href=\"#Abstract-Formulation\" data-toc-modified-id=\"Abstract-Formulation-1.2\"><span class=\"toc-item-num\">1.2&nbsp;&nbsp;</span>Abstract Formulation</a></span></li></ul></li></ul></div>"
   ]
  },
  {
   "cell_type": "markdown",
   "id": "dd6a4732",
   "metadata": {},
   "source": [
    "## Exercise 11.2: Abstract Formulation for Box Selection\n",
    "\n",
    "Complete the abstract formulation corresponding to the following concrete formulation from Exercise 9.1."
   ]
  },
  {
   "cell_type": "markdown",
   "id": "5c5783fb",
   "metadata": {},
   "source": [
    "\n",
    "| Item type | 1 | 2 | 3 | \n",
    "|--|--|--|--|\n",
    "| Minimum box size (in cubit feet) | 1.5 | 1.7 | 2.0 |\n",
    "| Demand | 400 | 500 | 200 |\n",
    "\n",
    "### Concrete Formulation\n",
    "\n",
    "**Decision Variables:**\n",
    "\n",
    "- $Y_1, Y_2, Y_3$: how many boxes to make of each box type. (Integer)\n",
    "- $Z_1, Z_2, Z_3$: whether to make the mold for each box type. (Binary)\n",
    "\n",
    "**Objective and Constraints:**\n",
    "$$\\begin{aligned}\n",
    "\\text{Minimize:} && 1.5Y_1+1.7Y_2+2.0Y_3+&1000(Z_1+Z_2+Z_3) \\\\\n",
    "\\text{s.t.} \\\\\n",
    "\\text{(Demand 1)} && Y_1+Y_2+Y_3 & \\ge 1100 \\\\\n",
    "\\text{(Demand 2)} && Y_2 + Y_3 & \\ge 700 \\\\\n",
    "\\text{(Demand 3)} && Y_3 & \\ge 200 \\\\\n",
    "\\text{(S boxes on/off)} && Y_1 & \\le 1100Z_1 \\\\\n",
    "\\text{(M boxes on/off)} && Y_2 & \\le 1100Z_2 \\\\\n",
    "\\text{(L boxes on/off)} && Y_3 & \\le 1100Z_3 \\\\\n",
    "&& Y_1,Y_2,Y_3& \\ge 0\n",
    "\\end{aligned}$$"
   ]
  },
  {
   "cell_type": "markdown",
   "id": "0a48bbff",
   "metadata": {},
   "source": [
    "### Abstract Formulation\n",
    "\n",
    "**Data:**\n",
    "\n",
    "- $n$: the number of item types, which is also equal to the number of box types.\n",
    "- $I=\\{1,2,\\cdots,n\\}$: the set of box types, with the labels ordered in increasing box sizes.\n",
    "- $s_i$: the size of box type $i$. This is also the variable cost of producing boxes of this type.\n",
    "- $d_i$: the demand for item $i$.\n",
    "- $M=\\sum_{i=1}^n d_i$: the total demand of all items.\n",
    "- $F$: the fixed cost of making each type of box. (In the concrete formulation, $F=1000$.)\n",
    "\n",
    "**Decision Variables:**\n",
    "- $Y_i$: how many boxes of type i to be made (Integer)\n",
    "- $z_i$: whether to make the mold for box type i (Binary)\n",
    "\n",
    "\n",
    "**Objective and Constraints:**\n",
    "$$\n",
    "\\begin{aligned}\n",
    " \\text{Minimize: } \\qquad \\sum_{i \\in I}s_iY_i + \\sum_{i \\in I}FZ_i & \\\\\n",
    "\\text{s.t.} \\\\\n",
    "\\text{(Demand for each box)} && \\sum_{i = i}^{n}Y_i & \\ge d_i && \\text{for $i \\in I$} \\\\\n",
    "\\text{(Box Size on/off)} && Y_i & \\le Mz_i \\\\\n",
    "&& Y_i & \\ge 0 \\\\\n",
    "\\end{aligned}\n",
    "$$\n",
    "\n",
    "\n",
    "\n",
    "\n"
   ]
  },
  {
   "cell_type": "code",
   "execution_count": null,
   "id": "927e6028",
   "metadata": {},
   "outputs": [],
   "source": []
  }
 ],
 "metadata": {
  "kernelspec": {
   "display_name": "Python 3 (ipykernel)",
   "language": "python",
   "name": "python3"
  },
  "language_info": {
   "codemirror_mode": {
    "name": "ipython",
    "version": 3
   },
   "file_extension": ".py",
   "mimetype": "text/x-python",
   "name": "python",
   "nbconvert_exporter": "python",
   "pygments_lexer": "ipython3",
   "version": "3.8.8"
  },
  "toc": {
   "base_numbering": 1,
   "nav_menu": {},
   "number_sections": true,
   "sideBar": true,
   "skip_h1_title": false,
   "title_cell": "Table of Contents",
   "title_sidebar": "Contents",
   "toc_cell": true,
   "toc_position": {},
   "toc_section_display": true,
   "toc_window_display": false
  }
 },
 "nbformat": 4,
 "nbformat_minor": 5
}
