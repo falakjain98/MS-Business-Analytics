{
 "cells": [
  {
   "cell_type": "markdown",
   "id": "d4bb590d",
   "metadata": {},
   "source": [
    "# The Four Steps of Optimization Modeling\n",
    "\n",
    "**1. English description**: write a succinct verbal description of the decision, objective and constraints.\n",
    "\n",
    "**2. Concrete formulation**: translate the above into a linear optimization formulation, illustrating with made-up numbers from a toy example. \n",
    "\n",
    "**3. Abstract formulation**: identify patterns in the above and rewrite the formulation into one that can be scaled up to arbitrary data, by defining data variables and using index and summation notations.\n",
    "\n",
    "**4. Reusable software**: write Python code to take in any input data of a certain format and output the optimal decision.\n",
    "\n",
    "## Illustration of Where we are Headed\n",
    "\n",
    "Amazon.com is expanding its business by launching a physical store in West LA. As the manager, you need to select which bestsellers to carry at the store’s grand opening. The following table provides the list of Top 10 Bestsellers in Literature & Fiction, along with their genres. Note that some bestsellers belong to more than one genre. \n",
    "\n",
    "| Rank \\\\ Genre  | Literary | Sci-Fi | Romance | Thriller |\n",
    "|:--|--|--|--|--|\n",
    "| 1 | √ | ` ` | ` ` | ` ` |\n",
    "| 2 | ` ` | √ | ` ` | √ |\n",
    "| 3 | ` ` |` `  | √ | √ |\n",
    "| 4 | √ |` `  | √ | ` ` |\n",
    "| 5 | √ |` `  | ` ` | ` ` |\n",
    "| 6 |` `  | ` ` | √ | ` ` |\n",
    "| 7 | ` ` | √ |` `  | ` ` |\n",
    "| 8 | ` ` | ` ` | ` ` | √ |\n",
    "| 9 | √ | √ | ` ` |` `  |\n",
    "| 10 |` `  | ` ` | √ | ` ` |\n",
    "\n",
    "Help the company decide which bestsellers to carry, so as to minimize the number of bestsellers carried, while ensuring that there are at least two bestsellers in each genre. \n",
    "\n",
    "The above inputs are only for illustrative purposes. In the end, you would create a tool that the company can use to solve the above problem for arbitrary input data."
   ]
  },
  {
   "cell_type": "markdown",
   "id": "b5efd073",
   "metadata": {},
   "source": [
    "### Step 1. English Description (Weeks 8-9)\n",
    "\n",
    "**Decision:** Which bestsellers to carry.\n",
    "\n",
    "**Objective:** Minimize the total number of bestsellers carried.\n",
    "\n",
    "**Constraints:** For each of the four genres, we need to carry at least two books of that genre. In other words, for each genre,\n",
    "$$\\text{# of books carried of this genre} \\ge 2 $$\n",
    "\n",
    "\n",
    "### Step 2. Concrete Formulation  (Weeks 8-9)\n",
    "\n",
    "**Decision variables:**\n",
    "Let $x_i$ denote whether to carry $i$, where $i \\in \\{1, 2, \\cdots, 10\\}$. (Binary)\n",
    "\n",
    "**Objective:**\n",
    "$$\\text{Minimize: } x_1+x_2+\\cdots+x_{10}.$$\n",
    "\n",
    "**Constraints:**\n",
    "\n",
    "$$\\begin{aligned}\n",
    "\\text{(Literary)} && x_1+x_4+x_5+x_9 & \\ge 2\\\\\n",
    "\\text{(Sci-Fi)} && x_2 + x_7 + x_9 & \\ge 2\\\\\n",
    "\\text{(Romance)} && x_3 + x_4 + x_6 + x_{10} & \\ge 2 \\\\\n",
    "\\text{(Thriller)} && x_2+x_3+x_8 & \\ge 2\n",
    "\\end{aligned}$$\n",
    "\n",
    "### Step 3. Abstract Formulation  (Weeks 10-11)\n",
    "\n",
    "**Data:**\n",
    "\n",
    "- $B$: the set of books.\n",
    "- $G$: the set of genres.\n",
    "- $B_g$: the set of books of genre $g$. \n",
    "- $q_g$: how many books we need of genre $g$.\n",
    "\n",
    "**Decision Variables:** Let $x_b$ deibite whether to carry book $b$. (Binary)\n",
    "\n",
    "**Objective and constraints:**\n",
    "\n",
    "$$\\begin{aligned}\n",
    "\\text{Minimize:} && \\sum_{b \\in B} x_b \\\\\n",
    "\\text{subject to:} \\\\\n",
    "\\text{(Enough books in genre)} && \\sum_{b \\in B_g} x_b & \\ge q_g & \\text{ for each genre $g \\in G$.}\n",
    "\\end{aligned}$$"
   ]
  },
  {
   "cell_type": "code",
   "execution_count": 2,
   "id": "7ecc8c19",
   "metadata": {},
   "outputs": [
    {
     "name": "stdout",
     "output_type": "stream",
     "text": [
      "Minimum # of books: 4.0\n",
      "Books to include:  [2, 3, 4, 9]\n"
     ]
    }
   ],
   "source": [
    "# Corresponding Python code\n",
    "B=range(1,11)\n",
    "G=['Literary','Sci-Fi','Romance','Thriller']\n",
    "booksInGenre={'Literary':[1,4,5,9],'Sci-Fi':[2,7,9],'Romance':[3,4,6,10],'Thriller':[2,3,8]}\n",
    "q={'Literary':2,'Sci-Fi':2,'Romance':2,'Thriller':2}\n",
    "from gurobipy import Model,GRB\n",
    "mod=Model()\n",
    "x=mod.addVars(B,vtype=GRB.BINARY)\n",
    "mod.setObjective(sum(x[b] for b in B))\n",
    "for g in G:\n",
    "    mod.addConstr(sum(x[b] for b in booksInGenre[g])>=q[g])\n",
    "mod.setParam('OutputFlag',False)\n",
    "mod.optimize()\n",
    "print('Minimum # of books:',mod.objval)\n",
    "print('Books to include: ',[b for b in B if x[b].x==1])"
   ]
  },
  {
   "cell_type": "markdown",
   "id": "4a5659f8",
   "metadata": {},
   "source": [
    "### Step 4. Reusable Software (Week 12)\n",
    "\n",
    "See the two inputs files attached on Blackboard (`07-books-input-1.xlsx` and `07-books-input-2.xlsx`) and the corresponding output files (`07-books-output-1.xlsx` and `07-books-output-2.xlsx`) generated by a Python script that you will be able to write in Week 12."
   ]
  },
  {
   "cell_type": "markdown",
   "id": "d5a11770",
   "metadata": {},
   "source": [
    "## In-class Exercise\n",
    "\n",
    "Think of a decision you are interested in optimizing, either from your personal life or from an industry you are interested in. Describe the decision, the objective and the constraints. On a piece of paper or using Excel, sketch out what the input data might look like, as well as the desired output data encoding the optimal decision. "
   ]
  }
 ],
 "metadata": {
  "kernelspec": {
   "display_name": "Python 3",
   "language": "python",
   "name": "python3"
  },
  "language_info": {
   "codemirror_mode": {
    "name": "ipython",
    "version": 3
   },
   "file_extension": ".py",
   "mimetype": "text/x-python",
   "name": "python",
   "nbconvert_exporter": "python",
   "pygments_lexer": "ipython3",
   "version": "3.7.11"
  }
 },
 "nbformat": 4,
 "nbformat_minor": 5
}
