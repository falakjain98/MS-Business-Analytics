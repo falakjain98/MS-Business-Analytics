{
 "cells": [
  {
   "cell_type": "markdown",
   "metadata": {
    "id": "ty_Gvth62Tav"
   },
   "source": [
    "# Homework 2\n",
    "\n",
    "### Due: Saturday Sep 18, at 11:59pm via Blackboard"
   ]
  },
  {
   "cell_type": "markdown",
   "metadata": {},
   "source": [
    "A car dealership wants to understand their customers and their buying habbits. The data (`cardealership.csv`) represents a randsome sample of their sales. \n",
    "\n",
    "|**VARIABLE**|**DESCRIPTION**|\n",
    "|------------|---------------|\n",
    "| **Gender** | gender for customer |\n",
    "| **marital status** | is the customer 'Married' or 'Single'? |\n",
    "| **age** | age of the customer |\n",
    "| **country** | country make of the car |\n",
    "| **size** |  the size of the car they bought ('Small', 'Medium', 'Large') |\n",
    "| **type** | the type of the car they bought ('Family', 'Sporty', 'work') |"
   ]
  },
  {
   "cell_type": "code",
   "execution_count": 1,
   "metadata": {},
   "outputs": [],
   "source": [
    "import numpy as np\n",
    "import pandas as pd\n",
    "import matplotlib.pyplot as plt\n",
    "import seaborn as sns\n"
   ]
  },
  {
   "cell_type": "markdown",
   "metadata": {},
   "source": [
    "1. (1 point) Select all the married customers in the given dataset, and save it in a variable (`married_customers`). What is the percentage of married customers in the sample?"
   ]
  },
  {
   "cell_type": "code",
   "execution_count": 2,
   "metadata": {},
   "outputs": [
    {
     "name": "stdout",
     "output_type": "stream",
     "text": [
      "Percentage of Married Customers: 64.69%\n"
     ]
    }
   ],
   "source": [
    "df = pd.read_csv('cardealership.csv')\n",
    "married_customers = df[df['marital status']=='Married']\n",
    "print(f'Percentage of Married Customers: {round(len(married_customers)/len(df)*100,2)}%')"
   ]
  },
  {
   "cell_type": "markdown",
   "metadata": {},
   "source": [
    "2. (1 point) Use a list comprehension to create a list with two age categories. The category is `Below or equal to 30` if `age <= 30`, otherwise the category is `Above 30`. Use the result from this question to compute the number of customers in each category."
   ]
  },
  {
   "cell_type": "code",
   "execution_count": 3,
   "metadata": {},
   "outputs": [
    {
     "data": {
      "text/plain": [
       "Below or equal to 30    159\n",
       "Above 30                144\n",
       "Name: Age Category, dtype: int64"
      ]
     },
     "execution_count": 3,
     "metadata": {},
     "output_type": "execute_result"
    }
   ],
   "source": [
    "age_category = ['Below or equal to 30' if i <= 30 else 'Above 30' for i in df['age']]\n",
    "df['Age Category'] = age_category\n",
    "df['Age Category'].value_counts()"
   ]
  },
  {
   "cell_type": "markdown",
   "metadata": {},
   "source": [
    "3. (2 points) The current version of `Pandas` has 142 methods including (`DataFrame()`, `Series()`, `value_counts()`, etc.). In this question, you are expected to learn about the `cut()` method which allows you to categorize a numerical vector into user-defined categories. [Click here](https://pandas.pydata.org/docs/reference/api/pandas.cut.html) to learn more about the `cut` method.\n",
    "\n",
    "    - Use the `cut()` method to categorize the `age` variable into three buckets: `(0,30]`, `(30, 34]`, and `(34,60]`. (For this exercise, you don't have to add the new column to the original dataframe. You can save it in a seperate variable instead)\n",
    "    - Rename the labels of the buckets to the ones shown in the table below.  \n",
    "    - How many element are there in each category? \n",
    "\n",
    "\n",
    "\n",
    "<center> \n",
    "\n",
    "|bucket | label |\n",
    "|-------|-------|\n",
    "|(0,30] | Below 30 | \n",
    "|(30, 34]| Between 30 and 34|\n",
    "|(34,60]| Above 34|\n",
    "\n",
    "<center>\n",
    "\n",
    "\n"
   ]
  },
  {
   "cell_type": "code",
   "execution_count": 4,
   "metadata": {},
   "outputs": [
    {
     "data": {
      "text/plain": [
       "Below 30             159\n",
       "Above 34              76\n",
       "Between 30 and 34     68\n",
       "Name: age_cut, dtype: int64"
      ]
     },
     "execution_count": 4,
     "metadata": {},
     "output_type": "execute_result"
    }
   ],
   "source": [
    "df_age = pd.DataFrame()\n",
    "df_age['Age'] = df.age\n",
    "cut_labels = ['Below 30', 'Between 30 and 34', 'Above 34']\n",
    "cut_bins = [0, 30, 34, 60]\n",
    "df_age['age_cut'] = pd.cut(df_age['Age'], bins=cut_bins, labels=cut_labels)\n",
    "df_age['age_cut'].value_counts()"
   ]
  },
  {
   "cell_type": "markdown",
   "metadata": {},
   "source": [
    "4. (1 point) `Pandas` has another method called `qcut`, which allows you to categorize a numerical variable into equal-sized buckets based on quantiles. Use the `qcut()` method to categorize `age` into quartiles (4 buckets). [Click here](https://pandas.pydata.org/docs/reference/api/pandas.qcut.html) to learn more about the `cut` method"
   ]
  },
  {
   "cell_type": "code",
   "execution_count": 5,
   "metadata": {},
   "outputs": [
    {
     "name": "stdout",
     "output_type": "stream",
     "text": [
      "     Age         age_cut\n",
      "0     34    (30.0, 34.5]\n",
      "1     36    (34.5, 60.0]\n",
      "2     23  (17.999, 26.0]\n",
      "3     29    (26.0, 30.0]\n",
      "4     39    (34.5, 60.0]\n",
      "..   ...             ...\n",
      "298   25  (17.999, 26.0]\n",
      "299   31    (30.0, 34.5]\n",
      "300   25  (17.999, 26.0]\n",
      "301   32    (30.0, 34.5]\n",
      "302   29    (26.0, 30.0]\n",
      "\n",
      "[303 rows x 2 columns]\n"
     ]
    },
    {
     "data": {
      "text/plain": [
       "(17.999, 26.0]    85\n",
       "(34.5, 60.0]      76\n",
       "(26.0, 30.0]      74\n",
       "(30.0, 34.5]      68\n",
       "Name: age_cut, dtype: int64"
      ]
     },
     "execution_count": 5,
     "metadata": {},
     "output_type": "execute_result"
    }
   ],
   "source": [
    "df_age = pd.DataFrame()\n",
    "df_age['Age'] = df.age\n",
    "df_age['age_cut'] = pd.qcut(df_age['Age'],4)\n",
    "print(df_age)\n",
    "df_age['age_cut'].value_counts()"
   ]
  },
  {
   "cell_type": "markdown",
   "metadata": {},
   "source": [
    "5. (1 point) Using `pandas`, summarize the customer characteristics: `Gender`, `marital status` (using relative frequency tables) and `age` (using the `describe()` method). "
   ]
  },
  {
   "cell_type": "code",
   "execution_count": 6,
   "metadata": {},
   "outputs": [
    {
     "name": "stdout",
     "output_type": "stream",
     "text": [
      "Gender Summary\n",
      "Male      0.544554\n",
      "Female    0.455446\n",
      "Name: Gender, dtype: float64 \n",
      "\n",
      "Marital Status Summary\n",
      "Married    0.646865\n",
      "Single     0.353135\n",
      "Name: marital status, dtype: float64 \n",
      "\n",
      "Age Summary\n",
      "count    303.000000\n",
      "mean      30.719472\n",
      "std        5.984294\n",
      "min       18.000000\n",
      "25%       26.000000\n",
      "50%       30.000000\n",
      "75%       34.500000\n",
      "max       60.000000\n",
      "Name: age, dtype: float64 \n",
      "\n"
     ]
    }
   ],
   "source": [
    "print('Gender Summary')\n",
    "print(df.Gender.value_counts(normalize = True),'\\n')\n",
    "\n",
    "print('Marital Status Summary')\n",
    "print(df['marital status'].value_counts(normalize = True),'\\n')\n",
    "\n",
    "print('Age Summary')\n",
    "print(df['age'].describe(),'\\n')"
   ]
  },
  {
   "cell_type": "markdown",
   "metadata": {},
   "source": [
    "6. (1 point) Using `pandas`, summarize the data on the cars sold: `country`, `size`, and `type` (using relative frequency tables)."
   ]
  },
  {
   "cell_type": "code",
   "execution_count": 8,
   "metadata": {},
   "outputs": [
    {
     "name": "stdout",
     "output_type": "stream",
     "text": [
      "Country Summary\n",
      "Japanese    0.488449\n",
      "American    0.379538\n",
      "European    0.132013\n",
      "Name: country, dtype: float64\n",
      "Size Summary\n",
      "Small     0.452145\n",
      "Medium    0.409241\n",
      "Large     0.138614\n",
      "Name: size, dtype: float64\n",
      "Type Summary\n",
      "Family    0.511551\n",
      "Sporty    0.330033\n",
      "Work      0.158416\n",
      "Name: type, dtype: float64\n"
     ]
    }
   ],
   "source": [
    "print('Country Summary')\n",
    "print(df.country.value_counts(normalize = True))\n",
    "\n",
    "print('Size Summary')\n",
    "print(df['size'].value_counts(normalize = True))\n",
    "\n",
    "print('Type Summary')\n",
    "print(df['type'].value_counts(normalize = True))"
   ]
  },
  {
   "cell_type": "markdown",
   "metadata": {},
   "source": [
    "7. (1 point) Write a summary paragraph describing the customers and cars sold data. Round all numbers in this paragraph to nearest integers."
   ]
  },
  {
   "cell_type": "markdown",
   "metadata": {},
   "source": [
    "Amongst the customers, there are slightly more male customers than females with males making up 54% of the total customers. 65% of the customers are married. The mean and median ages are almost similar at 30 years with a minimum and maximum of 18 and 60 respectively.\n",
    "\n",
    "50% of the cars sold are Japanese while about 38% are American cars. European cars make up the rest of the cars sold. Small and medium cars make up a majority of cars with 45% and 41% of the share of cars sold with large cars making up the rest. Majority of the cars sold are family cars with a 51% share while sporty and work cars constitute the rest at 33% and 16% respectively."
   ]
  },
  {
   "cell_type": "markdown",
   "metadata": {},
   "source": [
    "8. (2 points) Create a bargraph that shows the distribution of car `type`. Your bargraph should be similar to the attached bargraph picture on blackboard ('CarsTypeDistribution.png'). In particular, make sure to:\n",
    "\n",
    "- Use default matplotlib plot style\n",
    "- Use % for the labels of the y-axis ticks\n",
    "- Use `lightgrey` for the bars color\n",
    "- Overlay a horizontal line (y=25). The line's style is \"dashed\", and the color is \"blue\""
   ]
  },
  {
   "cell_type": "code",
   "execution_count": 9,
   "metadata": {},
   "outputs": [
    {
     "data": {
      "image/png": "[encoded data removed]",
      "text/plain": [
       "<Figure size 640x480 with 1 Axes>"
      ]
     },
     "metadata": {},
     "output_type": "display_data"
    }
   ],
   "source": [
    "car_type = df['type'].value_counts(normalize = True)\n",
    "plt.bar(car_type.index,car_type,color = 'lightgrey')\n",
    "plt.xlabel('Car Type')\n",
    "plt.ylabel('Percentage of Cars Sold')\n",
    "plt.title('Distribution of Cars by Type')\n",
    "plt.yticks(np.arange(0,0.55,0.05))\n",
    "plt.gca().set_yticklabels(['{:.0f}%'.format(x*100) for x in plt.gca().get_yticks()])\n",
    "plt.axhline(y = 0.25, color = 'b', linestyle = '--')\n",
    "plt.show()"
   ]
  },
  {
   "cell_type": "code",
   "execution_count": null,
   "metadata": {},
   "outputs": [],
   "source": []
  }
 ],
 "metadata": {
  "colab": {
   "name": "Homework01-dso545-fall21.ipynb",
   "provenance": []
  },
  "interpreter": {
   "hash": "dca0ade3e726a953b501b15e8e990130d2b7799f14cfd9f4271676035ebe5511"
  },
  "kernelspec": {
   "display_name": "Python 3 (ipykernel)",
   "language": "python",
   "name": "python3"
  },
  "language_info": {
   "codemirror_mode": {
    "name": "ipython",
    "version": 3
   },
   "file_extension": ".py",
   "mimetype": "text/x-python",
   "name": "python",
   "nbconvert_exporter": "python",
   "pygments_lexer": "ipython3",
   "version": "3.8.8"
  },
  "varInspector": {
   "cols": {
    "lenName": 16,
    "lenType": 16,
    "lenVar": 40
   },
   "kernels_config": {
    "python": {
     "delete_cmd_postfix": "",
     "delete_cmd_prefix": "del ",
     "library": "var_list.py",
     "varRefreshCmd": "print(var_dic_list())"
    },
    "r": {
     "delete_cmd_postfix": ") ",
     "delete_cmd_prefix": "rm(",
     "library": "var_list.r",
     "varRefreshCmd": "cat(var_dic_list()) "
    }
   },
   "types_to_exclude": [
    "module",
    "function",
    "builtin_function_or_method",
    "instance",
    "_Feature"
   ],
   "window_display": false
  }
 },
 "nbformat": 4,
 "nbformat_minor": 1
}
