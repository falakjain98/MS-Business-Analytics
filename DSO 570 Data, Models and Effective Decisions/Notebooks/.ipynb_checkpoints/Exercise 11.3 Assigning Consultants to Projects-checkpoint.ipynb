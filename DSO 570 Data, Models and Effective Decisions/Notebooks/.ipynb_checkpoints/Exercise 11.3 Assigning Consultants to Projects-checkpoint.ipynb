{
 "cells": [
  {
   "cell_type": "markdown",
   "id": "d77151c0",
   "metadata": {},
   "source": [
    "## Exercise 11.3: Assigning Consultants to Projects\n",
    "\n",
    "Trojan Consulting would like to assign consultants to projects in a way that minimizes total travel costs while satisfying the skill requirements of each project and avoiding assigning the same consultant to two projects with overlapping time frames. \n",
    "\n",
    "In the following example, there are four consultants, each of whom may possess one or more of two possible skills. (A checkmark indicates whether the person has the skill.) Each project requires at least a certain number of consultants of each skill. If a consultant has both skills, he/she can count toward the number required for both skills, and the travel cost may potentially be less as one less person would be needed. Projects 1 and 2 have conflicting timelines, so the same consultant cannot be assigned to both. Similarly, projects 2 and 3 are also in conflict. But the same consultant may be assigned to projects 1 and 3.\n",
    "\n",
    "|Consultant | Accounting | Operations |\n",
    "|:--|--|--|\n",
    "|Alice |√ |` `|\n",
    "|Bob |√ |√|\n",
    "|Charlie |` `| √ |\n",
    "|Daphne |√ |√|\n",
    "\n",
    "|Project| Accounting | Operations |\n",
    "|--|--|--|\n",
    "|P1 | 2 | 1 |\n",
    "|P2 | 1 | 1 |\n",
    "|P3 | 0 | 2 |\n",
    "\n",
    "|Costs | P1 | P2 | P3 |\n",
    "|--|--|--|--|\n",
    "|Alice | 10 | 0 | 5 |\n",
    "|Bob | 8 | 15 | 13 |\n",
    "|Charlie | 0 | 5 | 10 |\n",
    "|Daphne | 10 | 3 | 0 |\n",
    "\n",
    "**Write an abstract formulation of a linear optimization model to find a cost-minimizing assignment that satisfies all of the above constraints.** Your formulation needs to be general enough to handle arbitrarily many consultants, projects, skills, as well as arbitrary information on skills of consultants, requirements of projects, conflicts between projects, and travel costs."
   ]
  },
  {
   "cell_type": "markdown",
   "id": "8d7ee8a2",
   "metadata": {},
   "source": [
    "**Decision variables:** Let $x_{ij}$ denote whether to assign consultant $i$ to project $j$. (Binary)\n",
    "\n",
    "**Objective:**\n",
    "$$\\text{Maximize: } 5x_{A1}+2x_{A2}+3x_{B1}+2x_{B2} + 4x_{C1}+5x_{C2}+3x_{D1}+x_{D2} $$\n",
    "\n",
    "\n",
    "**Constraints:** \n",
    "\n",
    "$$\\begin{aligned}\n",
    "\\text{(Alice)} && x_{A1}+x_{A2} & \\le 1 \\\\\n",
    "\\text{(Bob)} && x_{B1}+x_{B2} & \\le 1 \\\\\n",
    "\\text{(Charles)} && x_{C1}+x_{C2} & \\le 1 \\\\\n",
    "\\text{(Daphne)} && x_{D1}+x_{D2} & \\le 1 \\\\\n",
    "\\text{(Project 1 Total)} && x_{A1}+x_{B1}+x_{C1}+x_{D1} & \\ge 2 \\\\\n",
    "\\text{(Project 2 Total)} && x_{A2}+x_{B2}+x_{C2}+x_{D2} & \\ge 2 \\\\\n",
    "\\text{(Project 1 Senior)} && x_{A1}+x_{B1}+x_{D1} & \\ge 1 \\\\\n",
    "\\text{(Project 2 Senior)} && x_{A2}+x_{B2}+x_{D2} & \\ge 1 \\\\\n",
    "\\end{aligned}$$"
   ]
  },
  {
   "cell_type": "markdown",
   "id": "c00989f0",
   "metadata": {},
   "source": [
    "**Data:**\n",
    "- S: set of skills\n",
    "- P: set of projects\n",
    "- C: set of consultants\n",
    "- t_{cp}: travel cost of consultant c for project p\n",
    "- r_{ps}: no. of consultants required for project p with skill s\n",
    "- K: set of pair of projects that conflict\n",
    "\n",
    "**Decision Variables:**\n",
    "$x_{ij}$ : whether to assign consultant $i$ to project $j$. (Binary)\n",
    "\n",
    "**Objective and Constraints:**\n",
    "$$\\text{Minimize: } \\sum_{c \\in C, p \\in P} t_{cp}x_{cp}$$\n",
    "\n",
    "$$\\begin{aligned}\n",
    "\\text{(Demand)} && \\sum_{c \\in C} x_{cp} &\\ge r_{ps} && \\text{for each project $p and skill $s$.} \\\\\n",
    "\\text{(Conflict)} && x_{cp_1} + x_{xp_2} &\\le 1 && \\text{for each consultant $c and pair of projects that conflict (p1,p2) \\in K$.} \\\\\n",
    "\\end{aligned}$$\n",
    "\n",
    "\n",
    "\n",
    "\n"
   ]
  },
  {
   "cell_type": "code",
   "execution_count": null,
   "id": "8163b102",
   "metadata": {},
   "outputs": [],
   "source": []
  }
 ],
 "metadata": {
  "kernelspec": {
   "display_name": "Python 3 (ipykernel)",
   "language": "python",
   "name": "python3"
  },
  "language_info": {
   "codemirror_mode": {
    "name": "ipython",
    "version": 3
   },
   "file_extension": ".py",
   "mimetype": "text/x-python",
   "name": "python",
   "nbconvert_exporter": "python",
   "pygments_lexer": "ipython3",
   "version": "3.8.8"
  }
 },
 "nbformat": 4,
 "nbformat_minor": 5
}
