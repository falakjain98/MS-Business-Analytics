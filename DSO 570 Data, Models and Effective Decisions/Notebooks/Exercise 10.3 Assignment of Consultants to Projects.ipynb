{
 "cells": [
  {
   "cell_type": "markdown",
   "id": "04a74407",
   "metadata": {},
   "source": [
    "## Exercise 10.3 Numerical Solution for Assignment of Consultants to Projects"
   ]
  },
  {
   "cell_type": "markdown",
   "id": "86b72d38",
   "metadata": {},
   "source": [
    "Incrementally create Gurobi code to implement Q3 of Problem Set 6, following the example given in the lecture.\n",
    "\n",
    "**Recap of Q3 of Problem Set 6:** There are two projects and four consultants: Alice, Bob, Charles, and Daphne. Each consultant can be assigned to at most one project, and each project requires at least two consultants. As a manager, you evaluated the relative fitness of the four consultants for each project on a scale of 1 to 5, with 5 being the best fit and 1 being the worst.\n",
    "\n",
    "| ` `| Project 1 | Project 2 |\n",
    "|--|--|--|\n",
    "|Alice | 5 | 2 |\n",
    "|Bob | 3 | 2 |\n",
    "|Charles | 4 | 5 |\n",
    "|Daphne | 3 | 1 |\n",
    " \n",
    "Furthermore, Alice, Bob and Daphne are senior consultants and each project requires at least one senior on the team. \n",
    "\n",
    "Formulate a linear optimization problem to maximize the total fitness of the consultants to their assigned project, subject to all the business constraints.\n",
    "\n",
    "### Concrete Formulation\n",
    "\n",
    "**Decision variables:** Let $x_{ij}$ denote whether to assign consultant $i$ to project $j$. (Binary)\n",
    "\n",
    "**Objective:**\n",
    "$$\\text{Maximize: } 5x_{A1}+2x_{A2}+3x_{B1}+2x_{B2} + 4x_{C1}+5x_{C2}+3x_{D1}+x_{D2} $$\n",
    "\n",
    "\n",
    "**Constraints:** \n",
    "\n",
    "$$\\begin{aligned}\n",
    "\\text{(Alice)} && x_{A1}+x_{A2} & \\le 1 \\\\\n",
    "\\text{(Bob)} && x_{B1}+x_{B2} & \\le 1 \\\\\n",
    "\\text{(Charles)} && x_{C1}+x_{C2} & \\le 1 \\\\\n",
    "\\text{(Daphne)} && x_{D1}+x_{D2} & \\le 1 \\\\\n",
    "\\text{(Project 1 Total)} && x_{A1}+x_{B1}+x_{C1}+x_{D1} & \\ge 2 \\\\\n",
    "\\text{(Project 2 Total)} && x_{A2}+x_{B2}+x_{C2}+x_{D2} & \\ge 2 \\\\\n",
    "\\text{(Project 1 Senior)} && x_{A1}+x_{B1}+x_{D1} & \\ge 1 \\\\\n",
    "\\text{(Project 2 Senior)} && x_{A2}+x_{B2}+x_{D2} & \\ge 1 \\\\\n",
    "\\end{aligned}$$\n",
    "\n",
    "## Implement the above in Gurobi while obtaining all numbers from the below data structures\n",
    "\n",
    "Follow the example given in the lecture. See the desired intermediate outputs for every step below. You should write your code in such a way such that if the input data is changed, such as if additional consultants are added, projects are added, or numerical values changed, the code will still work.\n",
    "\n",
    "### Input Data"
   ]
  },
  {
   "cell_type": "code",
   "execution_count": 2,
   "id": "3b72161c",
   "metadata": {},
   "outputs": [],
   "source": [
    "import pandas as pd\n",
    "consultants=['Alice', 'Bob', 'Charles', 'Daphne']\n",
    "projects=[1,2]\n",
    "fitness=pd.DataFrame([[5,2],[3,2],[4,5],[3,1]],index=consultants,columns=projects)\n",
    "senior=['Alice','Bob','Daphne']\n",
    "capacity=pd.Series([1,1,1,1],index=consultants)\n",
    "demand=pd.Series([2,2],index=projects)\n",
    "seniorDemand=pd.Series([1,1],index=projects)"
   ]
  },
  {
   "cell_type": "code",
   "execution_count": 23,
   "id": "969e8556",
   "metadata": {},
   "outputs": [
    {
     "data": {
      "text/plain": [
       "{('Alice', 1): <gurobi.Var x[Alice,1]>,\n",
       " ('Alice', 2): <gurobi.Var x[Alice,2]>,\n",
       " ('Bob', 1): <gurobi.Var x[Bob,1]>,\n",
       " ('Bob', 2): <gurobi.Var x[Bob,2]>,\n",
       " ('Charles', 1): <gurobi.Var x[Charles,1]>,\n",
       " ('Charles', 2): <gurobi.Var x[Charles,2]>,\n",
       " ('Daphne', 1): <gurobi.Var x[Daphne,1]>,\n",
       " ('Daphne', 2): <gurobi.Var x[Daphne,2]>}"
      ]
     },
     "execution_count": 23,
     "metadata": {},
     "output_type": "execute_result"
    }
   ],
   "source": [
    "# Creating variables\n",
    "from gurobipy import Model, GRB\n",
    "mod = Model()\n",
    "x = mod.addVars(consultants,projects,name='x')\n",
    "mod.update()\n",
    "x"
   ]
  },
  {
   "cell_type": "code",
   "execution_count": 14,
   "id": "bdfbeea6",
   "metadata": {},
   "outputs": [
    {
     "data": {
      "text/plain": [
       "{('Alice', 1): <gurobi.Var x[Alice,1]>,\n",
       " ('Alice', 2): <gurobi.Var x[Alice,2]>,\n",
       " ('Bob', 1): <gurobi.Var x[Bob,1]>,\n",
       " ('Bob', 2): <gurobi.Var x[Bob,2]>,\n",
       " ('Charles', 1): <gurobi.Var x[Charles,1]>,\n",
       " ('Charles', 2): <gurobi.Var x[Charles,2]>,\n",
       " ('Daphne', 1): <gurobi.Var x[Daphne,1]>,\n",
       " ('Daphne', 2): <gurobi.Var x[Daphne,2]>}"
      ]
     },
     "execution_count": 14,
     "metadata": {},
     "output_type": "execute_result"
    }
   ],
   "source": [
    "# Sample output"
   ]
  },
  {
   "cell_type": "code",
   "execution_count": 13,
   "id": "536546e5",
   "metadata": {},
   "outputs": [
    {
     "data": {
      "text/plain": [
       "<gurobi.LinExpr: 5.0 x[Alice,1] + 2.0 x[Alice,2] + 3.0 x[Bob,1] + 2.0 x[Bob,2] + 4.0 x[Charles,1] + 5.0 x[Charles,2] + 3.0 x[Daphne,1] + x[Daphne,2]>"
      ]
     },
     "execution_count": 13,
     "metadata": {},
     "output_type": "execute_result"
    }
   ],
   "source": [
    "# Objective\n",
    "sum(fitness.loc[c,p]*x[c,p] for c in consultants for p in projects)\n"
   ]
  },
  {
   "cell_type": "code",
   "execution_count": 15,
   "id": "0be0fd14",
   "metadata": {},
   "outputs": [
    {
     "data": {
      "text/plain": [
       "<gurobi.LinExpr: 5.0 x[Alice,1] + 2.0 x[Alice,2] + 3.0 x[Bob,1] + 2.0 x[Bob,2] + 4.0 x[Charles,1] + 5.0 x[Charles,2] + 3.0 x[Daphne,1] + x[Daphne,2]>"
      ]
     },
     "execution_count": 15,
     "metadata": {},
     "output_type": "execute_result"
    }
   ],
   "source": [
    "# Sample output"
   ]
  },
  {
   "cell_type": "code",
   "execution_count": 19,
   "id": "02e89ae9",
   "metadata": {},
   "outputs": [
    {
     "data": {
      "text/plain": [
       "<gurobi.TempConstr: <gurobi.LinExpr: x[Alice,1] + x[Alice,2]> <= 1>"
      ]
     },
     "execution_count": 19,
     "metadata": {},
     "output_type": "execute_result"
    }
   ],
   "source": [
    "# (Alice) constraint\n",
    "'''for c in consultants:\n",
    "    sum(x[c,p] for p in projects)<=1'''\n",
    "sum(x['Alice',p] for p in projects)<=capacity['Alice']\n"
   ]
  },
  {
   "cell_type": "code",
   "execution_count": 16,
   "id": "731c7c7b",
   "metadata": {},
   "outputs": [
    {
     "data": {
      "text/plain": [
       "<gurobi.TempConstr: <gurobi.LinExpr: x[Alice,1] + x[Alice,2]> <= 1>"
      ]
     },
     "execution_count": 16,
     "metadata": {},
     "output_type": "execute_result"
    }
   ],
   "source": [
    "# Sample output"
   ]
  },
  {
   "cell_type": "code",
   "execution_count": 20,
   "id": "5b812f8b",
   "metadata": {},
   "outputs": [
    {
     "data": {
      "text/plain": [
       "<gurobi.TempConstr: <gurobi.LinExpr: x[Alice,1] + x[Bob,1] + x[Charles,1] + x[Daphne,1]> >= 2>"
      ]
     },
     "execution_count": 20,
     "metadata": {},
     "output_type": "execute_result"
    }
   ],
   "source": [
    "# (Project 1 Total) constraint\n",
    "sum(x[c,1] for c in consultants)>=demand[1]\n"
   ]
  },
  {
   "cell_type": "code",
   "execution_count": 17,
   "id": "539990f9",
   "metadata": {},
   "outputs": [
    {
     "data": {
      "text/plain": [
       "<gurobi.TempConstr: <gurobi.LinExpr: x[Alice,1] + x[Bob,1] + x[Charles,1] + x[Daphne,1]> >= 2>"
      ]
     },
     "execution_count": 17,
     "metadata": {},
     "output_type": "execute_result"
    }
   ],
   "source": [
    "# Sample output"
   ]
  },
  {
   "cell_type": "code",
   "execution_count": 22,
   "id": "3e1da846",
   "metadata": {},
   "outputs": [
    {
     "data": {
      "text/plain": [
       "<gurobi.TempConstr: <gurobi.LinExpr: x[Alice,1] + x[Bob,1] + x[Daphne,1]> >= 1>"
      ]
     },
     "execution_count": 22,
     "metadata": {},
     "output_type": "execute_result"
    }
   ],
   "source": [
    "# (Project 1 Senior) constraint\n",
    "sum(x[s,1] for s in senior)>=seniorDemand[1]\n"
   ]
  },
  {
   "cell_type": "code",
   "execution_count": 6,
   "id": "55b1f8ad",
   "metadata": {},
   "outputs": [
    {
     "data": {
      "text/plain": [
       "<gurobi.TempConstr: <gurobi.LinExpr: x[Alice,1] + x[Bob,1] + x[Daphne,1]> >= 1>"
      ]
     },
     "execution_count": 6,
     "metadata": {},
     "output_type": "execute_result"
    }
   ],
   "source": [
    "# Sample output"
   ]
  },
  {
   "cell_type": "code",
   "execution_count": 15,
   "id": "3746dca1",
   "metadata": {},
   "outputs": [
    {
     "name": "stdout",
     "output_type": "stream",
     "text": [
      "Warning: constraint name \"Project 1 Total\" has a space\n",
      "\\ LP format - for model browsing. Use MPS format to capture full model detail.\n",
      "Maximize\n",
      "  5 x[Alice,1] + 2 x[Alice,2] + 3 x[Bob,1] + 2 x[Bob,2] + 4 x[Charles,1]\n",
      "   + 5 x[Charles,2] + 3 x[Daphne,1] + x[Daphne,2]\n",
      "Subject To\n",
      " Alice: x[Alice,1] + x[Alice,2] <= 1\n",
      " Bob: x[Bob,1] + x[Bob,2] <= 1\n",
      " Charles: x[Charles,1] + x[Charles,2] <= 1\n",
      " Daphne: x[Daphne,1] + x[Daphne,2] <= 1\n",
      " Project_1_Total: x[Alice,1] + x[Bob,1] + x[Charles,1] + x[Daphne,1] >= 2\n",
      " Project_2_Total: x[Alice,2] + x[Bob,2] + x[Charles,2] + x[Daphne,2] >= 2\n",
      " Project_1_Senior: x[Alice,1] + x[Bob,1] + x[Daphne,1] >= 1\n",
      " Project_2_Senior: x[Alice,2] + x[Bob,2] + x[Daphne,2] >= 1\n",
      "Bounds\n",
      "End\n"
     ]
    }
   ],
   "source": [
    "# Full model\n",
    "from gurobipy import Model, GRB\n",
    "mod = Model()\n",
    "x = mod.addVars(consultants,projects,name='x')\n",
    "mod.setObjective(sum(fitness.loc[c,p]*x[c,p] for c in consultants for p in projects),sense = GRB.MAXIMIZE)\n",
    "for c in consultants:\n",
    "    mod.addConstr(sum(x[c,p] for p in projects)<=capacity[c],name=f'{c}')\n",
    "for p in projects:\n",
    "    mod.addConstr(sum(x[c,p] for c in consultants)>=demand[p],name=f'Project {p} Total')\n",
    "for p in projects:\n",
    "    mod.addConstr(sum(x[s,p] for s in senior)>=seniorDemand[p],name=f'Project {p} Senior')\n",
    "mod.write('10-books.lp')\n",
    "!type 10-books.lp\n"
   ]
  },
  {
   "cell_type": "code",
   "execution_count": 7,
   "id": "f902b725",
   "metadata": {},
   "outputs": [
    {
     "name": "stdout",
     "output_type": "stream",
     "text": [
      "\\ LP format - for model browsing. Use MPS format to capture full model detail.\r\n",
      "Maximize\r\n",
      "  5 x[Alice,1] + 2 x[Alice,2] + 3 x[Bob,1] + 2 x[Bob,2] + 4 x[Charles,1]\r\n",
      "   + 5 x[Charles,2] + 3 x[Daphne,1] + x[Daphne,2]\r\n",
      "Subject To\r\n",
      " Alice: x[Alice,1] + x[Alice,2] <= 1\r\n",
      " Bob: x[Bob,1] + x[Bob,2] <= 1\r\n",
      " Charles: x[Charles,1] + x[Charles,2] <= 1\r\n",
      " Daphne: x[Daphne,1] + x[Daphne,2] <= 1\r\n",
      " Project_1: x[Alice,1] + x[Bob,1] + x[Charles,1] + x[Daphne,1] >= 2\r\n",
      " Project_2: x[Alice,2] + x[Bob,2] + x[Charles,2] + x[Daphne,2] >= 2\r\n",
      " Project_1_Senior: x[Alice,1] + x[Bob,1] + x[Daphne,1] >= 1\r\n",
      " Project_2_Senior: x[Alice,2] + x[Bob,2] + x[Daphne,2] >= 1\r\n",
      "Bounds\r\n",
      "Binaries\r\n",
      " x[Alice,1] x[Alice,2] x[Bob,1] x[Bob,2] x[Charles,1] x[Charles,2]\r\n",
      " x[Daphne,1] x[Daphne,2]\r\n",
      "End\r\n"
     ]
    }
   ],
   "source": [
    "# Sample output"
   ]
  },
  {
   "cell_type": "code",
   "execution_count": 16,
   "id": "5309a331",
   "metadata": {},
   "outputs": [
    {
     "name": "stdout",
     "output_type": "stream",
     "text": [
      "Maximum Total Fitness: 15.0\n"
     ]
    }
   ],
   "source": [
    "# Numerical Solution\n",
    "from gurobipy import Model, GRB\n",
    "mod = Model()\n",
    "x = mod.addVars(consultants,projects)\n",
    "mod.setObjective(sum(fitness.loc[c,p]*x[c,p] for c in consultants for p in projects),sense = GRB.MAXIMIZE)\n",
    "for c in consultants:\n",
    "    mod.addConstr(sum(x[c,p] for p in projects)<=capacity[c])\n",
    "for p in projects:\n",
    "    mod.addConstr(sum(x[c,1] for c in consultants)>=demand[p])\n",
    "    mod.addConstr(sum(x[s,p] for s in senior)>=seniorDemand[p])\n",
    "mod.setParam('OutputFlag',False)\n",
    "mod.optimize()\n",
    "print('Maximum Total Fitness:',mod.objVal)"
   ]
  },
  {
   "cell_type": "code",
   "execution_count": 20,
   "id": "eb8568b5",
   "metadata": {},
   "outputs": [
    {
     "name": "stdout",
     "output_type": "stream",
     "text": [
      "Maximum total fitness: 15.0\n"
     ]
    }
   ],
   "source": [
    "# Sample output"
   ]
  },
  {
   "cell_type": "code",
   "execution_count": 17,
   "id": "0829e8cd",
   "metadata": {},
   "outputs": [
    {
     "data": {
      "text/html": [
       "<div>\n",
       "<style scoped>\n",
       "    .dataframe tbody tr th:only-of-type {\n",
       "        vertical-align: middle;\n",
       "    }\n",
       "\n",
       "    .dataframe tbody tr th {\n",
       "        vertical-align: top;\n",
       "    }\n",
       "\n",
       "    .dataframe thead th {\n",
       "        text-align: right;\n",
       "    }\n",
       "</style>\n",
       "<table border=\"1\" class=\"dataframe\">\n",
       "  <thead>\n",
       "    <tr style=\"text-align: right;\">\n",
       "      <th></th>\n",
       "      <th>1</th>\n",
       "      <th>2</th>\n",
       "    </tr>\n",
       "  </thead>\n",
       "  <tbody>\n",
       "    <tr>\n",
       "      <th>Alice</th>\n",
       "      <td>NaN</td>\n",
       "      <td>NaN</td>\n",
       "    </tr>\n",
       "    <tr>\n",
       "      <th>Bob</th>\n",
       "      <td>NaN</td>\n",
       "      <td>NaN</td>\n",
       "    </tr>\n",
       "    <tr>\n",
       "      <th>Charles</th>\n",
       "      <td>NaN</td>\n",
       "      <td>NaN</td>\n",
       "    </tr>\n",
       "    <tr>\n",
       "      <th>Daphne</th>\n",
       "      <td>NaN</td>\n",
       "      <td>NaN</td>\n",
       "    </tr>\n",
       "  </tbody>\n",
       "</table>\n",
       "</div>"
      ],
      "text/plain": [
       "           1    2\n",
       "Alice    NaN  NaN\n",
       "Bob      NaN  NaN\n",
       "Charles  NaN  NaN\n",
       "Daphne   NaN  NaN"
      ]
     },
     "execution_count": 17,
     "metadata": {},
     "output_type": "execute_result"
    }
   ],
   "source": [
    "# Creating the output table\n",
    "df_output = pd.DataFrame(index=consultants,columns=projects)\n",
    "df_output\n"
   ]
  },
  {
   "cell_type": "code",
   "execution_count": 21,
   "id": "00409155",
   "metadata": {},
   "outputs": [
    {
     "data": {
      "text/html": [
       "<div>\n",
       "<style scoped>\n",
       "    .dataframe tbody tr th:only-of-type {\n",
       "        vertical-align: middle;\n",
       "    }\n",
       "\n",
       "    .dataframe tbody tr th {\n",
       "        vertical-align: top;\n",
       "    }\n",
       "\n",
       "    .dataframe thead th {\n",
       "        text-align: right;\n",
       "    }\n",
       "</style>\n",
       "<table border=\"1\" class=\"dataframe\">\n",
       "  <thead>\n",
       "    <tr style=\"text-align: right;\">\n",
       "      <th></th>\n",
       "      <th>1</th>\n",
       "      <th>2</th>\n",
       "    </tr>\n",
       "  </thead>\n",
       "  <tbody>\n",
       "    <tr>\n",
       "      <th>Alice</th>\n",
       "      <td>NaN</td>\n",
       "      <td>NaN</td>\n",
       "    </tr>\n",
       "    <tr>\n",
       "      <th>Bob</th>\n",
       "      <td>NaN</td>\n",
       "      <td>NaN</td>\n",
       "    </tr>\n",
       "    <tr>\n",
       "      <th>Charles</th>\n",
       "      <td>NaN</td>\n",
       "      <td>NaN</td>\n",
       "    </tr>\n",
       "    <tr>\n",
       "      <th>Daphne</th>\n",
       "      <td>NaN</td>\n",
       "      <td>NaN</td>\n",
       "    </tr>\n",
       "  </tbody>\n",
       "</table>\n",
       "</div>"
      ],
      "text/plain": [
       "           1    2\n",
       "Alice    NaN  NaN\n",
       "Bob      NaN  NaN\n",
       "Charles  NaN  NaN\n",
       "Daphne   NaN  NaN"
      ]
     },
     "execution_count": 21,
     "metadata": {},
     "output_type": "execute_result"
    }
   ],
   "source": [
    "# Sample output"
   ]
  },
  {
   "cell_type": "code",
   "execution_count": 18,
   "id": "1847b0fe",
   "metadata": {},
   "outputs": [
    {
     "data": {
      "text/html": [
       "<div>\n",
       "<style scoped>\n",
       "    .dataframe tbody tr th:only-of-type {\n",
       "        vertical-align: middle;\n",
       "    }\n",
       "\n",
       "    .dataframe tbody tr th {\n",
       "        vertical-align: top;\n",
       "    }\n",
       "\n",
       "    .dataframe thead th {\n",
       "        text-align: right;\n",
       "    }\n",
       "</style>\n",
       "<table border=\"1\" class=\"dataframe\">\n",
       "  <thead>\n",
       "    <tr style=\"text-align: right;\">\n",
       "      <th></th>\n",
       "      <th>1</th>\n",
       "      <th>2</th>\n",
       "    </tr>\n",
       "  </thead>\n",
       "  <tbody>\n",
       "    <tr>\n",
       "      <th>Alice</th>\n",
       "      <td>1.0</td>\n",
       "      <td>0.0</td>\n",
       "    </tr>\n",
       "    <tr>\n",
       "      <th>Bob</th>\n",
       "      <td>0.0</td>\n",
       "      <td>1.0</td>\n",
       "    </tr>\n",
       "    <tr>\n",
       "      <th>Charles</th>\n",
       "      <td>0.0</td>\n",
       "      <td>1.0</td>\n",
       "    </tr>\n",
       "    <tr>\n",
       "      <th>Daphne</th>\n",
       "      <td>1.0</td>\n",
       "      <td>0.0</td>\n",
       "    </tr>\n",
       "  </tbody>\n",
       "</table>\n",
       "</div>"
      ],
      "text/plain": [
       "           1    2\n",
       "Alice    1.0  0.0\n",
       "Bob      0.0  1.0\n",
       "Charles  0.0  1.0\n",
       "Daphne   1.0  0.0"
      ]
     },
     "execution_count": 18,
     "metadata": {},
     "output_type": "execute_result"
    }
   ],
   "source": [
    "# Filling in the output table\n",
    "for c in consultants:\n",
    "    for p in projects:\n",
    "        df_output.loc[c,p] = x[c,p].x\n",
    "df_output\n"
   ]
  },
  {
   "cell_type": "code",
   "execution_count": 22,
   "id": "2acc7636",
   "metadata": {},
   "outputs": [
    {
     "data": {
      "text/html": [
       "<div>\n",
       "<style scoped>\n",
       "    .dataframe tbody tr th:only-of-type {\n",
       "        vertical-align: middle;\n",
       "    }\n",
       "\n",
       "    .dataframe tbody tr th {\n",
       "        vertical-align: top;\n",
       "    }\n",
       "\n",
       "    .dataframe thead th {\n",
       "        text-align: right;\n",
       "    }\n",
       "</style>\n",
       "<table border=\"1\" class=\"dataframe\">\n",
       "  <thead>\n",
       "    <tr style=\"text-align: right;\">\n",
       "      <th></th>\n",
       "      <th>1</th>\n",
       "      <th>2</th>\n",
       "    </tr>\n",
       "  </thead>\n",
       "  <tbody>\n",
       "    <tr>\n",
       "      <th>Alice</th>\n",
       "      <td>1</td>\n",
       "      <td>0</td>\n",
       "    </tr>\n",
       "    <tr>\n",
       "      <th>Bob</th>\n",
       "      <td>0</td>\n",
       "      <td>1</td>\n",
       "    </tr>\n",
       "    <tr>\n",
       "      <th>Charles</th>\n",
       "      <td>0</td>\n",
       "      <td>1</td>\n",
       "    </tr>\n",
       "    <tr>\n",
       "      <th>Daphne</th>\n",
       "      <td>1</td>\n",
       "      <td>0</td>\n",
       "    </tr>\n",
       "  </tbody>\n",
       "</table>\n",
       "</div>"
      ],
      "text/plain": [
       "         1  2\n",
       "Alice    1  0\n",
       "Bob      0  1\n",
       "Charles  0  1\n",
       "Daphne   1  0"
      ]
     },
     "execution_count": 22,
     "metadata": {},
     "output_type": "execute_result"
    }
   ],
   "source": [
    "# Sample output"
   ]
  },
  {
   "cell_type": "code",
   "execution_count": 20,
   "id": "6df845c1",
   "metadata": {},
   "outputs": [
    {
     "name": "stdout",
     "output_type": "stream",
     "text": [
      "Maximum Total Fitness: 15.0\n"
     ]
    },
    {
     "data": {
      "text/html": [
       "<div>\n",
       "<style scoped>\n",
       "    .dataframe tbody tr th:only-of-type {\n",
       "        vertical-align: middle;\n",
       "    }\n",
       "\n",
       "    .dataframe tbody tr th {\n",
       "        vertical-align: top;\n",
       "    }\n",
       "\n",
       "    .dataframe thead th {\n",
       "        text-align: right;\n",
       "    }\n",
       "</style>\n",
       "<table border=\"1\" class=\"dataframe\">\n",
       "  <thead>\n",
       "    <tr style=\"text-align: right;\">\n",
       "      <th></th>\n",
       "      <th>1</th>\n",
       "      <th>2</th>\n",
       "    </tr>\n",
       "  </thead>\n",
       "  <tbody>\n",
       "    <tr>\n",
       "      <th>Alice</th>\n",
       "      <td>1.0</td>\n",
       "      <td>0.0</td>\n",
       "    </tr>\n",
       "    <tr>\n",
       "      <th>Bob</th>\n",
       "      <td>0.0</td>\n",
       "      <td>1.0</td>\n",
       "    </tr>\n",
       "    <tr>\n",
       "      <th>Charles</th>\n",
       "      <td>0.0</td>\n",
       "      <td>1.0</td>\n",
       "    </tr>\n",
       "    <tr>\n",
       "      <th>Daphne</th>\n",
       "      <td>1.0</td>\n",
       "      <td>0.0</td>\n",
       "    </tr>\n",
       "  </tbody>\n",
       "</table>\n",
       "</div>"
      ],
      "text/plain": [
       "           1    2\n",
       "Alice    1.0  0.0\n",
       "Bob      0.0  1.0\n",
       "Charles  0.0  1.0\n",
       "Daphne   1.0  0.0"
      ]
     },
     "metadata": {},
     "output_type": "display_data"
    }
   ],
   "source": [
    "# Final code (Include everything except the input data)\n",
    "from gurobipy import Model, GRB\n",
    "mod = Model()\n",
    "x = mod.addVars(consultants,projects)\n",
    "mod.setObjective(sum(fitness.loc[c,p]*x[c,p] for c in consultants for p in projects),sense = GRB.MAXIMIZE)\n",
    "for c in consultants:\n",
    "    mod.addConstr(sum(x[c,p] for p in projects)<=capacity[c])\n",
    "for p in projects:\n",
    "    mod.addConstr(sum(x[c,1] for c in consultants)>=demand[p])\n",
    "    mod.addConstr(sum(x[s,p] for s in senior)>=seniorDemand[p])\n",
    "mod.setParam('OutputFlag',False)\n",
    "mod.optimize()\n",
    "print('Maximum Total Fitness:',mod.objVal)\n",
    "for c in consultants:\n",
    "    for p in projects:\n",
    "        df_output.loc[c,p] = x[c,p].x\n",
    "display(df_output)\n"
   ]
  },
  {
   "cell_type": "code",
   "execution_count": 23,
   "id": "f2eb6f8c",
   "metadata": {},
   "outputs": [
    {
     "name": "stdout",
     "output_type": "stream",
     "text": [
      "Maximum total fitness: 15.0\n"
     ]
    },
    {
     "data": {
      "text/html": [
       "<div>\n",
       "<style scoped>\n",
       "    .dataframe tbody tr th:only-of-type {\n",
       "        vertical-align: middle;\n",
       "    }\n",
       "\n",
       "    .dataframe tbody tr th {\n",
       "        vertical-align: top;\n",
       "    }\n",
       "\n",
       "    .dataframe thead th {\n",
       "        text-align: right;\n",
       "    }\n",
       "</style>\n",
       "<table border=\"1\" class=\"dataframe\">\n",
       "  <thead>\n",
       "    <tr style=\"text-align: right;\">\n",
       "      <th></th>\n",
       "      <th>1</th>\n",
       "      <th>2</th>\n",
       "    </tr>\n",
       "  </thead>\n",
       "  <tbody>\n",
       "    <tr>\n",
       "      <th>Alice</th>\n",
       "      <td>1</td>\n",
       "      <td>0</td>\n",
       "    </tr>\n",
       "    <tr>\n",
       "      <th>Bob</th>\n",
       "      <td>0</td>\n",
       "      <td>1</td>\n",
       "    </tr>\n",
       "    <tr>\n",
       "      <th>Charles</th>\n",
       "      <td>0</td>\n",
       "      <td>1</td>\n",
       "    </tr>\n",
       "    <tr>\n",
       "      <th>Daphne</th>\n",
       "      <td>1</td>\n",
       "      <td>0</td>\n",
       "    </tr>\n",
       "  </tbody>\n",
       "</table>\n",
       "</div>"
      ],
      "text/plain": [
       "         1  2\n",
       "Alice    1  0\n",
       "Bob      0  1\n",
       "Charles  0  1\n",
       "Daphne   1  0"
      ]
     },
     "execution_count": 23,
     "metadata": {},
     "output_type": "execute_result"
    }
   ],
   "source": [
    "# Sample output"
   ]
  }
 ],
 "metadata": {
  "kernelspec": {
   "display_name": "Python 3 (ipykernel)",
   "language": "python",
   "name": "python3"
  },
  "language_info": {
   "codemirror_mode": {
    "name": "ipython",
    "version": 3
   },
   "file_extension": ".py",
   "mimetype": "text/x-python",
   "name": "python",
   "nbconvert_exporter": "python",
   "pygments_lexer": "ipython3",
   "version": "3.8.8"
  }
 },
 "nbformat": 4,
 "nbformat_minor": 5
}
