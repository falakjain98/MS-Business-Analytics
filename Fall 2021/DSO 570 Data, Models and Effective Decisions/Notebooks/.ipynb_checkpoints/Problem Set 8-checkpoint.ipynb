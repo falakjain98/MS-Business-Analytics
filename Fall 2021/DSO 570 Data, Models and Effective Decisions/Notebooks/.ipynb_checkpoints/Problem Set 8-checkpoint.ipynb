{
 "cells": [
  {
   "cell_type": "markdown",
   "metadata": {},
   "source": [
    "# Name: Falak Jain\n",
    "\n",
    "# Problem Set 8\n",
    "\n",
    "### Learning Objective:\n",
    "\n",
    "- Create Python code to automate a given task.\n",
    "\n",
    "### Overview:\n",
    "\n",
    "This problem set assesses your ability to solve linear optimization models using Gurobi and Python, as discussed in the lectures for Week 10.\n",
    "\n",
    "### Grading\n",
    "\n",
    "There are three possible scores you can get from submitting this assignment on time (submitting a blank file or one without any apparent effort does not count). Note that the rubric is designed to incentivize you to go for 100% mastery of the material, as the little details matter a lot in business analytics. \n",
    "\n",
    "| Grade | Description |\n",
    "|--|--|\n",
    "| 5 out of 5 | Perfect submission with no significant errors. | \n",
    "| 4 out of 5 | Near perfect submission with one or more significant errors. |\n",
    "| 2 out of 5 | Apparent effort but far from perfect. |"
   ]
  },
  {
   "cell_type": "markdown",
   "metadata": {},
   "source": [
    "## Q1. Numerical Solution for Sample Problem 9.3\n",
    "\n",
    "The concrete formulation of Sample Problem 9.3 is reproduced below:\n",
    "\n",
    "**Decision Variables:** Let $X_1, \\cdots, X_7$ denote whether to use each FC. (Binary)\n",
    "\n",
    "**Objective and constraints:**\n",
    "\n",
    "$$\\begin{aligned}\n",
    "\\text{Minimize} && X_1+X_2+\\cdots+X_7 \\\\\n",
    "\\text{s.t.} && X_2+X_5+X_6+X_7 & \\ge 1\\\\\n",
    "&& X_3+X_4 & \\ge 1\\\\\n",
    "&& X_3 & \\ge 1 \\\\\n",
    "&& X_1+X_2+X_4+X_6 & \\ge 1 \\\\\n",
    "&& X_5 + X_7 & \\ge 1\\\\\n",
    "&& X_4 &\\le X_1 \\\\\n",
    "&& X_2+X_3 & \\le 1\n",
    "\\end{aligned}$$\n",
    "\n",
    "**a)** Implement the above using Gurobi, while using for loops and list comprehensions as much as possible to automate recurring patterns.\n",
    "\n",
    "After you are done, use `mod.write`, and `%cat` in Mac or `!type` in Windows to output what the linear optimization formulation looks like according to Gurobi, following Section 10.4. You can use this to verify that you have indeed implemented the above."
   ]
  },
  {
   "cell_type": "code",
   "execution_count": 5,
   "metadata": {},
   "outputs": [
    {
     "name": "stdout",
     "output_type": "stream",
     "text": [
      "\\ LP format - for model browsing. Use MPS format to capture full model detail.\n",
      "Minimize\n",
      "  x[1] + x[2] + x[3] + x[4] + x[5] + x[6] + x[7]\n",
      "Subject To\n",
      " R0: x[2] + x[5] + x[6] + x[7] >= 1\n",
      " R1: x[3] + x[4] >= 1\n",
      " R2: x[3] >= 1\n",
      " R3: x[1] + x[2] + x[4] + x[6] >= 1\n",
      " R4: x[5] + x[7] >= 1\n",
      " R5: - x[1] + x[4] <= 0\n",
      " R6: x[2] + x[3] <= 1\n",
      "Bounds\n",
      "Binaries\n",
      " x[1] x[2] x[3] x[4] x[5] x[6] x[7]\n",
      "End\n"
     ]
    }
   ],
   "source": [
    "# Write your code here\n",
    "from gurobipy import Model, GRB\n",
    "mod = Model()\n",
    "FCs = range(1,8)\n",
    "x = mod.addVars(FCs,name='x',vtype=GRB.BINARY)\n",
    "mod.setObjective(sum(x[f] for f in FCs))\n",
    "mod.addConstr(x[2]+x[5]+x[6]+x[7]>=1)\n",
    "mod.addConstr(x[3]+x[4]>=1)\n",
    "mod.addConstr(x[3]>=1)\n",
    "mod.addConstr(x[1]+x[2]+x[4]+x[6]>=1)\n",
    "mod.addConstr(x[5]+x[7]>=1)\n",
    "mod.addConstr(x[4]<=x[1])\n",
    "mod.addConstr(x[2]+x[3]<=1)\n",
    "mod.write('10-books.lp')\n",
    "!type 10-books.lp\n"
   ]
  },
  {
   "cell_type": "code",
   "execution_count": 1,
   "metadata": {},
   "outputs": [
    {
     "name": "stdout",
     "output_type": "stream",
     "text": [
      "Using license file /home/pengshi/gurobi.lic\n",
      "Academic license - for non-commercial use only\n",
      "\\ LP format - for model browsing. Use MPS format to capture full model detail.\n",
      "Minimize\n",
      "  X[1] + X[2] + X[3] + X[4] + X[5] + X[6] + X[7]\n",
      "Subject To\n",
      " R0: X[2] + X[5] + X[6] + X[7] >= 1\n",
      " R1: X[3] + X[4] >= 1\n",
      " R2: X[3] >= 1\n",
      " R3: X[1] + X[2] + X[4] + X[6] >= 1\n",
      " R4: X[5] + X[7] >= 1\n",
      " R5: - X[1] + X[4] <= 0\n",
      " R6: X[2] + X[3] <= 1\n",
      "Bounds\n",
      "Binaries\n",
      " X[1] X[2] X[3] X[4] X[5] X[6] X[7]\n",
      "End\n"
     ]
    }
   ],
   "source": [
    "# Sample Output from %cat or !type"
   ]
  },
  {
   "cell_type": "markdown",
   "metadata": {},
   "source": [
    "**b)** Solve the MIP and print the minimum number of FCs needed, as well as where to stock the items. The output format must match the sample output below."
   ]
  },
  {
   "cell_type": "code",
   "execution_count": 9,
   "metadata": {},
   "outputs": [
    {
     "name": "stdout",
     "output_type": "stream",
     "text": [
      "Minimum # of FCs needed: 3.0\n",
      "Stock item in the following:\n",
      "\tFC1\n",
      "\tFC3\n",
      "\tFC7\n"
     ]
    }
   ],
   "source": [
    "# Write your code here\n",
    "from gurobipy import Model, GRB\n",
    "mod = Model()\n",
    "FCs = range(1,8)\n",
    "x = mod.addVars(FCs,name='x',vtype=GRB.BINARY)\n",
    "mod.setObjective(sum(x[f] for f in FCs))\n",
    "mod.addConstr(x[2]+x[5]+x[6]+x[7]>=1)\n",
    "mod.addConstr(x[3]+x[4]>=1)\n",
    "mod.addConstr(x[3]>=1)\n",
    "mod.addConstr(x[1]+x[2]+x[4]+x[6]>=1)\n",
    "mod.addConstr(x[5]+x[7]>=1)\n",
    "mod.addConstr(x[4]<=x[1])\n",
    "mod.addConstr(x[2]+x[3]<=1)\n",
    "mod.setParam('OutputFlag',False)\n",
    "mod.optimize()\n",
    "print('Minimum # of FCs needed:',mod.objVal)\n",
    "print('Stock item in the following:')\n",
    "for f in FCs:\n",
    "    if x[f].x == 1:\n",
    "        print(f'\\tFC{f}')"
   ]
  },
  {
   "cell_type": "code",
   "execution_count": 2,
   "metadata": {},
   "outputs": [
    {
     "name": "stdout",
     "output_type": "stream",
     "text": [
      "Minimum # of FCs needed: 3\n",
      "Stock item in the following:\n",
      "\tFC1\n",
      "\tFC3\n",
      "\tFC7\n"
     ]
    }
   ],
   "source": [
    "# Sample output"
   ]
  },
  {
   "cell_type": "markdown",
   "metadata": {},
   "source": [
    "## Q2.Optimizing Production Quantities\n",
    "\n",
    "**(Adapted from DMD Exercise 7.8)** Nature's Best Frozen Foods company produces four different mixes of frozen ready-to-eat vegetables. The mixes consist of five different vegetables: carrots, mushrooms, green peppers, broccoli, and corn. The company manufacturers four different mixes, each sold in 10 oz. bags. The mixes are \"Stir Fry\", \"Barbecue\", \"Hearty Mushrooms\" and \"Veggie Crunch,\" and their contributions to earnings (per bag) are 0.22, 0.20, 0.18 and 0.18 respectively. The monthly supplies of carrots, mushrooms, green peppers, broccoli and corn are 150,000 oz., 80,000 oz., 135,000 oz., 140,000 oz., and 150,000 oz. per month, respectively. The compositions of the mixes are shown in the table below. For example, one bag of \"Stir Fry\" mix contains 2.5 oz. of carrots, 3.0 oz. of mushrooms, 2.5 oz. of green peppers, 2.0 oz. of broccoli, and no corn. \n",
    "\n",
    "|` `| Stir Fry | Barbecue | Hearty Mushrooms | Veggie Crunch |\n",
    "|--|--|--|--|--|\n",
    "|Carrots | 2.5 | 2.0 | - | 2.5 |\n",
    "|Mushrooms | 3.0 | - | 4.0 | - |\n",
    "|Green Peppers | 2.5 | 2.0 | 3 | 2.5 |\n",
    "|Broccoli | 2.0 | 3.0 | 3.0 | 2.5 |\n",
    "|Corn | - | 3.0 | - | 2.5 |\n",
    "\n",
    "**a)** Formulate a LP to determine the optimal monthly production of each mix to maximize total earnings. (It is okay to have factional monthly productions.)"
   ]
  },
  {
   "cell_type": "markdown",
   "metadata": {},
   "source": [
    "### Step 1. English description\n",
    "\n",
    "**Decision:** \n",
    "Determine the optimum monthly production of each mix\n",
    "\n",
    "**Objective:** \n",
    "Maximize total Earnings\n",
    "\n",
    "**Constraints:**\n",
    "- The monthly supply of vegetables cannot be exhausted\n",
    "- Each bag of a mix should consist of the specified quantity of each vegetable and should weigh 10oz\n",
    "\n",
    "\n",
    "### Step 2. Concrete formulation\n",
    "\n",
    "**Decision variables:** \n",
    "Let $X_{Stir Fry} + \\cdots + X_{Veggie Crunch}$ denote the number of bags produced for each mix . (Continuous)\n",
    "\n",
    "**Objective and constraints:**\n",
    "\n",
    "$$\n",
    "\\text{Maximize: } \\qquad .22X_{Stir Fry}+ .2X_{Barbeque}+ .18X_{Hearty Mushrooms}+ .18X_{Veggie Crunch}\n",
    "$$\n",
    "\n",
    "$$\n",
    "\\begin{aligned}\n",
    "\\text{s.t.} \\\\\n",
    "&& 2.5X_{Stir Fry}+2X_{Barbeque}+2.5X_{Veggie Crunch} & \\le 150000\\\\\n",
    "&& 3X_{Stir Fry}+4X_{Hearty Mushrooms} & \\le 80000\\\\\n",
    "&& 2.5X_{Stir Fry}+2X_{Barbeque}+3X_{Hearty Mushrooms}+2.5X_{Veggie Crunch} & \\le 135000 \\\\\n",
    "&& 2X_{Stir Fry}+3X_{Barbeque}+3X_{Hearty Mushrooms}+2.5X_{Veggie Crunch} & \\le 140000 \\\\\n",
    "&& 3X_{Barbeque}+2.5X_{Veggie Crunch} & \\le 150000 \\\\\n",
    "\\text{(Non-negativity)} && X_{Stir Fry},X_{Barbeque},X_{Hearty Mushrooms},X_{Veggie Crunch} & \\ge 0 \\\\\n",
    "\\end{aligned}\n",
    "$$\n"
   ]
  },
  {
   "cell_type": "markdown",
   "metadata": {},
   "source": [
    "**b)** Write Gurobi code to implement the above LP. Your code should read in the data from the following data structures rather than hard code in the numbers. The outputs should all be rounded to two decimal places, as in the sample outputs at the end."
   ]
  },
  {
   "cell_type": "code",
   "execution_count": 44,
   "metadata": {},
   "outputs": [
    {
     "data": {
      "text/plain": [
       "Stir Fry            0.22\n",
       "Barbeque            0.20\n",
       "Hearty Mushrooms    0.18\n",
       "Veggie Crunch       0.18\n",
       "dtype: float64"
      ]
     },
     "execution_count": 44,
     "metadata": {},
     "output_type": "execute_result"
    }
   ],
   "source": [
    "products=['Stir Fry','Barbeque','Hearty Mushrooms','Veggie Crunch']\n",
    "import pandas as pd\n",
    "earnings=pd.Series([.22,.2,.18,.18],index=products)\n",
    "earnings"
   ]
  },
  {
   "cell_type": "code",
   "execution_count": 45,
   "metadata": {},
   "outputs": [
    {
     "data": {
      "text/plain": [
       "Carrots          150000\n",
       "Mushrooms         80000\n",
       "Green peppers    135000\n",
       "Broccoli         140000\n",
       "Corn             150000\n",
       "dtype: int64"
      ]
     },
     "execution_count": 45,
     "metadata": {},
     "output_type": "execute_result"
    }
   ],
   "source": [
    "ingredients=['Carrots','Mushrooms','Green peppers','Broccoli','Corn']\n",
    "supply=pd.Series([150000,80000,135000,140000,150000],index=ingredients)\n",
    "supply"
   ]
  },
  {
   "cell_type": "code",
   "execution_count": 46,
   "metadata": {},
   "outputs": [
    {
     "data": {
      "text/html": [
       "<div>\n",
       "<style scoped>\n",
       "    .dataframe tbody tr th:only-of-type {\n",
       "        vertical-align: middle;\n",
       "    }\n",
       "\n",
       "    .dataframe tbody tr th {\n",
       "        vertical-align: top;\n",
       "    }\n",
       "\n",
       "    .dataframe thead th {\n",
       "        text-align: right;\n",
       "    }\n",
       "</style>\n",
       "<table border=\"1\" class=\"dataframe\">\n",
       "  <thead>\n",
       "    <tr style=\"text-align: right;\">\n",
       "      <th></th>\n",
       "      <th>Stir Fry</th>\n",
       "      <th>Barbeque</th>\n",
       "      <th>Hearty Mushrooms</th>\n",
       "      <th>Veggie Crunch</th>\n",
       "    </tr>\n",
       "  </thead>\n",
       "  <tbody>\n",
       "    <tr>\n",
       "      <th>Carrots</th>\n",
       "      <td>2.5</td>\n",
       "      <td>2</td>\n",
       "      <td>0</td>\n",
       "      <td>2.5</td>\n",
       "    </tr>\n",
       "    <tr>\n",
       "      <th>Mushrooms</th>\n",
       "      <td>3.0</td>\n",
       "      <td>0</td>\n",
       "      <td>4</td>\n",
       "      <td>0.0</td>\n",
       "    </tr>\n",
       "    <tr>\n",
       "      <th>Green peppers</th>\n",
       "      <td>2.5</td>\n",
       "      <td>2</td>\n",
       "      <td>3</td>\n",
       "      <td>2.5</td>\n",
       "    </tr>\n",
       "    <tr>\n",
       "      <th>Broccoli</th>\n",
       "      <td>2.0</td>\n",
       "      <td>3</td>\n",
       "      <td>3</td>\n",
       "      <td>2.5</td>\n",
       "    </tr>\n",
       "    <tr>\n",
       "      <th>Corn</th>\n",
       "      <td>0.0</td>\n",
       "      <td>3</td>\n",
       "      <td>0</td>\n",
       "      <td>2.5</td>\n",
       "    </tr>\n",
       "  </tbody>\n",
       "</table>\n",
       "</div>"
      ],
      "text/plain": [
       "               Stir Fry  Barbeque  Hearty Mushrooms  Veggie Crunch\n",
       "Carrots             2.5         2                 0            2.5\n",
       "Mushrooms           3.0         0                 4            0.0\n",
       "Green peppers       2.5         2                 3            2.5\n",
       "Broccoli            2.0         3                 3            2.5\n",
       "Corn                0.0         3                 0            2.5"
      ]
     },
     "execution_count": 46,
     "metadata": {},
     "output_type": "execute_result"
    }
   ],
   "source": [
    "usage=pd.DataFrame([[2.5,2,0,2.5],\\\n",
    "                    [3,0,4,0],\\\n",
    "                    [2.5,2,3,2.5],\\\n",
    "                    [2,3,3,2.5],\\\n",
    "                    [0,3,0,2.5]],\\\n",
    "                  index=ingredients, columns=products)\n",
    "usage"
   ]
  },
  {
   "cell_type": "code",
   "execution_count": 49,
   "metadata": {},
   "outputs": [
    {
     "name": "stdout",
     "output_type": "stream",
     "text": [
      "Maximum earning: 11813.33\n",
      "Production Plan\n",
      "\tStir Fry: 26666.67\n",
      "\tBarbeque: 18333.33\n",
      "\tHearty Mushrooms: 0.0\n",
      "\tVeggie Crunch: 12666.67\n"
     ]
    }
   ],
   "source": [
    "# Write your code here\n",
    "from gurobipy import Model, GRB\n",
    "\n",
    "vegetables = usage.index\n",
    "mod = Model()\n",
    "x = mod.addVars(products,name = 'x')\n",
    "mod.setObjective(sum(earnings.loc[i]*x[i] for i in products),sense = GRB.MAXIMIZE)\n",
    "for i in vegetables:\n",
    "    mod.addConstr(sum(usage.loc[i,a]*x[a] for a in products)<=supply.loc[i])\n",
    "mod.setParam('OutputFlag',False)\n",
    "mod.optimize()\n",
    "print('Maximum earning:',round(mod.objVal,2))\n",
    "print('Production Plan')\n",
    "for i in products:\n",
    "    print(f'\\t{i}: {round(x[i].x,2)}')"
   ]
  },
  {
   "cell_type": "code",
   "execution_count": 6,
   "metadata": {},
   "outputs": [
    {
     "name": "stdout",
     "output_type": "stream",
     "text": [
      "Maximum earning: 11813.33\n",
      "Production plan:\n",
      "\tStir Fry: 26666.67\n",
      "\tBarbeque: 18333.33\n",
      "\tHearty Mushrooms: 0.0\n",
      "\tVeggie Crunch: 12666.67\n"
     ]
    }
   ],
   "source": [
    "# Sample Output"
   ]
  },
  {
   "cell_type": "markdown",
   "metadata": {},
   "source": [
    "## Q3. Optimal Advertising Plan\n",
    "\n",
    "SALS Marketing Inc. is developing an advertising campaign for a large consumer goods corporation. An advertising plan specifies how many units of each kind of advertisement to purchase. SALS has promised a plan that will yield the highest possible “exposure rating,” which is a measure of the ability to reach the appropriate demographic group and generate demand. The options for advertisements with their respective costs (per unit of advertising) and per-unit exposure ratings are given in the table below (K stands for thousands).\n",
    "\n",
    "| Category | Subcategory | Cost/Unit | Exposure/Unit |\n",
    "|--|--|--|--|\n",
    "| Magazines | Literary | \\$7.5 K | 15 K |\n",
    "| ` ` | News | \\$10 K | 22.5 K |\n",
    "| ` ` | Topical | \\$15 K | 24 K |\n",
    "| Newspapers |  Morning | \\$2 K | 37.5 K |\n",
    "|` `  | Evening | \\$3 K | 75 K |\n",
    "| Television | Morning | \\$20 K | 275 K |\n",
    "| ` ` | Midday | \\$10 K | 180 K |\n",
    "| ` `  | Evening | \\$60 K | 810 K |\n",
    "| Radio | Morning | \\$15 K | 180 K |\n",
    "| ` ` | Midday | \\$15 K | 17 K |\n",
    "| ` ` | Evening | \\$10 K | 16 K |\n",
    "\n",
    "Of course, certain restrictions exist for the advertising campaign. The client corporation has budgeted 800,000 dollars for the campaign, but to restrict overexposure to any particular audience it wants no more than 300,000 dollars put into any one category (Magazine, Newspaper, etc.). Also, to ensure a broad range of exposure, at least 100,000 dollars must be spent in each category. Finally, one has to purchase an integer number of units of each kind of advertisement, as no fractional units are allowed.\n",
    "\n",
    "**a)** Formulate a linear optimization problem to determine the optimal advertising plan."
   ]
  },
  {
   "cell_type": "markdown",
   "metadata": {},
   "source": [
    "### Step 1. English Description\n",
    "\n",
    "**Decision:** Determine the number of units for each subcategory to be purchased\n",
    "\n",
    "**Objective:** Maximize the exposure rating of the advertisement campaign\n",
    "\n",
    "**Constraints:**\n",
    "- The expenditure in a certain category should not be lower than 100,000 or greater than 300,000\n",
    "- The expenditure on the advertisement campaign must not exceed the budgeted amount\n",
    "\n",
    "### Step 2. Concrete Formulation\n",
    "\n",
    "**Decision variables:** \n",
    "Let $X_{Literary Mag.} + \\cdots + X_{Evening Radio}$ denote the number of bags produced for each mix . (Integer)\n",
    "\n",
    "**Objective and constraints:**\n",
    "\n",
    "$$\n",
    "\\text{Maximize: } \\qquad 15X_{Literary Mag.}+22.5X_{News Mag.}+24X_{Topical Mag.}+37.5X_{Morning News}+75X_{Evening News}+275X_{Morning TV}+180X_{Midday TV}+810X_{Evening TV}+180X_{Morning Radio}+17X_{Midday Radio}+16X_{Evening Radio}\n",
    "$$\n",
    "\n",
    "$$\n",
    "\\begin{aligned}\n",
    "\\text{s.t.} \\\\\n",
    "&& 7.5X_{Literary Mag.} + \\cdots + 10X_{Evening Radio} & \\le 800\\\\\n",
    "&& 7.5X_{Literary Mag.}+10X_{News Mag.}+15X_{Topical Mag.} & \\ge 100\\\\\n",
    "&& 7.5X_{Literary Mag.}+10X_{News Mag.}+15X_{Topical Mag.} & \\le 300\\\\\n",
    "&& 2X_{Morning News}+3X_{Evening News} & \\ge 100\\\\\n",
    "&& 2X_{Morning News}+3X_{Evening News} & \\le 300 \\\\\n",
    "&& 20X_{Morning TV}+10X_{Midday TV}+60X_{Evening TV} & \\ge 100 \\\\\n",
    "&& 20X_{Morning TV}+10X_{Midday TV}+60X_{Evening TV} & \\le 300 \\\\\n",
    "&& 15X_{Morning Radio}+15X_{Midday Radio}+10X_{Evening Radio} & \\ge 100 \\\\\n",
    "&& 15X_{Morning Radio}+15X_{Midday Radio}+10X_{Evening Radio} & \\le 300 \\\\\n",
    "\\text{(Non-negativity)} && X_{Literary Mag.},X_{News Mag.},X_{Topical Mag.} & \\ge 0\\\\\n",
    "\\text{(Non-negativity)} && X_{Morning News},X_{Evening News} & \\ge 0\\\\\n",
    "\\text{(Non-negativity)} && X_{Morning TV},X_{Midday TV},X_{Evening TV} & \\ge 0\\\\\n",
    "\\text{(Non-negativity)} && X_{Morning Radio},X_{Midday Radio},X_{Evening Radio} & \\ge 0 \\\\\n",
    "\\end{aligned}\n",
    "$$"
   ]
  },
  {
   "cell_type": "markdown",
   "metadata": {},
   "source": [
    "**b)** Write Gurobi code to implement the above formulation. Your code should read in the data from the following data structures rather than hard code in the numbers. For convenience, all numerical values are in the units of K (thousands). \n",
    "\n",
    "The outputs should be in the same format as the sample outputs below. Note: Gurobi might output strangely formatted numbers like `-0`, and you can make it `0` by converting it to `int`."
   ]
  },
  {
   "cell_type": "code",
   "execution_count": 1,
   "metadata": {},
   "outputs": [
    {
     "data": {
      "text/plain": [
       "{'Magazines': ['Literary Mag.', 'News Mag.', 'Topical Mag.'],\n",
       " 'Newspapers': ['Morning News', 'Evening News'],\n",
       " 'Television': ['Morning TV', 'Midday TV', 'Evening TV'],\n",
       " 'Radio': ['Morning Radio', 'Midday Radio', 'Evening Radio']}"
      ]
     },
     "execution_count": 1,
     "metadata": {},
     "output_type": "execute_result"
    }
   ],
   "source": [
    "# Constructing the subcategories\n",
    "subcat={}\n",
    "subcat['Magazines']=['Literary Mag.','News Mag.','Topical Mag.']\n",
    "subcat['Newspapers']=['Morning News','Evening News']\n",
    "subcat['Television']=['Morning TV','Midday TV','Evening TV']\n",
    "subcat['Radio']=['Morning Radio','Midday Radio','Evening Radio']\n",
    "subcat"
   ]
  },
  {
   "cell_type": "code",
   "execution_count": 8,
   "metadata": {},
   "outputs": [
    {
     "data": {
      "text/html": [
       "<div>\n",
       "<style scoped>\n",
       "    .dataframe tbody tr th:only-of-type {\n",
       "        vertical-align: middle;\n",
       "    }\n",
       "\n",
       "    .dataframe tbody tr th {\n",
       "        vertical-align: top;\n",
       "    }\n",
       "\n",
       "    .dataframe thead th {\n",
       "        text-align: right;\n",
       "    }\n",
       "</style>\n",
       "<table border=\"1\" class=\"dataframe\">\n",
       "  <thead>\n",
       "    <tr style=\"text-align: right;\">\n",
       "      <th></th>\n",
       "      <th>Cost</th>\n",
       "      <th>Exposure</th>\n",
       "    </tr>\n",
       "  </thead>\n",
       "  <tbody>\n",
       "    <tr>\n",
       "      <th>Literary Mag.</th>\n",
       "      <td>7.5</td>\n",
       "      <td>15.0</td>\n",
       "    </tr>\n",
       "    <tr>\n",
       "      <th>News Mag.</th>\n",
       "      <td>10.0</td>\n",
       "      <td>22.5</td>\n",
       "    </tr>\n",
       "    <tr>\n",
       "      <th>Topical Mag.</th>\n",
       "      <td>15.0</td>\n",
       "      <td>24.0</td>\n",
       "    </tr>\n",
       "    <tr>\n",
       "      <th>Morning News</th>\n",
       "      <td>2.0</td>\n",
       "      <td>37.5</td>\n",
       "    </tr>\n",
       "    <tr>\n",
       "      <th>Evening News</th>\n",
       "      <td>3.0</td>\n",
       "      <td>75.0</td>\n",
       "    </tr>\n",
       "    <tr>\n",
       "      <th>Morning TV</th>\n",
       "      <td>20.0</td>\n",
       "      <td>275.0</td>\n",
       "    </tr>\n",
       "    <tr>\n",
       "      <th>Midday TV</th>\n",
       "      <td>10.0</td>\n",
       "      <td>180.0</td>\n",
       "    </tr>\n",
       "    <tr>\n",
       "      <th>Evening TV</th>\n",
       "      <td>60.0</td>\n",
       "      <td>810.0</td>\n",
       "    </tr>\n",
       "    <tr>\n",
       "      <th>Morning Radio</th>\n",
       "      <td>15.0</td>\n",
       "      <td>180.0</td>\n",
       "    </tr>\n",
       "    <tr>\n",
       "      <th>Midday Radio</th>\n",
       "      <td>15.0</td>\n",
       "      <td>17.0</td>\n",
       "    </tr>\n",
       "    <tr>\n",
       "      <th>Evening Radio</th>\n",
       "      <td>10.0</td>\n",
       "      <td>16.0</td>\n",
       "    </tr>\n",
       "  </tbody>\n",
       "</table>\n",
       "</div>"
      ],
      "text/plain": [
       "               Cost  Exposure\n",
       "Literary Mag.   7.5      15.0\n",
       "News Mag.      10.0      22.5\n",
       "Topical Mag.   15.0      24.0\n",
       "Morning News    2.0      37.5\n",
       "Evening News    3.0      75.0\n",
       "Morning TV     20.0     275.0\n",
       "Midday TV      10.0     180.0\n",
       "Evening TV     60.0     810.0\n",
       "Morning Radio  15.0     180.0\n",
       "Midday Radio   15.0      17.0\n",
       "Evening Radio  10.0      16.0"
      ]
     },
     "execution_count": 8,
     "metadata": {},
     "output_type": "execute_result"
    }
   ],
   "source": [
    "import pandas as pd\n",
    "allSubCat=subcat['Magazines']+subcat['Newspapers']+subcat['Television']+subcat['Radio']\n",
    "data=pd.DataFrame([[7.5,15],[10,22.5],[15,24],\\\n",
    "                 [2,37.5],[3,75],\n",
    "                 [20,275],[10,180],[60,810],\\\n",
    "                 [15,180],[15,17],[10,16]],\\\n",
    "                 index=allSubCat,columns=['Cost','Exposure'])\n",
    "data"
   ]
  },
  {
   "cell_type": "code",
   "execution_count": 42,
   "metadata": {},
   "outputs": [
    {
     "name": "stdout",
     "output_type": "stream",
     "text": [
      "Maximum total exposure (in thousands): 14235.0\n",
      "# of units to purchase:\n",
      "\tLiterary Mag.: 0\n",
      "\tNews Mag.: 10\n",
      "\tTopical Mag.: 0\n",
      "\tMorning News: 0\n",
      "\tEvening News: 98\n",
      "\tMorning TV: 0\n",
      "\tMidday TV: 30\n",
      "\tEvening TV: 0\n",
      "\tMorning Radio: 7\n",
      "\tMidday Radio: 0\n",
      "\tEvening Radio: 0\n"
     ]
    }
   ],
   "source": [
    "# Write your code here\n",
    "from gurobipy import Model, GRB\n",
    "mod = Model()\n",
    "x = mod.addVars(data.index,name='x',vtype=GRB.INTEGER)\n",
    "mod.setObjective(sum(data.loc[a,'Exposure']*x[a] for a in allSubCat),sense = GRB.MAXIMIZE)\n",
    "mod.addConstr(sum(data.loc[a,'Cost']*x[a] for a in allSubCat)<=800)\n",
    "for key in subcat.keys():\n",
    "    mod.addConstr(sum(data.loc[i,'Cost']*x[i] for i in subcat[key])<=300)\n",
    "    mod.addConstr(sum(data.loc[i,'Cost']*x[i] for i in subcat[key])>=100)\n",
    "mod.setParam('OutputFlag',False)\n",
    "mod.optimize()\n",
    "print('Maximum total exposure (in thousands):',mod.objVal)\n",
    "print('# of units to purchase:')\n",
    "for a in allSubCat:\n",
    "    print(f'\\t{a}: {int(x[a].x)}')"
   ]
  },
  {
   "cell_type": "code",
   "execution_count": 9,
   "metadata": {},
   "outputs": [
    {
     "name": "stdout",
     "output_type": "stream",
     "text": [
      "Maximum total exposure (in thousands): 14235.0\n",
      "# of units to purchase:\n",
      "\tLiterary Mag.: 0\n",
      "\tNews Mag.: 10\n",
      "\tTopical Mag.: 0\n",
      "\tMorning News: 0\n",
      "\tEvening News: 98\n",
      "\tMorning TV: 0\n",
      "\tMidday TV: 30\n",
      "\tEvening TV: 0\n",
      "\tMorning Radio: 7\n",
      "\tMidday Radio: 0\n",
      "\tEvening Radio: 0\n"
     ]
    }
   ],
   "source": [
    "# Sample Output"
   ]
  }
 ],
 "metadata": {
  "kernelspec": {
   "display_name": "Python 3 (ipykernel)",
   "language": "python",
   "name": "python3"
  },
  "language_info": {
   "codemirror_mode": {
    "name": "ipython",
    "version": 3
   },
   "file_extension": ".py",
   "mimetype": "text/x-python",
   "name": "python",
   "nbconvert_exporter": "python",
   "pygments_lexer": "ipython3",
   "version": "3.8.8"
  }
 },
 "nbformat": 4,
 "nbformat_minor": 2
}
