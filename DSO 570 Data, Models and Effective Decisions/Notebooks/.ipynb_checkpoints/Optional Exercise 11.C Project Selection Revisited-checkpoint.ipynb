{
 "cells": [
  {
   "cell_type": "markdown",
   "metadata": {},
   "source": [
    "## (Optional) Practice Problem: Project Selection Revisited\n",
    "\n",
    "This problem modifies the project selection problem from Session 16 by incorporating a different way of assessing the total value of pursuing a given set project. \n",
    "\n",
    "Ebony is an ambitious master's student who would like to maximize the total value of the extra-curricular business analytics projects she takes part of this year. She would like to account for both the value of pursuing each individual project, as well as the additional value of pursuing each pair of projects together. \n",
    "\n",
    "For illustration purposes, suppose there are five projects, with the following benefits:\n",
    "\n",
    "| Project | 1 | 2 | 3 | 4 | 5 |\n",
    "|--|--|--|--|--|--|\n",
    "|Value | 5 |10 | -4 | -3 | 8 |\n",
    "\n",
    "Note that the value for certain projects may be negative, meaning that the learning she gets from doing the project is not worth the time and effort needed.\n",
    "\n",
    "However, pursuing certain combination of projects yields additional value. For example, the following table lists the additional value of pursuing each pair of projects. Note that the table is symmetric, meaning that the rows and columns can be transposed and the table remains the same. \n",
    "\n",
    "| Project\\Project | 1 |2|3| 4| 5|\n",
    "|--|--|--|--|--|--|\n",
    "|1 | 0 |-4 | 5 | 1 | 2 |\n",
    "|2 |-4 | 0 |-2 |-4 |-13|\n",
    "|3 | 5 |-2 | 0 | 9 | 2 |\n",
    "|4 | 1 |-4 | 9 | 0 | -8 |\n",
    "|5 | 2 |-13| 2 | -8 | 0 |\n",
    "\n",
    "For any set of projects being pursued, the total value of this set is the sum of the individual values as well as the value of each distinct pair. For example, while projects 3 and 4 are have negative individual values, pursuing the combination $\\{3, 4\\}$ yields total value of -4 - 3 + 9 = 2, so it is beneficial to pursue these two projects together.  However, pursuing project $\\{3, 4, 5\\}$ yields -4-3+8+9+2-8=4, so it's better to pursue only $\\{5 \\}$ than the combination $\\{3, 4, 5\\}$. As another example, pursuing all the projects $\\{1, 2, 3, 4, 5\\}$ would yield total value of \n",
    "\n",
    "$$ (5 + 10 - 4 - 3 + 8 ) +(-4+5+1+2-2-4-13+9+2-8) = 4,$$\n",
    "\n",
    "where the first parenthesis contains the individual values, and the second the sum of additional values for each distinct pair. On the other hand, pusuing $\\{1,2,3,4\\}$ would yield a total value of \n",
    "\n",
    "$$ (5 + 10 - 4 - 3) + (-4+5+1-2-4+9) = 13,$$\n",
    "\n",
    "which is much higher. \n",
    "\n",
    "Create an abstract formulation of the above problem to select the set of projects that maximize total value. The formulation must be able to handle an arbitrary number $n$ of projects, as well as arbitrary values in the above tables. In other words, no number should be hard-coded into the formulation. (You may assume that in the table for additional values of each pair, the diagonals are all zero as above, and the table is symmetric.)"
   ]
  },
  {
   "cell_type": "markdown",
   "metadata": {},
   "source": [
    "**Data:**\n",
    "\n",
    "\n",
    "\n",
    "\n",
    "\n",
    "**Decision Variables:**\n",
    "\n",
    "\n",
    "\n",
    "\n",
    "\n",
    "**Objective:**\n",
    "\n",
    "\n",
    "\n",
    "\n",
    "**Constraints:**\n",
    "\n",
    "\n",
    "\n"
   ]
  }
 ],
 "metadata": {
  "kernelspec": {
   "display_name": "Python 3 (ipykernel)",
   "language": "python",
   "name": "python3"
  },
  "language_info": {
   "codemirror_mode": {
    "name": "ipython",
    "version": 3
   },
   "file_extension": ".py",
   "mimetype": "text/x-python",
   "name": "python",
   "nbconvert_exporter": "python",
   "pygments_lexer": "ipython3",
   "version": "3.8.8"
  }
 },
 "nbformat": 4,
 "nbformat_minor": 4
}
