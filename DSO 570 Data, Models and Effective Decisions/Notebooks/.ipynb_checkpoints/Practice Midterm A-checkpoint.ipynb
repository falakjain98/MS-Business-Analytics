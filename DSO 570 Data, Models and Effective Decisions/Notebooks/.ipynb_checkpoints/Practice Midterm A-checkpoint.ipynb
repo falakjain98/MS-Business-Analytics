{
 "cells": [
  {
   "cell_type": "markdown",
   "metadata": {},
   "source": [
    "# Practice Midterm A\n",
    "\n",
    "# Name: write your name here\n",
    "\n",
    "\n",
    "### Learning Objective:\n",
    "\n",
    "- Create Python code to automate a given task.\n",
    "\n",
    "### Instructions:\n",
    "\n",
    "This practice midterm tests your mastery of skills taught in Weeks 1-5, which culminates in creating simulation models using Python and algorithmic thinking. You have 80 minutes from the time you clicked \"Begin\" on Blackboard. **After completing this Jupyter notebook, make sure to save it, then attach the .ipynb file to Blackboard and submit. (For the actual midterm, immediately after submitting, email your solution file to the professor in case Blackboard malfunctions. You don't have to do this for the practice midterm.)**\n",
    "\n",
    "\n",
    "You are allowed to consult any resources posted online as well as any book or notes, but you CANNOT ask someone for help, or share your solutions with anyone other than the professor. **Any violation of academic integrity will result in a failing grade for everyone involved.**\n",
    "\n",
    "**For each problem, you should place all your final code in one cell, with the comment \"# Final Solution\" on top. This cell should include all necessary imports and definitions, so that if one restarts the kernel and only runs that cell, the test code will work.** Only the correctness of your final code matters: as long as you fulfill all the specifications described in the problem description, it doesn't matter how you solve the problem or how efficient is your code. However, if you cannot solve a problem, you may get partial credits for submitting whatever you have, including any parts of the four steps of algorithmic thinking."
   ]
  },
  {
   "cell_type": "markdown",
   "metadata": {},
   "source": [
    "***Note: All three questions are motivated by the operations of ride hailing platforms such as Uber, Lyft, Didi, or Ola.***\n",
    "\n",
    "# Q1. Identifying the Closest Driver (7 Points)\n",
    "\n",
    "Suppose that a certain ride hailing platform always matches a passenger with the closest driver. This question asks you to develop a tool to help the platform identify the closest driver to a given passenger, and estimate how far the driver needs to travel to complete the trip. For simplicity, every location is represented using its $(x,y)$ coordinates and roads are assumed to be either from north to south or from east to west, so the distance between any two points $(x_1, y_1)$ and $(x_2,y_2)$ can be estimated based on the *Manhattan distance*:\n",
    "$$|x_1-x_2| + |y_1-y_2|,$$\n",
    "where $|\\cdot|$ denotes the absolute value (see the Python function \"abs\").\n",
    "\n",
    "**Write a function called \"closest_dispatch\" with the following input arguments:**\n",
    "\n",
    "- **locations**: A dictionary in which each key represents an unique ID of the driver, and the corresponding value is a list of two numbers, representing the coordinates of the driver's current location. For example, `{'A':[3,5],'B':[-5,2.5]}` means that driver A is currently at location $(x_A,y_A)=(3,5)$ and driver B is at location $(x_B,y_B)=(-5,2.5)$. You can assume that the dictionary has at least one entry.\n",
    "- **origin**: A list of two numbers, representing the coordinates of the passenger's current location. \n",
    "- **distination**: A list of two numbers, representing the the coordinates of the passenger's intended destination. \n",
    "\n",
    "**The function should return two objects:**\n",
    "\n",
    "- The ID of the closest driver to the passenger, based on the Manhattan distance from the driver's location and the passenger's origin. If there is a tie, then it doesn't matter which driver is returned.\n",
    "- The total travel distance for this driver to complete the trip. This is the sum of the Manhattan distance from the driver's location to the passenger's location, and the Manhattan distance from the passenger's location to the intended destination.\n",
    "\n",
    "See the sample runs below for illustrations. "
   ]
  },
  {
   "cell_type": "code",
   "execution_count": 1,
   "metadata": {},
   "outputs": [],
   "source": [
    "# Final Solution\n",
    "\n",
    "\n",
    "\n"
   ]
  },
  {
   "cell_type": "code",
   "execution_count": 2,
   "metadata": {},
   "outputs": [
    {
     "name": "stdout",
     "output_type": "stream",
     "text": [
      "Closest driver: Alice \tTravel distance: 64\n"
     ]
    }
   ],
   "source": [
    "# Sample run 1\n",
    "locations={'Alice':[10,30],'Bob':[20,5],'Charles':[-10,10]}\n",
    "closest,movement=closest_dispatch(locations,[10,13],[10,60])\n",
    "print(f'Closest driver: {closest} \\tTravel distance: {movement}')"
   ]
  },
  {
   "cell_type": "code",
   "execution_count": 3,
   "metadata": {},
   "outputs": [
    {
     "name": "stdout",
     "output_type": "stream",
     "text": [
      "Closest driver: Bob \tTravel distance: 38.5\n"
     ]
    }
   ],
   "source": [
    "# Sample run 2\n",
    "locations={'Alice':[10,30],'Bob':[20,5],'Charles':[-10,10]}\n",
    "closest,movement=closest_dispatch(locations,[10,12],[-10,10.5])\n",
    "print(f'Closest driver: {closest} \\tTravel distance: {movement}')"
   ]
  },
  {
   "cell_type": "code",
   "execution_count": 4,
   "metadata": {},
   "outputs": [
    {
     "name": "stdout",
     "output_type": "stream",
     "text": [
      "Closest driver: Bob \tTravel distance: 49.8\n"
     ]
    }
   ],
   "source": [
    "# Sample run 3\n",
    "locations={'Alice':[10,30],'Bob':[20,5],'Charles':[-10,10]}\n",
    "closest,movement=closest_dispatch(locations,[7.6,11],[20,30])\n",
    "print(f'Closest driver: {closest} \\tTravel distance: {movement}')"
   ]
  },
  {
   "cell_type": "code",
   "execution_count": 5,
   "metadata": {},
   "outputs": [
    {
     "name": "stdout",
     "output_type": "stream",
     "text": [
      "Closest driver: Charles \tTravel distance: 50.1\n"
     ]
    }
   ],
   "source": [
    "# Sample run 4\n",
    "locations={'Alice':[10,30],'Bob':[20,5],'Charles':[-10,10]}\n",
    "closest,movement=closest_dispatch(locations,[7.4,11],[20,30.1])\n",
    "print(f'Closest driver: {closest} \\tTravel distance: {movement}')"
   ]
  },
  {
   "cell_type": "code",
   "execution_count": 6,
   "metadata": {},
   "outputs": [
    {
     "name": "stdout",
     "output_type": "stream",
     "text": [
      "Cindy served trip: [5, 9.5] --> [20, 6.5] \tMovement: 23.5\n",
      "Cindy served trip: [10, -5] --> [30, -3] \tMovement: 43.5\n",
      "Abdul served trip: [10, 12] --> [10, 7] \tMovement: 23.5\n",
      "Beth served trip: [-3, 8.5] --> [-10, 5.3] \tMovement: 23.7\n",
      "Abdul served trip: [20, 30] --> [-5, -6.4] \tMovement: 94.4\n",
      "Beth served trip: [10, 10] --> [-3, -7] \tMovement: 54.7\n",
      "\n",
      "Summary:\n",
      "Abdul ended at [-5, -6.4]. \tDistance driven: 117.9\n",
      "Beth ended at [-3, -7]. \tDistance driven: 78.4\n",
      "Cindy ended at [30, -3]. \tDistance driven: 67.0\n",
      "Dilan ended at [-10, -10]. \tDistance driven: 0\n"
     ]
    }
   ],
   "source": [
    "# Sample run 5\n",
    "loc={'Abdul':[10.5,30], 'Beth':[-5,20], 'Cindy': [10,10], 'Dilan': [-10,-10]}\n",
    "trips=[]\n",
    "trips.append([[5,9.5],[20,6.5]])\n",
    "trips.append([[10,-5],[30,-3]])\n",
    "trips.append([[10,12],[10,7]])\n",
    "trips.append([[-3,8.5],[-10,5.3]])\n",
    "trips.append([[20,30],[-5,-6.4]])\n",
    "trips.append([[10,10],[-3,-7]])\n",
    "total={driver:0 for driver in loc}\n",
    "for orig,dest in trips:\n",
    "    closest,movement=closest_dispatch(loc,orig,dest)\n",
    "    print(f'{closest} served trip: {orig} --> {dest} \\tMovement: {movement}')\n",
    "    loc[closest]=dest\n",
    "    total[closest]+=movement\n",
    "print('\\nSummary:')\n",
    "for driver in loc:\n",
    "    print(f'{driver} ended at {loc[driver]}. \\tDistance driven: {total[driver]}')"
   ]
  },
  {
   "cell_type": "markdown",
   "metadata": {},
   "source": [
    "# Q2. Queuing at Airport Pickup Station (8 Points)\n",
    "\n",
    "Suppose that a certain ride hailing platform organizes pickups from a certain airport as follows: upon landing, all passengers proceed to a single pickup station, and drivers also line up their cars at the station. Due to capacity limitations at the station, at most $k$ passengers can be picked up each minute. This question asks you to build a tool to estimate the average waiting time for both passengers and drivers, given the number of passengers and drivers who arrive at the station each minute. \n",
    "\n",
    "**Write a function called \"airport_queue\" with the following input arguments:**\n",
    "\n",
    "- **passengers**: a list representing the number of passengers who arrive at the station each minute. You may assume that each entry of the list is a non-negative integer, and that the sum of entries in the list is strictly positive. \n",
    "- **drivers**: a list representing the number of drivers who arrive at the station each minute. You may assume that each entry is a non-negative integer, and that the sum of entries is strictly positive. Moreover, the lengths of the two lists are the same.\n",
    "- **k**: a positive integer representing the maximum number of pickups per minute.\n",
    "\n",
    "Assume that initially, both the passenger and driver queues are empty. The following table illustrates the queueing dynamic under the following parameters:\n",
    "\n",
    "```\n",
    "passengers=[5,10,20,5,0,0,0,0,15,0]\n",
    "drivers=[20,0,0,0,0,30,40,20,0,0]\n",
    "k=10\n",
    "```\n",
    "\n",
    "| Minute | Passenger Arrivals | Driver Arrivals | Passenger Queue | Driver Queue | Pickups|\n",
    "|--|--|--|--|--|--|\n",
    "| 0 | 5 | 20 | 5 | 20 | 5 |\n",
    "| 1 | 10 | 0 | 10 | 15 | 10 |\n",
    "| 2 | 20 | 0 | 20 | 5 | 5 |\n",
    "| 3 | 5 | 0 | 20 | 0 | 0 |\n",
    "| 4 | 0 | 0 | 20 | 0 | 0 |\n",
    "| 5 | 0 | 30 | 20 | 30 | 10 |\n",
    "| 6 | 0 | 40 | 10 | 60 | 10 |\n",
    "| 7 | 0 | 20 | 0 | 70 | 0 |\n",
    "| 8 | 15 | 0 | 15 | 70 | 10 |\n",
    "| 9 | 0 | 0 | 5 | 60 | 5 |\n",
    "|**Total**| **55** | **110** | **125** | **330** | |\n",
    "\n",
    "Note that the columns \"Passenger Arrivals\" and \"Driver Arrivals\" are from the two input lists. In each row except the first one, the \"Passenger Queue\" is equal to the previous row's value plus the number of passenger arrivals in this row, minus the number of pickups in the previous row. An analogous relationship holds for the \"Driver Queue\" column. In each row, \"Pickups\" is equal to the minimum of $k$, \"Passenger Queue\" and \"Driver Queue\".\n",
    "\n",
    "**The function should return two objects:**\n",
    "\n",
    "- **average waiting time for passengers**: this is the total of the \"Passenger Queue\" column divided by the total of the \"Passenger Arrivals\" column. In the above table, this is $125/55 \\approx 2.27$ minutes. \n",
    "- **average waiting time for drivers**: this is the total of the \"Driver Queue\" column divided by the total of the \"Driver Arrivals\" column. In the above table, this is $330/110 = 3$ minutes. These formula are based on a mathematical relationship between waiting time and queue length called \"Little's Law,\" which assumes that both queues instantly clear after the given time period.\n",
    "\n",
    "See the sample runs below for illustrations."
   ]
  },
  {
   "cell_type": "code",
   "execution_count": 7,
   "metadata": {},
   "outputs": [],
   "source": [
    "# Final Solution\n",
    "\n",
    "\n",
    "\n"
   ]
  },
  {
   "cell_type": "code",
   "execution_count": 8,
   "metadata": {},
   "outputs": [
    {
     "name": "stdout",
     "output_type": "stream",
     "text": [
      "Av. waiting time for passengers is 2.27 minutes.\n",
      "Av. waiting time for drivers is 3.0 minutes.\n"
     ]
    }
   ],
   "source": [
    "# Sample run 1\n",
    "passengers=[5,10,20,5,0,0,0,0,15,0]\n",
    "drivers=[20,0,0,0,0,30,40,20,0,0]\n",
    "k=10\n",
    "passenger_wait,driver_wait=airport_queue(passengers,drivers,k)\n",
    "print(f'Av. waiting time for passengers is {round(passenger_wait,2)} minutes.')\n",
    "print(f'Av. waiting time for drivers is {round(driver_wait,2)} minutes.')"
   ]
  },
  {
   "cell_type": "code",
   "execution_count": 9,
   "metadata": {},
   "outputs": [
    {
     "name": "stdout",
     "output_type": "stream",
     "text": [
      "Av. waiting time for passengers is 4.218 minutes.\n",
      "Av. waiting time for drivers is 4.018 minutes.\n"
     ]
    }
   ],
   "source": [
    "# Sample run 2\n",
    "passengers=[5,10,20,5,0,0,0,0,15,0,0,0,0,0,0]\n",
    "drivers=[20,0,0,0,0,0,0,0,30,40,20,0,0,0,0]\n",
    "passenger_wait,driver_wait=airport_queue(passengers,drivers,8)\n",
    "print(f'Av. waiting time for passengers is {round(passenger_wait,3)} minutes.')\n",
    "print(f'Av. waiting time for drivers is {round(driver_wait,3)} minutes.')"
   ]
  },
  {
   "cell_type": "code",
   "execution_count": 10,
   "metadata": {},
   "outputs": [
    {
     "data": {
      "text/plain": [
       "(1.0, 1.0)"
      ]
     },
     "execution_count": 10,
     "metadata": {},
     "output_type": "execute_result"
    }
   ],
   "source": [
    "# Sample run 3\n",
    "airport_queue([5],[10],7)"
   ]
  },
  {
   "cell_type": "code",
   "execution_count": 11,
   "metadata": {},
   "outputs": [
    {
     "data": {
      "text/plain": [
       "(1.125, 2.6875)"
      ]
     },
     "execution_count": 11,
     "metadata": {},
     "output_type": "execute_result"
    }
   ],
   "source": [
    "# Sample run 4\n",
    "airport_queue([1,5,10],[16,0,0],3)"
   ]
  },
  {
   "cell_type": "code",
   "execution_count": 12,
   "metadata": {},
   "outputs": [
    {
     "name": "stdout",
     "output_type": "stream",
     "text": [
      "Impact of Station Capacity\n",
      "k\tAv. Wait of Passengers\tAv. Wait of Drivers\n",
      "5\t7.7 Min\t\t\t8.1 Min\n",
      "10\t5.5 Min\t\t\t5.4 Min\n",
      "15\t4.6 Min\t\t\t4.2 Min\n",
      "20\t3.9 Min\t\t\t3.3 Min\n",
      "25\t3.6 Min\t\t\t3.0 Min\n",
      "30\t3.5 Min\t\t\t2.8 Min\n",
      "35\t3.4 Min\t\t\t2.6 Min\n",
      "40\t3.3 Min\t\t\t2.6 Min\n"
     ]
    }
   ],
   "source": [
    "# Sample run 5\n",
    "passengers=[0,0,0,50,60,30,10,0,0,0,0,0,0,0,10,20,10,80,100,20,0,0]\n",
    "drivers=[20,30,5,3,5,5,3,4,2,0,0,20,30,50,40,30,40,3,5,2,3,5]\n",
    "print('Impact of Station Capacity')\n",
    "print('k\\tAv. Wait of Passengers\\tAv. Wait of Drivers')\n",
    "for k in range(5,41,5):\n",
    "    pwait,dwait=airport_queue(passengers,drivers,k)\n",
    "    print(f'{k}\\t{pwait:.1f} Min\\t\\t\\t{dwait:.1f} Min')"
   ]
  },
  {
   "cell_type": "markdown",
   "metadata": {},
   "source": [
    "# Q3. Simulating a Driver's Movements (9 Points)\n",
    "\n",
    "This question asks you to simulate a driver's movements and cumulative earnings across a given work day under following simplifying assumptions. There is only a finite number of possible locations, each encoded by a certain locationID. Assume that the driver arrives at a given initial location at time $t=0$, at which point he begins accepting dispatches from the platform. Each dispatch tells him to drive a passenger to a given destination. The driver accepts every dispatch and does not move locations unless he is fulfilling a dispatch. Given the driver's current location, the destination of his next dispatch is independently drawn from a given distribution. If the driver's current location is $i$ and the destination of his next dispatch is $j$, then the time elapsed between his arrival at $i$ and his arrival at $j$ is independently drawn from a uniform distribution between certain parameters $a_{ij}$ and $b_{ij}$, where $a_{ij} \\le b_{ij}$. (This time elapsed already includes the idle time waiting for the dispatch, the time needed to pickup the passenger, and the travel time for completing the dispatch.) The driver ends his work day and stops accepting dispatches when he has completed $n$ dispatches, or if the cumulative time $t$ after completing a dispatch is greater than or equal to a certain threshold $T$. \n",
    "\n",
    "**Write a function called \"driver_movement\" with the following input parameters:**\n",
    "\n",
    "- **locations**: a list of possible locationIDs. You may assume that each entry is a string. Denote the length of this list by $m$. You may assume that $m \\ge 1$. \n",
    "- **initial**: the driver's locationID at time $t=0$. \n",
    "- **transition_probs**: a dictionary with $m$ entries in which each key corresponds to a locationID and each value is a list of length $m$ representing the probability of moving to the corresponding locationID in the list \"locations\", assuming that the current location is given by the dictionary key. \n",
    "- **df_a**: a DataFrame in which the row and column labels are both given by the list \"locations\", and each value `df_a.loc[i,j]` corresponds to the parameter $a_{ij}$. \n",
    "- **df_b**: analogous in format to \"df_a\", except that `df_b.loc[i,j]` corresponds to the parameter $b_{ij}$. \n",
    "- **df_earnings**: analogous in format to \"df_a\", except that `df_earnings.loc[i,j]` corresponds to the earnings from moving from location $i$ to the next location $j$. \n",
    "- **n**: a positive integer corresponding to the maximum number of dispatches the driver is willing to fulfill.\n",
    "- **T**: a positive number corresponding to the time after which the driver will no longer accept new dispatches.\n",
    "\n",
    "**The function should return three objects:**\n",
    "\n",
    "- **timeList**: a list in which the first entry is 0, and each subsequent entry corresponds to the time that the driver completes a dispatch.\n",
    "- **locationList**: a list in which the first entry is the same as **initial**, which is the locationID at time 0. Each subsequent entry corresponds to the location of the driver upon completing the corresponding dispatch.\n",
    "- **earningsList**: a list in which the first entry is 0, and each subsequent entry stores the cumultative earnings for the driver after completing a dispatch.\n",
    "\n",
    "See the sample outputs for illustrations. (In the sample outputs, whether a whole number is displayed as int or float does not matter.)"
   ]
  },
  {
   "cell_type": "code",
   "execution_count": 13,
   "metadata": {},
   "outputs": [],
   "source": [
    "# Final Solution \n",
    "\n",
    "\n",
    "\n"
   ]
  },
  {
   "cell_type": "code",
   "execution_count": 14,
   "metadata": {},
   "outputs": [
    {
     "name": "stdout",
     "output_type": "stream",
     "text": [
      "Time\tLocation\tCumulative Earnings\n",
      "0\tAirport   \t0\n",
      "70.0\tDowntown  \t40\n",
      "120.0\tAirport   \t70\n",
      "190.0\tDowntown  \t110\n"
     ]
    }
   ],
   "source": [
    "# Sample run 1  (deterministic example)\n",
    "import pandas as pd\n",
    "locations=['Downtown', 'Airport']\n",
    "initial='Airport'\n",
    "transition_probs={'Downtown':[0,1],'Airport':[1,0]}\n",
    "df_a=df_b=pd.DataFrame([[0,50],[70,0]],index=locations,columns=locations)\n",
    "df_earnings=pd.DataFrame([[0,30],[40,0]],index=locations,columns=locations)\n",
    "t,l,e=driver_movement(locations,initial,transition_probs,df_a,df_b,df_earnings,10,190)\n",
    "print('Time\\tLocation\\tCumulative Earnings')\n",
    "for i in range(len(t)):\n",
    "    print(f'{t[i]}\\t{l[i]:10}\\t{e[i]}')\n",
    "    # The { :10} in f-string formatting is to make the table line up by making sure the output \n",
    "    # is exactly 10 characters. Don't worry about it."
   ]
  },
  {
   "cell_type": "code",
   "execution_count": 15,
   "metadata": {},
   "outputs": [
    {
     "name": "stdout",
     "output_type": "stream",
     "text": [
      "Time\tLocation\tCumulative Earnings\n",
      "0\tAirport   \t0\n",
      "70.0\tDowntown  \t40\n",
      "120.0\tAirport   \t70\n",
      "190.0\tDowntown  \t110\n",
      "240.0\tAirport   \t140\n",
      "310.0\tDowntown  \t180\n",
      "360.0\tAirport   \t210\n",
      "430.0\tDowntown  \t250\n"
     ]
    }
   ],
   "source": [
    "# Sample run 2  (deterministic example)\n",
    "import pandas as pd\n",
    "locations=['Downtown', 'Airport']\n",
    "initial='Airport'\n",
    "transition_probs={'Downtown':[0,1],'Airport':[1,0]}\n",
    "df_a=df_b=pd.DataFrame([[0,50],[70,0]],index=locations,columns=locations)\n",
    "df_earnings=pd.DataFrame([[0,30],[40,0]],index=locations,columns=locations)\n",
    "t,l,e=driver_movement(locations,initial,transition_probs,df_a,df_b,df_earnings,10,400)\n",
    "print('Time\\tLocation\\tCumulative Earnings')\n",
    "for i in range(len(t)):\n",
    "    print(f'{t[i]}\\t{l[i]:10}\\t{e[i]}')\n",
    "    # The { :10} in f-string formatting is to make the table line up by making sure the output \n",
    "    # is exactly 10 characters. Don't worry about it."
   ]
  },
  {
   "cell_type": "code",
   "execution_count": 16,
   "metadata": {},
   "outputs": [
    {
     "name": "stdout",
     "output_type": "stream",
     "text": [
      "Time\tLocation\tCumulative Earnings\n",
      "0\tSuburb A  \t0\n",
      "25.0\tDowntown  \t18\n",
      "40.0\tSuburb B  \t28\n",
      "80.0\tAirport   \t58\n",
      "130.0\tDowntown  \t98\n",
      "145.0\tSuburb B  \t108\n",
      "185.0\tAirport   \t138\n",
      "235.0\tDowntown  \t178\n",
      "250.0\tSuburb B  \t188\n",
      "290.0\tAirport   \t218\n",
      "340.0\tDowntown  \t258\n"
     ]
    }
   ],
   "source": [
    "# Sample run 3 (deterministic example)\n",
    "import pandas as pd\n",
    "locations=['Downtown','Airport','Suburb A','Suburb B']\n",
    "initial='Suburb A'\n",
    "transition_probs={'Downtown': [0,0,0,1],\\\n",
    "                 'Airport':[1,0,0,0],\\\n",
    "                 'Suburb A':[1,0,0,0],\\\n",
    "                 'Suburb B':[0,1,0,0]}\n",
    "df_a=df_b=pd.DataFrame([[0,30,20,15],\\\n",
    "                       [50,0,60,30],\\\n",
    "                       [25,80,0,50],\\\n",
    "                       [20,40,50,0]],index=locations,columns=locations)\n",
    "df_earnings=pd.DataFrame([[0,20,15,10],\\\n",
    "                         [40,0,50,30],\\\n",
    "                         [18,50,0,30],\\\n",
    "                         [15,30,40,0]],index=locations,columns=locations)\n",
    "t,l,e=driver_movement(locations,initial,transition_probs,df_a,df_b,df_earnings,10,480)\n",
    "print('Time\\tLocation\\tCumulative Earnings')\n",
    "for i in range(len(t)):\n",
    "    print(f'{t[i]}\\t{l[i]:10}\\t{e[i]}')\n",
    "    # The { :10} in f-string formatting is to make the table line up by making sure the output \n",
    "    # is exactly 10 characters. Don't worry about it."
   ]
  },
  {
   "cell_type": "code",
   "execution_count": 17,
   "metadata": {},
   "outputs": [
    {
     "name": "stdout",
     "output_type": "stream",
     "text": [
      "Average earning: \t$157\t\t Std: 20\n",
      "Average end time: \t261 minutes\t Std: 22\n",
      "Proportion of time ending work at airport: 0.40\n"
     ]
    },
    {
     "data": {
      "image/png": "[encoded data removed]",
      "text/plain": [
       "<Figure size 640x480 with 1 Axes>"
      ]
     },
     "metadata": {},
     "output_type": "display_data"
    }
   ],
   "source": [
    "# Sample run 4 (You may have to run this twice for the graph to show; small variations in results are to be expected)\n",
    "import pandas as pd\n",
    "locations=['Downtown', 'Airport']\n",
    "initial='Airport'\n",
    "transition_probs={'Downtown':[0.7,0.3],'Airport':[1,0]}\n",
    "df_a=pd.DataFrame([[10,40],[50,0]],index=locations,columns=locations)\n",
    "df_b=pd.DataFrame([[20,60],[70,0]],index=locations,columns=locations)\n",
    "df_earnings=pd.DataFrame([[7,30],[40,0]],index=locations,columns=locations)\n",
    "earnings=[]\n",
    "last_location=[]\n",
    "last_time=[]\n",
    "for i in range(1000):\n",
    "    t,l,e=driver_movement(locations,initial,transition_probs,df_a,df_b,df_earnings,10,240)\n",
    "    earnings.append(e[-1])\n",
    "    last_location.append(l[-1])\n",
    "    last_time.append(t[-1])\n",
    "    \n",
    "import numpy as np\n",
    "import matplotlib.pyplot as plt\n",
    "pd.Series(last_time).plot(kind='hist', title='Distribution of time finishing work')\n",
    "print(f'Average earning: \\t${np.mean(earnings):.0f}\\t\\t Std: {np.std(earnings):.0f}')\n",
    "print(f'Average end time: \\t{np.mean(last_time):.0f} minutes\\t Std: {np.std(last_time):.0f}')\n",
    "s=pd.Series(last_location).value_counts()\n",
    "print(f\"Proportion of time ending work at airport: {s['Airport']/len(last_location):.2f}\")\n",
    "plt.show()"
   ]
  },
  {
   "cell_type": "code",
   "execution_count": 18,
   "metadata": {},
   "outputs": [
    {
     "name": "stdout",
     "output_type": "stream",
     "text": [
      "Average earning: \t$126\t\t Std: 16\n",
      "Average end time: \t211 minutes\t Std: 23\n"
     ]
    },
    {
     "data": {
      "image/png": "[encoded data removed]",
      "text/plain": [
       "<Figure size 640x480 with 1 Axes>"
      ]
     },
     "metadata": {},
     "output_type": "display_data"
    }
   ],
   "source": [
    "# Sample run 5 (You may have to run this twice for the graph to show; small variations in results are to be expected)\n",
    "import pandas as pd\n",
    "locations=['Downtown','Airport','Suburb A','Suburb B']\n",
    "initial='Suburb A'\n",
    "transition_probs={'Downtown': [0.1,0.2,0.3,0.4],\\\n",
    "                 'Airport':[0.5,0,0.3,0.2],\\\n",
    "                 'Suburb A':[0.4,0.4,0.1,0.1],\\\n",
    "                 'Suburb B':[0.3,0.5,0.2,0]}\n",
    "df_a=pd.DataFrame([[5,30,20,15],\\\n",
    "                   [50,5,60,30],\\\n",
    "                   [25,80,5,50],\\\n",
    "                   [20,40,50,5]],index=locations,columns=locations)\n",
    "df_b=pd.DataFrame([[10,40,30,25],\\\n",
    "                   [60,5,90,60],\\\n",
    "                   [40,100,10,80],\\\n",
    "                   [30,50,80,10]],index=locations,columns=locations)\n",
    "df_earnings=pd.DataFrame([[7,20,15,10],\\\n",
    "                         [40,0,50,30],\\\n",
    "                         [18,50,0,30],\\\n",
    "                         [15,30,40,0]],index=locations,columns=locations)\n",
    "earnings=[]\n",
    "last_location=[]\n",
    "last_time=[]\n",
    "for i in range(1000):\n",
    "    t,l,e=driver_movement(locations,initial,transition_probs,df_a,df_b,df_earnings,10,180)\n",
    "    earnings.append(e[-1])\n",
    "    last_location.append(l[-1])\n",
    "    last_time.append(t[-1])\n",
    "    \n",
    "import numpy as np\n",
    "import matplotlib.pyplot as plt\n",
    "print(f'Average earning: \\t${np.mean(earnings):.0f}\\t\\t Std: {np.std(earnings):.0f}')\n",
    "print(f'Average end time: \\t{np.mean(last_time):.0f} minutes\\t Std: {np.std(last_time):.0f}')\n",
    "pd.Series(last_location).value_counts().plot(kind='bar',title='Distribution of last location')\n",
    "plt.show()"
   ]
  }
 ],
 "metadata": {
  "kernelspec": {
   "display_name": "Python 3",
   "language": "python",
   "name": "python3"
  },
  "language_info": {
   "codemirror_mode": {
    "name": "ipython",
    "version": 3
   },
   "file_extension": ".py",
   "mimetype": "text/x-python",
   "name": "python",
   "nbconvert_exporter": "python",
   "pygments_lexer": "ipython3",
   "version": "3.8.8"
  }
 },
 "nbformat": 4,
 "nbformat_minor": 4
}
