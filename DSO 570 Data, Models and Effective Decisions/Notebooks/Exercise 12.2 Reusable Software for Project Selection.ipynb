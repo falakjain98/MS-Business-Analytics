{
 "cells": [
  {
   "cell_type": "markdown",
   "id": "8e985b7f",
   "metadata": {
    "toc": true
   },
   "source": [
    "<h1>Table of Contents<span class=\"tocSkip\"></span></h1>\n",
    "<div class=\"toc\"><ul class=\"toc-item\"><li><span><a href=\"#Exercise-12.2-Reusable-Software-for-Project-Selection\" data-toc-modified-id=\"Exercise-12.2-Reusable-Software-for-Project-Selection-1\"><span class=\"toc-item-num\">1&nbsp;&nbsp;</span>Exercise 12.2 Reusable Software for Project Selection</a></span></li></ul></div>"
   ]
  },
  {
   "cell_type": "markdown",
   "id": "c7089fa1",
   "metadata": {},
   "source": [
    "## Exercise 12.2 Reusable Software for Project Selection\n",
    "\n",
    "Recall the abstract formulation for the Project Selection problem introduced in Week 8 Session 16. This is also Example 3 from Week 11.\n",
    "\n",
    "**Data:** \n",
    "\n",
    "- $P$: set of projects\n",
    "- $C$: set of conflicts. Each $(p_1, p_2) \\in C$ is a pair of projects that conflicts with one another.\n",
    "- $R$: set of prerequisite pairs. Each $(p_1, p_2) \\in R$ is a pair such that project $p_1$ is a prerequisite to project $p_2$. \n",
    "\n",
    "**Decision Variables:** $x_p$: whether to pursue project $p$. (Binary)\n",
    "\n",
    "**Objective and Constraints:**\n",
    "\n",
    "$$\\begin{aligned}\n",
    "\\text{Maximize} && \\sum_{p \\in P} x_p \\\\\n",
    "\\text{s.t.} && \\\\\n",
    "&& x_{p_1}+x_{p_2} &\\le 1 && \\text{For each conflicting pairs $(p_1,p_2) \\in C$.} \\\\\n",
    "&& x_{p_1} & \\ge x_{p_2} && \\text{For each pair $(p_1,p_2)$ such that $p_1$ is a prereq to $p_2$.}\n",
    "\\end{aligned}$$\n",
    "\n",
    "Write a function called **projectSelection** with two input arguments:\n",
    "\n",
    "- **inputFile**: an Excel file of the same format as the `12-projects-input.xlsx` file attached to this exercise.\n",
    "- **outputFile**: the name of the output file that your function should generate, by obtaining the data from the given input file and solving the above linear optimization model. The format of your output file should match the `12-projects-output.xlsx` file attached to this exercise.\n",
    "\n",
    "Note that the `12-projects-input.xlsx` input file corresponds to the problem instance given in Week 8 Session 16. The set of conflicts corresponds to the edges in the following graph.\n",
    "\n",
    "![Diagram for 9.4](08-Ebony.png)\n",
    "\n",
    "Moreover, project A is a prerequisite to project F, and project B is a prerequisite to project G. However, you should be reading all of these input data from the **inputFile** rather than hard-coding them in."
   ]
  },
  {
   "cell_type": "code",
   "execution_count": 5,
   "id": "09c83cb2",
   "metadata": {},
   "outputs": [],
   "source": [
    "# Write your code here.\n",
    "import pandas as pd\n",
    "import numpy as np\n",
    "from gurobipy import Model, GRB\n",
    "def projectSelection(inputFile, outputFile):\n",
    "    conflicts = pd.read_excel(inputFile, sheet_name = \"Conflicts\")\n",
    "    prereqs = pd.read_excel(inputFile, sheet_name = \"Pre-reqs\", index_col = 0).fillna(0)\n",
    "    P = prereqs.index\n",
    "    C = np.array(conflicts)\n",
    "    mod = Model()\n",
    "    x = mod.addVars(P, vtype = GRB.BINARY, name = 'x')\n",
    "    mod.setObjective(sum(x[p] for p in P), sense = GRB.MAXIMIZE)\n",
    "    for p1, p2 in C:\n",
    "        mod.addConstr(x[p1] + x[p2] <= 1)\n",
    "    for p1 in P:\n",
    "        for p2 in prereqs.columns:\n",
    "            if prereqs.loc[p1, p2] == 1:\n",
    "                mod.addConstr(x[p2] >= x[p1])\n",
    "    mod.setParam(\"OutputFlag\", False)\n",
    "    mod.optimize()\n",
    "    final_projects = pd.DataFrame([p for p in P if x[p].x == 1], columns = [\"Projects to pursue\"])\n",
    "    obj = pd.DataFrame([mod.objVal], columns = [\"Maximum # of Projects\"])\n",
    "    writer = pd.ExcelWriter(outputFile)\n",
    "    final_projects.to_excel(writer, sheet_name = \"selection\", index = False)\n",
    "    obj.to_excel(writer, sheet_name = \"objective\", index = False)\n",
    "    writer.save()\n"
   ]
  },
  {
   "cell_type": "code",
   "execution_count": 6,
   "id": "89d1846c",
   "metadata": {},
   "outputs": [],
   "source": [
    "# Test code\n",
    "projectSelection('12-projects-input.xlsx','12-projects-yourOutput.xlsx')"
   ]
  }
 ],
 "metadata": {
  "kernelspec": {
   "display_name": "Python 3 (ipykernel)",
   "language": "python",
   "name": "python3"
  },
  "language_info": {
   "codemirror_mode": {
    "name": "ipython",
    "version": 3
   },
   "file_extension": ".py",
   "mimetype": "text/x-python",
   "name": "python",
   "nbconvert_exporter": "python",
   "pygments_lexer": "ipython3",
   "version": "3.8.8"
  },
  "toc": {
   "base_numbering": 1,
   "nav_menu": {},
   "number_sections": true,
   "sideBar": true,
   "skip_h1_title": false,
   "title_cell": "Table of Contents",
   "title_sidebar": "Contents",
   "toc_cell": true,
   "toc_position": {},
   "toc_section_display": true,
   "toc_window_display": false
  }
 },
 "nbformat": 4,
 "nbformat_minor": 5
}
