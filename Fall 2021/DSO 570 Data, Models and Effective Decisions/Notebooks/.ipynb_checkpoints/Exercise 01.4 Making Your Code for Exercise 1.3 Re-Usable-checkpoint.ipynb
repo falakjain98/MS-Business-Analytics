{
 "cells": [
  {
   "cell_type": "markdown",
   "metadata": {},
   "source": [
    "## Exercise 1.4. Making your Code for 1.3 Re-Usable\n",
    "\n",
    "**a)** Write a function called `orderQuantity` with two input arguments \n",
    "\n",
    "- **inventory** (default value 0): number of items on hand.\n",
    "- **basestock** (default value 100): the target inventory level.\n",
    "\n",
    "If inventory is at least equal to basestock, then return 0. Otherwise, return how many items you should order to meet the target. Include an appropriate docstring to explain what the function does."
   ]
  },
  {
   "cell_type": "code",
   "execution_count": 1,
   "metadata": {},
   "outputs": [],
   "source": [
    "# Write your code here\n",
    "def orderQuantity(inventory = 0,basestock = 100):\n",
    "    '''\n",
    "    Calculates order quantity given current inventory and basestock level\n",
    "    - inventory: number of items on hand\n",
    "    - basetock: the target inventory level\n",
    "    '''\n",
    "    if inventory >= basestock:\n",
    "        return(0)\n",
    "    else:\n",
    "        return(basestock-inventory)"
   ]
  },
  {
   "cell_type": "code",
   "execution_count": 2,
   "metadata": {},
   "outputs": [
    {
     "name": "stdout",
     "output_type": "stream",
     "text": [
      "Result with no inputs: 100\n",
      "Order 75 when inventory is 25.\n",
      "Order 0 when inventory is 51 and basestock is 50.\n"
     ]
    }
   ],
   "source": [
    "# Code to test your function\n",
    "print('Result with no inputs:', orderQuantity())\n",
    "print(f'Order {orderQuantity(25)} when inventory is 25.')\n",
    "print(f'Order {orderQuantity(51,50)} when inventory is 51 and basestock is 50.')"
   ]
  },
  {
   "cell_type": "code",
   "execution_count": 3,
   "metadata": {},
   "outputs": [
    {
     "data": {
      "text/plain": [
       "200"
      ]
     },
     "execution_count": 3,
     "metadata": {},
     "output_type": "execute_result"
    }
   ],
   "source": [
    "orderQuantity(basestock=200)"
   ]
  },
  {
   "cell_type": "code",
   "execution_count": 4,
   "metadata": {},
   "outputs": [
    {
     "data": {
      "text/plain": [
       "20"
      ]
     },
     "execution_count": 4,
     "metadata": {},
     "output_type": "execute_result"
    }
   ],
   "source": [
    "orderQuantity(inventory=80)"
   ]
  },
  {
   "cell_type": "code",
   "execution_count": 5,
   "metadata": {},
   "outputs": [
    {
     "name": "stdout",
     "output_type": "stream",
     "text": [
      "Help on function orderQuantity in module __main__:\n",
      "\n",
      "orderQuantity(inventory=0, basestock=100)\n",
      "    Calculates order quantity given current inventory and basestock level\n",
      "    - inventory: number of items on hand\n",
      "    - basetock: the target inventory level\n",
      "\n"
     ]
    }
   ],
   "source": [
    "help(orderQuantity)"
   ]
  },
  {
   "cell_type": "markdown",
   "metadata": {},
   "source": [
    "**b)** Write a function called `calculateWage` with three input arguments:\n",
    "\n",
    "- **hours**: the number of hours worked.\n",
    "- **base** (default value 10): the pay for each of the first 40 hours worked.\n",
    "- **bonus** (default value 0.5): the proportional bonus for each hour worked above 40.\n",
    "\n",
    "The function should return the total pay."
   ]
  },
  {
   "cell_type": "code",
   "execution_count": 6,
   "metadata": {},
   "outputs": [],
   "source": [
    "# Write your code here\n",
    "def calculateWage(hours,base=10,bonus=0.5):\n",
    "    if hours <= 40:\n",
    "        return(hours*base)\n",
    "    else:\n",
    "        return(40*base+(hours-40)*(base*(1+bonus)))"
   ]
  },
  {
   "cell_type": "code",
   "execution_count": 7,
   "metadata": {},
   "outputs": [
    {
     "name": "stdout",
     "output_type": "stream",
     "text": [
      "Pay for 42 hours with default base and bonus: 430.0\n",
      "Pay for 42 hours with base 12/hour and default bonus: 516.0\n",
      "Pay for 42 hours with base 12/hour and bonus 60%: 518.4\n",
      "Pay for 42 hours with default base and bonus 60%: 432.0\n"
     ]
    }
   ],
   "source": [
    "# Testing code\n",
    "print('Pay for 42 hours with default base and bonus:',calculateWage(42))\n",
    "print('Pay for 42 hours with base 12/hour and default bonus:',calculateWage(42,12))\n",
    "print('Pay for 42 hours with base 12/hour and bonus 60%:', calculateWage(42,12,.6))\n",
    "print('Pay for 42 hours with default base and bonus 60%:',calculateWage(42,bonus=0.6))"
   ]
  },
  {
   "cell_type": "markdown",
   "metadata": {},
   "source": [
    "**c)** Write a function called `letterGrade` with one input argument:\n",
    "\n",
    "- **score**: the numerical score.\n",
    "\n",
    "The function should return a string denoting the letter grade."
   ]
  },
  {
   "cell_type": "code",
   "execution_count": 8,
   "metadata": {},
   "outputs": [],
   "source": [
    "# Write your code here\n",
    "def letterGrade(score):\n",
    "    if score >= 90:\n",
    "        grade = 'A'\n",
    "    elif score >= 80 and score < 90:\n",
    "        grade = 'B'\n",
    "    elif score >= 70 and score < 80:\n",
    "        grade = 'C'\n",
    "    elif score >= 60 and score <70:\n",
    "        grade = 'D'\n",
    "    else:\n",
    "        grade = 'F'\n",
    "    return(grade)"
   ]
  },
  {
   "cell_type": "code",
   "execution_count": 9,
   "metadata": {},
   "outputs": [
    {
     "name": "stdout",
     "output_type": "stream",
     "text": [
      "Grade corresponding to 95 is A.\n",
      "Grade corresponding to 80 is B.\n",
      "Grade corresponding to 60 is D.\n"
     ]
    }
   ],
   "source": [
    "# Code to test \n",
    "print(f'Grade corresponding to 95 is {letterGrade(95)}.')\n",
    "print(f'Grade corresponding to 80 is {letterGrade(80)}.')\n",
    "print(f'Grade corresponding to 60 is {letterGrade(60)}.')"
   ]
  },
  {
   "cell_type": "code",
   "execution_count": null,
   "metadata": {},
   "outputs": [],
   "source": []
  }
 ],
 "metadata": {
  "kernelspec": {
   "display_name": "Python 3",
   "language": "python",
   "name": "python3"
  },
  "language_info": {
   "codemirror_mode": {
    "name": "ipython",
    "version": 3
   },
   "file_extension": ".py",
   "mimetype": "text/x-python",
   "name": "python",
   "nbconvert_exporter": "python",
   "pygments_lexer": "ipython3",
   "version": "3.8.8"
  }
 },
 "nbformat": 4,
 "nbformat_minor": 4
}
