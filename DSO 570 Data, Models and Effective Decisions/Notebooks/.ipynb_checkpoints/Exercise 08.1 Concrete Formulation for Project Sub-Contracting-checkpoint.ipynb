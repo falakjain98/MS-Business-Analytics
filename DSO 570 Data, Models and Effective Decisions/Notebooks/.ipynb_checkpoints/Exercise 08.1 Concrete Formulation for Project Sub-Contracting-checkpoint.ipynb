{
 "cells": [
  {
   "cell_type": "markdown",
   "metadata": {},
   "source": [
    "## Exercise 8.1: Concrete Formulation for Project Sub-Contracting\n",
    "\n",
    "Write a linear optimization formulation of the following problem and typeset it in Latex.\n",
    "\n",
    "Tom Burke, owner of Burke Construction, has promised to complete five projects this winter. Burke Construction has 10 workers that will work 40 hours a week for 12 weeks this winter. Since this is a limited workforce, Tom knows that he will not be able to complete all of his construction projects without subcontracting some of them. In the table below, he has estimated the amount of labor hours required by each project, and the profit to his company. (All profits are in thousands of dollars.)\n",
    "\n",
    "| Project | 1 | 2 | 3 | 4 | 5 |\n",
    "|--|--|--|--|--|--|\n",
    "| Labor hours required | 1300 | 950 | 1000 | 1400 | 1600 |\n",
    "| Profit (if done by own company) | 30 | 10 | 26 | 18 | 20 |\n",
    "| Profit (if subcontracted) | 6 | 2 | 8 | 9 | 4 |\n",
    "\n",
    "To maximize profit, which jobs should Tom schedule for his company, and which should be subcontracted? (Assume that projects cannot be partially subcontracted; that is, a project will be completed entirely by either Burke Construction or the subcontractor.) "
   ]
  },
  {
   "cell_type": "markdown",
   "metadata": {},
   "source": [
    "### Concrete Formulation\n",
    "\n",
    "**Decision variable:**\n",
    "\n",
    "\n",
    "\n",
    "**Objective:**\n",
    "\n",
    "\n",
    "\n",
    "\n",
    "**Constraints:**\n",
    "\n",
    "\n",
    "\n"
   ]
  },
  {
   "cell_type": "markdown",
   "metadata": {},
   "source": [
    "**Decision Variable:**\n",
    "- $X_1$: Whether Project 1 should be done by self or sub-contracted. (Binary)\n",
    "- $X_2$: Whether Project 2 should be done by self or sub-contracted. (Binary)\n",
    "- $X_3$: Whether Project 3 should be done by self or sub-contracted. (Binary)\n",
    "- $X_4$: Whether Project 4 should be done by self or sub-contracted. (Binary)\n",
    "- $X_5$: Whether Project 5 should be done by self or sub-contracted. (Binary)\n",
    "\n",
    "**Objective:**\n",
    "$$\\text{Maximize:} \\qquad 0.1X+0.13Y$$\n",
    "\n",
    "**Constraints:**\n",
    "$$\\begin{aligned}\n",
    "\\text{(Steel)} && 1.5X+Y & \\le 27000 \\\\\n",
    "\\text{(Molding Machine)} && X+Y & \\le 21000 \\\\\n",
    "\\text{(Assembly Machine)} && 0.3X+0.5Y & \\le 9000 \\\\\n",
    "\\text{(Wrench Demand)} && X & \\le 16000 \\\\\n",
    "\\text{(Plier Demand)} && Y & \\le 15000 \\\\\n",
    "\\text{(Non-negativity)}&& X,Y & \\ge 0 \\\\\n",
    "\\end{aligned}$$"
   ]
  }
 ],
 "metadata": {
  "kernelspec": {
   "display_name": "Python 3 (ipykernel)",
   "language": "python",
   "name": "python3"
  },
  "language_info": {
   "codemirror_mode": {
    "name": "ipython",
    "version": 3
   },
   "file_extension": ".py",
   "mimetype": "text/x-python",
   "name": "python",
   "nbconvert_exporter": "python",
   "pygments_lexer": "ipython3",
   "version": "3.8.8"
  }
 },
 "nbformat": 4,
 "nbformat_minor": 4
}
