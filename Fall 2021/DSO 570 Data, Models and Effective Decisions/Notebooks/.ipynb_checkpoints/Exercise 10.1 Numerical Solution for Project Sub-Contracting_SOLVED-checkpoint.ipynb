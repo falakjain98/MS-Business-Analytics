{
 "cells": [
  {
   "cell_type": "markdown",
   "id": "4425a764",
   "metadata": {},
   "source": [
    "## Exercise 10.1 Numerical Solution for Project Sub-Contracting\n",
    "\n",
    "Follow the example in the handout to incrementally produce a version of the Gurobi code that does not hard-code in numbers but obtain them from appropriate data structures.\n",
    "\n",
    "**Decision variable:**\n",
    "\n",
    "- Let $x_i$ denote whether to schedule job $i$ for own company. (Binary)\n",
    "- Let $y_i$ denote whether to subcontract job $i$. (Binary)\n",
    "\n",
    "**Objective:**\n",
    "\n",
    "$$\\text{Maximize:} \\qquad 30x_1+10x_2+26x_3+18x_4+20x_5+6y_1 +2y_2+8y_3+9y_4+4y_5 $$\n",
    "\n",
    "\n",
    "**Constraints:**\n",
    "\n",
    "$$\\begin{aligned}\n",
    "\\text{(Labor)} && 1300x_1+950x_2+1000x_3+1400x_4+1600x_5 & \\le 4800 \\\\\n",
    "\\text{(Doing every project)} && x_1 + y_1 & = 1 \\\\\n",
    "&& x_2 + y_2 & = 1 \\\\\n",
    "&& x_3 + y_3 & = 1 \\\\\n",
    "&& x_4 + y_4 & = 1 \\\\\n",
    "&& x_5 + y_5 & = 1 \\\\\n",
    "\\end{aligned}$$\n"
   ]
  },
  {
   "cell_type": "markdown",
   "id": "1b0efafb",
   "metadata": {},
   "source": [
    "### Version 1: Hard-coding in everything\n",
    "\n",
    "For comparison purposes, write a version of the code that hard-codes in everything, similar to version 1 of the previous example. Remember to set the sense in the objective to GRB.MAXIMIZE."
   ]
  },
  {
   "cell_type": "code",
   "execution_count": 1,
   "id": "7fc153ba",
   "metadata": {},
   "outputs": [
    {
     "name": "stdout",
     "output_type": "stream",
     "text": [
      "Academic license - for non-commercial use only - expires 2022-10-02\n",
      "Using license file C:\\Users\\jainf\\gurobi.lic\n",
      "Optimal objective: 88.0\n",
      "Optimal solution: x1=1.0, x2=1.0, x3=1.0, x4=1.0, x5=0.0\n"
     ]
    }
   ],
   "source": [
    "# Write your code here\n",
    "from gurobipy import Model, GRB\n",
    "mod=Model()\n",
    "x1=mod.addVar(vtype=GRB.BINARY)\n",
    "x2=mod.addVar(vtype=GRB.BINARY)\n",
    "x3=mod.addVar(vtype=GRB.BINARY)\n",
    "x4=mod.addVar(vtype=GRB.BINARY)\n",
    "x5=mod.addVar(vtype=GRB.BINARY)\n",
    "y1=mod.addVar(vtype=GRB.BINARY)\n",
    "y2=mod.addVar(vtype=GRB.BINARY)\n",
    "y3=mod.addVar(vtype=GRB.BINARY)\n",
    "y4=mod.addVar(vtype=GRB.BINARY)\n",
    "y5=mod.addVar(vtype=GRB.BINARY)\n",
    "mod.setObjective(30*x1+10*x2+26*x3+18*x4+20*x5+6*y1+2*y2+8*y3+9*y4+4*y5,sense = GRB.MAXIMIZE)\n",
    "mod.addConstr(1300*x1+950*x2+1000*x3+1400*x4+1600*x5<=4800)\n",
    "mod.addConstr(x1+y1==1)\n",
    "mod.addConstr(x2+y2==1)\n",
    "mod.addConstr(x3+y3==1)\n",
    "mod.addConstr(x4+y4==1)\n",
    "mod.addConstr(x5+y5==1)\n",
    "mod.setParam('OutputFlag',False)\n",
    "mod.optimize()\n",
    "print('Optimal objective:',mod.objVal)\n",
    "print(f'Optimal solution: x1={x1.x}, x2={x2.x}, x3={x3.x}, x4={x4.x}, x5={x5.x}')"
   ]
  },
  {
   "cell_type": "code",
   "execution_count": 2,
   "id": "1686373b",
   "metadata": {},
   "outputs": [],
   "source": [
    "# Sample output"
   ]
  },
  {
   "cell_type": "markdown",
   "id": "50fb3f84",
   "metadata": {},
   "source": [
    "### Version 2: Using addVars to create multiple variables at once\n",
    "\n",
    "Using addVars, generate all of the x's using one command, and all of the y's using one command. Also, make the optimal solution easier to read, as in the output below."
   ]
  },
  {
   "cell_type": "code",
   "execution_count": 3,
   "id": "d229d5ee",
   "metadata": {},
   "outputs": [
    {
     "name": "stdout",
     "output_type": "stream",
     "text": [
      "Optimal objective: 88.0\n",
      "Optimal solution: do projects 1 2 3 4 yourself\n"
     ]
    }
   ],
   "source": [
    "# Write your code here\n",
    "# Write your code here\n",
    "from gurobipy import Model, GRB\n",
    "mod=Model()\n",
    "jobs = range(1,6)\n",
    "x=mod.addVars(jobs, vtype=GRB.BINARY)\n",
    "y=mod.addVars(jobs, vtype=GRB.BINARY)\n",
    "mod.setObjective(30*x[1]+10*x[2]+26*x[3]+18*x[4]+20*x[5]+6*y[1]+2*y[2]+8*y[3]+9*y[4]+4*y[5],sense = GRB.MAXIMIZE)\n",
    "mod.addConstr(1300*x[1]+950*x[2]+1000*x[3]+1400*x[4]+1600*x[5]<=4800)\n",
    "mod.addConstr(x[1]+y[1]==1)\n",
    "mod.addConstr(x[2]+y[2]==1)\n",
    "mod.addConstr(x[3]+y[3]==1)\n",
    "mod.addConstr(x[4]+y[4]==1)\n",
    "mod.addConstr(x[5]+y[5]==1)\n",
    "mod.setParam('OutputFlag',False)\n",
    "mod.optimize()\n",
    "print('Optimal objective:',mod.objVal)\n",
    "print('Optimal solution: do projects ',end='')\n",
    "for j in jobs:\n",
    "    if x[j].x==1:\n",
    "        print(j, end=' ')\n",
    "print('yourself')"
   ]
  },
  {
   "cell_type": "code",
   "execution_count": 2,
   "id": "6924cbf8",
   "metadata": {},
   "outputs": [
    {
     "name": "stdout",
     "output_type": "stream",
     "text": [
      "Optimal objective: 88.0\n",
      "Optimal solution: do projects 1 2 3 4 yourself\n"
     ]
    }
   ],
   "source": [
    "# Sample output"
   ]
  },
  {
   "cell_type": "markdown",
   "id": "9fcd21ac",
   "metadata": {},
   "source": [
    "### Version 3 and 4:  Using list comprehension and for loops\n",
    "\n",
    "Instead of hard-coding in the numbers, obtain them from the following data structures. Moreover, use list comprehension to generate the large sums, and for loops to generate the repetitive constraints. Build up the formulation part by part and double in the end check by making Gurobi display the entire concrete formulation."
   ]
  },
  {
   "cell_type": "code",
   "execution_count": 4,
   "id": "db612ab6",
   "metadata": {},
   "outputs": [
    {
     "data": {
      "text/html": [
       "<div>\n",
       "<style scoped>\n",
       "    .dataframe tbody tr th:only-of-type {\n",
       "        vertical-align: middle;\n",
       "    }\n",
       "\n",
       "    .dataframe tbody tr th {\n",
       "        vertical-align: top;\n",
       "    }\n",
       "\n",
       "    .dataframe thead th {\n",
       "        text-align: right;\n",
       "    }\n",
       "</style>\n",
       "<table border=\"1\" class=\"dataframe\">\n",
       "  <thead>\n",
       "    <tr style=\"text-align: right;\">\n",
       "      <th></th>\n",
       "      <th>1</th>\n",
       "      <th>2</th>\n",
       "      <th>3</th>\n",
       "      <th>4</th>\n",
       "      <th>5</th>\n",
       "    </tr>\n",
       "  </thead>\n",
       "  <tbody>\n",
       "    <tr>\n",
       "      <th>Yourself</th>\n",
       "      <td>30</td>\n",
       "      <td>10</td>\n",
       "      <td>26</td>\n",
       "      <td>18</td>\n",
       "      <td>20</td>\n",
       "    </tr>\n",
       "    <tr>\n",
       "      <th>Subcontract</th>\n",
       "      <td>6</td>\n",
       "      <td>2</td>\n",
       "      <td>8</td>\n",
       "      <td>9</td>\n",
       "      <td>4</td>\n",
       "    </tr>\n",
       "  </tbody>\n",
       "</table>\n",
       "</div>"
      ],
      "text/plain": [
       "              1   2   3   4   5\n",
       "Yourself     30  10  26  18  20\n",
       "Subcontract   6   2   8   9   4"
      ]
     },
     "execution_count": 4,
     "metadata": {},
     "output_type": "execute_result"
    }
   ],
   "source": [
    "import pandas as pd\n",
    "projects=range(1,6)\n",
    "ownLabor=4800\n",
    "profit=pd.DataFrame([[30,10,26,18,20],[6,2,8,9,4]], \\\n",
    "                    index=['Yourself','Subcontract'], columns=projects)\n",
    "profit"
   ]
  },
  {
   "cell_type": "code",
   "execution_count": 5,
   "id": "da2e2684",
   "metadata": {},
   "outputs": [
    {
     "data": {
      "text/plain": [
       "1    1300\n",
       "2     950\n",
       "3    1000\n",
       "4    1400\n",
       "5    1600\n",
       "dtype: int64"
      ]
     },
     "execution_count": 5,
     "metadata": {},
     "output_type": "execute_result"
    }
   ],
   "source": [
    "laborRequired=pd.Series([1300,950,1000,1400,1600],index=projects)\n",
    "laborRequired"
   ]
  },
  {
   "cell_type": "code",
   "execution_count": 6,
   "id": "ffd29e7a",
   "metadata": {},
   "outputs": [
    {
     "data": {
      "text/plain": [
       "<gurobi.LinExpr: 30.0 x[1] + 10.0 x[2] + 26.0 x[3] + 18.0 x[4] + 20.0 x[5] + 6.0 y[1] + 2.0 y[2] + 8.0 y[3] + 9.0 y[4] + 4.0 y[5]>"
      ]
     },
     "execution_count": 6,
     "metadata": {},
     "output_type": "execute_result"
    }
   ],
   "source": [
    "# Objective function (Write your code here)\n",
    "from gurobipy import Model, GRB\n",
    "mod=Model()\n",
    "jobs = range(1,6)\n",
    "x=mod.addVars(jobs, vtype=GRB.BINARY, name='x')\n",
    "y=mod.addVars(jobs, vtype=GRB.BINARY, name='y')\n",
    "mod.update()\n",
    "sum(i*x[j] for i,j in zip(profit.iloc[0],jobs)) + sum(i*y[j] for i,j in zip(profit.iloc[1],jobs))\n",
    "\n"
   ]
  },
  {
   "cell_type": "code",
   "execution_count": 5,
   "id": "68ded1ff",
   "metadata": {},
   "outputs": [
    {
     "data": {
      "text/plain": [
       "<gurobi.LinExpr: 30.0 x[1] + 6.0 y[1] + 10.0 x[2] + 2.0 y[2] + 26.0 x[3] + 8.0 y[3] + 18.0 x[4] + 9.0 y[4] + 20.0 x[5] + 4.0 y[5]>"
      ]
     },
     "execution_count": 5,
     "metadata": {},
     "output_type": "execute_result"
    }
   ],
   "source": [
    "# Sample output"
   ]
  },
  {
   "cell_type": "code",
   "execution_count": 7,
   "id": "91927bce",
   "metadata": {},
   "outputs": [
    {
     "data": {
      "text/plain": [
       "<gurobi.TempConstr: <gurobi.LinExpr: 1300.0 x[1] + 950.0 x[2] + 1000.0 x[3] + 1400.0 x[4] + 1600.0 x[5]> <= 4800>"
      ]
     },
     "execution_count": 7,
     "metadata": {},
     "output_type": "execute_result"
    }
   ],
   "source": [
    "# Labor constraint (Write your code here)\n",
    "sum(b*x[j] for b,j in zip(laborRequired,jobs))<=4800"
   ]
  },
  {
   "cell_type": "code",
   "execution_count": 6,
   "id": "66d5cdd6",
   "metadata": {},
   "outputs": [
    {
     "data": {
      "text/plain": [
       "<gurobi.TempConstr: <gurobi.LinExpr: 1300.0 x[1] + 950.0 x[2] + 1000.0 x[3] + 1400.0 x[4] + 1600.0 x[5]> <= 4800>"
      ]
     },
     "execution_count": 6,
     "metadata": {},
     "output_type": "execute_result"
    }
   ],
   "source": [
    "# Sample output"
   ]
  },
  {
   "cell_type": "code",
   "execution_count": 8,
   "id": "ada6a4c9",
   "metadata": {},
   "outputs": [
    {
     "name": "stdout",
     "output_type": "stream",
     "text": [
      "\\ LP format - for model browsing. Use MPS format to capture full model detail.\n",
      "Maximize\n",
      "  30 x[1] + 10 x[2] + 26 x[3] + 18 x[4] + 20 x[5] + 6 y[1] + 2 y[2] + 8 y[3]\n",
      "   + 9 y[4] + 4 y[5]\n",
      "Subject To\n",
      " Labor: 1300 x[1] + 950 x[2] + 1000 x[3] + 1400 x[4] + 1600 x[5] <= 4800\n",
      " Project_1: x[1] + y[1] = 1\n",
      " Project_2: x[2] + y[2] = 1\n",
      " Project_3: x[3] + y[3] = 1\n",
      " Project_4: x[4] + y[4] = 1\n",
      " Project_5: x[5] + y[5] = 1\n",
      "Bounds\n",
      "Binaries\n",
      " x[1] x[2] x[3] x[4] x[5] y[1] y[2] y[3] y[4] y[5]\n",
      "End\n"
     ]
    }
   ],
   "source": [
    "# Entire formulation (Write your code here)\n",
    "from gurobipy import Model, GRB\n",
    "mod=Model()\n",
    "jobs = range(1,6)\n",
    "x=mod.addVars(jobs, vtype=GRB.BINARY, name='x')\n",
    "y=mod.addVars(jobs, vtype=GRB.BINARY, name='y')\n",
    "mod.update()\n",
    "mod.setObjective(sum(i*x[j] for i,j in zip(profit.iloc[0],jobs)) + sum(i*y[j] for i,j in zip(profit.iloc[1],jobs)),sense = GRB.MAXIMIZE)\n",
    "mod.addConstr(sum(b*x[j] for b,j in zip(laborRequired,jobs))<=4800,name='Labor')\n",
    "for j in jobs:\n",
    "    mod.addConstr(x[j]+y[j]==1,name=f'Project_{j}')\n",
    "mod.write('10-books.lp')\n",
    "!type 10-books.lp"
   ]
  },
  {
   "cell_type": "code",
   "execution_count": 7,
   "id": "2c089846",
   "metadata": {},
   "outputs": [
    {
     "name": "stdout",
     "output_type": "stream",
     "text": [
      "\\ LP format - for model browsing. Use MPS format to capture full model detail.\r\n",
      "Maximize\r\n",
      "  30 x[1] + 10 x[2] + 26 x[3] + 18 x[4] + 20 x[5] + 6 y[1] + 2 y[2] + 8 y[3]\r\n",
      "   + 9 y[4] + 4 y[5]\r\n",
      "Subject To\r\n",
      " Labor: 1300 x[1] + 950 x[2] + 1000 x[3] + 1400 x[4] + 1600 x[5] <= 4800\r\n",
      " Project_1: x[1] + y[1] = 1\r\n",
      " Project_2: x[2] + y[2] = 1\r\n",
      " Project_3: x[3] + y[3] = 1\r\n",
      " Project_4: x[4] + y[4] = 1\r\n",
      " Project_5: x[5] + y[5] = 1\r\n",
      "Bounds\r\n",
      "Binaries\r\n",
      " x[1] x[2] x[3] x[4] x[5] y[1] y[2] y[3] y[4] y[5]\r\n",
      "End\r\n"
     ]
    }
   ],
   "source": [
    "# Sample output"
   ]
  },
  {
   "cell_type": "markdown",
   "id": "36e9f827",
   "metadata": {},
   "source": [
    "### Final code\n",
    "\n",
    "Use the final version of your formulation to produce the following output."
   ]
  },
  {
   "cell_type": "code",
   "execution_count": 9,
   "id": "93bb8748",
   "metadata": {},
   "outputs": [
    {
     "name": "stdout",
     "output_type": "stream",
     "text": [
      "Optimal objective: 88.0\n",
      "Optimal solution: do projects 1 2 3 4 yourself\n"
     ]
    }
   ],
   "source": [
    "# Write your code here\n",
    "from gurobipy import Model, GRB\n",
    "mod=Model()\n",
    "jobs = range(1,6)\n",
    "x=mod.addVars(jobs, vtype=GRB.BINARY, name='x')\n",
    "y=mod.addVars(jobs, vtype=GRB.BINARY, name='y')\n",
    "mod.setObjective(sum(i*x[j] for i,j in zip(profit.iloc[0],jobs)) + sum(i*y[j] for i,j in zip(profit.iloc[1],jobs)),sense = GRB.MAXIMIZE)\n",
    "mod.addConstr(sum(b*x[j] for b,j in zip(laborRequired,jobs))<=4800,name='Labor')\n",
    "for j in jobs:\n",
    "    mod.addConstr(x[j]+y[j]==1,name=f'Project_{j}')\n",
    "mod.setParam('OutputFlag',False)\n",
    "mod.optimize()\n",
    "print('Optimal objective:',mod.objVal)\n",
    "print('Optimal solution: do projects ',end='')\n",
    "for j in jobs:\n",
    "    if x[j].x==1:\n",
    "        print(j, end=' ')\n",
    "print('yourself')"
   ]
  },
  {
   "cell_type": "code",
   "execution_count": 8,
   "id": "4ddd1025",
   "metadata": {},
   "outputs": [
    {
     "name": "stdout",
     "output_type": "stream",
     "text": [
      "Optimal objective: 88.0\n",
      "Optimal solution: do projects 1 2 3 4 yourself\n"
     ]
    }
   ],
   "source": [
    "# Sample output"
   ]
  }
 ],
 "metadata": {
  "kernelspec": {
   "display_name": "Python 3 (ipykernel)",
   "language": "python",
   "name": "python3"
  },
  "language_info": {
   "codemirror_mode": {
    "name": "ipython",
    "version": 3
   },
   "file_extension": ".py",
   "mimetype": "text/x-python",
   "name": "python",
   "nbconvert_exporter": "python",
   "pygments_lexer": "ipython3",
   "version": "3.8.8"
  }
 },
 "nbformat": 4,
 "nbformat_minor": 5
}
