{
 "cells": [
  {
   "cell_type": "markdown",
   "metadata": {},
   "source": [
    "## Exercise 8.3 Concrete Formulation for Warehouse Planning\n",
    "\n",
    "Write the concrete formulation for the following problem, following the English Description from the in-class exercise.\n",
    "\n",
    "The following table provides the shipping cost for one-pound packages, from 7 of Amazon’s fulfillment centers (FC) to 4 regions. \n",
    "\n",
    "| Region  | 1 | 2 | 3 | 4 | 5 | 6 | 7 |\n",
    "|--|--|--|--|--|--|--|--|\n",
    "| A. Kings County, NY | 20.25 | 7.70 | 24.59 | 23.26 | 7.69 | 7.70 | 7.69 |\n",
    "| B. Los Angeles County, CA | 18.43 | 23.30 | 7.69 | 7.69 | 24.16 | 22.12 | 24.91 |\n",
    "| C. King County, WA | 21.28 | 24.18 | 7.70 | 17.67 | 23.91 | 22.98 | 24.57 |\n",
    "| D. Harris County, TX | 7.69 | 7.70 | 18.73 | 7.71 | 18.79 | 7.70 | 19.47 |\n",
    "\n",
    "A shipping cost of $10 or less indicates that the package will be transported via ground shipping; otherwise, it will be transported via air shipping. \n",
    "\n",
    "For a certain item that weights a pound, Amazon would like to stock it in as few FCs as possible, while guaranteeing that it can fulfill demand in all 4 regions via ground shipping. Moreover, \n",
    "\n",
    "- the item must be stocked in at least one of FCs 5 or 7;\n",
    "- the item cannot be stocked in FC 4 unless it is also stocked in FC 1; \n",
    "- if the item is stocked in FC 2, then it cannot also be stocked in FC 3. \n",
    "\n",
    "Formulate a linear optimization problem to find the minimum number of FCs needed. "
   ]
  },
  {
   "cell_type": "markdown",
   "metadata": {},
   "source": [
    "## Concrete Formulation\n",
    "\n",
    "**Decision Variable:**\n",
    "- $X_i$: Whether to stock units in Fulfillment Center i or not. (Binary)\n",
    "\n",
    "**Objective:**\n",
    "$$\\text{Minimize:} \\qquad X_1 + X_2 + X_3 + X_4 + X_5 + X_6 + X_7$$\n",
    "\n",
    "**Constraints:**\n",
    "$$\\begin{aligned}\n",
    "\\text{(Region A)} && X_2 + X_5 + X_6 + X_7 & \\ge 1 \\\\\n",
    "\\text{(Region B)} && X_3 + X_4 & \\ge 1 \\\\\n",
    "\\text{(Region C)} && X_3 & \\ge 1 \\\\\n",
    "\\text{(Region D)} && X_1 + X_2 + X_4 + X_6 & \\ge 1 \\\\\n",
    "\\text{(FC 1 & 4)} && X_1 & \\ge X_4\\\\\n",
    "\\text{(FC 2 & 3)} && X_2 + X_3 & \\le 1 \\\\\n",
    "\\text{(FC 5 & 7)} && X_5 + X_7 & \\ge 1 \\\\\n",
    "\\end{aligned}$$"
   ]
  }
 ],
 "metadata": {
  "kernelspec": {
   "display_name": "Python 3 (ipykernel)",
   "language": "python",
   "name": "python3"
  },
  "language_info": {
   "codemirror_mode": {
    "name": "ipython",
    "version": 3
   },
   "file_extension": ".py",
   "mimetype": "text/x-python",
   "name": "python",
   "nbconvert_exporter": "python",
   "pygments_lexer": "ipython3",
   "version": "3.8.8"
  }
 },
 "nbformat": 4,
 "nbformat_minor": 4
}
