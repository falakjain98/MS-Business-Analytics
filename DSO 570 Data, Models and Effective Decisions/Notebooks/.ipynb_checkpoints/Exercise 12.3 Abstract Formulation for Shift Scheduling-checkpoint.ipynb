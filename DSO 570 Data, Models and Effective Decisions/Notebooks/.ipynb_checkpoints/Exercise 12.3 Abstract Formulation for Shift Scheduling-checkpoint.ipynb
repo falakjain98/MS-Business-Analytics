{
 "cells": [
  {
   "cell_type": "markdown",
   "id": "50048c19",
   "metadata": {},
   "source": [
    "## Exercise 12.3 Abstract Formulation for Shift Scheduling\n",
    "\n",
    "Write an abstract formulation for the problem described in the handout. To help you get started, below are some data variables that may be helpful. You don't have to use these and you can add other ones as you see fit.\n",
    "\n",
    "**Data:**\n",
    "\n",
    "- $I$: the set of nurses.\n",
    "- $n$: the number of days being scheduled.\n",
    "- $J$: set of shifts, $J=\\{0,1,2,\\cdots, 3n-1\\}$.\n",
    "- $J_{night}$: set of night shifts, $J_{night} = \\{2,5,\\cdots, 3n-1\\}$.\n",
    "- $p_{ij}$: the preference score of person $i$ for shift $j$. \n",
    "- $q_j$: the number of nurses needed for shift $j \\in J$.\n",
    "- $k$: the inequality parameter in the fairness constraint.\n",
    "\n",
    "**Decision Variables:**\n",
    "- $x_{ij}$: Payment made in month i to card j (Continuous)\n",
    "\n",
    "**Objective:**\n",
    "$$\\text{Minimize: } \\sum_{i \\in I, j \\in J} x_{ij}$$\n",
    "\n",
    "**Constraints:**\n",
    "$$\\begin{aligned}\n",
    "\\text{(Shift Requirement)} && \\sum_{i \\in I} x_{ij} & \\le q_j \\text{ For all } j \\in J\\\\\n",
    "\\text{(No Consecutive Shifts)} && x_{ij} + x_{i(j+1)} & \\le 1 \\text{ For all } i \\in I, j \\in {0,1,...,3n-2}\\\\\n",
    "\\text{(Rest Before Night Shift)} && x_{ij} + x_{i(j-2)} & \\le 1 \\text{ For all } i \\in I,j \\in J_{night}\\\\\n",
    "\\text{(Rest After Night Shift)} && x_{ij} + x_{i(j+2)} & \\le 1 \\text{ For all } i \\in I,j \\in {2,5,...,3n-4}\\\\\n",
    "\\text{(Work Preference)} && x_{ij} & \\le p_{ij} \\text{ For all } i \\in I,j \\in J\\\\\n",
    "\\text{(Fairness)} && L \\le \\sum_{j \\in J} x_{ij} & \\le L + k \\text{ For all } i \\in I\\\\\n",
    "&& L \\ge 0\\\\\n",
    "\\end{aligned}$$\n"
   ]
  }
 ],
 "metadata": {
  "kernelspec": {
   "display_name": "Python 3 (ipykernel)",
   "language": "python",
   "name": "python3"
  },
  "language_info": {
   "codemirror_mode": {
    "name": "ipython",
    "version": 3
   },
   "file_extension": ".py",
   "mimetype": "text/x-python",
   "name": "python",
   "nbconvert_exporter": "python",
   "pygments_lexer": "ipython3",
   "version": "3.8.8"
  }
 },
 "nbformat": 4,
 "nbformat_minor": 5
}
