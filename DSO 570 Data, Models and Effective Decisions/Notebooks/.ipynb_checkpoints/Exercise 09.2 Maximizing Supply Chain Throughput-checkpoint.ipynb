{
 "cells": [
  {
   "cell_type": "markdown",
   "id": "e80e306e",
   "metadata": {},
   "source": [
    "## Exercise 9.2: Maximizing Supply Chain Throughput \n",
    "\n",
    "A company manufactures a type of heavy machinery in city A and would like to determine the fastest rate at which it can deliver machines to customers in city D. (Rate, or throughput, is measured in the average number of machines delivered per day.) The bottleneck is that the company must use a special type of truck to ship the machine, and a limited number of these trucks travel between two adjacent cities each day. Each truck can carry only one machine at a time, and each truck only makes trips between two specified cities and will not go anywhere else. The following figure shows which cities are adjacent and how many trucks travel between each pair of adjacent cities in either directions each day.\n",
    "\n",
    "![Network for Q2](09-Roads.png)"
   ]
  },
  {
   "cell_type": "markdown",
   "id": "f4698222",
   "metadata": {},
   "source": [
    "For example, 8 trucks travel from A to B per day, and all 8 return from B to A on the same day. Since a truck can bear load when travelling in either directions, the rate at which machines travel between A and B is at most 8 per day in either directions. Machines that arrive at city B must be immediately unloaded from the truck it came from (as the truck is going back to city A); later on, that machine can be loaded unto other trucks that travel for example to city C or D. Because all the demand are in city D, the rate at which machines arrive into city B must equal the rate at which machines leave city B, and similarly for city C. \n",
    "\n",
    "**i) Formulate a linear optimization model to determine the fastest rate at which the company can satisfy demand in city D.** The formulation may assume the network structure above, but it must continue to work if any combination of numbers are changed."
   ]
  },
  {
   "cell_type": "markdown",
   "id": "0efdf9df",
   "metadata": {},
   "source": [
    "**Decision Variable:**\n",
    "- $X_{ij}$: Number of machines delivered from i to j (integer)\n",
    "\n",
    "**Objective:**\n",
    "$$\\text{Maximize:} \\qquad X_{cd} + X_{bd}$$\n",
    "\n",
    "**Constraints:**\n",
    "$$\\begin{aligned}\n",
    "\\text{(City B)} && X_{ab} + X_{cb} & = X_{bc} + X_{bd} \\\\\n",
    "\\text{(City C)} && X_{ac} + X_{bc} & = X_{cb} + X_{cd} \\\\\n",
    "\\text{(Route AB)} && X_{ab} & \\le 8 \\\\\n",
    "\\text{(Route BD)} && X_{bd} & \\le 4 \\\\\n",
    "\\text{(Route CD)} && X_{cd} & \\le 10 \\\\\n",
    "\\text{(Route BC)} && X_{bc} & \\le 2 \\\\\n",
    "\\text{(Route CB)} && X_{cb} & \\le 2 \\\\\n",
    "\\text{(Non-negativity)} && X_{ij} & \\ge 0 \\\\\n",
    "\\end{aligned}$$"
   ]
  },
  {
   "cell_type": "markdown",
   "id": "7b5ee96e",
   "metadata": {},
   "source": [
    "**ii)** Suppose that there is an additional constraint: if the company uses any trucks that travel directly between A and C, then it cannot use trucks that travel directly between B and D. **Define additional decision variables and linear constraints to implement this.**"
   ]
  },
  {
   "cell_type": "markdown",
   "id": "3eb30a3d",
   "metadata": {},
   "source": [
    "**Additional Decision Variables:**\n",
    "- $Z_{ij}$: Whether to use trucks that travel from i to j (binary)\n",
    "\n",
    "**Additional Linear Constraints:**\n",
    "$$\\begin{aligned}\n",
    "\\text{(Route AC)} && X_{ac} & \\le 5Z_{ac} \\\\\n",
    "\\text{(Route BD)} && X_{bd} & \\le 4Z_{bd} \\\\\n",
    "\\text{(Route AC and BD exclusivity)} && Z_{ac} + Z_{bd} & \\le 1 \\\\\n",
    "\\end{aligned}$$\n",
    "\n"
   ]
  }
 ],
 "metadata": {
  "kernelspec": {
   "display_name": "Python 3 (ipykernel)",
   "language": "python",
   "name": "python3"
  },
  "language_info": {
   "codemirror_mode": {
    "name": "ipython",
    "version": 3
   },
   "file_extension": ".py",
   "mimetype": "text/x-python",
   "name": "python",
   "nbconvert_exporter": "python",
   "pygments_lexer": "ipython3",
   "version": "3.8.8"
  }
 },
 "nbformat": 4,
 "nbformat_minor": 5
}
