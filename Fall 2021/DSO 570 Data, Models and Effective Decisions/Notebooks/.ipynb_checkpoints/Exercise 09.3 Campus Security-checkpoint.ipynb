{
 "cells": [
  {
   "cell_type": "markdown",
   "id": "094b3a38",
   "metadata": {},
   "source": [
    "## Exercise 9.3: Campus Security\n",
    "\n",
    "\n",
    "USC would like to protect certain streets around USC by stationing security staff at intersections. A street is defined to be the segment connecting two neighboring intersections. For example, the following map has 10 intersections and 15 streets. The street connecting A-B can be protected by staffing either at intersection A or intersection B (these are the two ends of the street), and staffing at one of these would suffice, although it's okay to staff at both ends as well. For example, staffing someone at intersection A would protect the streets A-B and A-E simultaneously; staffing someone at intersection B would protect the streets A-B, B-C, and B-F simultaneously.\n",
    "\n",
    "![Sample Map for 13.3.1](09-Map.png)\n",
    "\n",
    "For the above map, formulate a linear optimization problem to minimize the number of staff needed, subject to the following constraints:\n",
    "\n",
    "- At least 12 of the 15 streets must be protected.\n",
    "- The segments connecting intersections A, B, C and D are part of a large avenue, and the segments connecting E, F, G and H is another large avenue. At least one of these two large avenues must have at least 3 out of 4 intersections stationed.\n",
    "- If someone is stationed at intersection I, then someone must be also be stationed at J. However, it is okay to station only J but not I. \n",
    "- Intersections A and F must either both be stationed or both be unstationed.\n",
    "- The streets C-G, G-H and B-F are especially dangeous. At least 2 out of 3 of these especially dangeous streets must have staff stationed at both ends. \n",
    "\n",
    "\n",
    "Write a concrete formulation of a linear optimization problem, specifying the decision variables, the objective function and all constraints."
   ]
  },
  {
   "cell_type": "markdown",
   "id": "c41006fb",
   "metadata": {},
   "source": [
    "**Decision Variable:**\n",
    "- $X_i$: Whether staff should be stationed at intersection i. (Binary)\n",
    "- $Y_ij$: Whether staff is manning segment ij. (Binary)\n",
    "- $Z_ij$: Whether staff is manning both intersections i & j. (Binary)\n",
    "\n",
    "**Objective:**\n",
    "$$\\text{Minimize:} \\qquad X_a + X_b + ....... + X_j$$\n",
    "\n",
    "**Constraints:**\n",
    "$$\\begin{aligned}\n",
    "\\text{(Segment AB)} && X_a + X_b & \\ge Y_{ab} \\\\\n",
    "\\text{(Segment BC)} && X_b + X_c & \\ge Y_{bc} \\\\\n",
    "\\text{(Segment CD)} && X_c + X_d & \\ge Y_{cd} \\\\\n",
    "\\text{(Segment AE)} && X_a + X_e & \\ge Y_{ae} \\\\\n",
    "\\text{(Segment BF)} && X_b + X_f & \\ge Y_{bf} \\\\\n",
    "\\text{(Segment CG)} && X_c + X_g & \\ge Y_{cg} \\\\\n",
    "\\text{(Segment DH)} && X_d + X_h & \\ge Y_{dh} \\\\\n",
    "\\text{(Segment EF)} && X_e + X_f & \\ge Y_{ef} \\\\\n",
    "\\text{(Segment FG)} && X_f + X_g & \\ge Y_{fg} \\\\\n",
    "\\text{(Segment GH)} && X_g + X_h & \\ge Y_{gh} \\\\\n",
    "\\text{(Segment EI)} && X_e + X_i & \\ge Y_{ei} \\\\\n",
    "\\text{(Segment FI)} && X_f + X_i & \\ge Y_{fi} \\\\\n",
    "\\text{(Segment GI)} && X_g + X_i & \\ge Y_{gi} \\\\\n",
    "\\text{(Segment HJ)} && X_h + X_j & \\ge Y_{hj} \\\\\n",
    "\\text{(Segment IJ)} && X_i + X_j & \\ge Y_{ij} \\\\\n",
    "\\text{(Atleast 12 segments)} && Y_{ab} + Y_{bc} + ...... + Y_{ij} & \\ge 12 \\\\\n",
    "\\text{(Avenue A-B-C-D)} && X_a + X_b + X_c + X_d & \\ge 3L_1 \\\\\n",
    "\\text{(Avenue E-F-G-H)} && X_e + X_f + X_g + X_h & \\ge 3L_2 \\\\\n",
    "\\text{(Avenues A-B-C-D & E-F-G-H)} && L_1 + L_2 & \\ge 1 \\\\\n",
    "\\text{(Intersections I & J)} && X_i & \\le X_j \\\\\n",
    "\\text{(Intersections A & F)} && X_a & = X_f \\\\\n",
    "\\text{(Dangerous Street CG)} && X_c + X_g & \\ge 2Z_{cg} \\\\\n",
    "\\text{(Dangerous Street GH)} && X_g + X_h & \\ge 2Z_{gh} \\\\\n",
    "\\text{(Dangerous Street BF)} && X_b + X_f & \\ge 2Z_{bf} \\\\\n",
    "\\text{(Dangerous Streets CG & GH & BF)} && Z_{cg} + Z_{gh} + Z_{bf} & \\ge 2 \\\\\n",
    "\\end{aligned}$$"
   ]
  }
 ],
 "metadata": {
  "kernelspec": {
   "display_name": "Python 3 (ipykernel)",
   "language": "python",
   "name": "python3"
  },
  "language_info": {
   "codemirror_mode": {
    "name": "ipython",
    "version": 3
   },
   "file_extension": ".py",
   "mimetype": "text/x-python",
   "name": "python",
   "nbconvert_exporter": "python",
   "pygments_lexer": "ipython3",
   "version": "3.8.8"
  }
 },
 "nbformat": 4,
 "nbformat_minor": 5
}
