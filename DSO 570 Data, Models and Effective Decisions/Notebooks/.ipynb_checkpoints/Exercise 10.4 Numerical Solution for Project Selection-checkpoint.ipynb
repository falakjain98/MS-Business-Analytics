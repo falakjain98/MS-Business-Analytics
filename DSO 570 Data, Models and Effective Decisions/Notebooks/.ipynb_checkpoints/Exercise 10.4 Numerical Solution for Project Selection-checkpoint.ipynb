{
 "cells": [
  {
   "cell_type": "markdown",
   "id": "559ea699",
   "metadata": {},
   "source": [
    "## Exercise 10.4: Numerical Solution for Project Selection\n",
    "\n",
    "Implement the formulation for the Project Selection problem, which is from session 16 and is reproduced below. \n",
    "\n",
    "**Recap of the problem:** Ebony is an ambitious master's student who would like to maximize the number of extra-curricular business analytics projects she takes part of this year. However, projects may conflict with one another. The following graph summarizes the conflicts. (For example, project A conflicts with B, C and D, but projects B and D can be done together.)\n",
    "\n",
    "![Diagram for Project Selection](08-Ebony.png)\n",
    "\n",
    "Beside the conflict above, \n",
    "\n",
    "- Project A is a prerequisite to project F (meaning that pursuing F requires also pursuing A.)\n",
    "- Project B is a prerequisite to project G.\n",
    "\n",
    "Formulate a linear optimization problem to help her decide which projects to pursue.\n",
    "\n",
    "### Concrete Formulation\n",
    "\n",
    "**Decision Variables:** \n",
    "\n",
    "$X_i$: whether to pursue project $i$. (Binary)\n",
    "\n",
    "**Objective and Constraints:**\n",
    "\n",
    "$$\\begin{aligned}\n",
    "\\text{Maximize} && X_A+X_B+\\cdots+X_G \\\\\n",
    "\\text{s.t.} && \\\\\n",
    "&& X_A+X_B &\\le 1 \\\\\n",
    "&& X_B+X_C &\\le 1 \\\\\n",
    "&& X_A+X_C &\\le 1 \\\\\n",
    "&& X_A + X_D &\\le 1 \\\\\n",
    "&& X_D+X_E &\\le 1 \\\\\n",
    "&& X_E+X_F &\\le 1 \\\\\n",
    "&& X_F+X_G &\\le 1 \\\\\n",
    "&& X_E+X_G &\\le 1 \\\\\n",
    "&& X_A &\\ge X_F \\\\\n",
    "&& X_B &\\ge X_G\n",
    "\\end{aligned}$$\n",
    "\n",
    "### Input data"
   ]
  },
  {
   "cell_type": "code",
   "execution_count": 3,
   "id": "3ae01056",
   "metadata": {},
   "outputs": [],
   "source": [
    "projects=['A','B','C','D','E','F','G']\n",
    "conflicts=[['A','B'],['B','C'],['A','C'],['A','D'],\\\n",
    "           ['D','E'],['E','F'],['F','G'],['E','G']]\n",
    "prereqs=[['A','F'],['B','G']]"
   ]
  },
  {
   "cell_type": "code",
   "execution_count": 4,
   "id": "0078f23d",
   "metadata": {},
   "outputs": [
    {
     "name": "stdout",
     "output_type": "stream",
     "text": [
      "A and B are in conflict.\n",
      "B and C are in conflict.\n",
      "A and C are in conflict.\n",
      "A and D are in conflict.\n",
      "D and E are in conflict.\n",
      "E and F are in conflict.\n",
      "F and G are in conflict.\n",
      "E and G are in conflict.\n",
      "A is a pre-requisite to F\n",
      "B is a pre-requisite to G\n"
     ]
    }
   ],
   "source": [
    "# Examples of looping through the above data structures\n",
    "# Standard way\n",
    "for pair in conflicts:\n",
    "    print(f'{pair[0]} and {pair[1]} are in conflict.')\n",
    "# Shortcut\n",
    "for p1,p2 in prereqs:\n",
    "    print(f'{p1} is a pre-requisite to {p2}')"
   ]
  },
  {
   "cell_type": "markdown",
   "id": "52868deb",
   "metadata": {},
   "source": [
    "## Write Python code to implement the above using Gurobi. \n",
    "\n",
    "**Your code must obtain all data from the above input data structures, such that if new projects are added or the list of conflicts and pre-reqs change, the code will continue to work.**"
   ]
  },
  {
   "cell_type": "code",
   "execution_count": 15,
   "id": "eeab5d79",
   "metadata": {},
   "outputs": [
    {
     "name": "stdout",
     "output_type": "stream",
     "text": [
      "Optimal objective: 3.0\n",
      "Optimal projects to pursue: B D G "
     ]
    }
   ],
   "source": [
    "# Final code\n",
    "from gurobipy import Model, GRB\n",
    "mod = Model()\n",
    "x = mod.addVars(projects,vtype = GRB.BINARY)\n",
    "mod.setObjective(sum(x[p] for p in projects),sense = GRB.MAXIMIZE)\n",
    "for p1,p2 in conflicts:\n",
    "    mod.addConstr(x[p1]+x[p2]<=1)\n",
    "for p1,p2 in prereqs:\n",
    "    mod.addConstr(x[p1]>=x[p2])\n",
    "mod.setParam('OutputFlag',False)\n",
    "mod.optimize()\n",
    "print('Optimal objective:',mod.objVal)\n",
    "print('Optimal projects to pursue: ',end='')\n",
    "for p in projects:\n",
    "    if x[p].x == 1:\n",
    "        print(p,end=' ')"
   ]
  },
  {
   "cell_type": "code",
   "execution_count": 26,
   "id": "b4712346",
   "metadata": {},
   "outputs": [
    {
     "name": "stdout",
     "output_type": "stream",
     "text": [
      "Optimal objective: 3.0\n",
      "Optimal projects to pursue: B D G "
     ]
    }
   ],
   "source": [
    "# Sample output"
   ]
  }
 ],
 "metadata": {
  "kernelspec": {
   "display_name": "Python 3 (ipykernel)",
   "language": "python",
   "name": "python3"
  },
  "language_info": {
   "codemirror_mode": {
    "name": "ipython",
    "version": 3
   },
   "file_extension": ".py",
   "mimetype": "text/x-python",
   "name": "python",
   "nbconvert_exporter": "python",
   "pygments_lexer": "ipython3",
   "version": "3.8.8"
  }
 },
 "nbformat": 4,
 "nbformat_minor": 5
}
