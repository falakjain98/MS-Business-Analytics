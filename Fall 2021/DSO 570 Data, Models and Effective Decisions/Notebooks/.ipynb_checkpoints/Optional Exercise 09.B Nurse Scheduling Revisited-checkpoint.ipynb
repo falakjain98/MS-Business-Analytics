{
 "cells": [
  {
   "cell_type": "markdown",
   "id": "4193877b",
   "metadata": {},
   "source": [
    "## (Optional) Practice Problem: Nurse Scheduling Revisited\n",
    "\n",
    "This question is a modification of Q1 of Problem Set 7 while incorporating various shift lengths. \n",
    "\n",
    "Hospital administrators must schedule nurses so that the hospital’s patients are provided with adequate care. At the same time, in the face of tighter competition in the health care industry, they must pay careful attention to keeping costs down. \n",
    "\n",
    "From historical records, administrators estimated the minimum number of nurses to have on hand for the various times of the day, as shown in the following table. \n",
    "\n",
    "| Shift | Time | Minimum number of nurses needed |\n",
    "|--|--|--|\n",
    "| 1 | Midnight-4am | 5 |\n",
    "| 2 | 4am-8am | 12 |\n",
    "| 3 | 8am-noon | 14 |\n",
    "| 4 | noon-4pm | 8 |\n",
    "| 5 | 4pm-8pm | 14 |\n",
    "| 6 | 8pm-Midnight | 10 |\n",
    "\n",
    "**In a given day, a nurse can either work for one shift, or for two consecutive shifts. The hourly pay for a four hour shift is 60 dollars/hour, while the hourly pay for an eight hour shift (two consecutive shifts) is 50 dollars/hour.** As a result, in each shift, there are two types of nurses: those working for two shifts that started in the previous shift (and are now working their second shift), and those that just started in this shift (some of whom may be working in the next shift as well). Note that a nurse working two shifts who starts at the 8pm-Midnight shift would finish work after the next day's Midnight-4am shift.\n",
    "\n",
    "Formulate a linear optimization problem to **minimize the total cost per day for hiring nurses** subject to being able to fulfill all business constraints. (This is a concrete formulation problem, so you can use the above numbers and you do not need to define data variables.)"
   ]
  },
  {
   "cell_type": "markdown",
   "id": "f81ec62d",
   "metadata": {},
   "source": [
    "**Decision Variables:** \n",
    "$X_ij$: Number of nurses scheduled for shift i as a j (single/double) shift. (Integer)\n",
    "\n",
    "**Objective:**\n",
    "$$\\begin{aligned}\n",
    "\\text{Maximize} && 240(X_{11}+\\cdots+X_{61}) + 400(X_{12}+\\cdots+X_{62}) \\\\\n",
    "\\end{aligned}$$\n",
    "\n",
    "**Constraints:**\n",
    "\n",
    "$$\\begin{aligned}\n",
    "\\text{s.t.} && \\\\\n",
    "\\text{Shift 1}&& X_{11}+X_{12} &\\ge 5-X_{62} \\\\\n",
    "\\text{Shift 2}&& X_{21}+X_{22} &\\ge 12-X_{12} \\\\\n",
    "\\text{Shift 3}&& X_{31}+X_{32} &\\ge 14-X_{22} \\\\\n",
    "\\text{Shift 4}&& X_{41}+X_{42} &\\ge 8-X_{32} \\\\\n",
    "\\text{Shift 5}&& X_{51}+X_{52} &\\ge 14-X_{42} \\\\\n",
    "\\text{Shift 6}&& X_{61}+X_{62} &\\ge 10-X_{52} \\\\\n",
    "\\end{aligned}$$"
   ]
  },
  {
   "cell_type": "code",
   "execution_count": null,
   "id": "52f426d0",
   "metadata": {},
   "outputs": [],
   "source": []
  }
 ],
 "metadata": {
  "kernelspec": {
   "display_name": "Python 3 (ipykernel)",
   "language": "python",
   "name": "python3"
  },
  "language_info": {
   "codemirror_mode": {
    "name": "ipython",
    "version": 3
   },
   "file_extension": ".py",
   "mimetype": "text/x-python",
   "name": "python",
   "nbconvert_exporter": "python",
   "pygments_lexer": "ipython3",
   "version": "3.8.8"
  }
 },
 "nbformat": 4,
 "nbformat_minor": 5
}
