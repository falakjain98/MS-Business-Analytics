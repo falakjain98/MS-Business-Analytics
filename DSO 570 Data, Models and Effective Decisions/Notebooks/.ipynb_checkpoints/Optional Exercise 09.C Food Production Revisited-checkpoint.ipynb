{
 "cells": [
  {
   "cell_type": "markdown",
   "id": "8ed74273",
   "metadata": {},
   "source": [
    "## (Optional) Practice Problem: Food Production Revisited\n",
    "\n",
    "This question is a modification of the sample problem from Session 17, and it incoporates a limit on how long oil can be stored. \n",
    "\n",
    "A food factory uses a certain amount of canola oil every month as a raw ingredient. The price of canola oil fluctuates from month to month, as well as the amount of oil that is used each month for production. The prices and oil required for the next six months are as follows\n",
    "\n",
    "|Month | 1 | 2 | 3 | 4 | 5 | 6 |\n",
    "|--|--|--|--|--|--|--|\n",
    "| Price (\\$) per ton | 150 | 160 | 180 | 170 | 180 | 160 |\n",
    "| Tons of oil used | 2000 | 2500 | 3000 | 3000 | 2500 | 2000 |\n",
    "\n",
    "The factory's supplier for canola oil delivers it on the first day of every month, and charges the prices above. The factory can decide how much oil to buy each month from the supplier.  At the end of each month, the factory can also store unused oil for future use, but the inventory of oil (the total amount stored) cannot exceed **8000** tons at any given time. (The current inventory of oil before the shipment in Month 1 is zero.) **Moreover, oil be stored for at most 2 months. For example, oil bought in Month 1 can only be used in Months 1, 2 or 3, and must be thrown away at the end of Month 3; in other words, oil bought in Month 1 cannot be used in Month 4, 5, ... An analogous statement holds for oil bought in other months.** \n",
    "\n",
    "Formulate a linear optimization problem to decide how much canola oil to buy for each of the six months in order to minimize the total purchase cost over these six months. "
   ]
  },
  {
   "cell_type": "markdown",
   "id": "a7f960aa",
   "metadata": {},
   "source": [
    "**Decision Variables:** \n",
    "\n",
    "$X_i$: Tons of oil to be bought in month i. (Continuous)\n",
    "\n",
    "**Objective:** \n",
    "$$\\begin{aligned}\n",
    "\\text{Minimize} && 150X_1+160X_2+180X_3+170X_4+180X_5+160X_6 \\\\\n",
    "\\end{aligned}$$\n",
    "\n",
    "**Constraints:**\n",
    "\n",
    "$$\\begin{aligned}\n",
    "\\text{s.t.} && \\\\\n",
    "\\text{Inventory for Month 1} && X_1 &\\le 8000 \\\\\n",
    "\\text{Inventory for Month 2} && X_2+X_1-2000 &\\le 8000 \\\\\n",
    "\\text{Inventory for Month 3} && X_3+X_2+X_1-4500 &\\le 8000 \\\\\n",
    "\\text{Inventory for Month 4} && X_4+X_3+X_2-7500 &\\le 8000 \\\\\n",
    "\\text{Inventory for Month 5} && X_5+X_4+X_3-10500 &\\le 8000 \\\\\n",
    "\\text{Inventory for Month 6} && X_6+X_5+X_4-13000 &\\le 8000 \\\\\n",
    "\\text{Non-negativity} && X_1,X_2,X_3,X_4,X_5,X_6 &\\ge 0 \\\\\n",
    "\\end{aligned}$$"
   ]
  }
 ],
 "metadata": {
  "kernelspec": {
   "display_name": "Python 3 (ipykernel)",
   "language": "python",
   "name": "python3"
  },
  "language_info": {
   "codemirror_mode": {
    "name": "ipython",
    "version": 3
   },
   "file_extension": ".py",
   "mimetype": "text/x-python",
   "name": "python",
   "nbconvert_exporter": "python",
   "pygments_lexer": "ipython3",
   "version": "3.8.8"
  }
 },
 "nbformat": 4,
 "nbformat_minor": 5
}
