{
 "cells": [
  {
   "cell_type": "markdown",
   "metadata": {},
   "source": [
    "# Exercise 6.2 Queuing at Airport Pickup Station\n",
    "\n",
    "Suppose that a certain ride hailing platform organizes pickups from a certain airport as follows: upon landing, all passengers proceed to a single pickup station, and drivers also line up their cars at the station. Due to capacity limitations at the station, at most $k$ passengers can be picked up each minute. This question asks you to build a tool to estimate the average waiting time for both passengers and drivers, given the number of passengers and drivers who arrive at the station each minute. \n",
    "\n",
    "**Write a function called \"airport_queue\" with the following input arguments:**\n",
    "\n",
    "- **passengers**: a list representing the number of passengers who arrive at the station each minute. You may assume that each entry of the list is a non-negative integer, and that the sum of entries in the list is strictly positive. \n",
    "- **drivers**: a list representing the number of drivers who arrive at the station each minute. You may assume that each entry is a non-negative integer, and that the sum of entries is strictly positive. Moreover, the lengths of the two lists are the same.\n",
    "- **k**: a positive integer representing the maximum number of pickups per minute.\n",
    "\n",
    "Assume that initially, both the passenger and driver queues are empty. The following table illustrates the queueing dynamic under the following parameters:\n",
    "\n",
    "```\n",
    "passengers=[5,10,20,5,0,0,0,0,15,0]\n",
    "drivers=[20,0,0,0,0,30,40,20,0,0]\n",
    "k=10\n",
    "```\n",
    "\n",
    "| Minute | Passenger Arrivals | Driver Arrivals | Passenger Queue | Driver Queue | Pickups|\n",
    "|--|--|--|--|--|--|\n",
    "| 0 | 5 | 20 | 5 | 20 | 5 |\n",
    "| 1 | 10 | 0 | 10 | 15 | 10 |\n",
    "| 2 | 20 | 0 | 20 | 5 | 5 |\n",
    "| 3 | 5 | 0 | 20 | 0 | 0 |\n",
    "| 4 | 0 | 0 | 20 | 0 | 0 |\n",
    "| 5 | 0 | 30 | 20 | 30 | 10 |\n",
    "| 6 | 0 | 40 | 10 | 60 | 10 |\n",
    "| 7 | 0 | 20 | 0 | 70 | 0 |\n",
    "| 8 | 15 | 0 | 15 | 70 | 10 |\n",
    "| 9 | 0 | 0 | 5 | 60 | 5 |\n",
    "|**Total**| **55** | **110** | **125** | **330** | |\n",
    "\n",
    "Note that the columns \"Passenger Arrivals\" and \"Driver Arrivals\" are from the two input lists. In each row except the first one, the \"Passenger Queue\" is equal to the previous row's value plus the number of passenger arrivals in this row, minus the number of pickups in the previous row. An analogous relationship holds for the \"Driver Queue\" column. In each row, \"Pickups\" is equal to the minimum of $k$, \"Passenger Queue\" and \"Driver Queue\".\n",
    "\n",
    "**The function should return two objects:**\n",
    "\n",
    "- **average waiting time for passengers**: this is the total of the \"Passenger Queue\" column divided by the total of the \"Passenger Arrivals\" column. In the above table, this is $125/55 \\approx 2.27$ minutes. \n",
    "- **average waiting time for drivers**: this is the total of the \"Driver Queue\" column divided by the total of the \"Driver Arrivals\" column. In the above table, this is $330/110 = 3$ minutes. These formula are based on a mathematical relationship between waiting time and queue length called \"Little's Law,\" which assumes that both queues instantly clear after the given time period.\n",
    "\n",
    "See the sample runs below for illustrations."
   ]
  },
  {
   "cell_type": "code",
   "execution_count": 22,
   "metadata": {},
   "outputs": [],
   "source": [
    "# Final Solution\n",
    "def airport_queue(passengers,drivers,k):\n",
    "    passenger_arr,driver_arr,pass_q,driver_q,picks = [],[],[],[],[]\n",
    "    for i in range(len(passengers)):\n",
    "        passenger_arr.append(passengers[i])\n",
    "        driver_arr.append(drivers[i])\n",
    "        if i==0:\n",
    "            pass_q.append(passengers[i])\n",
    "            driver_q.append(drivers[i])\n",
    "        else:\n",
    "            pass_q.append(max(0,passenger_arr[i]+pass_q[i-1]-picks[i-1]))\n",
    "            driver_q.append(max(0,driver_arr[i]+driver_q[i-1]-picks[i-1]))\n",
    "        picks.append(min(k,pass_q[i],driver_q[i]))\n",
    "    return(sum(pass_q)/sum(passenger_arr),sum(driver_q)/sum(driver_arr))\n"
   ]
  },
  {
   "cell_type": "code",
   "execution_count": 23,
   "metadata": {},
   "outputs": [
    {
     "name": "stdout",
     "output_type": "stream",
     "text": [
      "Av. waiting time for passengers is 2.27 minutes.\n",
      "Av. waiting time for drivers is 3.0 minutes.\n"
     ]
    }
   ],
   "source": [
    "# Sample run 1\n",
    "passengers=[5,10,20,5,0,0,0,0,15,0]\n",
    "drivers=[20,0,0,0,0,30,40,20,0,0]\n",
    "k=10\n",
    "passenger_wait,driver_wait=airport_queue(passengers,drivers,k)\n",
    "print(f'Av. waiting time for passengers is {round(passenger_wait,2)} minutes.')\n",
    "print(f'Av. waiting time for drivers is {round(driver_wait,2)} minutes.')"
   ]
  },
  {
   "cell_type": "code",
   "execution_count": 24,
   "metadata": {},
   "outputs": [
    {
     "name": "stdout",
     "output_type": "stream",
     "text": [
      "Av. waiting time for passengers is 4.218 minutes.\n",
      "Av. waiting time for drivers is 4.018 minutes.\n"
     ]
    }
   ],
   "source": [
    "# Sample run 2\n",
    "passengers=[5,10,20,5,0,0,0,0,15,0,0,0,0,0,0]\n",
    "drivers=[20,0,0,0,0,0,0,0,30,40,20,0,0,0,0]\n",
    "passenger_wait,driver_wait=airport_queue(passengers,drivers,8)\n",
    "print(f'Av. waiting time for passengers is {round(passenger_wait,3)} minutes.')\n",
    "print(f'Av. waiting time for drivers is {round(driver_wait,3)} minutes.')"
   ]
  },
  {
   "cell_type": "code",
   "execution_count": 25,
   "metadata": {},
   "outputs": [
    {
     "data": {
      "text/plain": [
       "(1.0, 1.0)"
      ]
     },
     "execution_count": 25,
     "metadata": {},
     "output_type": "execute_result"
    }
   ],
   "source": [
    "# Sample run 3\n",
    "airport_queue([5],[10],7)"
   ]
  },
  {
   "cell_type": "code",
   "execution_count": 26,
   "metadata": {},
   "outputs": [
    {
     "data": {
      "text/plain": [
       "(1.125, 2.6875)"
      ]
     },
     "execution_count": 26,
     "metadata": {},
     "output_type": "execute_result"
    }
   ],
   "source": [
    "# Sample run 4\n",
    "airport_queue([1,5,10],[16,0,0],3)"
   ]
  },
  {
   "cell_type": "code",
   "execution_count": 27,
   "metadata": {},
   "outputs": [
    {
     "name": "stdout",
     "output_type": "stream",
     "text": [
      "Impact of Station Capacity\n",
      "k\tAv. Wait of Passengers\tAv. Wait of Drivers\n",
      "5\t7.7 Min\t\t\t8.1 Min\n",
      "10\t5.5 Min\t\t\t5.4 Min\n",
      "15\t4.6 Min\t\t\t4.2 Min\n",
      "20\t3.9 Min\t\t\t3.3 Min\n",
      "25\t3.6 Min\t\t\t3.0 Min\n",
      "30\t3.5 Min\t\t\t2.8 Min\n",
      "35\t3.4 Min\t\t\t2.6 Min\n",
      "40\t3.3 Min\t\t\t2.6 Min\n"
     ]
    }
   ],
   "source": [
    "# Sample run 5\n",
    "passengers=[0,0,0,50,60,30,10,0,0,0,0,0,0,0,10,20,10,80,100,20,0,0]\n",
    "drivers=[20,30,5,3,5,5,3,4,2,0,0,20,30,50,40,30,40,3,5,2,3,5]\n",
    "print('Impact of Station Capacity')\n",
    "print('k\\tAv. Wait of Passengers\\tAv. Wait of Drivers')\n",
    "for k in range(5,41,5):\n",
    "    pwait,dwait=airport_queue(passengers,drivers,k)\n",
    "    print(f'{k}\\t{pwait:.1f} Min\\t\\t\\t{dwait:.1f} Min')"
   ]
  }
 ],
 "metadata": {
  "kernelspec": {
   "display_name": "Python 3",
   "language": "python",
   "name": "python3"
  },
  "language_info": {
   "codemirror_mode": {
    "name": "ipython",
    "version": 3
   },
   "file_extension": ".py",
   "mimetype": "text/x-python",
   "name": "python",
   "nbconvert_exporter": "python",
   "pygments_lexer": "ipython3",
   "version": "3.8.8"
  }
 },
 "nbformat": 4,
 "nbformat_minor": 4
}
