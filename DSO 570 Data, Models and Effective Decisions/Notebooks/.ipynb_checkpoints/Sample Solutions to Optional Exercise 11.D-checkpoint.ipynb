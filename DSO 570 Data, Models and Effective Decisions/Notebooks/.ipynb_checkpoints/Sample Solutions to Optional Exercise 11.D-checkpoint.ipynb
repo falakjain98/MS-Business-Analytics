{
 "cells": [
  {
   "cell_type": "markdown",
   "id": "74bcba51",
   "metadata": {},
   "source": [
    "## (Optional) Practice Problem: Warehouse Sourcing (with Solutions)\n",
    "\n",
    "A warehouse needs to make sure it has enough inventory in each week to fulfill all customer demand based on its forecast. However, the warehouse can control when it receives shipments of inventory from suppliers and would like to optimize the timing of shipments so as to minimize the combination of the following two types of costs:\n",
    "\n",
    "1. **fixed cost of receiving a single shipment from the supplier**: each time the warehouse receives a shipment, there is a certain fixed cost, which does not depend on the amount of inventory received. Hence, it is preferable to receive shipments in large batches so as to need fewer shipments.\n",
    "2. **holding cost**: carrying extra inventory from the end of one week to the next requires storage space, so that having low inventory at the end of each week is desired. \n",
    "\n",
    "For example, suppose that the fixed cost of receiving each shipment is 100 dollars and the cost of carrying each unit of inventory from the end of one week to the next is 2 dollars. Suppose that the warehouse forecasts the following demand in the next eight weeks. \n",
    "\n",
    "|Week: | 1 | 2 | 3 | 4 | 5 | 6 | 7 | 8 |\n",
    "|--|--|--|--|--|--|--|--|--|\n",
    "|**Demand:** |20|10|0|40|50|10|0|30|\n",
    "\n",
    "The beginning inventory at the end of Week 0 is zero, and shipments from the supplier arrive at the beginning of a week before any demand needs to be fulfilled. Suppose that the warehouse wants to receive only one shipment, then it needs to receive 160 units at the beginning of Week 1 in order to have enough to fulfill all demand in the 8 weeks. Call this plan A. Under plan A, the amount of leftover inventory at the end of each week is as follows:\n",
    "\n",
    "|Week: | 1 | 2 | 3 | 4 | 5 | 6 | 7 | 8 |\n",
    "|--|--|--|--|--|--|--|--|--|\n",
    "|**Leftover inventory under plan A:** |140|130|130|90|40|30|30|0|\n",
    "\n",
    "Hence, the total holding cost is $2 \\times (140+130+130+90+40+30+30+0)=1180$. Since only one shipment needs to be received, the total cost of plan A is $1180+100 \\times 1 = 1280$. \n",
    "\n",
    "An alternative plan, which we refer to as plan B, is to receive a separate shipment at the beginning of each week with positive demand, and to receive just enough to fulfil the demand for that week. The total holding cost under this plan is 0, since all received inventory will be used up by the end of a week, and the total fixed cost is $100 \\times 6 = 600$ (since there are 6 weeks with non-zero demand in this example). The total cost of plan B is $0+600=600$, which is lower than plan A.\n",
    "\n",
    "The **optimal plan** in this example is to receive 4 shipments from the supplier: receive 30 units at the beginning of Week 1, 40 units at the beginning of Week 4, 60 units at the beginning of Week 5, and 30 units at the beginning of Week 8. Under this plan, the leftover inventory at the end of each week is as follows:\n",
    "\n",
    "|Week: | 1 | 2 | 3 | 4 | 5 | 6 | 7 | 8 |\n",
    "|--|--|--|--|--|--|--|--|--|\n",
    "|**Leftover inventory under plan A:** |10|0|0|0|10|0|0|0|\n",
    "\n",
    "Hence, the total cost is $2 \\times 20 + 100 \\times 4 = 440$, which is lower than both plans A and B.\n",
    "\n",
    "**Write an abstract formulation of a LP/MIP to solve for the optimal plan for receiving shipments for arbitrary data.** Your formulation must be able to handle arbitrary number of weeks, arbitrary unit holding cost, arbitrary fixed cost of receiving a shipment, as well as arbitrary demand in each week. You can assume that the inventory at the end of Week 0 is zero, and that accurate demand forecasts are given. You can define additional data variables as needed, as long as you precisely specify how they can be computed based on the data. Your objective and constraints must all be linear. \n"
   ]
  },
  {
   "cell_type": "markdown",
   "id": "ac259b11",
   "metadata": {},
   "source": [
    "**Data Variables:**\n",
    "\n",
    "- $n$: the number of weeks to plan.\n",
    "- $d_t$: the demand in week $t \\in T$. \n",
    "- $h$: unit holding cost.\n",
    "- $f$: fixed cost of receiving each shipment.\n",
    "- $T= \\{1, 2, \\cdots, n\\}$. \n",
    "- $M = \\sum_{t \\in T} d_t$.\n",
    "- $y_0=0$.\n",
    "\n",
    "**Decision Variables:**\n",
    "\n",
    "- $x_t$: the amount of inventory to receive at the beginning of week $t \\in T$. (Continuous)\n",
    "- $y_t$: the amount of leftover inventory at the end of week $t \\in T$. (Continuous)\n",
    "- $z_t$: whether to receive a shipment at the beginning of week $t \\in T$. (Binary)\n",
    "\n",
    "**Objective and Constraints:**\n",
    "\n",
    "$$\\begin{aligned}\n",
    "\\text{Minimize} && f\\sum_{t \\in T} z_t + h\\sum_{t \\in T}y_t \\\\\n",
    "\\text{s.t.} && y_t &= y_{t-1}+x_t-d_t && \\text{for each week $t \\in T$.}\\\\\n",
    "&& x_t & \\le Mz_t && \\text{for each week $t \\in T$.}\\\\\n",
    "&& x_t, y_t & \\ge 0 &&\\text{for each $t \\in T$.}\n",
    "\\end{aligned}$$\n"
   ]
  },
  {
   "cell_type": "code",
   "execution_count": 4,
   "id": "24ae0cee",
   "metadata": {},
   "outputs": [
    {
     "name": "stdout",
     "output_type": "stream",
     "text": [
      "Minimal total cost: 440.0\n",
      "Receive in period 1: 30.0 units\n",
      "Receive in period 4: 40.0 units\n",
      "Receive in period 5: 60.0 units\n",
      "Receive in period 8: 30.0 units\n"
     ]
    }
   ],
   "source": [
    "# Code that solves the above for the given data. This is not needed for the Exam. \n",
    "from gurobipy import Model, GRB\n",
    "d=[20,10,0,40,50,10,0,30]\n",
    "n=len(d)\n",
    "M=sum(d)\n",
    "h=2\n",
    "f=100\n",
    "mod=Model()\n",
    "T=range(1,n+1)\n",
    "x=mod.addVars(T)\n",
    "y=mod.addVars(T)\n",
    "y[0]=0\n",
    "z=mod.addVars(T,vtype=GRB.BINARY)\n",
    "mod.setObjective(f*sum(z[t] for t in T)+h*sum(y[t] for t in T))\n",
    "for t in T:\n",
    "    mod.addConstr(y[t]==y[t-1]+x[t]-d[t-1])\n",
    "    mod.addConstr(x[t]<=M*z[t])\n",
    "mod.setParam('OutputFlag',False)\n",
    "mod.optimize()\n",
    "print('Minimal total cost:',mod.objval)\n",
    "for t in T:\n",
    "    if z[t].x:\n",
    "        print(f'Receive in period {t}: {x[t].x} units')"
   ]
  }
 ],
 "metadata": {
  "kernelspec": {
   "display_name": "Python 3 (ipykernel)",
   "language": "python",
   "name": "python3"
  },
  "language_info": {
   "codemirror_mode": {
    "name": "ipython",
    "version": 3
   },
   "file_extension": ".py",
   "mimetype": "text/x-python",
   "name": "python",
   "nbconvert_exporter": "python",
   "pygments_lexer": "ipython3",
   "version": "3.8.8"
  }
 },
 "nbformat": 4,
 "nbformat_minor": 5
}
