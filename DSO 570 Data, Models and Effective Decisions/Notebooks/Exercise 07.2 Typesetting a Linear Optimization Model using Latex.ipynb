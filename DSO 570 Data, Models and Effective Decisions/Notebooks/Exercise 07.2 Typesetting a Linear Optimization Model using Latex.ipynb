{
 "cells": [
  {
   "cell_type": "markdown",
   "metadata": {},
   "source": [
    "NAME : Falak Jain"
   ]
  },
  {
   "cell_type": "markdown",
   "metadata": {},
   "source": [
    "**Decision Variables:**\n",
    "- $X$: the amount of Wrench to produce per day. (Continuous)\n",
    "- $Y$: the amount of Plier to produce per day. (Continuous)\n",
    "\n",
    "**Objective:**\n",
    "$$\\text{Maximize:} \\qquad 0.1X+0.13Y$$\n",
    "\n",
    "**Constraints:**\n",
    "$$\\begin{aligned}\n",
    "\\text{(Steel)} && 1.5X+Y & \\le 27000 \\\\\n",
    "\\text{(Molding Machine)} && X+Y & \\le 21000 \\\\\n",
    "\\text{(Assembly Machine)} && 0.3X+0.5Y & \\le 9000 \\\\\n",
    "\\text{(Wrench Demand)} && X & \\le 16000 \\\\\n",
    "\\text{(Plier Demand)} && Y & \\le 15000 \\\\\n",
    "\\text{(Non-negativity)}&& X,Y & \\ge 0 \\\\\n",
    "\\end{aligned}$$"
   ]
  }
 ],
 "metadata": {
  "kernelspec": {
   "display_name": "Python 3 (ipykernel)",
   "language": "python",
   "name": "python3"
  },
  "language_info": {
   "codemirror_mode": {
    "name": "ipython",
    "version": 3
   },
   "file_extension": ".py",
   "mimetype": "text/x-python",
   "name": "python",
   "nbconvert_exporter": "python",
   "pygments_lexer": "ipython3",
   "version": "3.8.8"
  }
 },
 "nbformat": 4,
 "nbformat_minor": 4
}
