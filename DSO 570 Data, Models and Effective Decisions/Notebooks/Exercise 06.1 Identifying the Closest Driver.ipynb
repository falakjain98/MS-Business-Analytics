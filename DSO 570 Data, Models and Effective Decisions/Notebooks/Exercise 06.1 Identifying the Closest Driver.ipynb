{
 "cells": [
  {
   "cell_type": "markdown",
   "metadata": {},
   "source": [
    "# Exercise 6.1 Identifying the Closest Driver\n",
    "\n",
    "Suppose that a certain ride hailing platform always matches a passenger with the closest driver. This question asks you to develop a tool to help the platform identify the closest driver to a given passenger, and estimate how far the driver needs to travel to complete the trip. For simplicity, every location is represented using its $(x,y)$ coordinates and roads are assumed to be either from north to south or from east to west, so the distance between any two points $(x_1, y_1)$ and $(x_2,y_2)$ can be estimated based on the *Manhattan distance*:\n",
    "$$|x_1-x_2| + |y_1-y_2|,$$\n",
    "where $|\\cdot|$ denotes the absolute value (see the Python function \"abs\").\n",
    "\n",
    "**Write a function called \"closest_dispatch\" with the following input arguments:**\n",
    "\n",
    "- **locations**: A dictionary in which each key represents an unique ID of the driver, and the corresponding value is a list of two numbers, representing the coordinates of the driver's current location. For example, `{'A':[3,5],'B':[-5,2.5]}` means that driver A is currently at location $(x_A,y_A)=(3,5)$ and driver B is at location $(x_B,y_B)=(-5,2.5)$. You can assume that the dictionary has at least one entry.\n",
    "- **origin**: A list of two numbers, representing the coordinates of the passenger's current location. \n",
    "- **distination**: A list of two numbers, representing the the coordinates of the passenger's intended destination. \n",
    "\n",
    "**The function should return two objects:**\n",
    "\n",
    "- The ID of the closest driver to the passenger, based on the Manhattan distance from the driver's location and the passenger's origin. If there is a tie, then it doesn't matter which driver is returned.\n",
    "- The total travel distance for this driver to complete the trip. This is the sum of the Manhattan distance from the driver's location to the passenger's location, and the Manhattan distance from the passenger's location to the intended destination.\n",
    "\n",
    "See the sample runs below for illustrations. "
   ]
  },
  {
   "cell_type": "code",
   "execution_count": 1,
   "metadata": {},
   "outputs": [],
   "source": [
    "# Final Solution\n",
    "def closest_dispatch(locations,origin,dest):\n",
    "    min_dist = 1000000\n",
    "    for key,value in locations.items():\n",
    "        dist = abs(value[0]-origin[0])+abs(value[1]-origin[1])\n",
    "        if dist<min_dist:\n",
    "            min_dist = dist\n",
    "            min_person = key\n",
    "    travel_distance = min_dist + abs(origin[0]-dest[0]) + abs(origin[1]-dest[1])\n",
    "    return(min_person,travel_distance)\n"
   ]
  },
  {
   "cell_type": "code",
   "execution_count": 2,
   "metadata": {},
   "outputs": [
    {
     "name": "stdout",
     "output_type": "stream",
     "text": [
      "Closest driver: Alice \tTravel distance: 64\n"
     ]
    }
   ],
   "source": [
    "# Sample run 1\n",
    "locations={'Alice':[10,30],'Bob':[20,5],'Charles':[-10,10]}\n",
    "closest,movement=closest_dispatch(locations,[10,13],[10,60])\n",
    "print(f'Closest driver: {closest} \\tTravel distance: {movement}')"
   ]
  },
  {
   "cell_type": "code",
   "execution_count": 3,
   "metadata": {},
   "outputs": [
    {
     "name": "stdout",
     "output_type": "stream",
     "text": [
      "Closest driver: Bob \tTravel distance: 38.5\n"
     ]
    }
   ],
   "source": [
    "# Sample run 2\n",
    "locations={'Alice':[10,30],'Bob':[20,5],'Charles':[-10,10]}\n",
    "closest,movement=closest_dispatch(locations,[10,12],[-10,10.5])\n",
    "print(f'Closest driver: {closest} \\tTravel distance: {movement}')"
   ]
  },
  {
   "cell_type": "code",
   "execution_count": 4,
   "metadata": {},
   "outputs": [
    {
     "name": "stdout",
     "output_type": "stream",
     "text": [
      "Closest driver: Bob \tTravel distance: 49.8\n"
     ]
    }
   ],
   "source": [
    "# Sample run 3\n",
    "locations={'Alice':[10,30],'Bob':[20,5],'Charles':[-10,10]}\n",
    "closest,movement=closest_dispatch(locations,[7.6,11],[20,30])\n",
    "print(f'Closest driver: {closest} \\tTravel distance: {movement}')"
   ]
  },
  {
   "cell_type": "code",
   "execution_count": 5,
   "metadata": {},
   "outputs": [
    {
     "name": "stdout",
     "output_type": "stream",
     "text": [
      "Closest driver: Charles \tTravel distance: 50.1\n"
     ]
    }
   ],
   "source": [
    "# Sample run 4\n",
    "locations={'Alice':[10,30],'Bob':[20,5],'Charles':[-10,10]}\n",
    "closest,movement=closest_dispatch(locations,[7.4,11],[20,30.1])\n",
    "print(f'Closest driver: {closest} \\tTravel distance: {movement}')"
   ]
  },
  {
   "cell_type": "code",
   "execution_count": 6,
   "metadata": {},
   "outputs": [
    {
     "name": "stdout",
     "output_type": "stream",
     "text": [
      "Cindy served trip: [5, 9.5] --> [20, 6.5] \tMovement: 23.5\n",
      "Cindy served trip: [10, -5] --> [30, -3] \tMovement: 43.5\n",
      "Abdul served trip: [10, 12] --> [10, 7] \tMovement: 23.5\n",
      "Beth served trip: [-3, 8.5] --> [-10, 5.3] \tMovement: 23.7\n",
      "Abdul served trip: [20, 30] --> [-5, -6.4] \tMovement: 94.4\n",
      "Beth served trip: [10, 10] --> [-3, -7] \tMovement: 54.7\n",
      "\n",
      "Summary:\n",
      "Abdul ended at [-5, -6.4]. \tDistance driven: 117.9\n",
      "Beth ended at [-3, -7]. \tDistance driven: 78.4\n",
      "Cindy ended at [30, -3]. \tDistance driven: 67.0\n",
      "Dilan ended at [-10, -10]. \tDistance driven: 0\n"
     ]
    }
   ],
   "source": [
    "# Sample run 5\n",
    "loc={'Abdul':[10.5,30], 'Beth':[-5,20], 'Cindy': [10,10], 'Dilan': [-10,-10]}\n",
    "trips=[]\n",
    "trips.append([[5,9.5],[20,6.5]])\n",
    "trips.append([[10,-5],[30,-3]])\n",
    "trips.append([[10,12],[10,7]])\n",
    "trips.append([[-3,8.5],[-10,5.3]])\n",
    "trips.append([[20,30],[-5,-6.4]])\n",
    "trips.append([[10,10],[-3,-7]])\n",
    "total={driver:0 for driver in loc}\n",
    "for orig,dest in trips:\n",
    "    closest,movement=closest_dispatch(loc,orig,dest)\n",
    "    print(f'{closest} served trip: {orig} --> {dest} \\tMovement: {movement}')\n",
    "    loc[closest]=dest\n",
    "    total[closest]+=movement\n",
    "print('\\nSummary:')\n",
    "for driver in loc:\n",
    "    print(f'{driver} ended at {loc[driver]}. \\tDistance driven: {total[driver]}')"
   ]
  },
  {
   "cell_type": "code",
   "execution_count": null,
   "metadata": {},
   "outputs": [],
   "source": []
  }
 ],
 "metadata": {
  "kernelspec": {
   "display_name": "Python 3",
   "language": "python",
   "name": "python3"
  },
  "language_info": {
   "codemirror_mode": {
    "name": "ipython",
    "version": 3
   },
   "file_extension": ".py",
   "mimetype": "text/x-python",
   "name": "python",
   "nbconvert_exporter": "python",
   "pygments_lexer": "ipython3",
   "version": "3.8.8"
  }
 },
 "nbformat": 4,
 "nbformat_minor": 4
}
