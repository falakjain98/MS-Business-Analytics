{
 "cells": [
  {
   "cell_type": "markdown",
   "metadata": {},
   "source": [
    "## Exercise 4.1 Practicing List Comprehension\n",
    "\n",
    "Execute the following cell to load in the list named \"sales\":\n"
   ]
  },
  {
   "cell_type": "code",
   "execution_count": 1,
   "metadata": {},
   "outputs": [],
   "source": [
    "sales=[10,20,5,25,30,12,18,50,30,20,10,4]"
   ]
  },
  {
   "cell_type": "markdown",
   "metadata": {},
   "source": [
    "**a)** Using list comprehension, write one line to generate the list of elements in \"sales\" that are at least 20."
   ]
  },
  {
   "cell_type": "code",
   "execution_count": 2,
   "metadata": {},
   "outputs": [
    {
     "data": {
      "text/plain": [
       "[20, 25, 30, 50, 30, 20]"
      ]
     },
     "execution_count": 2,
     "metadata": {},
     "output_type": "execute_result"
    }
   ],
   "source": [
    "# Write your code here\n",
    "[i for i in sales if i >= 20]"
   ]
  },
  {
   "cell_type": "code",
   "execution_count": 10,
   "metadata": {},
   "outputs": [
    {
     "data": {
      "text/plain": [
       "[20, 25, 30, 50, 30, 20]"
      ]
     },
     "execution_count": 10,
     "metadata": {},
     "output_type": "execute_result"
    }
   ],
   "source": [
    "# Expected output"
   ]
  },
  {
   "cell_type": "markdown",
   "metadata": {},
   "source": [
    "**b)** Write one line to count the number of elements in \"sales\" that are at least 20. Hint: find the length of the above list."
   ]
  },
  {
   "cell_type": "code",
   "execution_count": 4,
   "metadata": {},
   "outputs": [
    {
     "data": {
      "text/plain": [
       "6"
      ]
     },
     "execution_count": 4,
     "metadata": {},
     "output_type": "execute_result"
    }
   ],
   "source": [
    "# Write your code here\n",
    "len([i for i in sales if i >= 20])"
   ]
  },
  {
   "cell_type": "code",
   "execution_count": 11,
   "metadata": {},
   "outputs": [
    {
     "data": {
      "text/plain": [
       "6"
      ]
     },
     "execution_count": 11,
     "metadata": {},
     "output_type": "execute_result"
    }
   ],
   "source": [
    "# Expected output"
   ]
  },
  {
   "cell_type": "markdown",
   "metadata": {},
   "source": [
    "**c)** Write one line to count the number of elements that are between 5 and 10 (inclusive)."
   ]
  },
  {
   "cell_type": "code",
   "execution_count": 5,
   "metadata": {},
   "outputs": [
    {
     "data": {
      "text/plain": [
       "3"
      ]
     },
     "execution_count": 5,
     "metadata": {},
     "output_type": "execute_result"
    }
   ],
   "source": [
    "# Write your code here\n",
    "len([i for i in sales if i >= 5 and i <= 10])"
   ]
  },
  {
   "cell_type": "code",
   "execution_count": 12,
   "metadata": {},
   "outputs": [
    {
     "data": {
      "text/plain": [
       "3"
      ]
     },
     "execution_count": 12,
     "metadata": {},
     "output_type": "execute_result"
    }
   ],
   "source": [
    "# Expected output"
   ]
  },
  {
   "cell_type": "markdown",
   "metadata": {},
   "source": [
    "**d)** Generate a list of zeros with the same length as the list `sales`."
   ]
  },
  {
   "cell_type": "code",
   "execution_count": 6,
   "metadata": {},
   "outputs": [
    {
     "data": {
      "text/plain": [
       "[0, 0, 0, 0, 0, 0, 0, 0, 0, 0, 0, 0]"
      ]
     },
     "execution_count": 6,
     "metadata": {},
     "output_type": "execute_result"
    }
   ],
   "source": [
    "# Write your code here\n",
    "[0 for i in sales]"
   ]
  },
  {
   "cell_type": "code",
   "execution_count": 13,
   "metadata": {},
   "outputs": [
    {
     "data": {
      "text/plain": [
       "[0, 0, 0, 0, 0, 0, 0, 0, 0, 0, 0, 0]"
      ]
     },
     "execution_count": 13,
     "metadata": {},
     "output_type": "execute_result"
    }
   ],
   "source": [
    "# Expected output"
   ]
  },
  {
   "cell_type": "markdown",
   "metadata": {},
   "source": [
    "**e)** Use dictionary comprehension to write one line that generates the following dictionary. The values are from the list `sales` and the keys are the strings \"Week 1\", \"Week 2\", etc. "
   ]
  },
  {
   "cell_type": "code",
   "execution_count": 9,
   "metadata": {},
   "outputs": [
    {
     "data": {
      "text/plain": [
       "{'Week 1': 10,\n",
       " 'Week 2': 20,\n",
       " 'Week 3': 5,\n",
       " 'Week 4': 25,\n",
       " 'Week 5': 30,\n",
       " 'Week 6': 12,\n",
       " 'Week 7': 18,\n",
       " 'Week 8': 50,\n",
       " 'Week 9': 30,\n",
       " 'Week 10': 20,\n",
       " 'Week 11': 10,\n",
       " 'Week 12': 4}"
      ]
     },
     "execution_count": 9,
     "metadata": {},
     "output_type": "execute_result"
    }
   ],
   "source": [
    "# Write your code here\n",
    "{f'Week {i+1}': sales[i] for i in range(len(sales))}"
   ]
  },
  {
   "cell_type": "code",
   "execution_count": 15,
   "metadata": {},
   "outputs": [
    {
     "data": {
      "text/plain": [
       "{'Week 1': 10,\n",
       " 'Week 2': 20,\n",
       " 'Week 3': 5,\n",
       " 'Week 4': 25,\n",
       " 'Week 5': 30,\n",
       " 'Week 6': 12,\n",
       " 'Week 7': 18,\n",
       " 'Week 8': 50,\n",
       " 'Week 9': 30,\n",
       " 'Week 10': 20,\n",
       " 'Week 11': 10,\n",
       " 'Week 12': 4}"
      ]
     },
     "execution_count": 15,
     "metadata": {},
     "output_type": "execute_result"
    }
   ],
   "source": [
    "# Expected output"
   ]
  },
  {
   "cell_type": "markdown",
   "metadata": {},
   "source": [
    "**f)** Suppose that the price of the product in each week is given by the following list. Use dictionary comprehension to write one line to yield the dictionary mapping the week name to the revenue each week. (Revenue in each week is equal to the sales multiplied by the price.)\n",
    "\n",
    "```python\n",
    "price=[5,5,10,6,5,5,6,8,8,8,5,10]\n",
    "```"
   ]
  },
  {
   "cell_type": "code",
   "execution_count": 10,
   "metadata": {},
   "outputs": [
    {
     "data": {
      "text/plain": [
       "{'Week 1': 50,\n",
       " 'Week 2': 100,\n",
       " 'Week 3': 50,\n",
       " 'Week 4': 150,\n",
       " 'Week 5': 150,\n",
       " 'Week 6': 60,\n",
       " 'Week 7': 108,\n",
       " 'Week 8': 400,\n",
       " 'Week 9': 240,\n",
       " 'Week 10': 160,\n",
       " 'Week 11': 50,\n",
       " 'Week 12': 40}"
      ]
     },
     "execution_count": 10,
     "metadata": {},
     "output_type": "execute_result"
    }
   ],
   "source": [
    "price=[5,5,10,6,5,5,6,8,8,8,5,10]\n",
    "# Write your code below\n",
    "{f'Week {i+1}':sales[i]*price[i] for i in range(len(sales))}"
   ]
  },
  {
   "cell_type": "code",
   "execution_count": 16,
   "metadata": {},
   "outputs": [
    {
     "data": {
      "text/plain": [
       "{'Week 1': 50,\n",
       " 'Week 2': 100,\n",
       " 'Week 3': 50,\n",
       " 'Week 4': 150,\n",
       " 'Week 5': 150,\n",
       " 'Week 6': 60,\n",
       " 'Week 7': 108,\n",
       " 'Week 8': 400,\n",
       " 'Week 9': 240,\n",
       " 'Week 10': 160,\n",
       " 'Week 11': 50,\n",
       " 'Week 12': 40}"
      ]
     },
     "execution_count": 16,
     "metadata": {},
     "output_type": "execute_result"
    }
   ],
   "source": [
    "# Expected output"
   ]
  }
 ],
 "metadata": {
  "kernelspec": {
   "display_name": "Python 3",
   "language": "python",
   "name": "python3"
  },
  "language_info": {
   "codemirror_mode": {
    "name": "ipython",
    "version": 3
   },
   "file_extension": ".py",
   "mimetype": "text/x-python",
   "name": "python",
   "nbconvert_exporter": "python",
   "pygments_lexer": "ipython3",
   "version": "3.8.8"
  }
 },
 "nbformat": 4,
 "nbformat_minor": 4
}
