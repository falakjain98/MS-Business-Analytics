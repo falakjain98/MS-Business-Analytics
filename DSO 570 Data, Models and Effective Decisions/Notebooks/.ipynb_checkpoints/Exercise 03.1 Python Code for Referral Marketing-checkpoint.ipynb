{
 "cells": [
  {
   "cell_type": "markdown",
   "id": "681e7c46",
   "metadata": {},
   "source": [
    "## Exercise 3.1 Python Code for Referral Marketing"
   ]
  },
  {
   "cell_type": "markdown",
   "id": "6cfac0ec",
   "metadata": {},
   "source": [
    "The notebook asks you to write Python code to compute the number of buyers in month 12, using the four steps of algorithmic thinking when developing the code. Since the focus of this week is the thinking process, it is important that you follow the steps, rather than try to code everything at once."
   ]
  },
  {
   "cell_type": "markdown",
   "id": "7446165a",
   "metadata": {},
   "source": [
    "**Step 1. Understand** This step corresponds to the in-class exercise.\n",
    "\n",
    "**Step 2. Decompose** \n",
    "1. There is one buyer in month 0 and one buyer in month 1.\n",
    "2. Loop through months 2 through 12. In each month, the number of buyers is the total in the previous two months."
   ]
  },
  {
   "cell_type": "markdown",
   "id": "7fd1fef6",
   "metadata": {},
   "source": [
    "**Step 3. Analyze:** For each part of the instructions above, plan how you would carry them out using Python. For the trickest parts, write fragments of runnable Python code to implement them, while creating sample intermediate inputs to test each fragment separately on the computer. "
   ]
  },
  {
   "cell_type": "code",
   "execution_count": 2,
   "id": "ed211ba6",
   "metadata": {},
   "outputs": [
    {
     "data": {
      "text/plain": [
       "1"
      ]
     },
     "execution_count": 2,
     "metadata": {},
     "output_type": "execute_result"
    }
   ],
   "source": [
    "# Code Fragment\n",
    "second_last = 0\n",
    "last = 1\n",
    "this_month = last+second_last\n",
    "this_month"
   ]
  },
  {
   "cell_type": "code",
   "execution_count": 4,
   "id": "b27bbcad",
   "metadata": {},
   "outputs": [
    {
     "name": "stdout",
     "output_type": "stream",
     "text": [
      "For first month the number of buyers are 0 + 1: 1\n"
     ]
    }
   ],
   "source": [
    "# Create as many cells as needed for other code fragments\n",
    "print(f'For first month the number of buyers are {second_last} + {last}: {this_month}')\n"
   ]
  },
  {
   "cell_type": "code",
   "execution_count": 17,
   "id": "9683a08e",
   "metadata": {},
   "outputs": [
    {
     "name": "stdout",
     "output_type": "stream",
     "text": [
      "Month 1\n",
      "Month 2\n",
      "Month 3\n",
      "Month 4\n",
      "Month 5\n",
      "Month 6\n",
      "Month 7\n",
      "Month 8\n",
      "Month 9\n",
      "Month 10\n",
      "Month 11\n",
      "Month 12\n"
     ]
    }
   ],
   "source": [
    "for i in range(1,13):\n",
    "    print('Month',i)"
   ]
  },
  {
   "cell_type": "markdown",
   "id": "69736f4f",
   "metadata": {},
   "source": [
    "**Step 4. Synthesize:** Following the instructions from Step 2 and the code fragments from Step 3, write complete Python code to implement the instructions and solve the problem. You should do this in an incremental fashion and print intermediate outputs as you go to make sure that each part of the code matches your expectations."
   ]
  },
  {
   "cell_type": "code",
   "execution_count": 14,
   "id": "af07205e",
   "metadata": {},
   "outputs": [
    {
     "name": "stdout",
     "output_type": "stream",
     "text": [
      "For month 1 the buyers are 1\n",
      "For month 2 the buyers are 2\n",
      "For month 3 the buyers are 3\n",
      "For month 4 the buyers are 5\n",
      "For month 5 the buyers are 8\n",
      "For month 6 the buyers are 13\n",
      "For month 7 the buyers are 21\n",
      "For month 8 the buyers are 34\n",
      "For month 9 the buyers are 55\n",
      "For month 10 the buyers are 89\n",
      "For month 11 the buyers are 144\n",
      "For month 12 the buyers are 233\n"
     ]
    }
   ],
   "source": [
    "# Complete code. It is okay to include intermediate printing to help with debugging\n",
    "second_last = 0\n",
    "last = 1\n",
    "for i in range(1,13):\n",
    "    temp,second_last = second_last,last\n",
    "    last += temp\n",
    "    print(f'For month {i} the buyers are {last}')\n"
   ]
  }
 ],
 "metadata": {
  "kernelspec": {
   "display_name": "Python 3",
   "language": "python",
   "name": "python3"
  },
  "language_info": {
   "codemirror_mode": {
    "name": "ipython",
    "version": 3
   },
   "file_extension": ".py",
   "mimetype": "text/x-python",
   "name": "python",
   "nbconvert_exporter": "python",
   "pygments_lexer": "ipython3",
   "version": "3.8.8"
  }
 },
 "nbformat": 4,
 "nbformat_minor": 5
}
