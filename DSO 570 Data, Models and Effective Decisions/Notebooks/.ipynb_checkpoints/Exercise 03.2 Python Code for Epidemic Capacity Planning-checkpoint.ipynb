{
 "cells": [
  {
   "cell_type": "markdown",
   "id": "aae39baf",
   "metadata": {},
   "source": [
    "## Exercise 3.2 Python Code for Epidemic Capacity Planning\n"
   ]
  },
  {
   "cell_type": "markdown",
   "id": "d47ba922",
   "metadata": {},
   "source": [
    "A city is trying to predict how many ventilators it will need during a certain epidemic. To help the policy makers analyze various scenarios, write a function called **capacityNeeded** with one input parameter:\n",
    "\n",
    "- **arrivals**: a list of forecasted number of arrivals each week of new patients requiring a ventilator.\n",
    "\n",
    "Assume that each patient requires a ventilator for exactly 3 weeks. The function should return an integer corresponding to the minimum number of ventilators needed to satisfy all the demand. \n",
    "\n",
    "For example, if `arrivals=[5,8,3,10,7,4,9,5,8]`, then the function should return 22, because in the last three weeks, 9+5+8=22 ventilators are needed, and having 22 is sufficient to satisfy demand in any week. (In the first week, only 5 ventilators are needed; in the second week, 5+8=13 are needed; in the third week 5+8+3=16 are needed; in the fourth week 8+3+10=21 are needed; in the fifth week, 3+10+7=20 are needed, etc.)"
   ]
  },
  {
   "cell_type": "code",
   "execution_count": 11,
   "id": "cc179fdd",
   "metadata": {},
   "outputs": [
    {
     "name": "stdout",
     "output_type": "stream",
     "text": [
      "Capacity Needed: 22\n"
     ]
    }
   ],
   "source": [
    "# Test code 1\n",
    "arrivals=[5,8,3,10,7,4,9,5,8]\n",
    "print('Capacity Needed:',capacityNeeded(arrivals))"
   ]
  },
  {
   "cell_type": "code",
   "execution_count": 12,
   "id": "ee4dc6f0",
   "metadata": {},
   "outputs": [
    {
     "data": {
      "text/plain": [
       "36"
      ]
     },
     "execution_count": 12,
     "metadata": {},
     "output_type": "execute_result"
    }
   ],
   "source": [
    "# Test code 2\n",
    "capacityNeeded([5,8,3,10,6,11,9,12,15,9,5,7])"
   ]
  },
  {
   "cell_type": "markdown",
   "id": "d65b4f83",
   "metadata": {},
   "source": [
    "**Steps 1 and 2:**\n",
    "\n",
    "This problem can be solved by computing the following table.\n",
    "\n",
    "| Week | Arrival | Demand | Max Demand|\n",
    "|--|--|--|--|\n",
    "|0 |5 |5 |5 |\n",
    "|1 |8 |13 |13 |\n",
    "|2 |3 |16 |16 |\n",
    "|3 |10 |21 |21 |\n",
    "|4 |7 |20 |21 |\n",
    "|5 |4 |21 |21 |\n",
    "|6 |9 |20 |21 |\n",
    "|7 |5 |18 |21 |\n",
    "|8 |8 |22 |22 |\n",
    "\n",
    "The first column keeps track of the week. The second column is from the input list `arrivals`. The third column corresponds to the sum of the last 3 rows of the column \"Arrival.\" The last column maintains a running maximum of the column \"Demand.\""
   ]
  },
  {
   "cell_type": "markdown",
   "id": "f397a812",
   "metadata": {},
   "source": [
    "**Step 3. Analyze:** For each part of the instructions above, plan how you would carry them out using Python. For the trickest parts, write fragments of runnable Python code to implement them, while creating sample intermediate inputs to test each fragment separately on the computer. "
   ]
  },
  {
   "cell_type": "code",
   "execution_count": 1,
   "id": "1fbaf6f8",
   "metadata": {},
   "outputs": [],
   "source": [
    "# Code Fragments\n",
    "arrivals = [5,8,3,10,6,11,9,12,15,9,5,7]\n",
    "demand = arrivals[0]+arrivals[1]+arrivals[2]"
   ]
  },
  {
   "cell_type": "code",
   "execution_count": 4,
   "id": "136dc7b7",
   "metadata": {},
   "outputs": [
    {
     "name": "stdout",
     "output_type": "stream",
     "text": [
      "Week 1, Week 2, Week 3\n",
      "Week 2, Week 3, Week 4\n",
      "Week 3, Week 4, Week 5\n",
      "Week 4, Week 5, Week 6\n",
      "Week 5, Week 6, Week 7\n",
      "Week 6, Week 7, Week 8\n",
      "Week 7, Week 8, Week 9\n",
      "Week 8, Week 9, Week 10\n",
      "Week 9, Week 10, Week 11\n",
      "Week 10, Week 11, Week 12\n"
     ]
    }
   ],
   "source": [
    "for i in range(2,len(arrivals)):\n",
    "    print(f'Week {i-2+1}, Week {i}, Week {i+1}')"
   ]
  },
  {
   "cell_type": "code",
   "execution_count": 8,
   "id": "b225e23f",
   "metadata": {},
   "outputs": [
    {
     "name": "stdout",
     "output_type": "stream",
     "text": [
      "Week 1, Week 2, Week 3\n",
      "Demand: 0+1+2\n",
      "Week 2, Week 3, Week 4\n",
      "Demand: 1+2+3\n",
      "Week 3, Week 4, Week 5\n",
      "Demand: 2+3+4\n",
      "Week 4, Week 5, Week 6\n",
      "Demand: 3+4+5\n",
      "Week 5, Week 6, Week 7\n",
      "Demand: 4+5+6\n",
      "Week 6, Week 7, Week 8\n",
      "Demand: 5+6+7\n",
      "Week 7, Week 8, Week 9\n",
      "Demand: 6+7+8\n",
      "Week 8, Week 9, Week 10\n",
      "Demand: 7+8+9\n",
      "Week 9, Week 10, Week 11\n",
      "Demand: 8+9+10\n",
      "Week 10, Week 11, Week 12\n",
      "Demand: 9+10+11\n"
     ]
    }
   ],
   "source": [
    "def capacityNeeded(arrivals):\n",
    "    for i in range(2,len(arrivals)):\n",
    "        print(f'Week {i-2+1}, Week {i}, Week {i+1}')\n",
    "        print(f'Demand: {i-2}+{i-1}+{i}')\n",
    "capacityNeeded([5,8,3,10,6,11,9,12,15,9,5,7])"
   ]
  },
  {
   "cell_type": "markdown",
   "id": "962e8dea",
   "metadata": {},
   "source": [
    "**Step 4. Synthesize:** Following the instructions from Step 2 and the code fragments from Step 3, write complete Python code to implement the instructions and solve the problem. You should do this in an incremental fashion and print intermediate outputs as you go to make sure that each part of the code matches your expectations.\n"
   ]
  },
  {
   "cell_type": "code",
   "execution_count": 18,
   "id": "2f35fe2d",
   "metadata": {},
   "outputs": [
    {
     "name": "stdout",
     "output_type": "stream",
     "text": [
      "Week\tArrival\tMax Demand\n",
      "0\t5\t16\n",
      "1\t8\t21\n",
      "2\t3\t21\n",
      "3\t10\t27\n",
      "4\t6\t27\n",
      "5\t11\t32\n",
      "6\t9\t36\n",
      "7\t12\t36\n",
      "8\t15\t36\n",
      "9\t9\t36\n"
     ]
    }
   ],
   "source": [
    "# Final code with intermediate printing\n",
    "def capacityNeeded(arrivals):\n",
    "    maximum = 0\n",
    "    print('Week\\tArrival\\tMax Demand')\n",
    "    for i in range(2,len(arrivals)):\n",
    "        if maximum < arrivals[i-2]+arrivals[i-1]+arrivals[i]:\n",
    "            maximum = arrivals[i-2]+arrivals[i-1]+arrivals[i]\n",
    "        print(f'{i-2}\\t{arrivals[i-2]}\\t{maximum}')\n",
    "capacityNeeded([5,8,3,10,6,11,9,12,15,9,5,7])\n",
    "\n",
    "\n"
   ]
  },
  {
   "cell_type": "code",
   "execution_count": 9,
   "id": "fdb580b8",
   "metadata": {},
   "outputs": [
    {
     "name": "stdout",
     "output_type": "stream",
     "text": [
      "Week\tArrival\tDemand\tMax Demand\n",
      "0\t5\t\t5\t5\n",
      "1\t8\t\t13\t13\n",
      "2\t3\t\t16\t16\n",
      "3\t10\t\t21\t21\n",
      "4\t7\t\t20\t21\n",
      "5\t4\t\t21\t21\n",
      "6\t9\t\t20\t21\n",
      "7\t5\t\t18\t21\n",
      "8\t8\t\t22\t22\n",
      "Final answer: 22\n"
     ]
    }
   ],
   "source": [
    "# Sample output with intermediate printing (you don't necessarily need to match the formatting below)"
   ]
  },
  {
   "cell_type": "code",
   "execution_count": 13,
   "id": "149615b3",
   "metadata": {},
   "outputs": [
    {
     "data": {
      "text/plain": [
       "36"
      ]
     },
     "execution_count": 13,
     "metadata": {},
     "output_type": "execute_result"
    }
   ],
   "source": [
    "# Final code without intermediate printing (so you can produce the outputs below without extra printing)\n",
    "def capacityNeeded(arrivals):\n",
    "    maximum = 0\n",
    "    for i in range(2,len(arrivals)):\n",
    "        if maximum < arrivals[i-2]+arrivals[i-1]+arrivals[i]:\n",
    "            maximum = arrivals[i-2]+arrivals[i-1]+arrivals[i]\n",
    "    return(maximum)\n",
    "\n",
    "capacityNeeded([5,8,3,10,6,11,9,12,15,9,5,7])"
   ]
  },
  {
   "cell_type": "code",
   "execution_count": 14,
   "id": "3b2b03df",
   "metadata": {},
   "outputs": [
    {
     "name": "stdout",
     "output_type": "stream",
     "text": [
      "Capacity Needed: 22\n"
     ]
    }
   ],
   "source": [
    "# Test code 1\n",
    "arrivals=[5,8,3,10,7,4,9,5,8]\n",
    "print('Capacity Needed:',capacityNeeded(arrivals))"
   ]
  },
  {
   "cell_type": "code",
   "execution_count": 15,
   "id": "0fbea8f6",
   "metadata": {},
   "outputs": [
    {
     "data": {
      "text/plain": [
       "36"
      ]
     },
     "execution_count": 15,
     "metadata": {},
     "output_type": "execute_result"
    }
   ],
   "source": [
    "# Test code 2\n",
    "capacityNeeded([5,8,3,10,6,11,9,12,15,9,5,7])"
   ]
  }
 ],
 "metadata": {
  "kernelspec": {
   "display_name": "Python 3",
   "language": "python",
   "name": "python3"
  },
  "language_info": {
   "codemirror_mode": {
    "name": "ipython",
    "version": 3
   },
   "file_extension": ".py",
   "mimetype": "text/x-python",
   "name": "python",
   "nbconvert_exporter": "python",
   "pygments_lexer": "ipython3",
   "version": "3.8.8"
  }
 },
 "nbformat": 4,
 "nbformat_minor": 5
}
