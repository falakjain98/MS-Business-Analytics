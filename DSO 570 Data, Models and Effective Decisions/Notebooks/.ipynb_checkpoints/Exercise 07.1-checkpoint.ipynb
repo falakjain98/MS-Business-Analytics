{
 "cells": [
  {
   "cell_type": "markdown",
   "metadata": {},
   "source": [
    "NAME : Falak Jain"
   ]
  },
  {
   "cell_type": "code",
   "execution_count": 3,
   "metadata": {},
   "outputs": [
    {
     "name": "stdout",
     "output_type": "stream",
     "text": [
      "Gurobi Optimizer version 9.1.2 build v9.1.2rc0 (win64)\n",
      "Thread count: 4 physical cores, 8 logical processors, using up to 8 threads\n",
      "Optimize a model with 5 rows, 2 columns and 8 nonzeros\n",
      "Model fingerprint: 0x92fbd0bf\n",
      "Coefficient statistics:\n",
      "  Matrix range     [3e-01, 2e+00]\n",
      "  Objective range  [1e-01, 1e-01]\n",
      "  Bounds range     [0e+00, 0e+00]\n",
      "  RHS range        [9e+03, 3e+04]\n",
      "Presolve removed 2 rows and 0 columns\n",
      "Presolve time: 0.01s\n",
      "Presolved: 3 rows, 2 columns, 6 nonzeros\n",
      "\n",
      "Iteration    Objective       Primal Inf.    Dual Inf.      Time\n",
      "       0    3.5100000e+03   3.375000e+03   0.000000e+00      0s\n",
      "       3    2.5050000e+03   0.000000e+00   0.000000e+00      0s\n",
      "\n",
      "Solved in 3 iterations and 0.01 seconds\n",
      "Optimal objective  2.505000000e+03\n",
      "Optimal daily profit: 2505.0\n",
      "Optimal daily production: X=7500.0 Y=13500.0\n"
     ]
    }
   ],
   "source": [
    "# Solving numerically using Gurobi\n",
    "from gurobipy import Model, GRB\n",
    "mod=Model()\n",
    "X=mod.addVar()\n",
    "Y=mod.addVar()\n",
    "mod.setObjective(0.1*X+0.13*Y,sense=GRB.MAXIMIZE)\n",
    "mod.addConstr(1.5*X+Y<=27000)\n",
    "mod.addConstr(0.3*X+0.5*Y<=9000)\n",
    "mod.addConstr(X+Y<=21000)\n",
    "mod.addConstr(X<=16000)\n",
    "mod.addConstr(Y<=15000)\n",
    "mod.optimize()\n",
    "print(f'Optimal daily profit:',mod.objVal)\n",
    "print(f'Optimal daily production: X={X.x} Y={Y.x}')"
   ]
  }
 ],
 "metadata": {
  "kernelspec": {
   "display_name": "Python 3 (ipykernel)",
   "language": "python",
   "name": "python3"
  },
  "language_info": {
   "codemirror_mode": {
    "name": "ipython",
    "version": 3
   },
   "file_extension": ".py",
   "mimetype": "text/x-python",
   "name": "python",
   "nbconvert_exporter": "python",
   "pygments_lexer": "ipython3",
   "version": "3.8.8"
  }
 },
 "nbformat": 4,
 "nbformat_minor": 4
}
