{
 "cells": [
  {
   "cell_type": "markdown",
   "metadata": {},
   "source": [
    "### Exercise 1.2: Writing a Complete Program\n",
    "\n",
    "Complete the following Jupyter notebook and submit on Blackboard.\n",
    "\n",
    "**a)**  Write a program that asks the user for the quantity sold and the price per unit and multiply them to calculate the total revenue, as in the sample run below. (Hint: you need to convert from string to float before multiplying.)"
   ]
  },
  {
   "cell_type": "code",
   "execution_count": 1,
   "metadata": {},
   "outputs": [
    {
     "name": "stdin",
     "output_type": "stream",
     "text": [
      "Input quantity sold:  4\n",
      "Input the price per unit:  3.5\n"
     ]
    },
    {
     "name": "stdout",
     "output_type": "stream",
     "text": [
      "Total revenue is $14.0\n"
     ]
    }
   ],
   "source": [
    "# Write your code for Exercise 1.2 a) here.\n",
    "qty_sold = float(input('Input quantity sold: '))\n",
    "price = float(input('Input the price per unit: '))\n",
    "print(f'Total revenue is ${qty_sold*price}')"
   ]
  },
  {
   "cell_type": "markdown",
   "metadata": {},
   "source": [
    "**b)** Write a program that calculates the present value of a certain investment, which will pay off a cash value of $C$ in $n$ years. The program should ask the user to input the final cash value $C$, the annual interest rate $r$ (in percentage points), and the number of years $n$. The formula for present value $V$ is\n",
    "\n",
    "$$V=\\frac{C}{(1+\\frac{r}{100})^n}$$\n",
    "\n",
    "You should round the final answer to two decimal places, as in the sample run below."
   ]
  },
  {
   "cell_type": "code",
   "execution_count": 4,
   "metadata": {},
   "outputs": [
    {
     "name": "stdin",
     "output_type": "stream",
     "text": [
      "Input final cash value:  1000000\n",
      "Input annual interest rate in percent:  5\n",
      "Input number of years:  10\n"
     ]
    },
    {
     "name": "stdout",
     "output_type": "stream",
     "text": [
      "The present value is $613913.25\n"
     ]
    }
   ],
   "source": [
    "# Write your code for Exercise 1.2 b) here.\n",
    "final_value = float(input('Input final cash value: '))\n",
    "int_rate = float(input('Input annual interest rate in percent: '))\n",
    "years = float(input('Input number of years: '))\n",
    "print(f'The present value is ${round(final_value/((1+int_rate/100)**years),2)}')"
   ]
  },
  {
   "cell_type": "code",
   "execution_count": null,
   "metadata": {},
   "outputs": [],
   "source": []
  }
 ],
 "metadata": {
  "kernelspec": {
   "display_name": "Python 3",
   "language": "python",
   "name": "python3"
  },
  "language_info": {
   "codemirror_mode": {
    "name": "ipython",
    "version": 3
   },
   "file_extension": ".py",
   "mimetype": "text/x-python",
   "name": "python",
   "nbconvert_exporter": "python",
   "pygments_lexer": "ipython3",
   "version": "3.8.8"
  }
 },
 "nbformat": 4,
 "nbformat_minor": 4
}
