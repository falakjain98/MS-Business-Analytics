{
 "cells": [
  {
   "cell_type": "markdown",
   "metadata": {},
   "source": [
    "## Exercise 1.3: Practicing Conditional Execution\n",
    "\n",
    "### a) Basestock Policy in Inventory Management\n",
    "\n",
    "Write a program that asks the user for the current inventory level. \n",
    "\n",
    "- If the inventory is at least equal to the basestock level of $100$, then output \"Sufficient inventory. No need to order.\" \n",
    "- Otherwise, output \"Order x units\", where $x$ is the difference between the basestock level and the current inventory."
   ]
  },
  {
   "cell_type": "code",
   "execution_count": 3,
   "metadata": {},
   "outputs": [
    {
     "name": "stdin",
     "output_type": "stream",
     "text": [
      "Current inventory: 25\n"
     ]
    },
    {
     "name": "stdout",
     "output_type": "stream",
     "text": [
      "Order 75 units.\n"
     ]
    }
   ],
   "source": [
    "# Write your program here\n",
    "cur_inv = float(input('Current inventory:'))\n",
    "if cur_inv < 100:\n",
    "    print(f'Order {int(100-cur_inv)} units.')\n",
    "else:\n",
    "    print('Sufficient inventory. No need to order.')"
   ]
  },
  {
   "cell_type": "code",
   "execution_count": null,
   "metadata": {},
   "outputs": [
    {
     "name": "stdout",
     "output_type": "stream",
     "text": [
      "Current inventory: 25\n",
      "Order 75 units.\n"
     ]
    }
   ],
   "source": [
    "# Sample run"
   ]
  },
  {
   "cell_type": "markdown",
   "metadata": {},
   "source": [
    "### b) Payroll Calculator"
   ]
  },
  {
   "cell_type": "markdown",
   "metadata": {},
   "source": [
    "Write a program that asks the user to input the number of hours worked this week, and calculates the total pay based on the following contract: for the first 40 hours, the hourly pay is 10. Each hour worked over 40 is compensated at an increased rate of 15 per hour."
   ]
  },
  {
   "cell_type": "code",
   "execution_count": 4,
   "metadata": {},
   "outputs": [
    {
     "name": "stdin",
     "output_type": "stream",
     "text": [
      "Hours worked this week: 42.5\n"
     ]
    },
    {
     "name": "stdout",
     "output_type": "stream",
     "text": [
      "Total pay is $437.5.\n"
     ]
    }
   ],
   "source": [
    "# Write your program here\n",
    "hours = float(input('Hours worked this week:'))\n",
    "print(f'Total pay is ${hours*10 if hours<=40 else 40*10 + (hours-40)*15}.')"
   ]
  },
  {
   "cell_type": "code",
   "execution_count": 44,
   "metadata": {},
   "outputs": [
    {
     "name": "stdout",
     "output_type": "stream",
     "text": [
      "Hours worked this week: 42.5\n",
      "Total pay is $437.5.\n"
     ]
    }
   ],
   "source": [
    "# Sample run"
   ]
  },
  {
   "cell_type": "markdown",
   "metadata": {},
   "source": [
    "### c) Grade Conversion\n",
    "\n",
    "Write a program that asks the user to input a numerical score, and convert it into a letter grade based on the following table:\n",
    "\n",
    "|Score | Grade |\n",
    "| -- | -- |\n",
    "|At least 90 | A  |\n",
    "|At least 80 but less than 90| B |\n",
    "|At least 70 but less than 80| C |\n",
    "| At least 60 but less than 70| D |\n",
    "|Less than 60| F |\n"
   ]
  },
  {
   "cell_type": "code",
   "execution_count": 5,
   "metadata": {},
   "outputs": [
    {
     "name": "stdin",
     "output_type": "stream",
     "text": [
      "Enter numerical score: 90\n"
     ]
    },
    {
     "name": "stdout",
     "output_type": "stream",
     "text": [
      "Letter grade: A\n"
     ]
    }
   ],
   "source": [
    "# Write your program here\n",
    "score = float(input('Enter numerical score:'))\n",
    "if score >= 90:\n",
    "    grade = 'A'\n",
    "elif score >= 80 and score < 90:\n",
    "    grade = 'B'\n",
    "elif score >= 70 and score < 80:\n",
    "    grade = 'C'\n",
    "elif score >= 60 and score <70:\n",
    "    grade = 'D'\n",
    "else:\n",
    "    grade = 'F'\n",
    "print('Letter grade:',grade)"
   ]
  },
  {
   "cell_type": "code",
   "execution_count": 45,
   "metadata": {},
   "outputs": [
    {
     "name": "stdout",
     "output_type": "stream",
     "text": [
      "Enter numerical score: 95\n",
      "Letter grade: A\n"
     ]
    }
   ],
   "source": [
    "# Sample run"
   ]
  }
 ],
 "metadata": {
  "kernelspec": {
   "display_name": "Python 3",
   "language": "python",
   "name": "python3"
  },
  "language_info": {
   "codemirror_mode": {
    "name": "ipython",
    "version": 3
   },
   "file_extension": ".py",
   "mimetype": "text/x-python",
   "name": "python",
   "nbconvert_exporter": "python",
   "pygments_lexer": "ipython3",
   "version": "3.8.8"
  }
 },
 "nbformat": 4,
 "nbformat_minor": 4
}
