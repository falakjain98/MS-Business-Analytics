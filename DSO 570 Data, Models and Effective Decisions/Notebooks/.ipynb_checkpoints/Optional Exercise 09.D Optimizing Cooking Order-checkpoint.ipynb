{
 "cells": [
  {
   "cell_type": "markdown",
   "id": "1a8ea341",
   "metadata": {},
   "source": [
    "## (Optional) Practice Problem: Optimizing Cooking Order \n",
    "\n",
    "Raj is a skilled cook and would like to apply optimiztaion to make his time in the kitchen more efficient. He is attending a potluck later today and would like to cook as much as he can to contribute to the potluck. Since he does not want to spend all day cooking, Raj gave himself a time limit of 1 hour to finish all the preparation and cooking. Below are four dishes he is good at, along with the requisite time for preparing the dish, as well as the time it takes to cook it. Ideally, he wants to bring all of the dishes to the potluck if he can finish all on time. But if he cannot finish all, Raj estimated an interest score for each dish, representing how much his friends would appreciate the dish, and he would like to maximize the total interest scores of the dishes he brings to the potluck. \n",
    "\n",
    "| Dish | Preparation Time | Cooking Time | Interest Score|\n",
    "|--|--|--|--|\n",
    "|Baked Salmon | 10 Min | 10 Min | 6 |\n",
    "|Chicken Curry | 20 Min | 30 Min | 10 |\n",
    "| Lamb Vindaloo | 20 Min | 40 Min | 8 |\n",
    "| Salad | 10 Min | 0 | 4 |\n",
    "\n",
    "As can be seen, each dish has a preparation phase and a cooking phase. For any given dish, the preparation for that dish must be completed before cooking for that dish begins. Raj has enough kitchen supplies and oven/stovetop space such that the cooking portion of all of the dishes can take place simultaneously, and he is so good at multi-tasking that he can manage all of the ongoing cooking at the same time, while possibly preparing for another dish. However, the preparation phase requires his active attention, so Raj canot prepare two dishes at the same time. Moreover, for any given dish, he would like to finish all of the preparations in a consecutive chunk of time and start its cooking before moving on to prepare another dish.\n",
    "\n",
    "For example, if Raj starts at 11am, then he would like to finish everything by noon, at which time he would travel to the potluck. If he first makes the baked salmon, then he would be preparing it until 11:10am and begin cooking it in the oven then. At 11:10am he can decide to start any of the other dishes. If he chooses to do the chicken curry next, then he would be preparing that dish until 11:30am and start cooking it on the stove top at 11:30am, and he would just have enough time to finish that dish by noon. At 11:30am, he can only prepare the salad, because if he started preparing the lamb vindaloo at 11:30am, he would only be able to finish cooking it by 12:30pm, which is too late for the noon deadline.\n",
    "\n",
    "**Write a concrete formulation of a LP/MIP to help Raj plan his order for preparing dishes, so that he can maximize the total interest score of the dishes that he can bring to the potluck. The objective and constraints must be linear.** Your formulation can assume the data above, but you cannot solve the problem manually and hard code the answer. Rather, the underlying ideas must be able to be used to handle different data. Nevetheless, you may assume that as in the sample data above, all of the preparation and cooking times are multiples of 10 minutes, so that if Raj starts cooking at 11am, the only start times that make sense for preparing a new dish are 11am, 11:10am, 11:20am, 11:30am, 11:40am, and 11:50am. \n"
   ]
  },
  {
   "cell_type": "markdown",
   "id": "e511b903",
   "metadata": {},
   "source": [
    "**Decision Variables:**\n",
    "\n",
    "\n",
    "\n",
    "\n",
    "**Objective:**\n",
    "\n",
    "\n",
    "\n",
    "\n",
    "**Constraints:**\n",
    "\n",
    "\n",
    "\n",
    "\n",
    "\n",
    "\n"
   ]
  }
 ],
 "metadata": {
  "kernelspec": {
   "display_name": "Python 3 (ipykernel)",
   "language": "python",
   "name": "python3"
  },
  "language_info": {
   "codemirror_mode": {
    "name": "ipython",
    "version": 3
   },
   "file_extension": ".py",
   "mimetype": "text/x-python",
   "name": "python",
   "nbconvert_exporter": "python",
   "pygments_lexer": "ipython3",
   "version": "3.8.8"
  }
 },
 "nbformat": 4,
 "nbformat_minor": 5
}
