{
 "cells": [
  {
   "cell_type": "markdown",
   "metadata": {},
   "source": [
    "# Name: Falak Jain\n",
    "\n",
    "# Problem Set 7\n",
    "\n",
    "### Learning Objective:\n",
    "\n",
    "- Formulate linear optimization models to inform a business decision.\n",
    "\n",
    "### Overview:\n",
    "\n",
    "This problem set assesses your ability to analyze a given business descision by creating a concrete formulation of a linear optimization model, as discussed in the lectures for weeks 7-9. You should typeset math within Markdown cells using Latex, as discussed in Week 7.\n",
    "\n",
    "### Grading\n",
    "\n",
    "There are three possible scores you can get from submitting this assignment on time (submitting a blank file or one without any apparent effort does not count). Note that the rubric is designed to incentivize you to go for 100% mastery of the material, as the little details matter a lot in business analytics. \n",
    "\n",
    "| Grade | Description |\n",
    "|--|--|\n",
    "| 5 out of 5 | Perfect submission with no significant errors. | \n",
    "| 4 out of 5 | Near perfect submission with one or more significant errors. |\n",
    "| 2 out of 5 | Apparent effort but far from perfect. |"
   ]
  },
  {
   "cell_type": "markdown",
   "metadata": {},
   "source": [
    "## Q1. Nurse Scheduling\n",
    "\n",
    "Hospital administrators must schedule nurses so that the hospital’s patients are provided with adequate care. At the same time, in the face of tighter competition in the health care industry, they must pay careful attention to keeping costs down. \n",
    "\n",
    "From historical records, administrators estimated the minimum number of nurses to have on hand for the various times of the day, as shown in the following table. \n",
    "\n",
    "| Shift | Time | Minimum number of nurses needed |\n",
    "|--|--|--|\n",
    "| 1 | Midnight-4am | 5 |\n",
    "| 2 | 4am-8am | 12 |\n",
    "| 3 | 8am-noon | 14 |\n",
    "| 4 | noon-4pm | 8 |\n",
    "| 5 | 4pm-8pm | 14 |\n",
    "| 6 | 8pm-Midnight | 10 |\n",
    "\n",
    "Nurses work 8 hours a day in two consecutive shifts. As a result, in each shift, there are two types of nurses: those that started in the previous shift (and are now working their second shift), and those that just started in this shift (and will be working in the next shift as well). Note that if a nurse who starts at the 8pm-Midnight shift would finish work on the next day's Midnight-4am shift.\n",
    "\n",
    "Formulate a linear optimization problem to minimize the total number of nurses subject to being able to fulfill all business constraints."
   ]
  },
  {
   "cell_type": "markdown",
   "metadata": {},
   "source": [
    "### Step 1. English Description\n",
    "\n",
    "**Decision:** \n",
    "\n",
    "The number of nurses that should be staffed during each shift\n",
    "\n",
    "**Objective:** \n",
    "\n",
    "Minimize the total number of nurses stationed during all the shifts\n",
    "\n",
    "**Constraints:** \n",
    "- Nurses work two consecutive shifts with a minimum of 8 hours scheduled\n",
    "- Every shift should have atleast the required number of nurses on staff\n",
    "\n",
    "### Step 2. Concrete Formulation\n",
    "\n",
    "**Decision Variable:**\n",
    "- $X_i$: Number of nurses arriving during shift i (integer)\n",
    "\n",
    "**Objective:**\n",
    "$$\\text{Minimize:} \\qquad X_1 + X_2 + X_3 + X_4 + X_5 + X_6$$\n",
    "\n",
    "**Constraints:**\n",
    "$$\\begin{aligned}\n",
    "\\text{(Shift 1)} && X_6 + X_1 & \\ge 5 \\\\\n",
    "\\text{(Shift 2)} && X_1 + X_2 & \\ge 12 \\\\\n",
    "\\text{(Shift 3)} && X_2 + X_3 & \\ge 14 \\\\\n",
    "\\text{(Shift 4)} && X_3 + X_4 & \\ge 8 \\\\\n",
    "\\text{(Shift 5)} && X_4 + X_5 & \\ge 14 \\\\\n",
    "\\text{(Shift 6)} && X_5 + X_6 & \\ge 10 \\\\\n",
    "\\text{(Non negativity)} && X_i & \\ge 10 \\\\\n",
    "\\end{aligned}$$"
   ]
  },
  {
   "cell_type": "markdown",
   "metadata": {},
   "source": [
    "## Q2. Off-Campus Security\n",
    "\n",
    "USC would like to protect every intersection around USC by stationing security staff, so that every intersection either has a staff stationed, or is connected directly to another intersection that has a staff stationed. For example, in the following sample map with 10 intersections, a staff stationed at intersection A is able to protect the intersections A, B and E; a staff stationed at intersection E is able to protect intersections A, E, F and I.\n",
    "\n",
    "![Sample Map for Q2](PS7-Map.png)\n",
    "\n",
    "For the above map, formulate a linear optimization problem to minimize the total number of staff needed, subject to protecting all 10 intersections, as well as satisfying the following constraints:\n",
    "\n",
    "- Staff cannot be stationed at both intersections A and B.\n",
    "- At least three of E, F, G and H must have a staff directly stationed. \n",
    "- No one can be stationed at intersection J.\n",
    "- If someone is stationed at D, then at least one of H or J must be unstationed. (Even though the previous constraint makes this one automatically satisfied, still formulate this constraint as if the previous one didn't exist.)\n",
    "\n",
    "**a)** What is the decision (in words)?\n",
    "\n",
    "Which intersection should be stationed with staff\n",
    "\n"
   ]
  },
  {
   "cell_type": "markdown",
   "metadata": {},
   "source": [
    "**b)** What is the objective (in words)?\n",
    "\n",
    "Minimize the number of staff required to be stationed"
   ]
  },
  {
   "cell_type": "markdown",
   "metadata": {},
   "source": [
    "**c)** Other than the constraints listed in bullets above, describe another constraint implied by the problem text (in words). \n",
    "\n",
    "Every intersection should have a staff stationed or should be directly connected with another intersection which has a staff stationed"
   ]
  },
  {
   "cell_type": "markdown",
   "metadata": {},
   "source": [
    "**d)** Write a concrete formulation using the correct mathematical notation, specifying the decision variables, the objective function and all constraints. \n",
    "\n",
    "**Decision Variable:**\n",
    "- $X_i$: Whether staff is stationed at intersection i (binary)\n",
    "\n",
    "**Objective:**\n",
    "$$\\text{Minimize:} \\qquad X_a + X_b + X_c + X_d + X_e + X_f + X_g + X_h + X_i + X_j$$\n",
    "\n",
    "**Constraints:**\n",
    "$$\\begin{aligned}\n",
    "\\text{(Intersection A)} && X_a + X_b + X_e & \\ge 1 \\\\\n",
    "\\text{(Intersection B)} && X_a + X_b + X_f + X_c & \\ge 1 \\\\\n",
    "\\text{(Intersection C)} && X_b + X_c + X_d + X_g & \\ge 1 \\\\\n",
    "\\text{(Intersection D)} && X_c + X_d + X_h & \\ge 1 \\\\\n",
    "\\text{(Intersection E)} && X_a + X_e + X_f + X_i & \\ge 1 \\\\\n",
    "\\text{(Intersection F)} && X_b + X_e + X_f + X_g + X_i & \\ge 1 \\\\\n",
    "\\text{(Intersection G)} && X_c + X_f + X_g + X_h + X_i & \\ge 1 \\\\\n",
    "\\text{(Intersection H)} && X_d + X_g + X_h + X_j & \\ge 1 \\\\\n",
    "\\text{(Intersection I)} && X_e + X_f + X_g + X_i + X_j & \\ge 1 \\\\\n",
    "\\text{(Intersection J)} && X_h + X_i + X_j & \\ge 1 \\\\\n",
    "\\text{(No Staff on A & B together)} && X_a + X_b & \\le 1 \\\\\n",
    "\\text{(Atleast 3 Staff on Intersection E,F,G & H)} && X_e + X_f + X_g + X_h & \\ge 3 \\\\\n",
    "\\text{(No Staff on Intersection J)} && X_j & = 0 \\\\\n",
    "\\text{(If Intersection D, than H or J unstationed)} && X_d + X_h + X_j & \\le 2 \\\\\n",
    "\\end{aligned}$$\n"
   ]
  },
  {
   "cell_type": "markdown",
   "metadata": {},
   "source": [
    "## Q3. Course Selection \n",
    "\n",
    "Aithne is currently enrolled in a Masters program at USC and is planning her courses for the next 2 semesters. There are five elective courses she would like to take, which we refer to as Courses A, B, C, D, and E. Based on her conversations with past students and prospective employers, she has estimated an \"importance score\" for each course, as well as the \"workload\" in terms of hours of work needed per week. Moreover, the schedules for the next two semesters have already been published, and this gives her information about scheduling conflicts as well as how much time she can afford to spend on these electives after accounting for her mandatory courses and other responsibilities. **Each course is a single semester long and can be taken only once, but the same course may be offered in both semesters, so she can choose when to take each course as well as whether to take it.** These information are summarized in the three tables below.\n",
    "\n",
    "| Course | **A** | **B** | **C** | **D** | **E** |\n",
    "|--|--|--|--|--|--|\n",
    "|Importance Score |5 | 3 | 2 |4 |5|\n",
    "| Workload (hours/week) | 15 | 10 | 10 | 5| 10\n",
    "\n",
    "| Schedule | Semester 1 | Semester 2 |\n",
    "|--|--|--|\n",
    "|**A**| Tue/Thu 11-12:20 |  Mon/Wed 12:30-13:50 |\n",
    "|**B**| Tue 9-12:00 | Tue 9:00-12:00 |\n",
    "|**C**| Mon/Wed 12:30-13:50 | Not offered |\n",
    "|**D**| Mon 12:00-15:00 | Tue/Thu 11:00-12:20 |\n",
    "|**E**| Mon/Wed 14:00-15:50 | Tue/Thu 11:00-12:20 | \n",
    "|Total time she can afford to spend | 20 hours/week | 15 hours/week |\n",
    "\n",
    "Furthermore, **Course A is a pre-requisite of Course D**, which means that if Aithne wishes to take Course D, she must take it in Semester 2 after taking Course A in Semester 1. Moreover, **Course A is a co-requisite of Course E**, which means that if she takes Course E in a semester, she must either be concurrently taking Course A or has already completed the course in a previous semester. (However, Course A can be taken by itself, without concurrently taking Course E.)\n",
    "\n",
    "Aithne would like to plan a schedule that maximizes the total importance score of courses she takes. For example, if she takes only courses A and B in the two semesters, the total importance score would be $5+3=8$. **Write a concrete formulation of a LP/MIP to help Aithne plan her course selection for the two semesters. The objective and all constraints must be linear.**"
   ]
  },
  {
   "cell_type": "markdown",
   "metadata": {},
   "source": [
    "**Decision Variable:**\n",
    "- $X_i$: Whether course i is taken in Semester 1 (binary)\n",
    "- $Y_i$: Whether course i is taken in Semester 2 (binary)\n",
    "\n",
    "**Objective:**\n",
    "$$\\text{Maximize:} \\qquad 5(X_a + Y_a) + 3(X_b + Y_b) + 2(X_c + Y_c) + 4(X_d + Y_d) + 5(X_e + Y_e)$$\n",
    "\n",
    "**Constraints:**\n",
    "$$\\begin{aligned}\n",
    "\\text{(Semester 1 Hours)} && 15X_a + 10X_b + 10X_c + 5X_d + 10X_e & \\le 20 \\\\\n",
    "\\text{(Semester 2 Hours)} && 15X_a + 10X_b + 10X_c + 5X_d + 10X_e & \\le 15 \\\\\n",
    "\\text{(Course A Completion)} && X_a + Y_a & \\le 1 \\\\\n",
    "\\text{(Course B Completion)} && X_b + Y_b & \\le 1 \\\\\n",
    "\\text{(Course C Completion)} && X_c + Y_c & \\le 1 \\\\\n",
    "\\text{(Course D Completion)} && X_d + Y_d & \\le 1 \\\\\n",
    "\\text{(Course E Completion)} && X_e + Y_e & \\le 1 \\\\\n",
    "\\text{(Semester 1 Course A & B Conflict)} && X_a + X_b & \\le 1 \\\\\n",
    "\\text{(Semester 1 Course C & D Conflict)} && X_c + X_d & \\le 1 \\\\\n",
    "\\text{(Semester 1 Course D & E Conflict)} && X_d + X_e & \\le 1 \\\\\n",
    "\\text{(Semester 2 Course D & E Conflict)} && Y_d + Y_e & \\le 1 \\\\\n",
    "\\text{(Semester 2 Course B & E Conflict)} && Y_b + Y_e & \\le 1 \\\\\n",
    "\\text{(Semester 2 Course B & D Conflict)} && Y_b + Y_d & \\le 1 \\\\\n",
    "\\text{(Semester 2 Course C Not Offerred)} && Y_c & = 0 \\\\\n",
    "\\text{(Course A Prerequisite to Course D)} && X_a & \\ge Y_d \\\\\n",
    "\\text{(Course A Prerequisite to Course D)} && X_d & = 0\\\\\n",
    "\\text{(Course A Corequisite of Course E)} && X_a & \\ge X_e \\\\\n",
    "\\text{(Course A Corequisite of Course E)} && X_a + Y_a & \\ge Y_e \\\\\n",
    "\\end{aligned}$$"
   ]
  }
 ],
 "metadata": {
  "kernelspec": {
   "display_name": "Python 3 (ipykernel)",
   "language": "python",
   "name": "python3"
  },
  "language_info": {
   "codemirror_mode": {
    "name": "ipython",
    "version": 3
   },
   "file_extension": ".py",
   "mimetype": "text/x-python",
   "name": "python",
   "nbconvert_exporter": "python",
   "pygments_lexer": "ipython3",
   "version": "3.8.8"
  }
 },
 "nbformat": 4,
 "nbformat_minor": 2
}
