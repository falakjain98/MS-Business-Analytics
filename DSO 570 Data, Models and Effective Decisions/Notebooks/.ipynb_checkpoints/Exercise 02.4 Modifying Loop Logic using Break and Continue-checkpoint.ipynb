{
 "cells": [
  {
   "cell_type": "markdown",
   "metadata": {},
   "source": [
    "## Exercise 2.4. Modifying Loop Logic using Break and Continue\n"
   ]
  },
  {
   "cell_type": "markdown",
   "metadata": {},
   "source": [
    "**a)** Write a function called `firstOutbreak` with two input arguments:\n",
    "\n",
    "- **cases**: a list of positive integers corresponding to the number of cases of a certain disease each week. The weeks are labelled starting from 0.\n",
    "- **threshold:** a positive integer denoting what is an outbreak.\n",
    "\n",
    "The function should print (not return) one sentence that specifies the first week in which the number of cases is at least equal to the threshold, along with the number of cases that week. If the number of cases never reaches the threshold, the program should print an alternative statement, as in the sample outputs below."
   ]
  },
  {
   "cell_type": "code",
   "execution_count": 1,
   "metadata": {},
   "outputs": [],
   "source": [
    "# Write your function here\n",
    "def firstOutbreak(cases,threshold):\n",
    "    maxValue = -1\n",
    "    for value in cases:\n",
    "        if value > threshold:\n",
    "            maxValue = value\n",
    "            maxIndex = cases.index(value)\n",
    "            break\n",
    "    if maxValue < threshold:\n",
    "        print('There is no outbreak in the given data.')\n",
    "    else:\n",
    "        print(f'The first outbreak occured in week {maxIndex} with {maxValue} cases.')"
   ]
  },
  {
   "cell_type": "code",
   "execution_count": 2,
   "metadata": {},
   "outputs": [
    {
     "name": "stdout",
     "output_type": "stream",
     "text": [
      "The first outbreak occured in week 2 with 30 cases.\n"
     ]
    }
   ],
   "source": [
    "firstOutbreak([10,20,30,15,50],25)"
   ]
  },
  {
   "cell_type": "code",
   "execution_count": 3,
   "metadata": {},
   "outputs": [
    {
     "name": "stdout",
     "output_type": "stream",
     "text": [
      "There is no outbreak in the given data.\n"
     ]
    }
   ],
   "source": [
    "firstOutbreak([10,20,30,15,50],51)"
   ]
  },
  {
   "cell_type": "markdown",
   "metadata": {},
   "source": [
    "**b)** Write a program that asks the user to type a sentence (in lower case without punctuations) and print the same sentence but removing all occurrences of the following words: \"a\", \"the\", \"of\", \"and\", \"in\", \"i\", \"you\", \"he\", \"she\". \n",
    "\n",
    "Hint: you can split a sentence into a list of words using \n",
    "```python\n",
    "sentence.split()\n",
    "```\n",
    "assuming that the object `sentence` is a string. You can also print words one by one and separate them by spaces using ```print(..., end=' ')```."
   ]
  },
  {
   "cell_type": "code",
   "execution_count": 4,
   "metadata": {},
   "outputs": [
    {
     "name": "stdin",
     "output_type": "stream",
     "text": [
      "Please enter a sentence: i enjoy doing analytics with Python and R\n"
     ]
    },
    {
     "name": "stdout",
     "output_type": "stream",
     "text": [
      "enjoy doing analytics with Python R\n"
     ]
    }
   ],
   "source": [
    "# Write your code for b) here\n",
    "sentence = input('Please enter a sentence:')\n",
    "words = sentence.split()\n",
    "for i in words:\n",
    "    if i in [\"a\", \"the\", \"of\", \"and\", \"in\", \"i\", \"you\", \"he\", \"she\"]:\n",
    "        words.remove(i)\n",
    "print(' '.join(words))"
   ]
  }
 ],
 "metadata": {
  "kernelspec": {
   "display_name": "Python 3",
   "language": "python",
   "name": "python3"
  },
  "language_info": {
   "codemirror_mode": {
    "name": "ipython",
    "version": 3
   },
   "file_extension": ".py",
   "mimetype": "text/x-python",
   "name": "python",
   "nbconvert_exporter": "python",
   "pygments_lexer": "ipython3",
   "version": "3.8.8"
  }
 },
 "nbformat": 4,
 "nbformat_minor": 4
}
