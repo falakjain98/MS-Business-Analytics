{
 "cells": [
  {
   "cell_type": "markdown",
   "metadata": {},
   "source": [
    "## Exercise 4.3 Forecasting Harvard Tuition\n",
    "\n",
    "An **exponential smoothing** forecast is given by \n",
    "\n",
    "$$ F_1 = A_0, $$\n",
    "\n",
    "$$ F_t = \\alpha A_{t-1} + (1-\\alpha) F_{t-1} \\quad \\mbox{ for } t > 1, $$\n",
    "\n",
    "where\n",
    "- $\\alpha \\in (0,1]$ is the smoothing constant chosen by the user. \n",
    "- $A_t$ is the actual value for time period $t = 0, 1, ...$, \n",
    "- $F_t$ is the forecast for time period $t = 1, ...$. (Note that there is no $F_0$ because no forecast is available for the initial period $t=0$.)\n",
    "\n",
    "**Write a program that applies exponential smoothing to forecast the tuition of Harvard's MBA program in 2018 using $\\alpha=0.8$, and calculates the mean absolute deviation of the forecast from 2000-2017 (inclusive)**, as defined by the average value of $|F_t-A_t|$ for these years. The outputed print statement must exactly match the sample output below, and the final outputs should be rounded to 2 decimal places. The input data is given in the code cell below.\n",
    "\n",
    "**Sample output:**\n",
    "```\n",
    "Tuition forecast for 2018: 63064.18\n",
    "Mean error since 2000: 2577.42\n",
    "```\n",
    "\n",
    "The following table illustrates the logic in the first few years. \n",
    "\n",
    "|Year|\tTuition|\tForecast       |\tError          |\n",
    "|--|--|--|--|\n",
    "|1985|\t10000|\t-----------------------------------------------------  | ---------------------------------------- |\n",
    "|1986|\t10750|\t$10000$ |\t$|10750-10000|=750$ |\n",
    "|1987|\t11900|\t$0.8(10750)+0.2(10000)=10600$ |\t$|11900-10600|=1300$ |\n",
    "|1988|\t13300|\t$0.8(11900)+0.2(10600)=11640$ |\t$|13300-11640|=1660$ |\n",
    "|1989|\t14250| $0.8(13300)+0.2(11640)=12968$ |\t$|14250-12968|=1282$ |\n",
    "...\n",
    "\n",
    "**Hints**: Absolute values can be calculated using the `abs(...)` functions, see `help(abs)`. "
   ]
  },
  {
   "cell_type": "code",
   "execution_count": 11,
   "metadata": {},
   "outputs": [],
   "source": [
    "# Data\n",
    "years = [1985, 1986, 1987, 1988, 1989, 1990, 1991, 1992, 1993, 1994, 1995, 1996, 1997, 1998, 1999, 2000, 2001, 2002, 2003, 2004, 2005, 2006, 2007, 2008, 2009, 2010, 2011, 2012, 2013, 2014, 2015, 2016, 2017]\n",
    "tuitions = [10000, 10750, 11900, 13300, 14250, 15350, 16400, 17500, 18550, 19750, 21000, 22700, 23840, 25000, 26260, 27250, 28500, 30050, 31800, 33650, 35600, 37500, 39600, 41900, 43800, 46150, 48600, 51200, 53500, 56175, 58875, 61225, 63675]"
   ]
  },
  {
   "cell_type": "markdown",
   "metadata": {},
   "source": [
    "**Step 1. Understand** (Write your summary of the task in this Markdown cell)\n",
    "\n",
    "Given the initial forecast and smoothing constant, predict the tuition at Harvard after a given number of years."
   ]
  },
  {
   "cell_type": "markdown",
   "metadata": {},
   "source": [
    "**Step 2. Decompose** (Write your instructions in this Markdown cell)\n",
    "\n",
    "- For every year, we have the tuition amount\n",
    "- The forecast for the second year in the list is the same as the actual tuition for the first year\n",
    "- For the subsequent years, follow the exponential smoothing formula with the given smoothing constant to find the forecast for every year until 2018\n",
    "- Calculate the error for every year and find the mean error since the year 2000"
   ]
  },
  {
   "cell_type": "markdown",
   "metadata": {},
   "source": [
    "**Step 3. Analyze** (Write code fragments in separate code cells to implement the trickiest steps)"
   ]
  },
  {
   "cell_type": "code",
   "execution_count": 10,
   "metadata": {},
   "outputs": [
    {
     "name": "stdout",
     "output_type": "stream",
     "text": [
      "10600.0\n",
      "750\n"
     ]
    }
   ],
   "source": [
    "actual1 = 10000\n",
    "forecast2 = 10000\n",
    "actual2 = 10750\n",
    "error = abs(forecast - actual2)\n",
    "alpha = 0.8\n",
    "forecast3 = alpha*actual2 + (1-alpha)*forecast2\n",
    "print(forecast3)\n",
    "print(error)"
   ]
  },
  {
   "cell_type": "code",
   "execution_count": 13,
   "metadata": {},
   "outputs": [
    {
     "name": "stdout",
     "output_type": "stream",
     "text": [
      "Year\tTuition\n",
      "1985\t10000\n",
      "1986\t10750\n",
      "1987\t11900\n",
      "1988\t13300\n",
      "1989\t14250\n",
      "1990\t15350\n",
      "1991\t16400\n",
      "1992\t17500\n",
      "1993\t18550\n",
      "1994\t19750\n",
      "1995\t21000\n",
      "1996\t22700\n",
      "1997\t23840\n",
      "1998\t25000\n",
      "1999\t26260\n",
      "2000\t27250\n",
      "2001\t28500\n",
      "2002\t30050\n",
      "2003\t31800\n",
      "2004\t33650\n",
      "2005\t35600\n",
      "2006\t37500\n",
      "2007\t39600\n",
      "2008\t41900\n",
      "2009\t43800\n",
      "2010\t46150\n",
      "2011\t48600\n",
      "2012\t51200\n",
      "2013\t53500\n",
      "2014\t56175\n",
      "2015\t58875\n",
      "2016\t61225\n",
      "2017\t63675\n"
     ]
    }
   ],
   "source": [
    "print('Year\\tTuition')\n",
    "for i in range(len(years)):\n",
    "    print(f'{years[i]}\\t{tuitions[i]}')"
   ]
  },
  {
   "cell_type": "code",
   "execution_count": 22,
   "metadata": {},
   "outputs": [
    {
     "name": "stdout",
     "output_type": "stream",
     "text": [
      "Year\tTuition\tForecast\tError\n",
      "1985\t10000\t10000\t0\n",
      "1986\t10750\t10000\t750\n",
      "1987\t11900\t10600.0\t1300.0\n",
      "1988\t13300\t11640.0\t1660.0\n",
      "1989\t14250\t12968.0\t1282.0\n",
      "1990\t15350\t13993.599999999999\t1356.4000000000015\n",
      "1991\t16400\t15078.72\t1321.2800000000007\n",
      "1992\t17500\t16135.743999999999\t1364.2560000000012\n",
      "1993\t18550\t17227.1488\t1322.851200000001\n",
      "1994\t19750\t18285.42976\t1464.570240000001\n",
      "1995\t21000\t19457.085951999998\t1542.9140480000024\n",
      "1996\t22700\t20691.4171904\t2008.5828096000005\n",
      "1997\t23840\t22298.283438079998\t1541.7165619200023\n",
      "1998\t25000\t23531.656687616\t1468.3433123840005\n",
      "1999\t26260\t24706.3313375232\t1553.6686624768008\n",
      "2000\t27250\t25949.266267504638\t1300.7337324953623\n",
      "2001\t28500\t26989.853253500925\t1510.1467464990747\n",
      "2002\t30050\t28197.970650700183\t1852.029349299817\n",
      "2003\t31800\t29679.594130140034\t2120.4058698599656\n",
      "2004\t33650\t31375.918826028006\t2274.081173971994\n",
      "2005\t35600\t33195.1837652056\t2404.8162347944017\n",
      "2006\t37500\t35119.03675304112\t2380.9632469588832\n",
      "2007\t39600\t37023.80735060822\t2576.192649391778\n",
      "2008\t41900\t39084.761470121644\t2815.2385298783556\n",
      "2009\t43800\t41336.952294024326\t2463.047705975674\n",
      "2010\t46150\t43307.39045880486\t2842.609541195139\n",
      "2011\t48600\t45581.47809176097\t3018.521908239032\n",
      "2012\t51200\t47996.29561835219\t3203.704381647811\n",
      "2013\t53500\t50559.25912367043\t2940.740876329568\n",
      "2014\t56175\t52911.85182473408\t3263.1481752659165\n",
      "2015\t58875\t55522.370364946815\t3352.6296350531848\n",
      "2016\t61225\t58204.47407298936\t3020.52592701064\n",
      "2017\t63675\t60620.89481459787\t3054.105185402128\n"
     ]
    }
   ],
   "source": [
    "print('Year\\tTuition\\tForecast\\tError')\n",
    "alpha = 0.8\n",
    "forecast = [tuitions[0],tuitions[0]]\n",
    "error = []\n",
    "for i in range(len(years)):\n",
    "    if i > 1:\n",
    "        forecast.append(alpha*tuitions[i-1]+(1-alpha)*forecast[i-1])\n",
    "    error.append(abs(forecast[i]-tuitions[i]))\n",
    "    print(f'{years[i]}\\t{tuitions[i]}\\t{forecast[i]}\\t{error[i]}')"
   ]
  },
  {
   "cell_type": "markdown",
   "metadata": {},
   "source": [
    "**Step 4. Synthesis**"
   ]
  },
  {
   "cell_type": "code",
   "execution_count": 31,
   "metadata": {},
   "outputs": [
    {
     "name": "stdout",
     "output_type": "stream",
     "text": [
      "Row\tYear\tTuition\tForecast\t\tError\n",
      "0\t1985\t10000\n",
      "1\t1986\t10750\t10000\t\t\t750\t\n",
      "2\t1987\t11900\t10600.0\t\t\t1300.0\t\n",
      "3\t1988\t13300\t11640.0\t\t\t1660.0\t\n",
      "4\t1989\t14250\t12968.0\t\t\t1282.0\t\n",
      "5\t1990\t15350\t13993.6\t\t\t1356.3999999999996\t\n",
      "6\t1991\t16400\t15078.720000000001\t\t\t1321.2799999999988\t\n",
      "7\t1992\t17500\t16135.744\t\t\t1364.2559999999994\t\n",
      "8\t1993\t18550\t17227.1488\t\t\t1322.851200000001\t\n",
      "9\t1994\t19750\t18285.42976\t\t\t1464.570240000001\t\n",
      "10\t1995\t21000\t19457.085952\t\t\t1542.9140479999987\t\n",
      "11\t1996\t22700\t20691.4171904\t\t\t2008.5828096000005\t\n",
      "12\t1997\t23840\t22298.28343808\t\t\t1541.7165619199986\t\n",
      "13\t1998\t25000\t23531.656687616\t\t\t1468.3433123840005\t\n",
      "14\t1999\t26260\t24706.3313375232\t\t\t1553.6686624768008\t\n",
      "15\t2000\t27250\t25949.26626750464\t\t\t1300.7337324953587\tInclude this row\n",
      "16\t2001\t28500\t26989.85325350093\t\t\t1510.146746499071\tInclude this row\n",
      "17\t2002\t30050\t28197.970650700187\t\t\t1852.0293492998135\tInclude this row\n",
      "18\t2003\t31800\t29679.594130140038\t\t\t2120.405869859962\tInclude this row\n",
      "19\t2004\t33650\t31375.918826028006\t\t\t2274.081173971994\tInclude this row\n",
      "20\t2005\t35600\t33195.1837652056\t\t\t2404.8162347944017\tInclude this row\n",
      "21\t2006\t37500\t35119.03675304112\t\t\t2380.9632469588832\tInclude this row\n",
      "22\t2007\t39600\t37023.80735060822\t\t\t2576.192649391778\tInclude this row\n",
      "23\t2008\t41900\t39084.761470121644\t\t\t2815.2385298783556\tInclude this row\n",
      "24\t2009\t43800\t41336.95229402433\t\t\t2463.0477059756668\tInclude this row\n",
      "25\t2010\t46150\t43307.39045880487\t\t\t2842.609541195132\tInclude this row\n",
      "26\t2011\t48600\t45581.478091760975\t\t\t3018.521908239025\tInclude this row\n",
      "27\t2012\t51200\t47996.2956183522\t\t\t3203.7043816478035\tInclude this row\n",
      "28\t2013\t53500\t50559.25912367044\t\t\t2940.7408763295607\tInclude this row\n",
      "29\t2014\t56175\t52911.85182473409\t\t\t3263.1481752659092\tInclude this row\n",
      "30\t2015\t58875\t55522.37036494682\t\t\t3352.6296350531775\tInclude this row\n",
      "31\t2016\t61225\t58204.47407298937\t\t\t3020.5259270106326\tInclude this row\n",
      "32\t2017\t63675\t60620.89481459787\t\t\t3054.105185402128\tInclude this row\n",
      "Tuition forecast for 2018: 63064.18\n",
      "Mean error since 2000: 2577.42\n"
     ]
    }
   ],
   "source": [
    "# Aggregated code with intermediate printing (your table doesn't have to exact match the following)\n",
    "print('Year\\tTuition\\tForecast\\tError')\n",
    "alpha = 0.8\n",
    "forecast = [tuitions[0],tuitions[0]]\n",
    "error = []\n",
    "for i in range(len(years)):\n",
    "    if i > 1:\n",
    "        forecast.append(alpha*tuitions[i-1]+(1-alpha)*forecast[i-1])\n",
    "    error.append(abs(forecast[i]-tuitions[i]))\n",
    "    print(f'{years[i]}\\t{tuitions[i]}\\t{forecast[i]}\\t{error[i]}')\n",
    "print(f'Tuition forecast for 2018: {round(alpha*tuitions[-1]+(1-alpha)*forecast[-1],2)}')\n",
    "print(f'Mean error since 2000: {round(sum(error[15:])/len(error[15:]),2)}')"
   ]
  },
  {
   "cell_type": "code",
   "execution_count": 32,
   "metadata": {},
   "outputs": [
    {
     "name": "stdout",
     "output_type": "stream",
     "text": [
      "Tuition forecast for 2018: 63064.18\n",
      "Mean error since 2000: 2577.42\n"
     ]
    }
   ],
   "source": [
    "# Final code after commenting out the intermediate printing\n",
    "alpha = 0.8\n",
    "forecast = [tuitions[0],tuitions[0]]\n",
    "error = []\n",
    "for i in range(len(years)):\n",
    "    if i > 1:\n",
    "        forecast.append(alpha*tuitions[i-1]+(1-alpha)*forecast[i-1])\n",
    "    error.append(abs(forecast[i]-tuitions[i]))\n",
    "print(f'Tuition forecast for 2018: {round(alpha*tuitions[-1]+(1-alpha)*forecast[-1],2)}')\n",
    "print(f'Mean error since 2000: {round(sum(error[15:])/len(error[15:]),2)}')"
   ]
  }
 ],
 "metadata": {
  "kernelspec": {
   "display_name": "Python 3",
   "language": "python",
   "name": "python3"
  },
  "language_info": {
   "codemirror_mode": {
    "name": "ipython",
    "version": 3
   },
   "file_extension": ".py",
   "mimetype": "text/x-python",
   "name": "python",
   "nbconvert_exporter": "python",
   "pygments_lexer": "ipython3",
   "version": "3.8.8"
  }
 },
 "nbformat": 4,
 "nbformat_minor": 4
}
