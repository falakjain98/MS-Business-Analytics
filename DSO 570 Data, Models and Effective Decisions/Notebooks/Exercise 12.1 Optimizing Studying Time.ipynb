{
 "cells": [
  {
   "cell_type": "markdown",
   "id": "9886bc9d",
   "metadata": {
    "toc": true
   },
   "source": [
    "<h1>Table of Contents<span class=\"tocSkip\"></span></h1>\n",
    "<div class=\"toc\"><ul class=\"toc-item\"><li><span><a href=\"#Exercise-12.1:-Optimizing-Studying-Time\" data-toc-modified-id=\"Exercise-12.1:-Optimizing-Studying-Time-1\"><span class=\"toc-item-num\">1&nbsp;&nbsp;</span>Exercise 12.1: Optimizing Studying Time</a></span></li></ul></div>"
   ]
  },
  {
   "cell_type": "markdown",
   "id": "e174d2be",
   "metadata": {},
   "source": [
    "## Exercise 12.1: Optimizing Studying Time \n",
    "\n",
    "Dominique is applying what he learned about optimization to improve his time usage while studying for final exams. He has created a table listing the various topics to study for, his current estimated level of mastery of each topic, the difficulty of the topic as measured by the number of hours studying needed for him to gain an additional level of mastery, and the importance of sufficiently mastering the topic for his future career. For each topic, a level of mastery of 5 is the threshold for \"sufficient mastery,\"  and although it is possible to achieve beyond level 5, it is not necessary for him at this point. The two desirable outcomes Dominique would like to achieve are as follows:\n",
    "\n",
    "1. Attaining level 5 mastery for all topics as much as he can, especially for the most important topics.\n",
    "2. Not spending too much time in total, so as to maintain a sane work-life balance and fulfill other responsibilities.\n",
    "\n",
    "To achieve these goals, he has formulated the following optimization problem. \n",
    "\n",
    "**Data:** \n",
    "\n",
    "- $T$: set of topics.\n",
    "- $c_t$: current level of mastery for topic $t \\in T$ before studying for finals. \n",
    "- $d_t$: difficulty of topic $t$ as measured by the number of hours needed to gain each additional level of mastery.\n",
    "- $w_t$: importance of achieving at least level 5 mastery for his future career.\n",
    "- $B$: budget of time he would like to allocate in terms of the total hours of studying for these topics.\n",
    "\n",
    "**Decision Variables:**\n",
    "\n",
    "- $x_t$: number of hours to study for topic $t \\in T$. (Continuous)\n",
    "- $g_t$: auxiliary decision variable for each topic $t\\in T$ representing the gap between his level of mastery after studying and the target mastery level of $5$. (Continuous) \n",
    "\n",
    "**Objective and Constraints:**\n",
    "\n",
    "$$\\begin{aligned}\n",
    "\\text{Minimize} && \\sum_{t \\in T} w_t g_t^2 \\\\\n",
    "\\text{s.t.}  \\\\\n",
    "&& \\sum_{t \\in T}x_t & \\le B \\\\\n",
    "&& g_t & \\ge 5- c_t - \\frac{x_t}{d_t} && \\text{for each topic $t \\in T$.}\\\\\n",
    "&& x_t,g_t & \\ge 0 && \\text{for each topic $t \\in T$.}\n",
    "\\end{aligned}$$\n",
    "\n",
    "**Write a function called \"optimizeTime\" with two input parameters:**\n",
    "\n",
    "- **inputFile**: filename of a CSV file providing the data on the various topics. You may assume that the column headers of the input file are exactly as in the attached file \"12-time-input.csv\". The four columns correspond exactly to the first four data variables listed in the formulation.\n",
    "- **B**: a positive number giving the value of the data variable $B$. \n",
    "\n",
    "**Your function should return a Pandas Series in which the index denotes the topic names and the value the optimal number of hours to study for that topic. Only topics with studying time at least 0.01 hours should be included.** The topic names (for the index) are given as the first column of the inputFile, and the optimal number of hours of studying for topic $t$ is given by $x_t$.\n",
    "\n",
    "For the test run, you should download the input file attached to this exercise into the same directory as the Jupyter notebook."
   ]
  },
  {
   "cell_type": "code",
   "execution_count": 5,
   "id": "9355f07f",
   "metadata": {},
   "outputs": [
    {
     "data": {
      "text/plain": [
       "A1    11.40\n",
       "A2     5.79\n",
       "dtype: float64"
      ]
     },
     "execution_count": 5,
     "metadata": {},
     "output_type": "execute_result"
    }
   ],
   "source": [
    "# Hint: you can create a Series as follows\n",
    "s=pd.Series(dtype=float)\n",
    "s['A1']=11.4\n",
    "s['A2']=5.79\n",
    "s"
   ]
  },
  {
   "cell_type": "code",
   "execution_count": 11,
   "id": "2fe17b76",
   "metadata": {},
   "outputs": [],
   "source": [
    "# Write your final code here\n",
    "import pandas as pd\n",
    "from gurobipy import Model, GRB\n",
    "def optimizeTime(inputFile, B):\n",
    "    data = pd.read_csv(inputFile, index_col = 0)\n",
    "    T = data.index\n",
    "    c = data[\"Current Mastery\"]\n",
    "    d = data[\"Difficulty\"]\n",
    "    w = data[\"Importance\"]\n",
    "    mod = Model()\n",
    "    x = mod.addVars(T)\n",
    "    g = mod.addVars(T)\n",
    "    mod.setObjective(sum(w[t]*g[t]*g[t] for t in T))\n",
    "    mod.addConstr(sum(x[t] for t in T) <= B)\n",
    "    for t in T:\n",
    "        mod.addConstr(g[t] >= 5 - c[t] - x[t]/d[t])\n",
    "    mod.setParam(\"OutputFlag\", False)\n",
    "    mod.optimize()\n",
    "    ans = pd.Series(dtype = float)\n",
    "    for t in T:\n",
    "        if x[t].x >= 0.01:\n",
    "            ans[t] = x[t].x\n",
    "    return ans\n"
   ]
  },
  {
   "cell_type": "code",
   "execution_count": 12,
   "id": "1d9ef06f",
   "metadata": {},
   "outputs": [
    {
     "data": {
      "text/plain": [
       "A1    11.448087\n",
       "A2     5.792350\n",
       "B1     1.908197\n",
       "B2     7.977049\n",
       "B3     2.158470\n",
       "C1     0.715847\n",
       "dtype: float64"
      ]
     },
     "execution_count": 12,
     "metadata": {},
     "output_type": "execute_result"
    }
   ],
   "source": [
    "# Test code \n",
    "optimizeTime('12-time-input.csv',30)"
   ]
  }
 ],
 "metadata": {
  "kernelspec": {
   "display_name": "Python 3 (ipykernel)",
   "language": "python",
   "name": "python3"
  },
  "language_info": {
   "codemirror_mode": {
    "name": "ipython",
    "version": 3
   },
   "file_extension": ".py",
   "mimetype": "text/x-python",
   "name": "python",
   "nbconvert_exporter": "python",
   "pygments_lexer": "ipython3",
   "version": "3.8.8"
  },
  "toc": {
   "base_numbering": 1,
   "nav_menu": {},
   "number_sections": true,
   "sideBar": true,
   "skip_h1_title": false,
   "title_cell": "Table of Contents",
   "title_sidebar": "Contents",
   "toc_cell": true,
   "toc_position": {},
   "toc_section_display": true,
   "toc_window_display": false
  }
 },
 "nbformat": 4,
 "nbformat_minor": 5
}
