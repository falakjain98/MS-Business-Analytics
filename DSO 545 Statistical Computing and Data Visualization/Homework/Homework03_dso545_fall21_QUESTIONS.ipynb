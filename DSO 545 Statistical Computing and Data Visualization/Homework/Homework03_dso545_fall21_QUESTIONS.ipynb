{
 "cells": [
  {
   "cell_type": "markdown",
   "metadata": {
    "id": "ty_Gvth62Tav"
   },
   "source": [
    "# Homework 3\n",
    "\n",
    "### Due: Sunday Oct 3, at 11:59pm via Blackboard"
   ]
  },
  {
   "cell_type": "code",
   "execution_count": 1,
   "metadata": {},
   "outputs": [],
   "source": [
    "import pandas as pd\n",
    "import numpy as np\n",
    "import matplotlib.pyplot as plt\n",
    "import seaborn as sns\n",
    "\n",
    "plt.style.use('ggplot')"
   ]
  },
  {
   "cell_type": "markdown",
   "metadata": {},
   "source": [
    "## Problem 1: Peformance of Large vs. Small Companies\n",
    "\n",
    "Companies vary greatly in size. This variation can hide how well a company is performing. Rather than looking at the raw profit numbers, analysts consider financial ratios that adjust for the size of the company. A popular ratio is the return on assets, defined as:\n",
    "\n",
    "**Return on Assets $= Net Income/Total Assets$**\n",
    "\n",
    "Net income is another name for profits, and the total assets of a company is the value of everything it owns that is used to produce profits. The return on assets indicates how much profit the company generates relative to the amount that it invested to make that profit. A company with losses rather than profits has a negative return on assets. \n",
    "\n",
    "**Data:** The data set `Company.csv` gives the company name, total assets (in Millions \\$), net income (in Millions \\$), and the number of employees reported by 167 retailers in the United States. \n",
    "\n",
    "In the following questions, you will be performing an **exploratory data analysis (EDA)** for the given companies data. "
   ]
  },
  {
   "cell_type": "code",
   "execution_count": 3,
   "metadata": {},
   "outputs": [
    {
     "data": {
      "text/html": [
       "<div>\n",
       "<style scoped>\n",
       "    .dataframe tbody tr th:only-of-type {\n",
       "        vertical-align: middle;\n",
       "    }\n",
       "\n",
       "    .dataframe tbody tr th {\n",
       "        vertical-align: top;\n",
       "    }\n",
       "\n",
       "    .dataframe thead th {\n",
       "        text-align: right;\n",
       "    }\n",
       "</style>\n",
       "<table border=\"1\" class=\"dataframe\">\n",
       "  <thead>\n",
       "    <tr style=\"text-align: right;\">\n",
       "      <th></th>\n",
       "      <th>Company Name</th>\n",
       "      <th>Total Assets (M$)</th>\n",
       "      <th>Net Income (M$)</th>\n",
       "      <th># Employees</th>\n",
       "    </tr>\n",
       "  </thead>\n",
       "  <tbody>\n",
       "    <tr>\n",
       "      <th>0</th>\n",
       "      <td>1-800-FLOWERS.COM</td>\n",
       "      <td>256</td>\n",
       "      <td>-4</td>\n",
       "      <td>2200</td>\n",
       "    </tr>\n",
       "    <tr>\n",
       "      <th>1</th>\n",
       "      <td>99 CENTS ONLY STORES</td>\n",
       "      <td>824</td>\n",
       "      <td>74</td>\n",
       "      <td>12000</td>\n",
       "    </tr>\n",
       "    <tr>\n",
       "      <th>2</th>\n",
       "      <td>A.C. MOORE ARTS &amp; CRAFTS INC</td>\n",
       "      <td>237</td>\n",
       "      <td>-30</td>\n",
       "      <td>4710</td>\n",
       "    </tr>\n",
       "    <tr>\n",
       "      <th>3</th>\n",
       "      <td>ABERCROMBIE &amp; FITCH  -CL A</td>\n",
       "      <td>2948</td>\n",
       "      <td>150</td>\n",
       "      <td>85000</td>\n",
       "    </tr>\n",
       "    <tr>\n",
       "      <th>4</th>\n",
       "      <td>ADVANCE AUTO PARTS INC</td>\n",
       "      <td>3354</td>\n",
       "      <td>346</td>\n",
       "      <td>51017</td>\n",
       "    </tr>\n",
       "  </tbody>\n",
       "</table>\n",
       "</div>"
      ],
      "text/plain": [
       "                   Company Name  Total Assets (M$)  Net Income (M$)  \\\n",
       "0             1-800-FLOWERS.COM                256               -4   \n",
       "1          99 CENTS ONLY STORES                824               74   \n",
       "2  A.C. MOORE ARTS & CRAFTS INC                237              -30   \n",
       "3    ABERCROMBIE & FITCH  -CL A               2948              150   \n",
       "4        ADVANCE AUTO PARTS INC               3354              346   \n",
       "\n",
       "   # Employees  \n",
       "0         2200  \n",
       "1        12000  \n",
       "2         4710  \n",
       "3        85000  \n",
       "4        51017  "
      ]
     },
     "execution_count": 3,
     "metadata": {},
     "output_type": "execute_result"
    }
   ],
   "source": [
    "company = pd.read_csv('Company.csv')\n",
    "company.head()"
   ]
  },
  {
   "cell_type": "markdown",
   "metadata": {},
   "source": [
    "### 1.1. (2 points) Compute and report (in a short paragraph of text) the following summary statistics for the `Net Income (M\\$)` data (round your values to the nearest integer):\n",
    "\n",
    "    - Mean\n",
    "    - Median\n",
    "    - Standard Deviation\n",
    "    - Range\n",
    "    - IQR "
   ]
  },
  {
   "cell_type": "code",
   "execution_count": 5,
   "metadata": {},
   "outputs": [
    {
     "name": "stdout",
     "output_type": "stream",
     "text": [
      "334\n",
      "34.0\n",
      "1385\n",
      "17899\n",
      "188\n"
     ]
    }
   ],
   "source": [
    "print(round(company['Net Income (M$)'].mean()))\n",
    "print(company['Net Income (M$)'].median())\n",
    "print(round(company['Net Income (M$)'].std()))\n",
    "print(company['Net Income (M$)'].max() - company['Net Income (M$)'].min())\n",
    "q3, q1 = np.percentile(company['Net Income (M$)'], [75 ,25])\n",
    "print(round(q3-q1))\n"
   ]
  },
  {
   "cell_type": "markdown",
   "metadata": {},
   "source": [
    "The mean income of companies is 334M. However, this is likely affected by outliers as the median income is 34M with a high standard deviation of 1384M. The range of income is 17899M with the interquartile range at 188M which accounts for the middle 50\\% of companies when sorted by net income."
   ]
  },
  {
   "cell_type": "markdown",
   "metadata": {},
   "source": [
    "### 1.2. (2 points) Report the % of companies that inccured losses. For this question, you are expected to add a new categorical variable to the dataset (call it `Profit`) with two levels: `PROFIT` if the net income is above zero (net income >= 0) and `LOSS` if the net income is below zero (net income < 0). \n",
    "\n"
   ]
  },
  {
   "cell_type": "code",
   "execution_count": 62,
   "metadata": {},
   "outputs": [
    {
     "name": "stdout",
     "output_type": "stream",
     "text": [
      "Percentage of companies suffering losses: 23.35\n"
     ]
    }
   ],
   "source": [
    "company['Profit'] = company['Net Income (M$)'].apply(lambda x: 'PROFIT' if x>=0 else 'LOSS')\n",
    "print('Percentage of companies suffering losses:',round((company['Profit']=='LOSS').sum()*100/company.shape[0],2))"
   ]
  },
  {
   "cell_type": "markdown",
   "metadata": {},
   "source": [
    "### 1.3. (2 points) What is the shape of the distribution of the variable `Net Income (M$)`? For this question, you are expected to create **both** a histogram and a boxplot, and comment about the shape of the distribution and if there are any companies with an outlier net income."
   ]
  },
  {
   "cell_type": "code",
   "execution_count": 29,
   "metadata": {},
   "outputs": [
    {
     "data": {
      "image/png": "[encoded data removed]",
      "text/plain": [
       "<Figure size 500x500 with 1 Axes>"
      ]
     },
     "metadata": {},
     "output_type": "display_data"
    }
   ],
   "source": [
    "sns.displot(company['Net Income (M$)'],kde = True)\n",
    "plt.show()"
   ]
  },
  {
   "cell_type": "code",
   "execution_count": 46,
   "metadata": {},
   "outputs": [
    {
     "data": {
      "image/png": "[encoded data removed]",
      "text/plain": [
       "<Figure size 640x480 with 1 Axes>"
      ]
     },
     "metadata": {},
     "output_type": "display_data"
    }
   ],
   "source": [
    "sns.boxplot(data = company, y= 'Net Income (M$)')\n",
    "plt.show()"
   ]
  },
  {
   "cell_type": "markdown",
   "metadata": {},
   "source": [
    "The Net Income follows a normal distribution, however, there are a large number of outliers on either side of the distribution."
   ]
  },
  {
   "cell_type": "markdown",
   "metadata": {},
   "source": [
    "### 1.4. (2 points) A company that has more than 5000 employees is considered a large one, otherwise it is cosidered small. Create a new categroical variable (call it `Company Size`) with two levels: `LARGE` if the number of employees is greater than 5000 (employees > 5000), and `SMALL` otherwise (employees <=5000). What is the % of large and small companies in the dataset?"
   ]
  },
  {
   "cell_type": "code",
   "execution_count": 39,
   "metadata": {},
   "outputs": [
    {
     "data": {
      "text/plain": [
       "LARGE    68.86\n",
       "SMALL    31.14\n",
       "Name: Company Size, dtype: float64"
      ]
     },
     "execution_count": 39,
     "metadata": {},
     "output_type": "execute_result"
    }
   ],
   "source": [
    "company['Company Size'] = company['# Employees'].apply(lambda x: 'LARGE' if x > 5000 else 'SMALL')\n",
    "round(company['Company Size'].value_counts(normalize = True)*100,2)"
   ]
  },
  {
   "cell_type": "markdown",
   "metadata": {},
   "source": [
    "### 1.5. (2 points) Create a side-by-side boxplot to compare the distribtution of `Net Income (M$)` for both Large and Small companies. What does this graph tell you about the net income for both types of companies?"
   ]
  },
  {
   "cell_type": "code",
   "execution_count": 41,
   "metadata": {},
   "outputs": [
    {
     "data": {
      "image/png": "[encoded data removed]",
      "text/plain": [
       "<Figure size 640x480 with 1 Axes>"
      ]
     },
     "metadata": {},
     "output_type": "display_data"
    }
   ],
   "source": [
    "sns.boxplot(data = company, \n",
    "            y = 'Net Income (M$)', \n",
    "            x = 'Company Size')\n",
    "plt.show()"
   ]
  },
  {
   "cell_type": "markdown",
   "metadata": {},
   "source": [
    "The graph tells us that the net income for large and small companies is fairly similar however, large companies tend to have more outliers with some companies making massive losses and gains."
   ]
  },
  {
   "cell_type": "markdown",
   "metadata": {},
   "source": [
    "### 1.6. (3 points) A better way to assess the performance of companies is to look at their `Return on Assets` instead of looking only at net income. The return on assets indicates how much profit the company generates relative to the amount that it invested to make profits. \n",
    "\n",
    "- Create a new numerical variable (call it `Return on Assets`) based on the formula: **Return on Assets = Net Income/Total Assets**. \n",
    "\n",
    "- What is the shape of the distribution of the variable `Return on Assets`? For this question, you are expected to create **both** a histogram and a boxplot, and comment about the shape of the distribution and if there are any companies with an outlier return on assets value.\n",
    "\n",
    "- Create a side-by-side boxplot to compare the distribtution of `Return on Assets` for both Large and Small companies. What does this graph tell you about the return on assets for both types of companies?"
   ]
  },
  {
   "cell_type": "code",
   "execution_count": 42,
   "metadata": {},
   "outputs": [],
   "source": [
    "company['Return on Assets'] = company['Net Income (M$)']/company['Total Assets (M$)']"
   ]
  },
  {
   "cell_type": "code",
   "execution_count": 43,
   "metadata": {},
   "outputs": [
    {
     "name": "stderr",
     "output_type": "stream",
     "text": [
      "C:\\ProgramData\\Anaconda3\\lib\\site-packages\\seaborn\\distributions.py:2557: FutureWarning: `distplot` is a deprecated function and will be removed in a future version. Please adapt your code to use either `displot` (a figure-level function with similar flexibility) or `histplot` (an axes-level function for histograms).\n",
      "  warnings.warn(msg, FutureWarning)\n"
     ]
    },
    {
     "data": {
      "image/png": "[encoded data removed]",
      "text/plain": [
       "<Figure size 640x480 with 1 Axes>"
      ]
     },
     "metadata": {},
     "output_type": "display_data"
    }
   ],
   "source": [
    "sns.distplot(company['Return on Assets'],kde = True)\n",
    "plt.show()"
   ]
  },
  {
   "cell_type": "code",
   "execution_count": 47,
   "metadata": {},
   "outputs": [
    {
     "data": {
      "image/png": "[encoded data removed]",
      "text/plain": [
       "<Figure size 640x480 with 1 Axes>"
      ]
     },
     "metadata": {},
     "output_type": "display_data"
    }
   ],
   "source": [
    "sns.boxplot(data = company, y= 'Return on Assets')\n",
    "plt.show()"
   ]
  },
  {
   "cell_type": "code",
   "execution_count": 45,
   "metadata": {},
   "outputs": [
    {
     "data": {
      "image/png": "[encoded data removed]",
      "text/plain": [
       "<Figure size 640x480 with 1 Axes>"
      ]
     },
     "metadata": {},
     "output_type": "display_data"
    }
   ],
   "source": [
    "sns.boxplot(data = company, \n",
    "            y = 'Return on Assets', \n",
    "            x = 'Company Size')\n",
    "plt.show()"
   ]
  },
  {
   "cell_type": "markdown",
   "metadata": {},
   "source": [
    "- Return on Assets follows a normal distribution with more negative outliers on the left of the histogram compared to positive outliers to the right\n",
    "- The median Return on Assets is slightly higher for Large companies than for Small companies, however, large companies have more negative return on asset outliers"
   ]
  },
  {
   "cell_type": "markdown",
   "metadata": {},
   "source": [
    "### 1.7. (1 point) Which company has the least return on assets?"
   ]
  },
  {
   "cell_type": "code",
   "execution_count": 59,
   "metadata": {},
   "outputs": [
    {
     "name": "stdout",
     "output_type": "stream",
     "text": [
      "Company with lowest return on assets: SCHOOL SPECIALTY INC\n"
     ]
    }
   ],
   "source": [
    "print('Company with lowest return on assets:',company.loc[company['Return on Assets'] == company['Return on Assets'].min(),'Company Name'].values[0])"
   ]
  },
  {
   "cell_type": "markdown",
   "metadata": {},
   "source": [
    "## Problem 2: Data Analytics Jobs in the USA\n",
    "\n",
    "Soon you will start getting ready to explore the job market for data analyst/data scientist positions (internship and full time). In this case study, we will assess the job market in the USA, and in particular, we are interested to learn which business sectors and companies are looking to hire data analysts in different US states. This should get you started with your internship search for Summer 2022.\n",
    "\n",
    "The data set (`DataAnalyst.csv`) is available for download from blackboard. It is scrapped and cleaned from GlassDoor using this [web scrapper](https://github.com/picklesueat/data_jobs_data/blob/master/glass_scraper.py). We will learn how to scrap data from the web in the second half of the semester.\n",
    "\n",
    "The dataset has a sample of 2,253 job listings. The following table describes some of the variables necessary to answer the questions in this quiz:\n",
    "\n",
    "|**Variables**    |**Explanation**|\n",
    "|:-----------------|:--------------|\n",
    "|`Job Title`| listing's job title\n",
    "|`Job Description`| listing's job description\n",
    "|`Rating`| the company's rating on Glassdoor\n",
    "|`Company Name` | the listing company's name\n",
    "|`City` | city location of the company \n",
    "|`State`| state location of the company\n",
    "|`Size` | number of employees in the company \n",
    "|`Founded`| the year the company was founded\n",
    "|`Type of ownership`| is the company private, public, non-profit, etc.?\n",
    "|`Industry`| primary business activity \n",
    "|`Sector`| economic sector classification for the company\n",
    "|`Revenue`| company's income generated from business operations\n",
    "|`Competitors`| the company's list of competitors\n",
    "|`Min_Salary`| the minimum salary listing for the position\n",
    "|`Max_Salary`| the maximum salary listing for the position\n",
    "\n",
    "**In this homework, we assume that the sample of 2,253 job listings is a representative of the population of job listings in the USA.**"
   ]
  },
  {
   "cell_type": "code",
   "execution_count": 6,
   "metadata": {},
   "outputs": [
    {
     "data": {
      "text/html": [
       "<div>\n",
       "<style scoped>\n",
       "    .dataframe tbody tr th:only-of-type {\n",
       "        vertical-align: middle;\n",
       "    }\n",
       "\n",
       "    .dataframe tbody tr th {\n",
       "        vertical-align: top;\n",
       "    }\n",
       "\n",
       "    .dataframe thead th {\n",
       "        text-align: right;\n",
       "    }\n",
       "</style>\n",
       "<table border=\"1\" class=\"dataframe\">\n",
       "  <thead>\n",
       "    <tr style=\"text-align: right;\">\n",
       "      <th></th>\n",
       "      <th>Job Title</th>\n",
       "      <th>Job Description</th>\n",
       "      <th>Rating</th>\n",
       "      <th>Company Name</th>\n",
       "      <th>City</th>\n",
       "      <th>State</th>\n",
       "      <th>Size</th>\n",
       "      <th>Founded</th>\n",
       "      <th>Type of ownership</th>\n",
       "      <th>Industry</th>\n",
       "      <th>Sector</th>\n",
       "      <th>Revenue</th>\n",
       "      <th>Competitors</th>\n",
       "      <th>Min_Salary</th>\n",
       "      <th>Max_Salary</th>\n",
       "    </tr>\n",
       "  </thead>\n",
       "  <tbody>\n",
       "    <tr>\n",
       "      <th>0</th>\n",
       "      <td>Data Analyst, Center on Immigration and Justic...</td>\n",
       "      <td>Are you eager to roll up your sleeves and harn...</td>\n",
       "      <td>3.2</td>\n",
       "      <td>Vera Institute of Justice</td>\n",
       "      <td>New York</td>\n",
       "      <td>NY</td>\n",
       "      <td>201 to 500 employees</td>\n",
       "      <td>1961.0</td>\n",
       "      <td>Nonprofit Organization</td>\n",
       "      <td>Social Assistance</td>\n",
       "      <td>Non-Profit</td>\n",
       "      <td>$100 to $500 million (USD)</td>\n",
       "      <td>NaN</td>\n",
       "      <td>37</td>\n",
       "      <td>66</td>\n",
       "    </tr>\n",
       "    <tr>\n",
       "      <th>1</th>\n",
       "      <td>Quality Data Analyst</td>\n",
       "      <td>Overview\\n\\nProvides analytical and technical ...</td>\n",
       "      <td>3.8</td>\n",
       "      <td>Visiting Nurse Service of New York</td>\n",
       "      <td>New York</td>\n",
       "      <td>NY</td>\n",
       "      <td>10000+ employees</td>\n",
       "      <td>1893.0</td>\n",
       "      <td>Nonprofit Organization</td>\n",
       "      <td>Health Care Services &amp; Hospitals</td>\n",
       "      <td>Health Care</td>\n",
       "      <td>$2 to $5 billion (USD)</td>\n",
       "      <td>NaN</td>\n",
       "      <td>37</td>\n",
       "      <td>66</td>\n",
       "    </tr>\n",
       "    <tr>\n",
       "      <th>2</th>\n",
       "      <td>Senior Data Analyst, Insights &amp; Analytics Team...</td>\n",
       "      <td>We’re looking for a Senior Data Analyst who ha...</td>\n",
       "      <td>3.4</td>\n",
       "      <td>Squarespace</td>\n",
       "      <td>New York</td>\n",
       "      <td>NY</td>\n",
       "      <td>1001 to 5000 employees</td>\n",
       "      <td>2003.0</td>\n",
       "      <td>Company - Private</td>\n",
       "      <td>Internet</td>\n",
       "      <td>Information Technology</td>\n",
       "      <td>Unknown / Non-Applicable</td>\n",
       "      <td>GoDaddy</td>\n",
       "      <td>37</td>\n",
       "      <td>66</td>\n",
       "    </tr>\n",
       "    <tr>\n",
       "      <th>3</th>\n",
       "      <td>Data Analyst</td>\n",
       "      <td>Requisition NumberRR-0001939\\nRemote:Yes\\nWe c...</td>\n",
       "      <td>4.1</td>\n",
       "      <td>Celerity</td>\n",
       "      <td>New York</td>\n",
       "      <td>NY</td>\n",
       "      <td>201 to 500 employees</td>\n",
       "      <td>2002.0</td>\n",
       "      <td>Subsidiary or Business Segment</td>\n",
       "      <td>IT Services</td>\n",
       "      <td>Information Technology</td>\n",
       "      <td>$50 to $100 million (USD)</td>\n",
       "      <td>NaN</td>\n",
       "      <td>37</td>\n",
       "      <td>66</td>\n",
       "    </tr>\n",
       "    <tr>\n",
       "      <th>4</th>\n",
       "      <td>Reporting Data Analyst</td>\n",
       "      <td>ABOUT FANDUEL GROUP\\n\\nFanDuel Group is a worl...</td>\n",
       "      <td>3.9</td>\n",
       "      <td>FanDuel</td>\n",
       "      <td>New York</td>\n",
       "      <td>NY</td>\n",
       "      <td>501 to 1000 employees</td>\n",
       "      <td>2009.0</td>\n",
       "      <td>Company - Private</td>\n",
       "      <td>Sports &amp; Recreation</td>\n",
       "      <td>Arts, Entertainment &amp; Recreation</td>\n",
       "      <td>$100 to $500 million (USD)</td>\n",
       "      <td>DraftKings</td>\n",
       "      <td>37</td>\n",
       "      <td>66</td>\n",
       "    </tr>\n",
       "  </tbody>\n",
       "</table>\n",
       "</div>"
      ],
      "text/plain": [
       "                                           Job Title  \\\n",
       "0  Data Analyst, Center on Immigration and Justic...   \n",
       "1                               Quality Data Analyst   \n",
       "2  Senior Data Analyst, Insights & Analytics Team...   \n",
       "3                                       Data Analyst   \n",
       "4                             Reporting Data Analyst   \n",
       "\n",
       "                                     Job Description  Rating  \\\n",
       "0  Are you eager to roll up your sleeves and harn...     3.2   \n",
       "1  Overview\\n\\nProvides analytical and technical ...     3.8   \n",
       "2  We’re looking for a Senior Data Analyst who ha...     3.4   \n",
       "3  Requisition NumberRR-0001939\\nRemote:Yes\\nWe c...     4.1   \n",
       "4  ABOUT FANDUEL GROUP\\n\\nFanDuel Group is a worl...     3.9   \n",
       "\n",
       "                         Company Name      City State                    Size  \\\n",
       "0           Vera Institute of Justice  New York    NY    201 to 500 employees   \n",
       "1  Visiting Nurse Service of New York  New York    NY        10000+ employees   \n",
       "2                         Squarespace  New York    NY  1001 to 5000 employees   \n",
       "3                            Celerity  New York    NY    201 to 500 employees   \n",
       "4                             FanDuel  New York    NY   501 to 1000 employees   \n",
       "\n",
       "   Founded               Type of ownership                          Industry  \\\n",
       "0   1961.0          Nonprofit Organization                 Social Assistance   \n",
       "1   1893.0          Nonprofit Organization  Health Care Services & Hospitals   \n",
       "2   2003.0               Company - Private                          Internet   \n",
       "3   2002.0  Subsidiary or Business Segment                       IT Services   \n",
       "4   2009.0               Company - Private               Sports & Recreation   \n",
       "\n",
       "                             Sector                     Revenue Competitors  \\\n",
       "0                        Non-Profit  $100 to $500 million (USD)         NaN   \n",
       "1                       Health Care      $2 to $5 billion (USD)         NaN   \n",
       "2            Information Technology    Unknown / Non-Applicable     GoDaddy   \n",
       "3            Information Technology   $50 to $100 million (USD)         NaN   \n",
       "4  Arts, Entertainment & Recreation  $100 to $500 million (USD)  DraftKings   \n",
       "\n",
       "   Min_Salary  Max_Salary  \n",
       "0          37          66  \n",
       "1          37          66  \n",
       "2          37          66  \n",
       "3          37          66  \n",
       "4          37          66  "
      ]
     },
     "execution_count": 6,
     "metadata": {},
     "output_type": "execute_result"
    }
   ],
   "source": [
    "jobs = pd.read_csv('DataAnalyst.csv')\n",
    "jobs.head()"
   ]
  },
  {
   "cell_type": "markdown",
   "metadata": {},
   "source": [
    "### 2.1 (1 point) What are the top 4 sectors with the highest count of job listings?"
   ]
  },
  {
   "cell_type": "code",
   "execution_count": 77,
   "metadata": {},
   "outputs": [
    {
     "data": {
      "text/plain": [
       "Sector\n",
       "Information Technology    570\n",
       "Business Services         524\n",
       "Finance                   169\n",
       "Health Care               151\n",
       "Name: Job Title, dtype: int64"
      ]
     },
     "execution_count": 77,
     "metadata": {},
     "output_type": "execute_result"
    }
   ],
   "source": [
    "jobs.groupby('Sector')['Job Title'].count().sort_values(ascending = False)[:4]"
   ]
  },
  {
   "cell_type": "markdown",
   "metadata": {},
   "source": [
    "Therefore, IT, Business Services, Finance and Health Care are the top 4 sectors with the highest count of job listings"
   ]
  },
  {
   "cell_type": "markdown",
   "metadata": {},
   "source": [
    "### 2.2. (1 point) Suppose that you want to focus your job search in the following sectors (Information Technology, Business Services, Finance,  Health Care). Create a subset of the given dataset that include only these 4 sectors with their data (include all variables).\n",
    "\n",
    "*Name the subset dataframe `mydata`.*"
   ]
  },
  {
   "cell_type": "code",
   "execution_count": 7,
   "metadata": {},
   "outputs": [
    {
     "data": {
      "text/html": [
       "<div>\n",
       "<style scoped>\n",
       "    .dataframe tbody tr th:only-of-type {\n",
       "        vertical-align: middle;\n",
       "    }\n",
       "\n",
       "    .dataframe tbody tr th {\n",
       "        vertical-align: top;\n",
       "    }\n",
       "\n",
       "    .dataframe thead th {\n",
       "        text-align: right;\n",
       "    }\n",
       "</style>\n",
       "<table border=\"1\" class=\"dataframe\">\n",
       "  <thead>\n",
       "    <tr style=\"text-align: right;\">\n",
       "      <th></th>\n",
       "      <th>Job Title</th>\n",
       "      <th>Job Description</th>\n",
       "      <th>Rating</th>\n",
       "      <th>Company Name</th>\n",
       "      <th>City</th>\n",
       "      <th>State</th>\n",
       "      <th>Size</th>\n",
       "      <th>Founded</th>\n",
       "      <th>Type of ownership</th>\n",
       "      <th>Industry</th>\n",
       "      <th>Sector</th>\n",
       "      <th>Revenue</th>\n",
       "      <th>Competitors</th>\n",
       "      <th>Min_Salary</th>\n",
       "      <th>Max_Salary</th>\n",
       "    </tr>\n",
       "  </thead>\n",
       "  <tbody>\n",
       "    <tr>\n",
       "      <th>1</th>\n",
       "      <td>Quality Data Analyst</td>\n",
       "      <td>Overview\\n\\nProvides analytical and technical ...</td>\n",
       "      <td>3.8</td>\n",
       "      <td>Visiting Nurse Service of New York</td>\n",
       "      <td>New York</td>\n",
       "      <td>NY</td>\n",
       "      <td>10000+ employees</td>\n",
       "      <td>1893.0</td>\n",
       "      <td>Nonprofit Organization</td>\n",
       "      <td>Health Care Services &amp; Hospitals</td>\n",
       "      <td>Health Care</td>\n",
       "      <td>$2 to $5 billion (USD)</td>\n",
       "      <td>NaN</td>\n",
       "      <td>37</td>\n",
       "      <td>66</td>\n",
       "    </tr>\n",
       "    <tr>\n",
       "      <th>2</th>\n",
       "      <td>Senior Data Analyst, Insights &amp; Analytics Team...</td>\n",
       "      <td>We’re looking for a Senior Data Analyst who ha...</td>\n",
       "      <td>3.4</td>\n",
       "      <td>Squarespace</td>\n",
       "      <td>New York</td>\n",
       "      <td>NY</td>\n",
       "      <td>1001 to 5000 employees</td>\n",
       "      <td>2003.0</td>\n",
       "      <td>Company - Private</td>\n",
       "      <td>Internet</td>\n",
       "      <td>Information Technology</td>\n",
       "      <td>Unknown / Non-Applicable</td>\n",
       "      <td>GoDaddy</td>\n",
       "      <td>37</td>\n",
       "      <td>66</td>\n",
       "    </tr>\n",
       "    <tr>\n",
       "      <th>3</th>\n",
       "      <td>Data Analyst</td>\n",
       "      <td>Requisition NumberRR-0001939\\nRemote:Yes\\nWe c...</td>\n",
       "      <td>4.1</td>\n",
       "      <td>Celerity</td>\n",
       "      <td>New York</td>\n",
       "      <td>NY</td>\n",
       "      <td>201 to 500 employees</td>\n",
       "      <td>2002.0</td>\n",
       "      <td>Subsidiary or Business Segment</td>\n",
       "      <td>IT Services</td>\n",
       "      <td>Information Technology</td>\n",
       "      <td>$50 to $100 million (USD)</td>\n",
       "      <td>NaN</td>\n",
       "      <td>37</td>\n",
       "      <td>66</td>\n",
       "    </tr>\n",
       "    <tr>\n",
       "      <th>5</th>\n",
       "      <td>Data Analyst</td>\n",
       "      <td>About Cubist\\nCubist Systematic Strategies is ...</td>\n",
       "      <td>3.9</td>\n",
       "      <td>Point72</td>\n",
       "      <td>New York</td>\n",
       "      <td>NY</td>\n",
       "      <td>1001 to 5000 employees</td>\n",
       "      <td>2014.0</td>\n",
       "      <td>Company - Private</td>\n",
       "      <td>Investment Banking &amp; Asset Management</td>\n",
       "      <td>Finance</td>\n",
       "      <td>Unknown / Non-Applicable</td>\n",
       "      <td>NaN</td>\n",
       "      <td>37</td>\n",
       "      <td>66</td>\n",
       "    </tr>\n",
       "    <tr>\n",
       "      <th>6</th>\n",
       "      <td>Business/Data Analyst (FP&amp;A)</td>\n",
       "      <td>Two Sigma is a different kind of investment ma...</td>\n",
       "      <td>4.4</td>\n",
       "      <td>Two Sigma</td>\n",
       "      <td>New York</td>\n",
       "      <td>NY</td>\n",
       "      <td>1001 to 5000 employees</td>\n",
       "      <td>2001.0</td>\n",
       "      <td>Company - Private</td>\n",
       "      <td>Investment Banking &amp; Asset Management</td>\n",
       "      <td>Finance</td>\n",
       "      <td>Unknown / Non-Applicable</td>\n",
       "      <td>NaN</td>\n",
       "      <td>37</td>\n",
       "      <td>66</td>\n",
       "    </tr>\n",
       "  </tbody>\n",
       "</table>\n",
       "</div>"
      ],
      "text/plain": [
       "                                           Job Title  \\\n",
       "1                               Quality Data Analyst   \n",
       "2  Senior Data Analyst, Insights & Analytics Team...   \n",
       "3                                       Data Analyst   \n",
       "5                                       Data Analyst   \n",
       "6                       Business/Data Analyst (FP&A)   \n",
       "\n",
       "                                     Job Description  Rating  \\\n",
       "1  Overview\\n\\nProvides analytical and technical ...     3.8   \n",
       "2  We’re looking for a Senior Data Analyst who ha...     3.4   \n",
       "3  Requisition NumberRR-0001939\\nRemote:Yes\\nWe c...     4.1   \n",
       "5  About Cubist\\nCubist Systematic Strategies is ...     3.9   \n",
       "6  Two Sigma is a different kind of investment ma...     4.4   \n",
       "\n",
       "                         Company Name      City State                    Size  \\\n",
       "1  Visiting Nurse Service of New York  New York    NY        10000+ employees   \n",
       "2                         Squarespace  New York    NY  1001 to 5000 employees   \n",
       "3                            Celerity  New York    NY    201 to 500 employees   \n",
       "5                             Point72  New York    NY  1001 to 5000 employees   \n",
       "6                           Two Sigma  New York    NY  1001 to 5000 employees   \n",
       "\n",
       "   Founded               Type of ownership  \\\n",
       "1   1893.0          Nonprofit Organization   \n",
       "2   2003.0               Company - Private   \n",
       "3   2002.0  Subsidiary or Business Segment   \n",
       "5   2014.0               Company - Private   \n",
       "6   2001.0               Company - Private   \n",
       "\n",
       "                                Industry                  Sector  \\\n",
       "1       Health Care Services & Hospitals             Health Care   \n",
       "2                               Internet  Information Technology   \n",
       "3                            IT Services  Information Technology   \n",
       "5  Investment Banking & Asset Management                 Finance   \n",
       "6  Investment Banking & Asset Management                 Finance   \n",
       "\n",
       "                     Revenue Competitors  Min_Salary  Max_Salary  \n",
       "1     $2 to $5 billion (USD)         NaN          37          66  \n",
       "2   Unknown / Non-Applicable     GoDaddy          37          66  \n",
       "3  $50 to $100 million (USD)         NaN          37          66  \n",
       "5   Unknown / Non-Applicable         NaN          37          66  \n",
       "6   Unknown / Non-Applicable         NaN          37          66  "
      ]
     },
     "execution_count": 7,
     "metadata": {},
     "output_type": "execute_result"
    }
   ],
   "source": [
    "mydata = jobs.loc[jobs.Sector.isin(['Information Technology','Business Services','Finance','Health Care']),:]\n",
    "mydata.head()"
   ]
  },
  {
   "cell_type": "markdown",
   "metadata": {},
   "source": [
    "### 2.3 (2 points) You are given the range of salary for each job listing (minimum and maximum salary). Add a new variable to `mydata` to estimate the salary of the for each of the listing in the dataset. The estimate salary is the average of the given minimum and maximum salary.\n",
    "\n",
    "*Name the the new column `Est_Salary`.*\n",
    "\n",
    "What is the **average**, and **standard deviation** for the estimated salary among the 4 sectors listed in `mydata` dataframe?"
   ]
  },
  {
   "cell_type": "code",
   "execution_count": 25,
   "metadata": {},
   "outputs": [
    {
     "name": "stdout",
     "output_type": "stream",
     "text": [
      "Average estimated salary: 72.52\n",
      "Standard Deviation estimated salary: 24.24\n",
      "\n",
      "Average Estimated Salary\n",
      " Sector\n",
      "Business Services         72.135496\n",
      "Finance                   67.644970\n",
      "Health Care               72.807947\n",
      "Information Technology    74.247368\n",
      "Name: Est_Salary, dtype: float64\n",
      "\n",
      "Standard Deviation estimated salary:\n",
      " Sector\n",
      "Business Services         22.411196\n",
      "Finance                   22.545747\n",
      "Health Care               26.554150\n",
      "Information Technology    25.520887\n",
      "Name: Est_Salary, dtype: float64\n"
     ]
    },
    {
     "name": "stderr",
     "output_type": "stream",
     "text": [
      "<ipython-input-25-a908b21f21b0>:1: SettingWithCopyWarning: \n",
      "A value is trying to be set on a copy of a slice from a DataFrame.\n",
      "Try using .loc[row_indexer,col_indexer] = value instead\n",
      "\n",
      "See the caveats in the documentation: https://pandas.pydata.org/pandas-docs/stable/user_guide/indexing.html#returning-a-view-versus-a-copy\n",
      "  mydata['Est_Salary'] = (mydata['Min_Salary'] + mydata['Max_Salary'])/2\n"
     ]
    }
   ],
   "source": [
    "mydata['Est_Salary'] = (mydata['Min_Salary'] + mydata['Max_Salary'])/2\n",
    "print('Average estimated salary:',round(mydata.Est_Salary.mean(),2))\n",
    "print('Standard Deviation estimated salary:',round(mydata.Est_Salary.std(),2))\n",
    "print('\\nAverage Estimated Salary\\n',mydata.groupby('Sector')['Est_Salary'].mean())\n",
    "print('\\nStandard Deviation Estimated Salary:\\n',mydata.groupby('Sector')['Est_Salary'].std())"
   ]
  },
  {
   "cell_type": "markdown",
   "metadata": {},
   "source": [
    "### 2.4 (2 points) Create a side-by-side boxplot to show the distribution of salaries among the four hiring sectors (listed in `mydata`). What does the boxplot tell you about the salaries in these industries for data analysts?"
   ]
  },
  {
   "cell_type": "code",
   "execution_count": 89,
   "metadata": {},
   "outputs": [
    {
     "data": {
      "image/png": "[encoded data removed]",
      "text/plain": [
       "<Figure size 640x480 with 1 Axes>"
      ]
     },
     "metadata": {},
     "output_type": "display_data"
    }
   ],
   "source": [
    "sns.boxplot(data = mydata, \n",
    "            y = 'Est_Salary', \n",
    "            x = 'Sector')\n",
    "plt.show()"
   ]
  },
  {
   "cell_type": "markdown",
   "metadata": {},
   "source": [
    "The Estimated Salary have a similar distribution. However, the finance sector has the lowest median estimated salary and the Healh Care Sector's estimated salary distribution is the highest.Business Services sector has the most number of outliers"
   ]
  },
  {
   "cell_type": "markdown",
   "metadata": {},
   "source": [
    "### 2.5 (2 points) List the company names (distinct) in the **Information Technology** sector has job postings with estimated salaries above 100K dollars?"
   ]
  },
  {
   "cell_type": "code",
   "execution_count": 110,
   "metadata": {},
   "outputs": [
    {
     "data": {
      "text/plain": [
       "['Criteo',\n",
       " 'Tekfortune Inc.',\n",
       " 'Staffigo Technical Services, LLC',\n",
       " '8K Miles Software Services, Inc.',\n",
       " 'VTS',\n",
       " 'RMS Computer Corporation',\n",
       " 'Reliable Software Resources',\n",
       " 'Oracle',\n",
       " 'Avani Technology Solutions',\n",
       " 'Primesoft',\n",
       " 'Systemart LLC',\n",
       " 'TechProjects',\n",
       " 'Information Technology Partners',\n",
       " 'TikTok',\n",
       " 'Synchronous Solutions, Inc',\n",
       " 'HR Pundits',\n",
       " 'Softpath System LLC',\n",
       " 'Motorola Solutions',\n",
       " 'Capgemini',\n",
       " 'NVIDIA',\n",
       " 'Risk Management Solutions (RMS)',\n",
       " 'LeanData',\n",
       " 'Alteryx',\n",
       " 'L&T Infotech',\n",
       " 'IntraEdge',\n",
       " 'Joomag, Inc.',\n",
       " 'Moveworks',\n",
       " 'Ursus',\n",
       " 'Nuro',\n",
       " 'TalentBurst, Inc.',\n",
       " 'BayOne Solutions',\n",
       " 'Logic Planet',\n",
       " 'Netflix',\n",
       " 'Diverse Lynx',\n",
       " 'Adwait Algorithm',\n",
       " 'Netflix, Inc.',\n",
       " 'Apple',\n",
       " 'Collabera',\n",
       " 'Crystal Equation',\n",
       " 'Frontend Arts',\n",
       " 'Poshmark',\n",
       " 'Zolon Tech Solutions Inc.',\n",
       " 'Lodestone',\n",
       " 'SAP',\n",
       " 'Calsoft Labs',\n",
       " 'Coinbase',\n",
       " 'Trifacta',\n",
       " 'Wilbur Labs',\n",
       " 'User Testing',\n",
       " 'Priceonomics',\n",
       " 'BOLD',\n",
       " 'Flatiron Health',\n",
       " 'Twitter',\n",
       " 'Evolver, Inc.',\n",
       " 'Lyft',\n",
       " 'Scale AI',\n",
       " 'Softova Inc',\n",
       " 'LeadStack',\n",
       " 'TaskRabbit']"
      ]
     },
     "execution_count": 110,
     "metadata": {},
     "output_type": "execute_result"
    }
   ],
   "source": [
    "list(mydata.loc[(mydata.Sector == 'Information Technology') & (mydata.Est_Salary > 100),'Company Name'].unique())"
   ]
  },
  {
   "cell_type": "markdown",
   "metadata": {},
   "source": [
    "### 2.6 (3 points) Use the dataset with the 4 sectors (`mydata`) to create a dot plot (lollipop plot) that shows the top 15 states with the highest average salaries.\n",
    "\n",
    "*Name the dataframe `top15states`*\n",
    "\n",
    "*The resulting dataframe should have two columns (`State`, `Avg Salary`), where `Avg Salary` is the mean salary in the corresponding `State`*\n",
    "\n",
    "*Use two different colors of your choice to distingusih between the states with avegrage salary larger than \\$75K and thos with average salary less than \\$75K.* "
   ]
  },
  {
   "cell_type": "code",
   "execution_count": 22,
   "metadata": {},
   "outputs": [
    {
     "data": {
      "text/html": [
       "<div>\n",
       "<style scoped>\n",
       "    .dataframe tbody tr th:only-of-type {\n",
       "        vertical-align: middle;\n",
       "    }\n",
       "\n",
       "    .dataframe tbody tr th {\n",
       "        vertical-align: top;\n",
       "    }\n",
       "\n",
       "    .dataframe thead th {\n",
       "        text-align: right;\n",
       "    }\n",
       "</style>\n",
       "<table border=\"1\" class=\"dataframe\">\n",
       "  <thead>\n",
       "    <tr style=\"text-align: right;\">\n",
       "      <th></th>\n",
       "      <th>State</th>\n",
       "      <th>Avg Salary</th>\n",
       "    </tr>\n",
       "  </thead>\n",
       "  <tbody>\n",
       "    <tr>\n",
       "      <th>0</th>\n",
       "      <td>CA</td>\n",
       "      <td>90.986595</td>\n",
       "    </tr>\n",
       "    <tr>\n",
       "      <th>1</th>\n",
       "      <td>IL</td>\n",
       "      <td>78.027778</td>\n",
       "    </tr>\n",
       "    <tr>\n",
       "      <th>2</th>\n",
       "      <td>NJ</td>\n",
       "      <td>73.925000</td>\n",
       "    </tr>\n",
       "    <tr>\n",
       "      <th>3</th>\n",
       "      <td>CO</td>\n",
       "      <td>73.100000</td>\n",
       "    </tr>\n",
       "    <tr>\n",
       "      <th>4</th>\n",
       "      <td>NY</td>\n",
       "      <td>71.856195</td>\n",
       "    </tr>\n",
       "    <tr>\n",
       "      <th>5</th>\n",
       "      <td>AZ</td>\n",
       "      <td>70.771186</td>\n",
       "    </tr>\n",
       "    <tr>\n",
       "      <th>6</th>\n",
       "      <td>SC</td>\n",
       "      <td>70.250000</td>\n",
       "    </tr>\n",
       "    <tr>\n",
       "      <th>7</th>\n",
       "      <td>NC</td>\n",
       "      <td>67.849206</td>\n",
       "    </tr>\n",
       "    <tr>\n",
       "      <th>8</th>\n",
       "      <td>VA</td>\n",
       "      <td>65.074074</td>\n",
       "    </tr>\n",
       "    <tr>\n",
       "      <th>9</th>\n",
       "      <td>WA</td>\n",
       "      <td>62.545455</td>\n",
       "    </tr>\n",
       "    <tr>\n",
       "      <th>10</th>\n",
       "      <td>PA</td>\n",
       "      <td>60.801471</td>\n",
       "    </tr>\n",
       "    <tr>\n",
       "      <th>11</th>\n",
       "      <td>TX</td>\n",
       "      <td>59.454183</td>\n",
       "    </tr>\n",
       "    <tr>\n",
       "      <th>12</th>\n",
       "      <td>DE</td>\n",
       "      <td>59.166667</td>\n",
       "    </tr>\n",
       "    <tr>\n",
       "      <th>13</th>\n",
       "      <td>FL</td>\n",
       "      <td>52.000000</td>\n",
       "    </tr>\n",
       "    <tr>\n",
       "      <th>14</th>\n",
       "      <td>KS</td>\n",
       "      <td>51.500000</td>\n",
       "    </tr>\n",
       "  </tbody>\n",
       "</table>\n",
       "</div>"
      ],
      "text/plain": [
       "   State  Avg Salary\n",
       "0     CA   90.986595\n",
       "1     IL   78.027778\n",
       "2     NJ   73.925000\n",
       "3     CO   73.100000\n",
       "4     NY   71.856195\n",
       "5     AZ   70.771186\n",
       "6     SC   70.250000\n",
       "7     NC   67.849206\n",
       "8     VA   65.074074\n",
       "9     WA   62.545455\n",
       "10    PA   60.801471\n",
       "11    TX   59.454183\n",
       "12    DE   59.166667\n",
       "13    FL   52.000000\n",
       "14    KS   51.500000"
      ]
     },
     "metadata": {},
     "output_type": "display_data"
    },
    {
     "data": {
      "image/png": "[encoded data removed]",
      "text/plain": [
       "<Figure size 1000x1000 with 1 Axes>"
      ]
     },
     "metadata": {},
     "output_type": "display_data"
    }
   ],
   "source": [
    "top15states = pd.DataFrame(mydata.groupby('State')['Est_Salary'].mean()).nlargest(15,'Est_Salary').reset_index().rename(columns = {'Est_Salary':'Avg Salary'})\n",
    "plt.subplots(figsize = (10,10))\n",
    "mycolors = ['red' if i > 75 else 'green' for i in top15states['Avg Salary']]\n",
    "plt.hlines(y = top15states['State'],xmin = 0,xmax = top15states['Avg Salary'],colors=mycolors)\n",
    "plt.scatter(top15states['Avg Salary'],top15states['State'],color = mycolors)\n",
    "plt.title('Top 15 States with Highest Average Salaries')\n",
    "display(top15states)\n",
    "plt.show()"
   ]
  },
  {
   "cell_type": "code",
   "execution_count": null,
   "metadata": {},
   "outputs": [],
   "source": []
  }
 ],
 "metadata": {
  "colab": {
   "name": "Homework01-dso545-fall21.ipynb",
   "provenance": []
  },
  "interpreter": {
   "hash": "dca0ade3e726a953b501b15e8e990130d2b7799f14cfd9f4271676035ebe5511"
  },
  "kernelspec": {
   "display_name": "Python 3 (ipykernel)",
   "language": "python",
   "name": "python3"
  },
  "language_info": {
   "codemirror_mode": {
    "name": "ipython",
    "version": 3
   },
   "file_extension": ".py",
   "mimetype": "text/x-python",
   "name": "python",
   "nbconvert_exporter": "python",
   "pygments_lexer": "ipython3",
   "version": "3.8.8"
  },
  "varInspector": {
   "cols": {
    "lenName": 16,
    "lenType": 16,
    "lenVar": 40
   },
   "kernels_config": {
    "python": {
     "delete_cmd_postfix": "",
     "delete_cmd_prefix": "del ",
     "library": "var_list.py",
     "varRefreshCmd": "print(var_dic_list())"
    },
    "r": {
     "delete_cmd_postfix": ") ",
     "delete_cmd_prefix": "rm(",
     "library": "var_list.r",
     "varRefreshCmd": "cat(var_dic_list()) "
    }
   },
   "types_to_exclude": [
    "module",
    "function",
    "builtin_function_or_method",
    "instance",
    "_Feature"
   ],
   "window_display": false
  }
 },
 "nbformat": 4,
 "nbformat_minor": 1
}
