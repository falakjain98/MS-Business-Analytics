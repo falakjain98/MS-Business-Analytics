{
 "cells": [
  {
   "cell_type": "markdown",
   "id": "48110c00",
   "metadata": {},
   "source": [
    "## Exercise 11.4 Classroom Seating under Social Distancing (with Solutions)\n",
    "\n",
    "A committee at USC Marshall is exploring the viability of in-person instruction while observing social distancing guidelines. One challenge is that certain classrooms have tables and seats bolted to the floor, and the seats cannot be moved unless the rooms undergo significant remodeling. As an illustration, the following image is a portion of the floor plan for JKP204, and the numbers in the image correspond to the individual seats. As you can see, the distance between adjacent seats can be quite close, and the room would be overly dense if every seat is used. Since the seats cannot be moved, only a subset of them can be used to seat students. "
   ]
  },
  {
   "cell_type": "markdown",
   "id": "aa2080a5",
   "metadata": {},
   "source": [
    "![Illustration for 11.4](11-Seats.png)"
   ]
  },
  {
   "cell_type": "markdown",
   "id": "9a98ebc4",
   "metadata": {},
   "source": [
    "**Your task is to formulate an optimization problem to maximize the number of students that can be safely seated in the current classrooms without remodeling.** The committee has access to the detailed floor plans of every classroom, and they have labelled every seat as above and measured its exactly position in terms of x-y coordinates, so they can easily compute the distance between any two seats. (For simplicity, the distance between two seated students is defined to be the straight-line distance between the center of the two seats.) Based on discussions with public health officials, the committee has summarized the requirements for safely seating students as follows:\n",
    "\n",
    "1. The minimum distance between any two seated students is at least 6 feet.\n",
    "2. For every seated student, the number of other students seated within a 9 feet radius is at most 3, so the density of the room is kept low. (In other words, if we draw a circle centered at a seated student with a radius of 9 feet, then there are at most 4 students seated strictly inside this circle, including the first student.)\n",
    "\n",
    "**Write an abstract formulation of a LP/MIP to solve the above problem, by listing all the data variables, decision variables, objective, and constraints.** You may define any data variables that can be straightforwardly calculated based on the information the commitee has access to, but your definition must be completely clear and without ambiguities. Your formulation must be flexible enough to handle an arbitrary floor plan, not only the one shown above, and your objective and constraints must all be linear. "
   ]
  },
  {
   "cell_type": "markdown",
   "id": "ca6fb8f7",
   "metadata": {},
   "source": [
    "**Data:**\n",
    "\n",
    "- $S$: the set of seats. \n",
    "- $a_{ij}$: whether seats $i$ and $j$ are distinct but less than 6 feet apart. (Binary)\n",
    "- $b_{ij}$: whether seats $i$ and $j$ are distinct but less than 9 feet apart. (Binary)\n",
    "- $n$: the total number of seats in the classroom.\n",
    "\n",
    "**Decision Variables:**\n",
    "\n",
    "- $x_i$: whether to place a student in seat $i \\in S$. (Binary)\n",
    "\n",
    "**Objective and Constraints:**\n",
    "\n",
    "$$\\begin{aligned}\n",
    "\\text{Maximize:} && \\sum_{i \\in S} x_i \\\\\n",
    "\\text{s.t.} \\\\\n",
    "&& x_i + x_j & \\le 1 && \\text{for every pair $(i,j)$ such that $a_{ij}=1$.} \\\\\n",
    "&& \\sum_{j \\in S}b_{ij}x_{j} & \\le 3x_i + n(1-x_i) && \\text{for every seat $i \\in S$.}\n",
    "\\end{aligned}$$"
   ]
  },
  {
   "cell_type": "markdown",
   "id": "c02a6f3e",
   "metadata": {},
   "source": [
    "### Alternative Solutions\n",
    "\n",
    "The key changes are in red.\n",
    "\n",
    "**Data:**\n",
    "\n",
    "- $S$: the set of seats. \n",
    "- <font color='red'> $C$: set of pairs of seats that are distinct but less than 6 feet apart. </font>\n",
    "- <font color='red'> $R_i$: set of seats that are distinct from Seat $i$ but less than 9 feet apart.  </font>\n",
    "- $n$: the total number of seats in the classroom.\n",
    "\n",
    "**Decision Variables:**\n",
    "\n",
    "- $x_i$: whether to place a student in seat $i \\in S$. (Binary)\n",
    "\n",
    "**Objective and Constraints:**\n",
    "\n",
    "$$\\begin{aligned}\n",
    "\\text{Maximize:} && \\sum_{i \\in S} x_i \\\\\n",
    "\\text{s.t.} \\\\\n",
    "&& x_i + x_j & \\le 1 && \\text{for every pair $(i,j) \\color{red}{\\in C}$}. \\\\\n",
    "&& \\color{red}{\\sum_{j \\in R_i}x_{j}} & \\le 3x_i + n(1-x_i) && \\text{for every seat $i \\in S$.}\n",
    "\\end{aligned}$$"
   ]
  }
 ],
 "metadata": {
  "kernelspec": {
   "display_name": "Python 3 (ipykernel)",
   "language": "python",
   "name": "python3"
  },
  "language_info": {
   "codemirror_mode": {
    "name": "ipython",
    "version": 3
   },
   "file_extension": ".py",
   "mimetype": "text/x-python",
   "name": "python",
   "nbconvert_exporter": "python",
   "pygments_lexer": "ipython3",
   "version": "3.8.8"
  }
 },
 "nbformat": 4,
 "nbformat_minor": 5
}
