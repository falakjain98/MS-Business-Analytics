{
 "cells": [
  {
   "cell_type": "markdown",
   "id": "e9d9dab9",
   "metadata": {
    "toc": true
   },
   "source": [
    "<h1>Table of Contents<span class=\"tocSkip\"></span></h1>\n",
    "<div class=\"toc\"><ul class=\"toc-item\"><li><span><a href=\"#Import-libraries\" data-toc-modified-id=\"Import-libraries-1\"><span class=\"toc-item-num\">1&nbsp;&nbsp;</span>Import libraries</a></span></li><li><span><a href=\"#Read-dataset\" data-toc-modified-id=\"Read-dataset-2\"><span class=\"toc-item-num\">2&nbsp;&nbsp;</span>Read dataset</a></span></li><li><span><a href=\"#Descriptive-stats-and-summary\" data-toc-modified-id=\"Descriptive-stats-and-summary-3\"><span class=\"toc-item-num\">3&nbsp;&nbsp;</span>Descriptive stats and summary</a></span></li><li><span><a href=\"#Question-1\" data-toc-modified-id=\"Question-1-4\"><span class=\"toc-item-num\">4&nbsp;&nbsp;</span>Question 1</a></span></li><li><span><a href=\"#Question-2\" data-toc-modified-id=\"Question-2-5\"><span class=\"toc-item-num\">5&nbsp;&nbsp;</span>Question 2</a></span></li><li><span><a href=\"#Question-3\" data-toc-modified-id=\"Question-3-6\"><span class=\"toc-item-num\">6&nbsp;&nbsp;</span>Question 3</a></span></li><li><span><a href=\"#Question-4\" data-toc-modified-id=\"Question-4-7\"><span class=\"toc-item-num\">7&nbsp;&nbsp;</span>Question 4</a></span></li></ul></div>"
   ]
  },
  {
   "cell_type": "markdown",
   "id": "4e42c5d2",
   "metadata": {},
   "source": [
    "# Import libraries"
   ]
  },
  {
   "cell_type": "code",
   "execution_count": 1,
   "id": "b8aa18b8",
   "metadata": {},
   "outputs": [],
   "source": [
    "# Import libraries\n",
    "import pandas as pd #for dataframe\n",
    "import numpy as np #for arrays if required\n",
    "import matplotlib.pyplot as plt #for visualization\n",
    "%matplotlib inline\n",
    "\n",
    "import statsmodels.formula.api as sm #for regression\n",
    "\n",
    "import scipy.stats #for hypothesis testing"
   ]
  },
  {
   "cell_type": "markdown",
   "id": "0f144b54",
   "metadata": {},
   "source": [
    "# Read dataset"
   ]
  },
  {
   "cell_type": "code",
   "execution_count": 2,
   "id": "2e69566e",
   "metadata": {},
   "outputs": [
    {
     "data": {
      "text/html": [
       "<div>\n",
       "<style scoped>\n",
       "    .dataframe tbody tr th:only-of-type {\n",
       "        vertical-align: middle;\n",
       "    }\n",
       "\n",
       "    .dataframe tbody tr th {\n",
       "        vertical-align: top;\n",
       "    }\n",
       "\n",
       "    .dataframe thead th {\n",
       "        text-align: right;\n",
       "    }\n",
       "</style>\n",
       "<table border=\"1\" class=\"dataframe\">\n",
       "  <thead>\n",
       "    <tr style=\"text-align: right;\">\n",
       "      <th></th>\n",
       "      <th>Price</th>\n",
       "      <th>Sales</th>\n",
       "      <th>Engine_size</th>\n",
       "      <th>Fuel_capacity</th>\n",
       "      <th>Fuel_efficiency</th>\n",
       "      <th>Car_Brand</th>\n",
       "    </tr>\n",
       "  </thead>\n",
       "  <tbody>\n",
       "    <tr>\n",
       "      <th>0</th>\n",
       "      <td>21.50</td>\n",
       "      <td>21.9947</td>\n",
       "      <td>1.8</td>\n",
       "      <td>13.2</td>\n",
       "      <td>28</td>\n",
       "      <td>3</td>\n",
       "    </tr>\n",
       "    <tr>\n",
       "      <th>1</th>\n",
       "      <td>28.40</td>\n",
       "      <td>39.3840</td>\n",
       "      <td>3.2</td>\n",
       "      <td>17.2</td>\n",
       "      <td>25</td>\n",
       "      <td>2</td>\n",
       "    </tr>\n",
       "    <tr>\n",
       "      <th>2</th>\n",
       "      <td>42.00</td>\n",
       "      <td>15.4584</td>\n",
       "      <td>3.5</td>\n",
       "      <td>18.0</td>\n",
       "      <td>22</td>\n",
       "      <td>4</td>\n",
       "    </tr>\n",
       "    <tr>\n",
       "      <th>3</th>\n",
       "      <td>23.99</td>\n",
       "      <td>14.2779</td>\n",
       "      <td>1.8</td>\n",
       "      <td>16.4</td>\n",
       "      <td>27</td>\n",
       "      <td>1</td>\n",
       "    </tr>\n",
       "    <tr>\n",
       "      <th>4</th>\n",
       "      <td>33.95</td>\n",
       "      <td>13.1460</td>\n",
       "      <td>2.8</td>\n",
       "      <td>18.5</td>\n",
       "      <td>22</td>\n",
       "      <td>1</td>\n",
       "    </tr>\n",
       "  </tbody>\n",
       "</table>\n",
       "</div>"
      ],
      "text/plain": [
       "   Price    Sales  Engine_size  Fuel_capacity  Fuel_efficiency  Car_Brand\n",
       "0  21.50  21.9947          1.8           13.2               28          3\n",
       "1  28.40  39.3840          3.2           17.2               25          2\n",
       "2  42.00  15.4584          3.5           18.0               22          4\n",
       "3  23.99  14.2779          1.8           16.4               27          1\n",
       "4  33.95  13.1460          2.8           18.5               22          1"
      ]
     },
     "metadata": {},
     "output_type": "display_data"
    }
   ],
   "source": [
    "# read data\n",
    "df = pd.read_csv(\"hw4.csv\")\n",
    "\n",
    "# view\n",
    "display(df.head())"
   ]
  },
  {
   "cell_type": "markdown",
   "id": "efc4b396",
   "metadata": {},
   "source": [
    "# Descriptive stats and summary"
   ]
  },
  {
   "cell_type": "code",
   "execution_count": 3,
   "id": "63333d6c",
   "metadata": {},
   "outputs": [
    {
     "data": {
      "text/html": [
       "<div>\n",
       "<style scoped>\n",
       "    .dataframe tbody tr th:only-of-type {\n",
       "        vertical-align: middle;\n",
       "    }\n",
       "\n",
       "    .dataframe tbody tr th {\n",
       "        vertical-align: top;\n",
       "    }\n",
       "\n",
       "    .dataframe thead th {\n",
       "        text-align: right;\n",
       "    }\n",
       "</style>\n",
       "<table border=\"1\" class=\"dataframe\">\n",
       "  <thead>\n",
       "    <tr style=\"text-align: right;\">\n",
       "      <th></th>\n",
       "      <th>Price</th>\n",
       "      <th>Sales</th>\n",
       "      <th>Engine_size</th>\n",
       "      <th>Fuel_capacity</th>\n",
       "      <th>Fuel_efficiency</th>\n",
       "      <th>Car_Brand</th>\n",
       "    </tr>\n",
       "  </thead>\n",
       "  <tbody>\n",
       "    <tr>\n",
       "      <th>count</th>\n",
       "      <td>153.000000</td>\n",
       "      <td>153.000000</td>\n",
       "      <td>153.000000</td>\n",
       "      <td>153.000000</td>\n",
       "      <td>153.000000</td>\n",
       "      <td>153.000000</td>\n",
       "    </tr>\n",
       "    <tr>\n",
       "      <th>mean</th>\n",
       "      <td>27.443869</td>\n",
       "      <td>67.894535</td>\n",
       "      <td>3.059477</td>\n",
       "      <td>17.962745</td>\n",
       "      <td>23.830065</td>\n",
       "      <td>2.607843</td>\n",
       "    </tr>\n",
       "    <tr>\n",
       "      <th>std</th>\n",
       "      <td>14.437836</td>\n",
       "      <td>107.067448</td>\n",
       "      <td>1.053842</td>\n",
       "      <td>3.924851</td>\n",
       "      <td>4.293187</td>\n",
       "      <td>1.154142</td>\n",
       "    </tr>\n",
       "    <tr>\n",
       "      <th>min</th>\n",
       "      <td>9.235000</td>\n",
       "      <td>0.198000</td>\n",
       "      <td>1.000000</td>\n",
       "      <td>10.300000</td>\n",
       "      <td>15.000000</td>\n",
       "      <td>1.000000</td>\n",
       "    </tr>\n",
       "    <tr>\n",
       "      <th>25%</th>\n",
       "      <td>17.890000</td>\n",
       "      <td>14.011900</td>\n",
       "      <td>2.300000</td>\n",
       "      <td>15.800000</td>\n",
       "      <td>21.000000</td>\n",
       "      <td>2.000000</td>\n",
       "    </tr>\n",
       "    <tr>\n",
       "      <th>50%</th>\n",
       "      <td>22.799000</td>\n",
       "      <td>35.500400</td>\n",
       "      <td>3.000000</td>\n",
       "      <td>17.200000</td>\n",
       "      <td>24.000000</td>\n",
       "      <td>3.000000</td>\n",
       "    </tr>\n",
       "    <tr>\n",
       "      <th>75%</th>\n",
       "      <td>31.965000</td>\n",
       "      <td>81.174000</td>\n",
       "      <td>3.800000</td>\n",
       "      <td>19.800000</td>\n",
       "      <td>26.000000</td>\n",
       "      <td>4.000000</td>\n",
       "    </tr>\n",
       "    <tr>\n",
       "      <th>max</th>\n",
       "      <td>85.500000</td>\n",
       "      <td>973.009800</td>\n",
       "      <td>8.000000</td>\n",
       "      <td>32.000000</td>\n",
       "      <td>45.000000</td>\n",
       "      <td>4.000000</td>\n",
       "    </tr>\n",
       "  </tbody>\n",
       "</table>\n",
       "</div>"
      ],
      "text/plain": [
       "            Price       Sales  Engine_size  Fuel_capacity  Fuel_efficiency  \\\n",
       "count  153.000000  153.000000   153.000000     153.000000       153.000000   \n",
       "mean    27.443869   67.894535     3.059477      17.962745        23.830065   \n",
       "std     14.437836  107.067448     1.053842       3.924851         4.293187   \n",
       "min      9.235000    0.198000     1.000000      10.300000        15.000000   \n",
       "25%     17.890000   14.011900     2.300000      15.800000        21.000000   \n",
       "50%     22.799000   35.500400     3.000000      17.200000        24.000000   \n",
       "75%     31.965000   81.174000     3.800000      19.800000        26.000000   \n",
       "max     85.500000  973.009800     8.000000      32.000000        45.000000   \n",
       "\n",
       "        Car_Brand  \n",
       "count  153.000000  \n",
       "mean     2.607843  \n",
       "std      1.154142  \n",
       "min      1.000000  \n",
       "25%      2.000000  \n",
       "50%      3.000000  \n",
       "75%      4.000000  \n",
       "max      4.000000  "
      ]
     },
     "metadata": {},
     "output_type": "display_data"
    },
    {
     "name": "stdout",
     "output_type": "stream",
     "text": [
      "<class 'pandas.core.frame.DataFrame'>\n",
      "RangeIndex: 153 entries, 0 to 152\n",
      "Data columns (total 6 columns):\n",
      " #   Column           Non-Null Count  Dtype  \n",
      "---  ------           --------------  -----  \n",
      " 0   Price            153 non-null    float64\n",
      " 1   Sales            153 non-null    float64\n",
      " 2   Engine_size      153 non-null    float64\n",
      " 3   Fuel_capacity    153 non-null    float64\n",
      " 4   Fuel_efficiency  153 non-null    int64  \n",
      " 5   Car_Brand        153 non-null    int64  \n",
      "dtypes: float64(4), int64(2)\n",
      "memory usage: 7.3 KB\n"
     ]
    },
    {
     "data": {
      "text/plain": [
       "None"
      ]
     },
     "metadata": {},
     "output_type": "display_data"
    }
   ],
   "source": [
    "# descriptive stats\n",
    "display(df.describe())\n",
    "\n",
    "# info\n",
    "display(df.info())"
   ]
  },
  {
   "cell_type": "markdown",
   "id": "6388d842",
   "metadata": {},
   "source": [
    "# Question 1"
   ]
  },
  {
   "cell_type": "markdown",
   "id": "918f228d",
   "metadata": {},
   "source": [
    "Using the data, estimate a univariate linear regression model for the relationship \n",
    "between sales and price. The independent variable is price and the dependent \n",
    "variable is sales. You want your model to speak in terms of elasticity, so your \n",
    "interpretation should be a 1% increase in price is associated with a x% change in sales. \n",
    "What does the model indicate is the relationship between price and sales? Is the \n",
    "relationship statistically different than zero?"
   ]
  },
  {
   "cell_type": "code",
   "execution_count": 4,
   "id": "af1f1093",
   "metadata": {},
   "outputs": [],
   "source": [
    "# get log values\n",
    "df[\"Sales_log\"] = np.log(df[\"Sales\"])\n",
    "df[\"Price_log\"] = np.log(df[\"Price\"])"
   ]
  },
  {
   "cell_type": "code",
   "execution_count": 5,
   "id": "db85fc0e",
   "metadata": {},
   "outputs": [
    {
     "name": "stdout",
     "output_type": "stream",
     "text": [
      "                            OLS Regression Results                            \n",
      "==============================================================================\n",
      "Dep. Variable:              Sales_log   R-squared:                       0.263\n",
      "Model:                            OLS   Adj. R-squared:                  0.258\n",
      "Method:                 Least Squares   F-statistic:                     53.92\n",
      "Date:                Sat, 04 Dec 2021   Prob (F-statistic):           1.21e-11\n",
      "Time:                        14:39:31   Log-Likelihood:                -239.83\n",
      "No. Observations:                 153   AIC:                             483.7\n",
      "Df Residuals:                     151   BIC:                             489.7\n",
      "Df Model:                           1                                         \n",
      "Covariance Type:            nonrobust                                         \n",
      "==============================================================================\n",
      "                 coef    std err          t      P>|t|      [0.025      0.975]\n",
      "------------------------------------------------------------------------------\n",
      "Intercept      8.2954      0.667     12.428      0.000       6.977       9.614\n",
      "Price_log     -1.5159      0.206     -7.343      0.000      -1.924      -1.108\n",
      "==============================================================================\n",
      "Omnibus:                       22.474   Durbin-Watson:                   1.478\n",
      "Prob(Omnibus):                  0.000   Jarque-Bera (JB):               44.840\n",
      "Skew:                          -0.657   Prob(JB):                     1.83e-10\n",
      "Kurtosis:                       5.304   Cond. No.                         25.0\n",
      "==============================================================================\n",
      "\n",
      "Notes:\n",
      "[1] Standard Errors assume that the covariance matrix of the errors is correctly specified.\n"
     ]
    }
   ],
   "source": [
    "# Regression model\n",
    "result = sm.ols(formula = \"Sales_log~Price_log\",\n",
    "               data = df).fit()\n",
    "print(result.summary())"
   ]
  },
  {
   "cell_type": "markdown",
   "id": "95633f0c",
   "metadata": {},
   "source": [
    "**Results:-**\n",
    "- For a 1% increase in price, sales decreases by 1.5159%.\n",
    "- Assuming a level of significance of 5%, since p value < 0.05, we reject the null hypothesis that there is no relationship between Price_log and Sales_log. Therefore, there is a statistically significant relationship between Price and Sales."
   ]
  },
  {
   "cell_type": "markdown",
   "id": "3f4b0093",
   "metadata": {},
   "source": [
    "# Question 2"
   ]
  },
  {
   "cell_type": "markdown",
   "id": "b5798395",
   "metadata": {},
   "source": [
    "Estimate another model that estimates the relationship between price and sales \n",
    "(similar to 1, this should speak in terms of elasticity), but this model also includes\n",
    "controls for all other variables available in the dataset (do not log transform engine \n",
    "size, fuel capacity, and fuel_effeciency). What does the model indicate is the \n",
    "relationship between price and sales? Is the relationship statistically different than \n",
    "zero?\n"
   ]
  },
  {
   "cell_type": "code",
   "execution_count": 12,
   "id": "93db33a3",
   "metadata": {},
   "outputs": [
    {
     "data": {
      "text/plain": [
       "4    48\n",
       "2    38\n",
       "1    35\n",
       "3    32\n",
       "Name: Car_Brand, dtype: int64"
      ]
     },
     "metadata": {},
     "output_type": "display_data"
    },
    {
     "data": {
      "text/html": [
       "<div>\n",
       "<style scoped>\n",
       "    .dataframe tbody tr th:only-of-type {\n",
       "        vertical-align: middle;\n",
       "    }\n",
       "\n",
       "    .dataframe tbody tr th {\n",
       "        vertical-align: top;\n",
       "    }\n",
       "\n",
       "    .dataframe thead th {\n",
       "        text-align: right;\n",
       "    }\n",
       "</style>\n",
       "<table border=\"1\" class=\"dataframe\">\n",
       "  <thead>\n",
       "    <tr style=\"text-align: right;\">\n",
       "      <th></th>\n",
       "      <th>Price</th>\n",
       "      <th>Sales</th>\n",
       "      <th>Engine_size</th>\n",
       "      <th>Fuel_capacity</th>\n",
       "      <th>Fuel_efficiency</th>\n",
       "      <th>Car_Brand</th>\n",
       "      <th>Sales_log</th>\n",
       "      <th>Price_log</th>\n",
       "      <th>Car_brand_4</th>\n",
       "      <th>Car_brand_2</th>\n",
       "      <th>Car_brand_1</th>\n",
       "    </tr>\n",
       "  </thead>\n",
       "  <tbody>\n",
       "    <tr>\n",
       "      <th>0</th>\n",
       "      <td>21.50</td>\n",
       "      <td>21.9947</td>\n",
       "      <td>1.8</td>\n",
       "      <td>13.2</td>\n",
       "      <td>28</td>\n",
       "      <td>3</td>\n",
       "      <td>3.090802</td>\n",
       "      <td>3.068053</td>\n",
       "      <td>0</td>\n",
       "      <td>0</td>\n",
       "      <td>0</td>\n",
       "    </tr>\n",
       "    <tr>\n",
       "      <th>1</th>\n",
       "      <td>28.40</td>\n",
       "      <td>39.3840</td>\n",
       "      <td>3.2</td>\n",
       "      <td>17.2</td>\n",
       "      <td>25</td>\n",
       "      <td>2</td>\n",
       "      <td>3.673360</td>\n",
       "      <td>3.346389</td>\n",
       "      <td>0</td>\n",
       "      <td>1</td>\n",
       "      <td>0</td>\n",
       "    </tr>\n",
       "    <tr>\n",
       "      <th>2</th>\n",
       "      <td>42.00</td>\n",
       "      <td>15.4584</td>\n",
       "      <td>3.5</td>\n",
       "      <td>18.0</td>\n",
       "      <td>22</td>\n",
       "      <td>4</td>\n",
       "      <td>2.738153</td>\n",
       "      <td>3.737670</td>\n",
       "      <td>1</td>\n",
       "      <td>0</td>\n",
       "      <td>0</td>\n",
       "    </tr>\n",
       "    <tr>\n",
       "      <th>3</th>\n",
       "      <td>23.99</td>\n",
       "      <td>14.2779</td>\n",
       "      <td>1.8</td>\n",
       "      <td>16.4</td>\n",
       "      <td>27</td>\n",
       "      <td>1</td>\n",
       "      <td>2.658713</td>\n",
       "      <td>3.177637</td>\n",
       "      <td>0</td>\n",
       "      <td>0</td>\n",
       "      <td>1</td>\n",
       "    </tr>\n",
       "    <tr>\n",
       "      <th>4</th>\n",
       "      <td>33.95</td>\n",
       "      <td>13.1460</td>\n",
       "      <td>2.8</td>\n",
       "      <td>18.5</td>\n",
       "      <td>22</td>\n",
       "      <td>1</td>\n",
       "      <td>2.576118</td>\n",
       "      <td>3.524889</td>\n",
       "      <td>0</td>\n",
       "      <td>0</td>\n",
       "      <td>1</td>\n",
       "    </tr>\n",
       "  </tbody>\n",
       "</table>\n",
       "</div>"
      ],
      "text/plain": [
       "   Price    Sales  Engine_size  Fuel_capacity  Fuel_efficiency  Car_Brand  \\\n",
       "0  21.50  21.9947          1.8           13.2               28          3   \n",
       "1  28.40  39.3840          3.2           17.2               25          2   \n",
       "2  42.00  15.4584          3.5           18.0               22          4   \n",
       "3  23.99  14.2779          1.8           16.4               27          1   \n",
       "4  33.95  13.1460          2.8           18.5               22          1   \n",
       "\n",
       "   Sales_log  Price_log  Car_brand_4  Car_brand_2  Car_brand_1  \n",
       "0   3.090802   3.068053            0            0            0  \n",
       "1   3.673360   3.346389            0            1            0  \n",
       "2   2.738153   3.737670            1            0            0  \n",
       "3   2.658713   3.177637            0            0            1  \n",
       "4   2.576118   3.524889            0            0            1  "
      ]
     },
     "metadata": {},
     "output_type": "display_data"
    }
   ],
   "source": [
    "# Create dummies for car brand\n",
    "\n",
    "## checking value counts()\n",
    "car_brand = df[\"Car_Brand\"].value_counts()\n",
    "display(df[\"Car_Brand\"].value_counts())\n",
    "\n",
    "## create dummies\n",
    "for i in car_brand.index[:len(car_brand.index)-1]:\n",
    "    df[f\"Car_brand_{i}\"] = [1 if x == i else 0 for x in df[\"Car_Brand\"]]\n",
    "    \n",
    "## view\n",
    "display(df.head())"
   ]
  },
  {
   "cell_type": "code",
   "execution_count": 13,
   "id": "db99cfae",
   "metadata": {},
   "outputs": [
    {
     "name": "stdout",
     "output_type": "stream",
     "text": [
      "                            OLS Regression Results                            \n",
      "==============================================================================\n",
      "Dep. Variable:              Sales_log   R-squared:                       0.402\n",
      "Model:                            OLS   Adj. R-squared:                  0.373\n",
      "Method:                 Least Squares   F-statistic:                     13.93\n",
      "Date:                Sat, 04 Dec 2021   Prob (F-statistic):           9.86e-14\n",
      "Time:                        14:41:50   Log-Likelihood:                -223.84\n",
      "No. Observations:                 153   AIC:                             463.7\n",
      "Df Residuals:                     145   BIC:                             487.9\n",
      "Df Model:                           7                                         \n",
      "Covariance Type:            nonrobust                                         \n",
      "===================================================================================\n",
      "                      coef    std err          t      P>|t|      [0.025      0.975]\n",
      "-----------------------------------------------------------------------------------\n",
      "Intercept           8.1166      1.800      4.508      0.000       4.558      11.675\n",
      "Price_log          -2.2334      0.260     -8.595      0.000      -2.747      -1.720\n",
      "Engine_size         0.2946      0.137      2.147      0.033       0.023       0.566\n",
      "Fuel_capacity       0.0773      0.038      2.021      0.045       0.002       0.153\n",
      "Fuel_efficiency     0.0043      0.039      0.109      0.914      -0.073       0.082\n",
      "Car_brand_4         0.4643      0.248      1.875      0.063      -0.025       0.954\n",
      "Car_brand_2         0.0993      0.260      0.382      0.703      -0.414       0.613\n",
      "Car_brand_1        -0.3731      0.264     -1.414      0.159      -0.895       0.148\n",
      "==============================================================================\n",
      "Omnibus:                       56.060   Durbin-Watson:                   1.664\n",
      "Prob(Omnibus):                  0.000   Jarque-Bera (JB):              194.132\n",
      "Skew:                          -1.370   Prob(JB):                     7.00e-43\n",
      "Kurtosis:                       7.790   Cond. No.                         630.\n",
      "==============================================================================\n",
      "\n",
      "Notes:\n",
      "[1] Standard Errors assume that the covariance matrix of the errors is correctly specified.\n"
     ]
    }
   ],
   "source": [
    "# Regression model\n",
    "result = sm.ols(formula = \"Sales_log ~ Price_log + Engine_size + Fuel_capacity + Fuel_efficiency + \\\n",
    "                Car_brand_4 + Car_brand_2 + Car_brand_1\",\n",
    "               data = df).fit()\n",
    "print(result.summary())"
   ]
  },
  {
   "cell_type": "markdown",
   "id": "feafdbcd",
   "metadata": {},
   "source": [
    "**Result:-**\n",
    "\n",
    "- Controlling for other variables, for an increase of 1% in Price, there is a decrease of -2.2604% in Sales.\n",
    "- Assuming a level of significance of 5%, since p value < 0.05, we reject the null hypothesis that there is no relationship between Price_log and Sales_log. Therefore, there is a statistically significant relationship between Price and Sales."
   ]
  },
  {
   "cell_type": "markdown",
   "id": "5a3d669b",
   "metadata": {},
   "source": [
    "# Question 3"
   ]
  },
  {
   "cell_type": "markdown",
   "id": "4b77cb2a",
   "metadata": {},
   "source": [
    "Using linear regression, test the null hypothesis that the expected difference in sales \n",
    "between car brand 2 and 3 is equal to zero, controlling for price, engine size, fuel \n",
    "capacity, and fuel efficiency."
   ]
  },
  {
   "cell_type": "code",
   "execution_count": 14,
   "id": "dd52d424",
   "metadata": {},
   "outputs": [],
   "source": [
    "# prepare data\n",
    "## drop earlier dummy vars\n",
    "df.drop([\"Car_brand_4\", \"Car_brand_2\", \"Car_brand_1\"], axis = 1, inplace = True)\n",
    "\n",
    "## create new dummy vars for betr interpretation\n",
    "for i in [1,2,4]:\n",
    "    df[f\"Car_brand_{i}\"] = [1 if x == i else 0 for x in df[\"Car_Brand\"]]"
   ]
  },
  {
   "cell_type": "code",
   "execution_count": 15,
   "id": "fd500a76",
   "metadata": {},
   "outputs": [
    {
     "name": "stdout",
     "output_type": "stream",
     "text": [
      "                            OLS Regression Results                            \n",
      "==============================================================================\n",
      "Dep. Variable:                  Sales   R-squared:                       0.226\n",
      "Model:                            OLS   Adj. R-squared:                  0.189\n",
      "Method:                 Least Squares   F-statistic:                     6.051\n",
      "Date:                Sat, 04 Dec 2021   Prob (F-statistic):           3.33e-06\n",
      "Time:                        14:41:55   Log-Likelihood:                -912.03\n",
      "No. Observations:                 153   AIC:                             1840.\n",
      "Df Residuals:                     145   BIC:                             1864.\n",
      "Df Model:                           7                                         \n",
      "Covariance Type:            nonrobust                                         \n",
      "===================================================================================\n",
      "                      coef    std err          t      P>|t|      [0.025      0.975]\n",
      "-----------------------------------------------------------------------------------\n",
      "Intercept        -161.0970    143.230     -1.125      0.263    -444.184     121.990\n",
      "Price              -3.2050      0.703     -4.560      0.000      -4.594      -1.816\n",
      "Engine_size        22.6694     12.550      1.806      0.073      -2.136      47.475\n",
      "Fuel_capacity       7.4067      3.434      2.157      0.033       0.619      14.195\n",
      "Fuel_efficiency     4.0720      3.476      1.172      0.243      -2.798      10.942\n",
      "Car_brand_1       -16.7365     23.713     -0.706      0.481     -63.604      30.131\n",
      "Car_brand_2         3.4945     23.451      0.149      0.882     -42.856      49.845\n",
      "Car_brand_4        65.2593     22.268      2.931      0.004      21.248     109.270\n",
      "==============================================================================\n",
      "Omnibus:                      181.839   Durbin-Watson:                   1.350\n",
      "Prob(Omnibus):                  0.000   Jarque-Bera (JB):             7064.679\n",
      "Skew:                           4.454   Prob(JB):                         0.00\n",
      "Kurtosis:                      35.075   Cond. No.                         769.\n",
      "==============================================================================\n",
      "\n",
      "Notes:\n",
      "[1] Standard Errors assume that the covariance matrix of the errors is correctly specified.\n"
     ]
    }
   ],
   "source": [
    "# Regression model\n",
    "result = sm.ols(formula = \"Sales ~ Price + Engine_size + Fuel_capacity + Fuel_efficiency + \\\n",
    "                Car_brand_1 + Car_brand_2 + Car_brand_4\",\n",
    "               data = df).fit()\n",
    "print(result.summary())"
   ]
  },
  {
   "cell_type": "markdown",
   "id": "046e3eb0",
   "metadata": {},
   "source": [
    "**Result:-**\n",
    "\n",
    "- Coefficient interpretation: Controlling for other variables, there is an increase of 3.4945 in sales for Car brand 2 compared to car brand 3\n",
    "- Hypothesis test: Assuming a level of significance of 5%, since p value > 0.05, we fail to reject the null hypothesis that there is no difference in sales between car brand 2 and car brand 3. Therefore, we can say that the expected difference in sales between car brand 2 and 3 is equal to zero."
   ]
  },
  {
   "cell_type": "markdown",
   "id": "5c0782b1",
   "metadata": {},
   "source": [
    "# Question 4"
   ]
  },
  {
   "cell_type": "markdown",
   "id": "7c1bbaa0",
   "metadata": {},
   "source": [
    "Test the null hypothesis that, controlling for engine size, fuel capacity, and fuel \n",
    "efficiency, the relationship between price and sales is the same for car brand 3 and \n",
    "car brand 4. That is, test the null hypothesis that a 1% increase in price is associated \n",
    "with the same percentage increase in sales for brand 3 and brand 4 cars."
   ]
  },
  {
   "cell_type": "code",
   "execution_count": 16,
   "id": "696dc95b",
   "metadata": {},
   "outputs": [
    {
     "name": "stdout",
     "output_type": "stream",
     "text": [
      "                            OLS Regression Results                            \n",
      "==============================================================================\n",
      "Dep. Variable:              Sales_log   R-squared:                       0.402\n",
      "Model:                            OLS   Adj. R-squared:                  0.373\n",
      "Method:                 Least Squares   F-statistic:                     13.93\n",
      "Date:                Sat, 04 Dec 2021   Prob (F-statistic):           9.86e-14\n",
      "Time:                        14:46:52   Log-Likelihood:                -223.84\n",
      "No. Observations:                 153   AIC:                             463.7\n",
      "Df Residuals:                     145   BIC:                             487.9\n",
      "Df Model:                           7                                         \n",
      "Covariance Type:            nonrobust                                         \n",
      "===================================================================================\n",
      "                      coef    std err          t      P>|t|      [0.025      0.975]\n",
      "-----------------------------------------------------------------------------------\n",
      "Intercept           8.1166      1.800      4.508      0.000       4.558      11.675\n",
      "Price_log          -2.2334      0.260     -8.595      0.000      -2.747      -1.720\n",
      "Engine_size         0.2946      0.137      2.147      0.033       0.023       0.566\n",
      "Fuel_capacity       0.0773      0.038      2.021      0.045       0.002       0.153\n",
      "Fuel_efficiency     0.0043      0.039      0.109      0.914      -0.073       0.082\n",
      "Car_brand_1        -0.3731      0.264     -1.414      0.159      -0.895       0.148\n",
      "Car_brand_2         0.0993      0.260      0.382      0.703      -0.414       0.613\n",
      "Car_brand_4         0.4643      0.248      1.875      0.063      -0.025       0.954\n",
      "==============================================================================\n",
      "Omnibus:                       56.060   Durbin-Watson:                   1.664\n",
      "Prob(Omnibus):                  0.000   Jarque-Bera (JB):              194.132\n",
      "Skew:                          -1.370   Prob(JB):                     7.00e-43\n",
      "Kurtosis:                       7.790   Cond. No.                         630.\n",
      "==============================================================================\n",
      "\n",
      "Notes:\n",
      "[1] Standard Errors assume that the covariance matrix of the errors is correctly specified.\n"
     ]
    }
   ],
   "source": [
    "# Regression model\n",
    "result = sm.ols(formula = \"Sales_log ~ Price_log + Engine_size + Fuel_capacity + Fuel_efficiency + \\\n",
    "                Car_brand_1 + Car_brand_2 + Car_brand_4\",\n",
    "               data = df).fit()\n",
    "print(result.summary())"
   ]
  },
  {
   "cell_type": "markdown",
   "id": "762fdf23",
   "metadata": {},
   "source": [
    "**Result:-**\n",
    "\n",
    "- Coefficient interpretation: Controlling for all other variables, for a 1% increase in price for Car brand 4, there is an increase of (exp(0.4643) - 1)% for car brand 4 compared to car brand 3\n",
    "- Hypothesis test: Assuming a level of significance of 5%, since p value > 0.05, we fail to reject the null hypothesis that there is no difference in sales for car brand 3 and car brand 4. Therefore, we can say that a 1% increase in price is associated with the same percentage increase in sales for brand 3 and brand 4 cars."
   ]
  },
  {
   "cell_type": "code",
   "execution_count": null,
   "id": "75fb4695",
   "metadata": {},
   "outputs": [],
   "source": []
  }
 ],
 "metadata": {
  "kernelspec": {
   "display_name": "Python 3 (ipykernel)",
   "language": "python",
   "name": "python3"
  },
  "language_info": {
   "codemirror_mode": {
    "name": "ipython",
    "version": 3
   },
   "file_extension": ".py",
   "mimetype": "text/x-python",
   "name": "python",
   "nbconvert_exporter": "python",
   "pygments_lexer": "ipython3",
   "version": "3.8.8"
  },
  "toc": {
   "base_numbering": 1,
   "nav_menu": {},
   "number_sections": true,
   "sideBar": true,
   "skip_h1_title": false,
   "title_cell": "Table of Contents",
   "title_sidebar": "Contents",
   "toc_cell": true,
   "toc_position": {},
   "toc_section_display": true,
   "toc_window_display": false
  }
 },
 "nbformat": 4,
 "nbformat_minor": 5
}
