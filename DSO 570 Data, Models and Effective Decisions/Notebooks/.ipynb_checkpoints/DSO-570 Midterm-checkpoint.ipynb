{
 "cells": [
  {
   "cell_type": "markdown",
   "metadata": {},
   "source": [
    "# Midterm Exam\n",
    "\n",
    "# Name: Falak Jain\n",
    "\n",
    "\n",
    "### Learning Objective:\n",
    "\n",
    "- Create Python code to automate a given task.\n",
    "\n",
    "### Instructions:\n",
    "\n",
    "This midterm tests your mastery of skills taught in Weeks 1-5, which culminates in creating simulation models using Python and algorithmic thinking. You have 80 minutes from the time you clicked \"Begin\" on Blackboard. **After completing this Jupyter notebook, make sure to save it, then attach the .ipynb file to Blackboard and submit. Moreover, immediately after submitting, email your solution file to the professor in case Blackboard malfunctions.**\n",
    "\n",
    "You are allowed to consult any resources posted online as well as any book or notes, but you CANNOT ask someone for help, or share your solutions with anyone other than the professor. **Any violation of academic integrity will result in a failing grade for everyone involved.**\n",
    "\n",
    "**For each problem, you should place all your final code in one cell, with the comment \"# Final Solution\" on top. This cell should include all necessary imports and definitions, so that if one restarts the kernel and only runs that cell, the test code will work.** Only the correctness of your final code matters: as long as you fulfill all the specifications described in the problem description, it doesn't matter how you solve the problem or how efficient is your code. However, if you cannot solve a problem, you may get partial credits for submitting whatever you have, including any parts of the four steps of algorithmic thinking. The format of partial work does not matter. (For example, it is allowed to email the professor photos of your paper notes, if you believe they indicate progress toward a full solution.)"
   ]
  },
  {
   "cell_type": "markdown",
   "metadata": {},
   "source": [
    "# Q1. Election Simulator (7 points)\n",
    "\n",
    "This question asks you to write code to simulate the outcome of an election based on a simple probabilistic model estimated from polls data. Assume that there are two political parties, which we refer to as the Democrats and the Republicans. There is a number of regions participating in the election, and each region has a certain number of delegates that can be awarded to one of the two parties. Within each region, the party receiving the most votes will be awarded all of the delegates from that region. Assume also that the number of votes each party receives within each region is drawn from a normal distribution with a given mean and standard deviation. \n",
    "\n",
    "For example, consider the following sample data with four regions. The first two columns denote the mean and standard deviation of the number of votes for Democrats in each region. The next two columns denote the same information for the Republicans. The final column states the number of delegates in each region. A likely outcome of the election is that the Democrats win the first two regions, with a total delegate count of 25, while the republicans win the other two regions, with a total delegate count of 23. Of course, there are other possible outcomes, and the likelihood of each outcome depends on the given means and standard deviations.\n",
    "\n",
    "| ` ` | Dem-Mean | Dem-Std | Rep-Mean | Rep-Std | Delegates |\n",
    "|--|--|--|--|--|--|\n",
    "|**Region A**| 10 | 2 | 8 | 1.5 | 15 |\n",
    "|**Region B**| 8 | 1.5 | 6 | 1 | 10 |\n",
    "|**Region C**| 6 | 1 | 8 | 2 | 13 |\n",
    "|**Region D**| 5 | 1 | 8 | 1 | 10 |\n",
    "\n",
    "Although random samples from a normal distribution will be fractional, you should NOT round the random samples in any way in your simualtion, but you should leave them as fractional numbers with many decimal places. (To interpret this, think of the means and standard deviations in the above table in terms of millions of people.) In the extremely unlikely scenario in which there is an exact tie in the number of votes to all decimal places, you can decide the winner of the region arbitrarily, and it does not matter what you decide. Moreover, ignore the fact that the normal samples can be negative. You should not do anything to alter the samples in this case.\n",
    "\n",
    "**Write a function named `election` with two input arguments:**\n",
    "\n",
    "- `df`: a DataFrame encoding a table of the above format. See the test code below for examples. You may assume that the column names are exactly as in the test code.\n",
    "- `T`: a positive integer denoting the number of simulations to run.\n",
    "\n",
    "**The function should return two lists, each containing T numbers. In the first list, each number corresponds to the number of delegates won by the Democrats in each of the T simulations. The second list is analogous and corresponds to the Republicans.** Note that the first number in each list corresponds to the first simulation, so the sum of those numbers should be equal to the total delegate count in all regions, which is 48 in the above example. The same statement holds for the second number of each list, and so on. See the sample inputs and outputs for examples.\n",
    "\n"
   ]
  },
  {
   "cell_type": "code",
   "execution_count": 1,
   "metadata": {},
   "outputs": [],
   "source": [
    "# Final code\n",
    "from numpy.random import default_rng\n",
    "rng=default_rng()\n",
    "import pandas as pd\n",
    "def election(df,T):\n",
    "    dems = []\n",
    "    reps = []\n",
    "    for i in range(T):\n",
    "        df['Dem_Votes'] = ''\n",
    "        df['Rep_Votes'] = ''\n",
    "        df['Dem_Votes'] = rng.normal(df['Dem-Mean'],df['Dem-Std'])\n",
    "        df['Rep_Votes'] = rng.normal(df['Rep-Mean'],df['Rep-Std'])\n",
    "        df['Dem_Seats'] = df.apply(lambda x: x['Delegates'] if x['Dem_Votes']>x['Rep_Votes'] else 0,axis = 1)\n",
    "        df['Rep_Seats'] = df.apply(lambda x: x['Delegates'] if x['Rep_Votes']>x['Dem_Votes'] else 0,axis = 1)\n",
    "        dems.append(int(sum(df['Dem_Seats'])))\n",
    "        reps.append(int(sum(df['Rep_Seats'])))\n",
    "    return(dems,reps)\n"
   ]
  },
  {
   "cell_type": "code",
   "execution_count": 2,
   "metadata": {},
   "outputs": [
    {
     "name": "stdout",
     "output_type": "stream",
     "text": [
      "Democrat   # of Delegates: [25, 10, 38, 23, 25, 25, 25, 38, 25, 25]\n",
      "Republican # of Delegates: [23, 38, 10, 25, 23, 23, 23, 10, 23, 23]\n"
     ]
    }
   ],
   "source": [
    "# Sample input 1 (DO NOT TRY TO REPLICATE THESE EXACT OUTPUTS)\n",
    "# Note that the sum of the corresponding numbers in the two lists are always 48.\n",
    "df=pd.DataFrame([[10,2,8,1.5,15],\\\n",
    "                 [8, 1.5,6,1,10],\\\n",
    "                 [6, 1,  8,2,13],\\\n",
    "                 [5, 1,  8,1,10]],\\\n",
    "                index=['Region A','Region B','Region C','Region D'],\\\n",
    "                columns=['Dem-Mean','Dem-Std','Rep-Mean','Rep-Std','Delegates'])\n",
    "dem,rep=election(df,10)\n",
    "print('Democrat   # of Delegates:',dem)\n",
    "print('Republican # of Delegates:',rep)"
   ]
  },
  {
   "cell_type": "code",
   "execution_count": 3,
   "metadata": {},
   "outputs": [
    {
     "name": "stdout",
     "output_type": "stream",
     "text": [
      "Democrat   # of Delegates: [25, 25, 25, 25, 25, 25, 25, 25, 25, 25]\n",
      "Republican # of Delegates: [23, 23, 23, 23, 23, 23, 23, 23, 23, 23]\n"
     ]
    }
   ],
   "source": [
    "# Sample input 2 (All standard deviatsion changed to 0.01 to reduce randomness)\n",
    "df2=pd.DataFrame([[10,0.01,8,0.01,15],\\\n",
    "                 [8, 0.01,6,0.01,10],\\\n",
    "                 [6, 0.01,8,0.01,13],\\\n",
    "                 [5, 0.01,8,0.01,10]],\\\n",
    "                index=['Region A','Region B','Region C','Region D'],\\\n",
    "                columns=['Dem-Mean','Dem-Std','Rep-Mean','Rep-Std','Delegates'])\n",
    "dem,rep=election(df2,10)\n",
    "print('Democrat   # of Delegates:',dem)\n",
    "print('Republican # of Delegates:',rep)"
   ]
  },
  {
   "cell_type": "code",
   "execution_count": 4,
   "metadata": {},
   "outputs": [
    {
     "name": "stdout",
     "output_type": "stream",
     "text": [
      "Democrat   # of Delegates: [20, 20, 20, 20, 20]\n",
      "Republican # of Delegates: [40, 40, 40, 40, 40]\n"
     ]
    }
   ],
   "source": [
    "# Sample input 3 (Modified means, low randomness)\n",
    "df3=pd.DataFrame([[6,0.01,8,0.01,14],\\\n",
    "                 [5, 0.01,7,0.01,11],\\\n",
    "                 [7, 0.01,10,0.01,5],\\\n",
    "                 [11,0.01,8,0.01,20],\\\n",
    "                 [5, 0.01,8,0.01,10]],\\\n",
    "                index=['Region 1','Region 2','Region 3','Region 4','Region 5'],\\\n",
    "                columns=['Dem-Mean','Dem-Std','Rep-Mean','Rep-Std','Delegates'])\n",
    "dem,rep=election(df3,5)\n",
    "print('Democrat   # of Delegates:',dem)\n",
    "print('Republican # of Delegates:',rep)"
   ]
  },
  {
   "cell_type": "code",
   "execution_count": 5,
   "metadata": {},
   "outputs": [
    {
     "name": "stdout",
     "output_type": "stream",
     "text": [
      "Chance of a Democratic majority: 0.3\n"
     ]
    }
   ],
   "source": [
    "# Sample input 4 \n",
    "data=pd.DataFrame([[20,4,24,6,15],[12,3,10,2,9],[10,2,13,2,8]],\\\n",
    "                  columns=['Dem-Mean','Dem-Std','Rep-Mean','Rep-Std','Delegates'])\n",
    "dem,rep=election(data,1000)\n",
    "import pandas as pd\n",
    "dem,rep=pd.Series(dem),pd.Series(rep)\n",
    "print('Chance of a Democratic majority:',round((dem>rep).mean(),1))"
   ]
  },
  {
   "cell_type": "code",
   "execution_count": 6,
   "metadata": {},
   "outputs": [
    {
     "name": "stdout",
     "output_type": "stream",
     "text": [
      "Chance of a Democratic majority: 0.7\n"
     ]
    },
    {
     "data": {
      "image/png": "[encoded data removed]",
      "text/plain": [
       "<Figure size 640x480 with 1 Axes>"
      ]
     },
     "metadata": {},
     "output_type": "display_data"
    }
   ],
   "source": [
    "# Sample input 5 \n",
    "# You may have to run this twice for the graph to show\n",
    "df=pd.DataFrame([[10,2,8,1.5,15],\\\n",
    "                 [8, 1.5,6,1,10],\\\n",
    "                 [6, 1,  8,2,13],\\\n",
    "                 [5, 1,  8,1,10]],\\\n",
    "                index=['Region A','Region B','Region C','Region D'],\\\n",
    "                columns=['Dem-Mean','Dem-Std','Rep-Mean','Rep-Std','Delegates'])\n",
    "dem,rep=election(df,1000)\n",
    "import pandas as pd\n",
    "import matplotlib.pyplot as plt\n",
    "dem,rep=pd.Series(dem),pd.Series(rep)\n",
    "print('Chance of a Democratic majority:',round((dem>rep).mean(),1))\n",
    "dem.plot(kind='hist',bins=20,\\\n",
    "         title='Distribution of Democratic Delegate Count (1000 simulations)')\n",
    "plt.show()"
   ]
  },
  {
   "cell_type": "markdown",
   "metadata": {},
   "source": [
    "# Q2. Waiting Time Simulator (8 points)\n",
    "\n",
    "This question asks you to create a tool to estimate the average time customers wait outside a store before being allowed to enter. The store has set a limit on the maximum number of customers that can be inside the store at any given time. Once this limit is reached, customers must queue outside the store until some customers exit, at which point the store will admit as many customers as possible while observing the maximum occupancy limit. You are to simulate the queueing dynamics and use a certain mathematical formula called Little's Law to estimate the average waiting time. \n",
    "\n",
    "**Write a function called `waiting_time` with three input arguments:**\n",
    "\n",
    "- `arrivalsList`: a list of non-negative integers corresponding to the number of new customers lining up to enter the store in each minute. For simplicity, assume that all of the arriving customers show up exactly at the beginning of the minute. \n",
    "- `n`: the maximum occupancy limit. This is the maximum number of people allowed inside the store at any given time.\n",
    "- `k`: the number of minutes each customer stays inside the store after being admitted. For simplicity, assume that every customer stays the same amount of time. If k=2, then every customer who is admitted is assumed to be inside the store for exactly 2 minutes before exiting.\n",
    "\n",
    "**The function should return the average waiting time customers spend outside the store before being admitted, rounded to two decimal places.** For example, suppose that `arrivalsList=[5,9,14,5,3,0,9,20,30,0,0]`, $n=15$ and $k=2$, the queuing dynamics can be described by the following table. Note that the number of people who exit is exactly the same as the number of people admitted $k$ minutes ago. Moreover, the occupancy changes from minute to minute based on the difference between the number of admits and the number of exits. On the other hand, the queue changes from minute to minute based on the difference between the number of arrivals and the number of admits. \n",
    "\n",
    "|Minute|Arrivals|Exit|Admitted|Occupancy|Queue|\n",
    "|--|--|--|--|--|--|\n",
    "|0|5|0|5|5|0|\n",
    "|1|9|0|9|14|0|\n",
    "|2|14|5|6|15|8|\n",
    "|3|5|9|9|15|4|\n",
    "|4|3|6|6|15|1|\n",
    "|5|0|9|1|7|0|\n",
    "|6|9|6|9|10|0|\n",
    "|7|20|1|6|15|14|\n",
    "|8|30|9|9|15|35|\n",
    "|9|0|6|6|15|29|\n",
    "|10|0|9|9|15|20|\n",
    "|**Total**|**95**|` `|` `|` `|**111**|\n",
    "\n",
    "$$\\text{Av. Wait Time} = \\frac{\\text{Total Queue}}{\\text{Total Arrivals}} \\times \\text{1 min} = \\frac{111}{95}\\times \\text{1 min} \\approx \\text{1.17 minutes}$$\n",
    "\n",
    "See the sample inputs and outputs for more examples."
   ]
  },
  {
   "cell_type": "code",
   "execution_count": 7,
   "metadata": {},
   "outputs": [],
   "source": [
    "# Final Solution\n",
    "def waiting_time(arrivalsList,n,k):\n",
    "    exit = []\n",
    "    admitted = []\n",
    "    queue = []\n",
    "    occupancy = []\n",
    "    for i in range(len(arrivalsList)):\n",
    "        if i == 0:\n",
    "            admitted.append(min(n,arrivalsList[i]))\n",
    "            exit.append(0)\n",
    "            occupancy.append(min(n,arrivalsList[i]))\n",
    "            queue.append(arrivalsList[i]-n if n<arrivalsList[i] else 0)\n",
    "        elif i<k:\n",
    "            exit.append(0)\n",
    "            admitted.append(min(queue[-1]+arrivalsList[i],n-occupancy[-1]+exit[i]))\n",
    "            occupancy.append(sum(admitted[:-k-1:-1]))\n",
    "            queue.append(queue[-1]+arrivalsList[i]-admitted[i])\n",
    "        else:\n",
    "            exit.append(admitted[-k])\n",
    "            admitted.append(min(queue[-1]+arrivalsList[i],n-occupancy[-1]+exit[i]))\n",
    "            occupancy.append(sum(admitted[:-k-1:-1]))\n",
    "            queue.append(queue[-1]+arrivalsList[i]-admitted[i])\n",
    "    return(round(sum(queue)/sum(arrivalsList),2))\n",
    "\n"
   ]
  },
  {
   "cell_type": "code",
   "execution_count": 8,
   "metadata": {},
   "outputs": [
    {
     "data": {
      "text/plain": [
       "1.17"
      ]
     },
     "execution_count": 8,
     "metadata": {},
     "output_type": "execute_result"
    }
   ],
   "source": [
    "# Sample run 1\n",
    "arrivalsList=[5,9,14,5,3,0,9,20,30,0,0]\n",
    "waiting_time(arrivalsList,15,2)"
   ]
  },
  {
   "cell_type": "code",
   "execution_count": 9,
   "metadata": {},
   "outputs": [
    {
     "name": "stdout",
     "output_type": "stream",
     "text": [
      "Occupancy limit = 10\tWait time = 3.23 min.\n"
     ]
    }
   ],
   "source": [
    "# Sample run 2\n",
    "arrivalsList=[5,9,14,5,3,0,9,20,30,0,0]\n",
    "print(f'Occupancy limit = 10\\tWait time = {waiting_time(arrivalsList,10,3)} min.')"
   ]
  },
  {
   "cell_type": "code",
   "execution_count": 10,
   "metadata": {},
   "outputs": [
    {
     "name": "stdout",
     "output_type": "stream",
     "text": [
      "Occupancy limit = 50\tWait time = 0.09 min.\n"
     ]
    }
   ],
   "source": [
    "# Sample run 3\n",
    "arrivalsList=[5,9,14,5,3,0,9,20,30,0,0]\n",
    "print(f'Occupancy limit = 50\\tWait time = {waiting_time(arrivalsList,50,3)} min.')"
   ]
  },
  {
   "cell_type": "code",
   "execution_count": 11,
   "metadata": {},
   "outputs": [
    {
     "name": "stdout",
     "output_type": "stream",
     "text": [
      "Dependence of average wait time on max occupancy: (assume k=3)\n",
      "n\tAv. Wait Time\n",
      "10\t10.06\n",
      "20\t8.23\n",
      "30\t6.48\n",
      "40\t4.81\n",
      "50\t3.22\n",
      "60\t1.62\n"
     ]
    }
   ],
   "source": [
    "# Sample run 4\n",
    "arrivalsList2=[0,0,5,10,20,30,40,35,30,20,20,20,15,15,15,10,20,20,30,30,20,20,10,5]\n",
    "print('Dependence of average wait time on max occupancy: (assume k=3)')\n",
    "print('n\\tAv. Wait Time')\n",
    "for n2 in range(10,61,10):\n",
    "    print(f'{n2}\\t{waiting_time(arrivalsList2,n2,3)}')"
   ]
  },
  {
   "cell_type": "code",
   "execution_count": 12,
   "metadata": {},
   "outputs": [
    {
     "name": "stdout",
     "output_type": "stream",
     "text": [
      "Dependence of average wait time on shopping time: (assume n=40)\n",
      "k\tAv. Wait Time\n",
      "1\t0.0\n",
      "2\t1.78\n",
      "3\t4.81\n",
      "4\t6.39\n",
      "5\t7.33\n",
      "6\t7.92\n",
      "7\t8.4\n",
      "8\t8.68\n",
      "9\t8.95\n",
      "10\t9.22\n"
     ]
    }
   ],
   "source": [
    "# Sample run 5\n",
    "arrivalsList2=[0,0,5,10,20,30,40,35,30,20,20,20,15,15,15,10,20,20,30,30,20,20,10,5]\n",
    "print('Dependence of average wait time on shopping time: (assume n=40)')\n",
    "print('k\\tAv. Wait Time')\n",
    "for shopping_time in range(1,11):\n",
    "    print(f'{shopping_time}\\t{waiting_time(arrivalsList2,40,shopping_time)}')"
   ]
  },
  {
   "cell_type": "markdown",
   "metadata": {},
   "source": [
    "# Q3. Job Decision Simulator (9 points)\n",
    "\n",
    "This question asks you to write Python code to simulate the responses of a given student to a series of job offers based on the timing of the offers and the student's personal preferences. Some job offers are acceptable to her and others are unacceptable, and among the acceptable offers, she may like some better than others. Every job offer has a deadline, and if she does not accept an offer by the deadline, then the offer expires. The student is very risk averse, meaning that she never lets an acceptable job offer expire without having another offer in hand that she likes at least as much. More precisely, assume that the student always responds to job offers based on the following rules:\n",
    "\n",
    "- She turns down unacceptable offers immediately.\n",
    "- She holds on to the first acceptable job offer that she receives. (Here, \"holding on\" to an offer does not necessarily mean that she will eventually accept the offer, but it means that she does not turn it down unless she gets another offer at least as good.) \n",
    "- At any time, she would hold on to at most one offer, which is her favorite acceptable offer received so far. If she receives a new acceptable offer while already holding on to an offer, she would compare the two and hold on to the offer she likes better, while turning down the other. If she likes the new offer equally as much as her favorite offer received so far, then she holds on to the one with the later deadline to respond, while turning down the one with the earlier deadline. If both of these favorite offers have the same deadline to respond, then she holds on to the one received earlier, while turning down the one received later.\n",
    "- For the favorite offer that she is holding on to, if by the end of the last day to respond to this offer, the offer is still her favorite (i.e. she has not turned it down for something else), then she will accept this offer, at which point she is required to turn down all future offers since her acceptance of an offer cannot be reneged.\n",
    "\n",
    "\n",
    "**Write a function called `job_decision` with two input arguments:**\n",
    "\n",
    "- `offers`: a list in which each item corresponds to a job offer, and the order of the items corresponds to the order by which she receives the offers. Each job offer is represented by a list of three objects, `[offer_date,job_name,days_to_respond]`. The first object, `offer_date`, is an integer representing the day she receives the offer. The second object, `job_name`, is a string which serves as an unique identifier for the job. The third object, `days_to_respond`, is a positive integer indicating how many days she has to respond to the offer. For simplicity, assume that every offer is received on the morning of a day, and the deadline is always in the evening. example, if `offer_date=5` and `days_to_respond=3`, then she receives the offer on the morning of Day 5, and she must respond to the offer by the evening of Day 8 (because 5+3=8). You may assume that the offers are sorted so that those with earlier offer dates appear earlier in the list.\n",
    "- `utility`: a dictionary in which the key is the unique identifier of a job (i.e. the same as `job_name` above), and the value is how much she likes the offer, with higher values corresponding to jobs she likes better. If two jobs have the same value, then she likes the two jobs equally. All of the entries in this dictionary are jobs she find acceptable, and if a job is not in the dictionary, then it means she does not find that job acceptable.\n",
    "\n",
    "**The function should return a string denoting the unique identifier (i.e. `job_name`) of the offer she accepts.** If none of the offers are acceptable to her, then the function should return the empty string `''`. See the sample inputs and outputs below for examples."
   ]
  },
  {
   "cell_type": "code",
   "execution_count": 13,
   "metadata": {},
   "outputs": [],
   "source": [
    "# Final code\n",
    "def job_decision(offers, utility):\n",
    "    expiryLis = {}\n",
    "    bestoffer = \"\"\n",
    "    ind = 0\n",
    "    for i in range(len(offers)):\n",
    "        expiry = -1\n",
    "        if(offers[i][1] in utility.keys()):\n",
    "            expiry = offers[i][0] + offers[i][2]\n",
    "            if( bestoffer == \"\"):\n",
    "                bestoffer = offers[i][1]\n",
    "                ind = i\n",
    "        expiryLis[offers[i][1]] = expiry\n",
    "\n",
    "    for i in range(ind+1, len(offers)):\n",
    "        if( offers[i][1] in utility.keys()):\n",
    "            if( offers[i][0] > expiryLis[bestoffer]):\n",
    "                break\n",
    "            else:\n",
    "                if(utility[offers[i][1]] > utility[bestoffer]):\n",
    "                    bestoffer = offers[i][1]\n",
    "                elif(utility[offers[i][1]] == utility[bestoffer]):\n",
    "                        if (expiryLis[offers[i][1]] > expiryLis[bestoffer] ):\n",
    "                            bestoffer = offers[i][1]\n",
    "    return(bestoffer)\n"
   ]
  },
  {
   "cell_type": "code",
   "execution_count": 14,
   "metadata": {},
   "outputs": [
    {
     "name": "stdout",
     "output_type": "stream",
     "text": [
      "The student chose Google.\n"
     ]
    }
   ],
   "source": [
    "# Sample input 1\n",
    "# She first holds on to the Intel offer, then Amazon (better than Intel), then Google (later deadline than Amazon).\n",
    "offers=[[5,'Intel',3],[8,'Amazon',7],[12,'Disney',3],[15,'Google',2],[15,'Facebook',2]]\n",
    "utility={'Intel':5,'Amazon':8,'Google':8,'Facebook':8}\n",
    "print(f'The student chose {job_decision(offers,utility)}.')"
   ]
  },
  {
   "cell_type": "code",
   "execution_count": 15,
   "metadata": {},
   "outputs": [
    {
     "name": "stdout",
     "output_type": "stream",
     "text": [
      "The student chose Intel.\n"
     ]
    }
   ],
   "source": [
    "# Sample input 2\n",
    "# She first holds on to the Intel offer, but nothing as good appears by Day 8, so she accepts Intel.\n",
    "offers=[[5,'Intel',3],[9,'Amazon',7],[12,'Disney',3],[15,'Google',2],[15,'Facebook',2]]\n",
    "utility={'Intel':5,'Amazon':9.5,'Google':10,'Facebook':10}\n",
    "print(f'The student chose {job_decision(offers,utility)}.')"
   ]
  },
  {
   "cell_type": "code",
   "execution_count": 16,
   "metadata": {},
   "outputs": [
    {
     "name": "stdout",
     "output_type": "stream",
     "text": [
      "The student chose Facebook.\n"
     ]
    }
   ],
   "source": [
    "# Sample input 3\n",
    "# She first holds on to Amazon, then to Google, then to Facebook (each has later deadline than the previous.)\n",
    "offers=[[5,'Intel',3],[8,'Amazon',7],[12,'Disney',3],[15,'Google',1],[15,'Facebook',2]]\n",
    "utility2={'Amazon':8,'Google':8,'Facebook':8}\n",
    "print(f'The student chose {job_decision(offers,utility2)}.')"
   ]
  },
  {
   "cell_type": "code",
   "execution_count": 17,
   "metadata": {},
   "outputs": [
    {
     "name": "stdout",
     "output_type": "stream",
     "text": [
      "The student chose Amazon.\n"
     ]
    }
   ],
   "source": [
    "# Sample input 4\n",
    "# She first holds on to Amazon, and by Day 15, there's no offer that is as good with later deadline.\n",
    "offers=[[5,'Intel',3],[8,'Amazon',7],[12,'Disney',3],[13,'Google',2],[16,'Facebook',2]]\n",
    "utility2={'Amazon':8,'Google':8,'Facebook':8}\n",
    "print(f'The student chose {job_decision(offers,utility2)}.')"
   ]
  },
  {
   "cell_type": "code",
   "execution_count": 18,
   "metadata": {},
   "outputs": [
    {
     "data": {
      "text/plain": [
       "''"
      ]
     },
     "execution_count": 18,
     "metadata": {},
     "output_type": "execute_result"
    }
   ],
   "source": [
    "# Sample input 5\n",
    "# None of the offers are acceptable to her\n",
    "offers3=[[8,'Amazon',7],[12,'Disney',3],[13,'Google',2],[17,'Facebook',2]]\n",
    "utility3={'Apple':100, 'Intel': 80}\n",
    "job_decision(offers3,utility3)"
   ]
  }
 ],
 "metadata": {
  "kernelspec": {
   "display_name": "Python 3",
   "language": "python",
   "name": "python3"
  },
  "language_info": {
   "codemirror_mode": {
    "name": "ipython",
    "version": 3
   },
   "file_extension": ".py",
   "mimetype": "text/x-python",
   "name": "python",
   "nbconvert_exporter": "python",
   "pygments_lexer": "ipython3",
   "version": "3.8.8"
  }
 },
 "nbformat": 4,
 "nbformat_minor": 4
}
