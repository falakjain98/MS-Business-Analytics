{
 "cells": [
  {
   "cell_type": "markdown",
   "id": "c7089fa1",
   "metadata": {},
   "source": [
    "## Exercise 12.2 Reusable Software for Project Selection\n",
    "\n",
    "Recall the abstract formulation for the Project Selection problem introduced in Week 8 Session 16. This is also Example 3 from Week 11.\n",
    "\n",
    "**Data:** \n",
    "\n",
    "- $P$: set of projects\n",
    "- $C$: set of conflicts. Each $(p_1, p_2) \\in C$ is a pair of projects that conflicts with one another.\n",
    "- $R$: set of prerequisite pairs. Each $(p_1, p_2) \\in R$ is a pair such that project $p_1$ is a prerequisite to project $p_2$. \n",
    "\n",
    "**Decision Variables:** $x_p$: whether to pursue project $p$. (Binary)\n",
    "\n",
    "**Objective and Constraints:**\n",
    "\n",
    "$$\\begin{aligned}\n",
    "\\text{Maximize} && \\sum_{p \\in P} x_p \\\\\n",
    "\\text{s.t.} && \\\\\n",
    "&& x_{p_1}+x_{p_2} &\\le 1 && \\text{For each conflicting pairs $(p_1,p_2) \\in C$.} \\\\\n",
    "&& x_{p_1} & \\ge x_{p_2} && \\text{For each pair $(p_1,p_2)$ such that $p_1$ is a prereq to $p_2$.}\n",
    "\\end{aligned}$$\n",
    "\n",
    "Write a function called **projectSelection** with two input arguments:\n",
    "\n",
    "- **inputFile**: an Excel file of the same format as the `12-projects-input.xlsx` file attached to this exercise.\n",
    "- **outputFile**: the name of the output file that your function should generate, by obtaining the data from the given input file and solving the above linear optimization model. The format of your output file should match the `12-projects-output.xlsx` file attached to this exercise.\n",
    "\n",
    "Note that the `12-projects-input.xlsx` input file corresponds to the problem instance given in Week 8 Session 16. The set of conflicts corresponds to the edges in the following graph.\n",
    "\n",
    "![Diagram for 9.4](08-Ebony.png)\n",
    "\n",
    "Moreover, project A is a prerequisite to project F, and project B is a prerequisite to project G. However, you should be reading all of these input data from the **inputFile** rather than hard-coding them in."
   ]
  },
  {
   "cell_type": "code",
   "execution_count": 1,
   "id": "09c83cb2",
   "metadata": {},
   "outputs": [],
   "source": [
    "# Write your code here.\n",
    "\n",
    "\n",
    "\n"
   ]
  },
  {
   "cell_type": "code",
   "execution_count": 23,
   "id": "89d1846c",
   "metadata": {},
   "outputs": [],
   "source": [
    "# Test code\n",
    "projectSelection('12-projects-input.xlsx','12-projects-yourOutput.xlsx')"
   ]
  }
 ],
 "metadata": {
  "kernelspec": {
   "display_name": "Python 3",
   "language": "python",
   "name": "python3"
  },
  "language_info": {
   "codemirror_mode": {
    "name": "ipython",
    "version": 3
   },
   "file_extension": ".py",
   "mimetype": "text/x-python",
   "name": "python",
   "nbconvert_exporter": "python",
   "pygments_lexer": "ipython3",
   "version": "3.7.11"
  }
 },
 "nbformat": 4,
 "nbformat_minor": 5
}
