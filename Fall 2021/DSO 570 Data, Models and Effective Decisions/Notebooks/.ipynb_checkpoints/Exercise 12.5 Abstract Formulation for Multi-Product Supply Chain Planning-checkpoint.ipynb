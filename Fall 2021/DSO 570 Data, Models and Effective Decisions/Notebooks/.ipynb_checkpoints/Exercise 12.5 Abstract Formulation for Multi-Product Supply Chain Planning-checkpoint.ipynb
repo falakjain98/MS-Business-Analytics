{
 "cells": [
  {
   "cell_type": "markdown",
   "id": "7b72ff25",
   "metadata": {},
   "source": [
    "## Exercise 12.5 Abstract Formulation for Multi-Product Supply Chain Planning\n",
    "\n",
    "Write an abstract formulation for the problem described in the handout. To help you get started, the relevant data variables are already provided."
   ]
  },
  {
   "cell_type": "markdown",
   "id": "1e7ca5c3",
   "metadata": {},
   "source": [
    "### Abstract Formulation\n",
    "\n",
    "**Data:**\n",
    "\n",
    "- $I$: the set of FCs.\n",
    "- $J$: the set of regions.\n",
    "- $K$: the set of items.\n",
    "- $q_i$: the capacity of FC $i$.\n",
    "- $\\delta_{ij}$: the distance from FC $i$ to region $j$.\n",
    "- $w_k$: the shipping weight of item $k$.\n",
    "- $s_k$: the storage size of item $k$.\n",
    "- $d_{jk}$: the demand for item $k$ in region $j$. \n",
    "\n",
    "\n",
    "**Decision Variables:**\n",
    "- $x_{ijk}$: Total units of item k to be shipped from FC i to demand region j (Continuous)\n",
    "\n",
    "**Objective and Constraints:**\n",
    "$$\\text{Minimize: } \\sum_{i \\in I, j \\in J, k \\in K} 1.38x_{ijk}w_{k}delta_{ij}$$\n",
    "\n",
    "**Constraints:**\n",
    "$$\\begin{aligned}\n",
    "\\text{(Capacity)} && \\sum_{j \\in J,k \\in K} s_kx_{ijk} & \\le q_i \\text{ For each FC } i \\in I\\\\\n",
    "\\text{(Demand)} && \\sum_(i \\in I) x_{ijk} & \\ge d_{jk} \\text{ For aeach region } j \\in J \\text{ and item } k \\in k\\\\\n",
    "\\text{(Non-negativity)} && x_{ijk} & \\ge 0 \\text{ For all i,j,k} \\\\\n",
    "\\end{aligned}$$\n",
    "\n",
    "\n",
    "\n",
    "\n",
    "\n"
   ]
  },
  {
   "cell_type": "code",
   "execution_count": null,
   "id": "6e9b5d97",
   "metadata": {},
   "outputs": [],
   "source": []
  }
 ],
 "metadata": {
  "kernelspec": {
   "display_name": "Python 3 (ipykernel)",
   "language": "python",
   "name": "python3"
  },
  "language_info": {
   "codemirror_mode": {
    "name": "ipython",
    "version": 3
   },
   "file_extension": ".py",
   "mimetype": "text/x-python",
   "name": "python",
   "nbconvert_exporter": "python",
   "pygments_lexer": "ipython3",
   "version": "3.8.8"
  }
 },
 "nbformat": 4,
 "nbformat_minor": 5
}
