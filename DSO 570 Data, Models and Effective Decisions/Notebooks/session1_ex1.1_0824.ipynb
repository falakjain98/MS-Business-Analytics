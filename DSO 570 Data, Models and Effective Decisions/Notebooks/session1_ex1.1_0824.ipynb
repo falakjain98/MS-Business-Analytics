{
 "cells": [
  {
   "cell_type": "code",
   "execution_count": 12,
   "id": "69f9d833-8fc5-4bb8-97b9-718326edb3d5",
   "metadata": {},
   "outputs": [
    {
     "name": "stdin",
     "output_type": "stream",
     "text": [
      "Enter a number:  6.8\n"
     ]
    },
    {
     "name": "stdout",
     "output_type": "stream",
     "text": [
      "6.8 *2 = 13.6\n"
     ]
    }
   ],
   "source": [
    "# Mulitplying an inputted number by two\n",
    "num = float(input('Enter a number: '))\n",
    "ans = num*2\n",
    "print(num,'*2 =',ans)"
   ]
  },
  {
   "cell_type": "code",
   "execution_count": 3,
   "id": "d6a2279c-0641-4628-8af2-4dac93aba04d",
   "metadata": {},
   "outputs": [
    {
     "name": "stdin",
     "output_type": "stream",
     "text": [
      "Enter first name:  Falak\n",
      "Enter last name:  Jain\n"
     ]
    },
    {
     "name": "stdout",
     "output_type": "stream",
     "text": [
      "Your full name is Falak Jain\n"
     ]
    }
   ],
   "source": [
    "# Requesting an user inputted name\n",
    "first = input('Enter first name: ')\n",
    "last = input('Enter last name: ')\n",
    "print(f'Your full name is {first} {last}')"
   ]
  },
  {
   "cell_type": "code",
   "execution_count": null,
   "id": "6a1f528a-5ff6-447c-982a-33f9a94d240e",
   "metadata": {},
   "outputs": [],
   "source": []
  }
 ],
 "metadata": {
  "kernelspec": {
   "display_name": "Python 3",
   "language": "python",
   "name": "python3"
  },
  "language_info": {
   "codemirror_mode": {
    "name": "ipython",
    "version": 3
   },
   "file_extension": ".py",
   "mimetype": "text/x-python",
   "name": "python",
   "nbconvert_exporter": "python",
   "pygments_lexer": "ipython3",
   "version": "3.8.8"
  }
 },
 "nbformat": 4,
 "nbformat_minor": 5
}
