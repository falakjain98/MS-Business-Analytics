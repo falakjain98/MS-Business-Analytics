{
 "cells": [
  {
   "cell_type": "markdown",
   "id": "0d0e4b58",
   "metadata": {},
   "source": [
    "## Exercise 9.1: Optimal Box Selection \n",
    "\n",
    "A company sells items of various sizes and ships them to customers using special boxes. While the sizes of the items are fixed, the company can decide what sized boxes to use for shipping. The following table lists the types of items, along with the minimum box size needed for each item, as well as the number of each item that needs to be shipped. \n",
    "\n",
    "| Item type | 1 | 2 | 3 | \n",
    "|--|--|--|--|\n",
    "| Minimum box size (in cubit feet) | 1.5 | 1.7 | 2.0 |\n",
    "| Demand | 400 | 500 | 200 |\n",
    "\n",
    "For simplicity, the company limits the set of possible box sizes to be exactly the sizes listed in the table above. In order to satisfy demand, the company can always use a larger box to ship a smaller item. For example, a type-1 item can be shipped with a box of size 1.5, but can also be shipped using boxes of sizes 1.7 or 2.0. \n",
    "\n",
    "While larger boxes are more flexible, they are also more expensive to make: **the variable cost** (in dollars) of making each box is exactly equal to the box size. However, the higher variable cost might be worth it since to produce a box of a certain size, the company needs to pay a **fixed cost** of 1000 to create the mold. So using larger boxes might allow the company to make do with fewer box types, which would lower the total fixed cost. For example, using boxes of all three types would incur a fixed cost of 3000, while using only boxes of size 2.0 would incur a fixed cost of 1000. \n",
    "\n",
    "Write a linear optimization formulation to help the company determine which box types to produce, as well as how many boxes of each size to produce, in order to minimize the total cost while satisfying all demand. (The total cost is the sum of the total variable cost and the total fixed cost. )"
   ]
  },
  {
   "cell_type": "markdown",
   "id": "b924a9f2",
   "metadata": {},
   "source": [
    "### English Description\n",
    "\n",
    "**Decision:**\n",
    "- The number of boxes to be made of each size\n",
    "- Whether to create the mold for each size\n",
    "\n",
    "**Objective:** \n",
    "Minimize the total cost while satisfying demand \n",
    "\n",
    "**Constraints:**\n",
    "- The number of boxes manufactured should meet the demand\n",
    "- A fixed cost is incurred to manufacture the mold for boxes of a size\n",
    "\n"
   ]
  },
  {
   "cell_type": "markdown",
   "id": "c1042722",
   "metadata": {},
   "source": [
    "### Concrete Formulation\n",
    "\n",
    "**Decision Variable:**\n",
    "- $X_i$: Number of boxes to be produced for size i (integer)\n",
    "- $Y_i$: Whether to manufacture mold for box of size i\n",
    "\n",
    "**Objective:**\n",
    "$$\\text{Minimize:} \\qquad 1.5X_s + 1.7X_m + 2X_l + 1000(Y_s + Y_m + Y_l)$$\n",
    "\n",
    "**Constraints:**\n",
    "$$\\begin{aligned}\n",
    "\\text{(Demand for L)} && X_l & \\ge 200 \\\\\n",
    "\\text{(Demand for M)} && X_m + (X_l - 200) & \\ge 500 \\\\\n",
    "\\text{(Demand for S)} && X_s + (X_m + X_l - 700) & \\ge 400 \\\\\n",
    "\\text{(S Mold)} && Y_s & \\le 9999Z_s \\\\\n",
    "\\text{(M Mold)} && Y_m & \\le 9999Z_m \\\\\n",
    "\\text{(L Mold)} && Y_l & \\le 9999Z_l \\\\\n",
    "\\text{(Non-negativity)} && X_s,X_m,X_l & \\ge 0 \\\\\n",
    "\\end{aligned}$$"
   ]
  }
 ],
 "metadata": {
  "kernelspec": {
   "display_name": "Python 3 (ipykernel)",
   "language": "python",
   "name": "python3"
  },
  "language_info": {
   "codemirror_mode": {
    "name": "ipython",
    "version": 3
   },
   "file_extension": ".py",
   "mimetype": "text/x-python",
   "name": "python",
   "nbconvert_exporter": "python",
   "pygments_lexer": "ipython3",
   "version": "3.8.8"
  }
 },
 "nbformat": 4,
 "nbformat_minor": 5
}
