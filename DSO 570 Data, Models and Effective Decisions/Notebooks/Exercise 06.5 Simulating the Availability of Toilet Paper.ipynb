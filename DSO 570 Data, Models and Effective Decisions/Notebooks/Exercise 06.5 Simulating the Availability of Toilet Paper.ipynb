{
 "cells": [
  {
   "cell_type": "markdown",
   "metadata": {},
   "source": [
    "# Exercise 6.5 Simulating the Availability of Toilet Paper\n",
    "\n",
    "Suppose a certain retail store receives $s$ packages of toilet paper from the store's sole supplier every Monday morning before the store opens. Packages of toilet paper are sold on a first-come-first-serve basis at a fixed price, and the store opens for business every day. This question asks you to estimate the availability of toilet paper given a forecast of daily demand.\n",
    "\n",
    "**Write a function called \"supply_simulation\" with the following input arguments:**\n",
    "\n",
    "- **demand**: a list specifying the number of packages of toilet paper that would be sold each day if the store had infinite supply. You may assume that every number in the list is non-negative, and that the list represents a sequence of consecutive days in which the day at position 0 is a Monday.\n",
    "- **s**: a positive integer representing the number of packages of toilet paper the store receives every Monday before the store opens. This supply is immediately made available to shoppers when the store opens. \n",
    "\n",
    "You may assume that before Day 0, the store has zero inventory carried over from the past. In general, unsold packages can be carried over to the future with no limits on storage capacity. If the store has insufficient inventory to serve all demand in a day, the unserved customers buy from somewhere else.\n",
    "\n",
    "**Your function should return two numbers:**\n",
    "\n",
    "- **served_proportion**: The proportion of demand that is served. This is the total number of packages sold divided by the total demand during the given period.\n",
    "- **good_days_proportion**: The proportion of days in which all demand is served. Define a day to be \"good\" if all demand for that day is served. The desired number is the number of good days divided by the total number of days in the given period.\n",
    "\n",
    "**Hint**: You can determine if a day is a Monday by checking the remainder of the position when divided by 7. Since position 0 is a Monday, then position `t` is a Monday if and only if the remainder of `t` when divided by 7 is 0. In other words, position `t` corresponds to a Monday if and only if `t%7==0` evaluates to True.\n",
    "\n",
    "See the sample outputs below for illustrations."
   ]
  },
  {
   "cell_type": "code",
   "execution_count": 29,
   "metadata": {},
   "outputs": [],
   "source": [
    "# Final Solution\n",
    "def supply_simulation(demand,s):\n",
    "    supply,good_day,sold = 0,0,0\n",
    "    for i in range(len(demand)):\n",
    "        if i%7 == 0:\n",
    "            supply+=s\n",
    "        if demand[i]<=supply:\n",
    "            good_day += 1\n",
    "            sold += demand[i]\n",
    "        if demand[i]>supply:\n",
    "            sold += supply\n",
    "        supply = max(0,supply-demand[i])\n",
    "    return(sold/sum(demand),good_day/len(demand))"
   ]
  },
  {
   "cell_type": "code",
   "execution_count": 30,
   "metadata": {},
   "outputs": [
    {
     "name": "stdout",
     "output_type": "stream",
     "text": [
      "Proportion of total demand that is served:  0.561404\n",
      "Proportion of days in which all demand is served:  0.5\n"
     ]
    }
   ],
   "source": [
    "# Test code 1\n",
    "s,g=supply_simulation([20,35,60,20,10,30,50,30,20,10],100)\n",
    "print('Proportion of total demand that is served: ',round(s,6))\n",
    "print('Proportion of days in which all demand is served: ',g)"
   ]
  },
  {
   "cell_type": "code",
   "execution_count": 31,
   "metadata": {},
   "outputs": [
    {
     "data": {
      "text/plain": [
       "(1.0, 1.0)"
      ]
     },
     "execution_count": 31,
     "metadata": {},
     "output_type": "execute_result"
    }
   ],
   "source": [
    "# Test code 2\n",
    "demand=([10]*7)+([20]*3)\n",
    "supply_simulation(demand,70)"
   ]
  },
  {
   "cell_type": "code",
   "execution_count": 32,
   "metadata": {},
   "outputs": [
    {
     "data": {
      "text/plain": [
       "(0.65, 0.6)"
      ]
     },
     "execution_count": 32,
     "metadata": {},
     "output_type": "execute_result"
    }
   ],
   "source": [
    "# Test code 3\n",
    "demand=([20]*10)\n",
    "supply_simulation(demand,70)"
   ]
  },
  {
   "cell_type": "code",
   "execution_count": 33,
   "metadata": {},
   "outputs": [
    {
     "name": "stdout",
     "output_type": "stream",
     "text": [
      "Proportion of total demand that is served:  0.85\n",
      "Proportion of days in which all demand is served:  0.81\n"
     ]
    }
   ],
   "source": [
    "# Test code 4\n",
    "from numpy.random import default_rng\n",
    "rng=default_rng(seed=0)\n",
    "mu,sigma=100,40\n",
    "demand=[max(0,round(rng.normal(mu,sigma))) for i in range(10000)]\n",
    "s=600\n",
    "served,good=supply_simulation(demand,s)\n",
    "print('Proportion of total demand that is served: ',round(served,2))\n",
    "print('Proportion of days in which all demand is served: ',round(good,2))"
   ]
  },
  {
   "cell_type": "code",
   "execution_count": 34,
   "metadata": {},
   "outputs": [
    {
     "name": "stdout",
     "output_type": "stream",
     "text": [
      "Proportion of total demand that is served:  0.69\n",
      "Proportion of days in which all demand is served:  0.62\n"
     ]
    }
   ],
   "source": [
    "# Test code 5\n",
    "from numpy.random import default_rng\n",
    "rng=default_rng(seed=0)\n",
    "demand=rng.integers(50,200,size=10000)\n",
    "s=600\n",
    "served,good=supply_simulation(demand,s)\n",
    "print('Proportion of total demand that is served: ',round(served,2))\n",
    "print('Proportion of days in which all demand is served: ',round(good,2))"
   ]
  }
 ],
 "metadata": {
  "kernelspec": {
   "display_name": "Python 3",
   "language": "python",
   "name": "python3"
  },
  "language_info": {
   "codemirror_mode": {
    "name": "ipython",
    "version": 3
   },
   "file_extension": ".py",
   "mimetype": "text/x-python",
   "name": "python",
   "nbconvert_exporter": "python",
   "pygments_lexer": "ipython3",
   "version": "3.8.8"
  }
 },
 "nbformat": 4,
 "nbformat_minor": 4
}
