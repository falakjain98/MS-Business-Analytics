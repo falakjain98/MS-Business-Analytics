{
 "cells": [
  {
   "cell_type": "code",
   "execution_count": 2,
   "id": "98061caa",
   "metadata": {},
   "outputs": [
    {
     "data": {
      "text/html": [
       "<div>\n",
       "<style scoped>\n",
       "    .dataframe tbody tr th:only-of-type {\n",
       "        vertical-align: middle;\n",
       "    }\n",
       "\n",
       "    .dataframe tbody tr th {\n",
       "        vertical-align: top;\n",
       "    }\n",
       "\n",
       "    .dataframe thead th {\n",
       "        text-align: right;\n",
       "    }\n",
       "</style>\n",
       "<table border=\"1\" class=\"dataframe\">\n",
       "  <thead>\n",
       "    <tr style=\"text-align: right;\">\n",
       "      <th></th>\n",
       "      <th>A</th>\n",
       "      <th>B</th>\n",
       "      <th>C</th>\n",
       "      <th>D</th>\n",
       "    </tr>\n",
       "  </thead>\n",
       "  <tbody>\n",
       "    <tr>\n",
       "      <th>1</th>\n",
       "      <td>20</td>\n",
       "      <td>18</td>\n",
       "      <td>21</td>\n",
       "      <td>8</td>\n",
       "    </tr>\n",
       "    <tr>\n",
       "      <th>2</th>\n",
       "      <td>8</td>\n",
       "      <td>23</td>\n",
       "      <td>24</td>\n",
       "      <td>8</td>\n",
       "    </tr>\n",
       "    <tr>\n",
       "      <th>3</th>\n",
       "      <td>25</td>\n",
       "      <td>8</td>\n",
       "      <td>8</td>\n",
       "      <td>19</td>\n",
       "    </tr>\n",
       "  </tbody>\n",
       "</table>\n",
       "</div>"
      ],
      "text/plain": [
       "    A   B   C   D\n",
       "1  20  18  21   8\n",
       "2   8  23  24   8\n",
       "3  25   8   8  19"
      ]
     },
     "execution_count": 2,
     "metadata": {},
     "output_type": "execute_result"
    }
   ],
   "source": [
    "import pandas as pd\n",
    "cost = pd.DataFrame([[20,18,21,8],[8,23,24,8],[25,8,8,19]],\\\n",
    "                    index = [1,2,3],columns=['A','B','C','D'])\n",
    "cost"
   ]
  },
  {
   "cell_type": "code",
   "execution_count": 7,
   "id": "2bd37e78",
   "metadata": {},
   "outputs": [
    {
     "name": "stdout",
     "output_type": "stream",
     "text": [
      "20 18 21 8 \n",
      "8 23 24 8 \n",
      "25 8 8 19 \n"
     ]
    }
   ],
   "source": [
    "for f in cost.index:\n",
    "    for r in cost.columns:\n",
    "        print(cost.loc[f,r],end=' ')\n",
    "    print()"
   ]
  },
  {
   "cell_type": "code",
   "execution_count": 11,
   "id": "c90206e0",
   "metadata": {},
   "outputs": [
    {
     "data": {
      "text/plain": [
       "A    30\n",
       "B    50\n",
       "C    10\n",
       "D    20\n",
       "dtype: int64"
      ]
     },
     "execution_count": 11,
     "metadata": {},
     "output_type": "execute_result"
    }
   ],
   "source": [
    "demand = pd.Series([30,50,10,20],index=['A','B','C','D'])\n",
    "demand"
   ]
  },
  {
   "cell_type": "code",
   "execution_count": 12,
   "id": "b5454564",
   "metadata": {},
   "outputs": [
    {
     "data": {
      "text/plain": [
       "30"
      ]
     },
     "execution_count": 12,
     "metadata": {},
     "output_type": "execute_result"
    }
   ],
   "source": [
    "demand['A']"
   ]
  },
  {
   "cell_type": "code",
   "execution_count": 13,
   "id": "5c0fab15",
   "metadata": {},
   "outputs": [
    {
     "data": {
      "text/plain": [
       "30"
      ]
     },
     "execution_count": 13,
     "metadata": {},
     "output_type": "execute_result"
    }
   ],
   "source": [
    "demand.loc['A']"
   ]
  },
  {
   "cell_type": "code",
   "execution_count": 14,
   "id": "674f0b09",
   "metadata": {},
   "outputs": [
    {
     "data": {
      "text/plain": [
       "Index(['A', 'B', 'C', 'D'], dtype='object')"
      ]
     },
     "execution_count": 14,
     "metadata": {},
     "output_type": "execute_result"
    }
   ],
   "source": [
    "demand.index"
   ]
  },
  {
   "cell_type": "code",
   "execution_count": 15,
   "id": "775847d2",
   "metadata": {},
   "outputs": [
    {
     "data": {
      "text/plain": [
       "1    40\n",
       "2    40\n",
       "3    40\n",
       "dtype: int64"
      ]
     },
     "execution_count": 15,
     "metadata": {},
     "output_type": "execute_result"
    }
   ],
   "source": [
    "capacity = pd.Series([40]*3,index=[1,2,3])\n",
    "capacity"
   ]
  },
  {
   "cell_type": "markdown",
   "id": "97950c14",
   "metadata": {},
   "source": [
    "# Implementing the Formulation Incrementally"
   ]
  },
  {
   "cell_type": "code",
   "execution_count": 19,
   "id": "4b49b815",
   "metadata": {},
   "outputs": [
    {
     "data": {
      "text/plain": [
       "{(1, 'A'): <gurobi.Var x[1,A]>,\n",
       " (1, 'B'): <gurobi.Var x[1,B]>,\n",
       " (1, 'C'): <gurobi.Var x[1,C]>,\n",
       " (1, 'D'): <gurobi.Var x[1,D]>,\n",
       " (2, 'A'): <gurobi.Var x[2,A]>,\n",
       " (2, 'B'): <gurobi.Var x[2,B]>,\n",
       " (2, 'C'): <gurobi.Var x[2,C]>,\n",
       " (2, 'D'): <gurobi.Var x[2,D]>,\n",
       " (3, 'A'): <gurobi.Var x[3,A]>,\n",
       " (3, 'B'): <gurobi.Var x[3,B]>,\n",
       " (3, 'C'): <gurobi.Var x[3,C]>,\n",
       " (3, 'D'): <gurobi.Var x[3,D]>}"
      ]
     },
     "execution_count": 19,
     "metadata": {},
     "output_type": "execute_result"
    }
   ],
   "source": [
    "# Creating variables\n",
    "from gurobipy import Model, GRB\n",
    "mod = Model()\n",
    "FCs = cost.index\n",
    "regions = cost.columns\n",
    "x = mod.addVars(FCs,regions,name='x')\n",
    "mod.update()\n",
    "x"
   ]
  },
  {
   "cell_type": "code",
   "execution_count": 20,
   "id": "83540693",
   "metadata": {},
   "outputs": [
    {
     "data": {
      "text/html": [
       "<div>\n",
       "<style scoped>\n",
       "    .dataframe tbody tr th:only-of-type {\n",
       "        vertical-align: middle;\n",
       "    }\n",
       "\n",
       "    .dataframe tbody tr th {\n",
       "        vertical-align: top;\n",
       "    }\n",
       "\n",
       "    .dataframe thead th {\n",
       "        text-align: right;\n",
       "    }\n",
       "</style>\n",
       "<table border=\"1\" class=\"dataframe\">\n",
       "  <thead>\n",
       "    <tr style=\"text-align: right;\">\n",
       "      <th></th>\n",
       "      <th>A</th>\n",
       "      <th>B</th>\n",
       "      <th>C</th>\n",
       "      <th>D</th>\n",
       "    </tr>\n",
       "  </thead>\n",
       "  <tbody>\n",
       "    <tr>\n",
       "      <th>1</th>\n",
       "      <td>20</td>\n",
       "      <td>18</td>\n",
       "      <td>21</td>\n",
       "      <td>8</td>\n",
       "    </tr>\n",
       "    <tr>\n",
       "      <th>2</th>\n",
       "      <td>8</td>\n",
       "      <td>23</td>\n",
       "      <td>24</td>\n",
       "      <td>8</td>\n",
       "    </tr>\n",
       "    <tr>\n",
       "      <th>3</th>\n",
       "      <td>25</td>\n",
       "      <td>8</td>\n",
       "      <td>8</td>\n",
       "      <td>19</td>\n",
       "    </tr>\n",
       "  </tbody>\n",
       "</table>\n",
       "</div>"
      ],
      "text/plain": [
       "    A   B   C   D\n",
       "1  20  18  21   8\n",
       "2   8  23  24   8\n",
       "3  25   8   8  19"
      ]
     },
     "execution_count": 20,
     "metadata": {},
     "output_type": "execute_result"
    }
   ],
   "source": [
    "cost"
   ]
  },
  {
   "cell_type": "code",
   "execution_count": 23,
   "id": "e0f9b3ac",
   "metadata": {},
   "outputs": [
    {
     "data": {
      "text/plain": [
       "<gurobi.LinExpr: 20.0 x[1,A] + 18.0 x[1,B] + 21.0 x[1,C] + 8.0 x[1,D] + 8.0 x[2,A] + 23.0 x[2,B] + 24.0 x[2,C] + 8.0 x[2,D] + 25.0 x[3,A] + 8.0 x[3,B] + 8.0 x[3,C] + 19.0 x[3,D]>"
      ]
     },
     "execution_count": 23,
     "metadata": {},
     "output_type": "execute_result"
    }
   ],
   "source": [
    "sum(cost.loc[f,r]*x[f,r] for f in FCs for r in regions)"
   ]
  },
  {
   "cell_type": "code",
   "execution_count": 24,
   "id": "f9024c81",
   "metadata": {},
   "outputs": [
    {
     "data": {
      "text/plain": [
       "40"
      ]
     },
     "execution_count": 24,
     "metadata": {},
     "output_type": "execute_result"
    }
   ],
   "source": [
    "capacity[1]"
   ]
  },
  {
   "cell_type": "code",
   "execution_count": 25,
   "id": "2ad148c3",
   "metadata": {},
   "outputs": [
    {
     "data": {
      "text/plain": [
       "<gurobi.TempConstr: <gurobi.LinExpr: x[1,A] + x[1,B] + x[1,C] + x[1,D]> <= 40>"
      ]
     },
     "execution_count": 25,
     "metadata": {},
     "output_type": "execute_result"
    }
   ],
   "source": [
    "x[1,'A'] + x[1,'B'] + x[1,'C'] + x[1,'D'] <= 40"
   ]
  },
  {
   "cell_type": "code",
   "execution_count": 26,
   "id": "69eaa1a4",
   "metadata": {},
   "outputs": [
    {
     "data": {
      "text/plain": [
       "[<gurobi.Var x[1,A]>,\n",
       " <gurobi.Var x[1,B]>,\n",
       " <gurobi.Var x[1,C]>,\n",
       " <gurobi.Var x[1,D]>]"
      ]
     },
     "execution_count": 26,
     "metadata": {},
     "output_type": "execute_result"
    }
   ],
   "source": [
    "[x[1,r] for r in regions]"
   ]
  },
  {
   "cell_type": "code",
   "execution_count": 27,
   "id": "3183149b",
   "metadata": {},
   "outputs": [
    {
     "data": {
      "text/plain": [
       "<gurobi.TempConstr: <gurobi.LinExpr: x[1,A] + x[1,B] + x[1,C] + x[1,D]> <= 40>"
      ]
     },
     "execution_count": 27,
     "metadata": {},
     "output_type": "execute_result"
    }
   ],
   "source": [
    "sum(x[1,r] for r in regions)<=capacity[1]"
   ]
  },
  {
   "cell_type": "code",
   "execution_count": 28,
   "id": "4172623b",
   "metadata": {},
   "outputs": [
    {
     "data": {
      "text/plain": [
       "<gurobi.TempConstr: <gurobi.LinExpr: x[1,A] + x[2,A] + x[3,A]> >= 30>"
      ]
     },
     "execution_count": 28,
     "metadata": {},
     "output_type": "execute_result"
    }
   ],
   "source": [
    "x[1,'A'] + x[2,'A'] + x[3,'A']>=30"
   ]
  },
  {
   "cell_type": "code",
   "execution_count": 29,
   "id": "6a9bf615",
   "metadata": {},
   "outputs": [
    {
     "data": {
      "text/plain": [
       "<gurobi.TempConstr: <gurobi.LinExpr: x[1,A] + x[2,A] + x[3,A]> >= 30>"
      ]
     },
     "execution_count": 29,
     "metadata": {},
     "output_type": "execute_result"
    }
   ],
   "source": [
    "sum(x[f,'A'] for f in FCs)>=demand['A']"
   ]
  },
  {
   "cell_type": "code",
   "execution_count": 30,
   "id": "6db5a42c",
   "metadata": {},
   "outputs": [
    {
     "name": "stdout",
     "output_type": "stream",
     "text": [
      "\\ LP format - for model browsing. Use MPS format to capture full model detail.\n",
      "Minimize\n",
      "  20 x[1,A] + 18 x[1,B] + 21 x[1,C] + 8 x[1,D] + 8 x[2,A] + 23 x[2,B]\n",
      "   + 24 x[2,C] + 8 x[2,D] + 25 x[3,A] + 8 x[3,B] + 8 x[3,C] + 19 x[3,D]\n",
      "Subject To\n",
      " Capacity_1: x[1,A] + x[1,B] + x[1,C] + x[1,D] <= 40\n",
      " Capacity_2: x[2,A] + x[2,B] + x[2,C] + x[2,D] <= 40\n",
      " Capacity_3: x[3,A] + x[3,B] + x[3,C] + x[3,D] <= 40\n",
      " Demand_A: x[1,A] + x[2,A] + x[3,A] >= 30\n",
      " Demand_B: x[1,B] + x[2,B] + x[3,B] >= 50\n",
      " Demand_C: x[1,C] + x[2,C] + x[3,C] >= 10\n",
      " Demand_D: x[1,D] + x[2,D] + x[3,D] >= 20\n",
      "Bounds\n",
      "End\n"
     ]
    }
   ],
   "source": [
    "# Full model\n",
    "mod=Model()\n",
    "x=mod.addVars(FCs,regions,name='x')\n",
    "obj = sum(cost.loc[f,r]*x[f,r] for f in FCs for r in regions)\n",
    "mod.setObjective(obj)\n",
    "for f in FCs:\n",
    "    mod.addConstr(sum(x[f,r] for r in regions)<=capacity[f],name=f'Capacity_{f}')\n",
    "for r in regions:\n",
    "    mod.addConstr(sum(x[f,r] for f in FCs)>=demand[r],name=f'Demand_{r}')\n",
    "mod.write('10-supplyChain.lp')\n",
    "!type 10-supplyChain.lp"
   ]
  },
  {
   "cell_type": "code",
   "execution_count": 31,
   "id": "b386a282",
   "metadata": {},
   "outputs": [
    {
     "name": "stdout",
     "output_type": "stream",
     "text": [
      "Minimum cost: 1080.0\n"
     ]
    }
   ],
   "source": [
    "# Numerical Solution\n",
    "mod.setParam('OutputFlag',False)\n",
    "mod.optimize()\n",
    "print('Minimum cost:',mod.objVal)"
   ]
  },
  {
   "cell_type": "code",
   "execution_count": 32,
   "id": "4b30b551",
   "metadata": {},
   "outputs": [
    {
     "data": {
      "text/html": [
       "<div>\n",
       "<style scoped>\n",
       "    .dataframe tbody tr th:only-of-type {\n",
       "        vertical-align: middle;\n",
       "    }\n",
       "\n",
       "    .dataframe tbody tr th {\n",
       "        vertical-align: top;\n",
       "    }\n",
       "\n",
       "    .dataframe thead th {\n",
       "        text-align: right;\n",
       "    }\n",
       "</style>\n",
       "<table border=\"1\" class=\"dataframe\">\n",
       "  <thead>\n",
       "    <tr style=\"text-align: right;\">\n",
       "      <th></th>\n",
       "      <th>A</th>\n",
       "      <th>B</th>\n",
       "      <th>C</th>\n",
       "      <th>D</th>\n",
       "    </tr>\n",
       "  </thead>\n",
       "  <tbody>\n",
       "    <tr>\n",
       "      <th>1</th>\n",
       "      <td>NaN</td>\n",
       "      <td>NaN</td>\n",
       "      <td>NaN</td>\n",
       "      <td>NaN</td>\n",
       "    </tr>\n",
       "    <tr>\n",
       "      <th>2</th>\n",
       "      <td>NaN</td>\n",
       "      <td>NaN</td>\n",
       "      <td>NaN</td>\n",
       "      <td>NaN</td>\n",
       "    </tr>\n",
       "    <tr>\n",
       "      <th>3</th>\n",
       "      <td>NaN</td>\n",
       "      <td>NaN</td>\n",
       "      <td>NaN</td>\n",
       "      <td>NaN</td>\n",
       "    </tr>\n",
       "  </tbody>\n",
       "</table>\n",
       "</div>"
      ],
      "text/plain": [
       "     A    B    C    D\n",
       "1  NaN  NaN  NaN  NaN\n",
       "2  NaN  NaN  NaN  NaN\n",
       "3  NaN  NaN  NaN  NaN"
      ]
     },
     "execution_count": 32,
     "metadata": {},
     "output_type": "execute_result"
    }
   ],
   "source": [
    "# Creating the output table\n",
    "shipment=pd.DataFrame(index=FCs,columns=regions)\n",
    "shipment"
   ]
  },
  {
   "cell_type": "code",
   "execution_count": 33,
   "id": "40296d68",
   "metadata": {},
   "outputs": [
    {
     "data": {
      "text/html": [
       "<div>\n",
       "<style scoped>\n",
       "    .dataframe tbody tr th:only-of-type {\n",
       "        vertical-align: middle;\n",
       "    }\n",
       "\n",
       "    .dataframe tbody tr th {\n",
       "        vertical-align: top;\n",
       "    }\n",
       "\n",
       "    .dataframe thead th {\n",
       "        text-align: right;\n",
       "    }\n",
       "</style>\n",
       "<table border=\"1\" class=\"dataframe\">\n",
       "  <thead>\n",
       "    <tr style=\"text-align: right;\">\n",
       "      <th></th>\n",
       "      <th>A</th>\n",
       "      <th>B</th>\n",
       "      <th>C</th>\n",
       "      <th>D</th>\n",
       "    </tr>\n",
       "  </thead>\n",
       "  <tbody>\n",
       "    <tr>\n",
       "      <th>1</th>\n",
       "      <td>0</td>\n",
       "      <td>NaN</td>\n",
       "      <td>NaN</td>\n",
       "      <td>NaN</td>\n",
       "    </tr>\n",
       "    <tr>\n",
       "      <th>2</th>\n",
       "      <td>NaN</td>\n",
       "      <td>NaN</td>\n",
       "      <td>NaN</td>\n",
       "      <td>NaN</td>\n",
       "    </tr>\n",
       "    <tr>\n",
       "      <th>3</th>\n",
       "      <td>NaN</td>\n",
       "      <td>NaN</td>\n",
       "      <td>NaN</td>\n",
       "      <td>NaN</td>\n",
       "    </tr>\n",
       "  </tbody>\n",
       "</table>\n",
       "</div>"
      ],
      "text/plain": [
       "     A    B    C    D\n",
       "1    0  NaN  NaN  NaN\n",
       "2  NaN  NaN  NaN  NaN\n",
       "3  NaN  NaN  NaN  NaN"
      ]
     },
     "execution_count": 33,
     "metadata": {},
     "output_type": "execute_result"
    }
   ],
   "source": [
    "shipment.loc[1,'A'] = 0\n",
    "shipment"
   ]
  },
  {
   "cell_type": "code",
   "execution_count": 34,
   "id": "f3289473",
   "metadata": {},
   "outputs": [
    {
     "data": {
      "text/html": [
       "<div>\n",
       "<style scoped>\n",
       "    .dataframe tbody tr th:only-of-type {\n",
       "        vertical-align: middle;\n",
       "    }\n",
       "\n",
       "    .dataframe tbody tr th {\n",
       "        vertical-align: top;\n",
       "    }\n",
       "\n",
       "    .dataframe thead th {\n",
       "        text-align: right;\n",
       "    }\n",
       "</style>\n",
       "<table border=\"1\" class=\"dataframe\">\n",
       "  <thead>\n",
       "    <tr style=\"text-align: right;\">\n",
       "      <th></th>\n",
       "      <th>A</th>\n",
       "      <th>B</th>\n",
       "      <th>C</th>\n",
       "      <th>D</th>\n",
       "    </tr>\n",
       "  </thead>\n",
       "  <tbody>\n",
       "    <tr>\n",
       "      <th>1</th>\n",
       "      <td>0.0</td>\n",
       "      <td>20.0</td>\n",
       "      <td>0.0</td>\n",
       "      <td>20.0</td>\n",
       "    </tr>\n",
       "    <tr>\n",
       "      <th>2</th>\n",
       "      <td>30.0</td>\n",
       "      <td>0.0</td>\n",
       "      <td>0.0</td>\n",
       "      <td>0.0</td>\n",
       "    </tr>\n",
       "    <tr>\n",
       "      <th>3</th>\n",
       "      <td>0.0</td>\n",
       "      <td>30.0</td>\n",
       "      <td>10.0</td>\n",
       "      <td>0.0</td>\n",
       "    </tr>\n",
       "  </tbody>\n",
       "</table>\n",
       "</div>"
      ],
      "text/plain": [
       "      A     B     C     D\n",
       "1   0.0  20.0   0.0  20.0\n",
       "2  30.0   0.0   0.0   0.0\n",
       "3   0.0  30.0  10.0   0.0"
      ]
     },
     "execution_count": 34,
     "metadata": {},
     "output_type": "execute_result"
    }
   ],
   "source": [
    "# Filling in the output table\n",
    "for f in FCs:\n",
    "    for r in regions:\n",
    "        shipment.loc[f,r]=x[f,r].x\n",
    "shipment"
   ]
  }
 ],
 "metadata": {
  "kernelspec": {
   "display_name": "Python 3 (ipykernel)",
   "language": "python",
   "name": "python3"
  },
  "language_info": {
   "codemirror_mode": {
    "name": "ipython",
    "version": 3
   },
   "file_extension": ".py",
   "mimetype": "text/x-python",
   "name": "python",
   "nbconvert_exporter": "python",
   "pygments_lexer": "ipython3",
   "version": "3.8.8"
  }
 },
 "nbformat": 4,
 "nbformat_minor": 5
}
