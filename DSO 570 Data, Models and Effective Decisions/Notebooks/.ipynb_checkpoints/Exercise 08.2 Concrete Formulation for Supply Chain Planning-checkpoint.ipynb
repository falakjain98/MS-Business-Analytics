{
 "cells": [
  {
   "cell_type": "markdown",
   "metadata": {},
   "source": [
    "## Exercise 8.2: Concrete Formulation for Supply Chain Planning\n",
    "\n",
    "Write a linear optimization formulation of the following problem and typeset it using Latex.\n",
    "\n",
    "The following table provides the shipping cost for a certain item, from three of Amazon’s fulfillment centers (FC) to four regions (A, B, C and D). \n",
    "\n",
    "| Region \\ FC  | 1 | 2 | 3 |\n",
    "|--|--|--|--|\n",
    "| A. Kings County, NY | 20 | 8 | 25 | \n",
    "| B. Los Angeles County, CA | 18 | 23 | 8 | \n",
    "| C. King County, WA | 21 | 24 | 8 | \n",
    "| D. Harris County, TX | 8 | 8 | 19 |\n",
    "\n",
    "The following table summarizes the weekly demand for the item from each region.\n",
    "\n",
    " | Region A | Region B | Region C | Region D|\n",
    "|--|--|--|--|\n",
    "|30 | 50 | 10 | 20 |\n",
    "\n",
    "Suppose that each FC is able to ship up to 40 units each week in total. Formulate a linear program to determine the minimum transportation cost needed to satisfy all demand while respecting FC capacities, as well as the optimal shipment plan."
   ]
  },
  {
   "cell_type": "markdown",
   "metadata": {},
   "source": [
    "### Concrete Formulation\n",
    "\n",
    "**Decision Variable:**\n",
    "- $X_{ij}$: Units to transport from FC i to region j. (Integer)\n",
    "\n",
    "**Objective:**\n",
    "$$\\text{Minimize:} \\qquad 20X_{1A}+18X_{1B}+21X_{1C}+8X_{1D}+8X_{2A}+23X_{2B}+24X_{2C}+8X_{2D}+25X_{3A}+8X_{3B}+8X_{3C}+19X_{3D}$$\n",
    "\n",
    "**Constraints:**\n",
    "$$\\begin{aligned}\n",
    "\\text{(FC 1 Limit)} && X_{1A}+X_{1B}+X_{1C}+X_{1D} & \\le 40 \\\\\n",
    "\\text{(FC 2 Limit)} && X_{2A}+X_{2B}+X_{2C}+X_{2D} & \\le 40 \\\\\n",
    "\\text{(FC 3 Limit)} && X_{3A}+X_{3B}+X_{3C}+X_{3D} & \\le 40 \\\\\n",
    "\\text{(Region A Demand)} && X_{1A}+X_{2A}+X_{3A} & = 30 \\\\\n",
    "\\text{(Region B Demand)} && X_{1B}+X_{2B}+X_{3B} & = 50 \\\\\n",
    "\\text{(Region C Demand)} && X_{1C}+X_{2C}+X_{3C} & = 10 \\\\\n",
    "\\text{(Region D Demand)} && X_{1D}+X_{2D}+X_{3D} & = 20 \\\\\n",
    "\\text{(Non-Negativity)} && X_{ij} & \\ge 0 \\\\\n",
    "\\end{aligned}$$"
   ]
  },
  {
   "cell_type": "code",
   "execution_count": null,
   "metadata": {},
   "outputs": [],
   "source": []
  }
 ],
 "metadata": {
  "kernelspec": {
   "display_name": "Python 3 (ipykernel)",
   "language": "python",
   "name": "python3"
  },
  "language_info": {
   "codemirror_mode": {
    "name": "ipython",
    "version": 3
   },
   "file_extension": ".py",
   "mimetype": "text/x-python",
   "name": "python",
   "nbconvert_exporter": "python",
   "pygments_lexer": "ipython3",
   "version": "3.8.8"
  }
 },
 "nbformat": 4,
 "nbformat_minor": 4
}
