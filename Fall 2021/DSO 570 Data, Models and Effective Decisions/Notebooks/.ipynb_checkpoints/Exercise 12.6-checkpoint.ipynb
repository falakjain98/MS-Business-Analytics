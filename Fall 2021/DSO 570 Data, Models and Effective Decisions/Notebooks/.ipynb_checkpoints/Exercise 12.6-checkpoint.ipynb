{
 "cells": [
  {
   "cell_type": "code",
   "execution_count": 54,
   "id": "863fe4bf",
   "metadata": {},
   "outputs": [],
   "source": [
    "# Final Code\n",
    "import pandas as pd\n",
    "import numpy as np\n",
    "from gurobipy import Model, GRB\n",
    "\n",
    "def optimizeShipment(inputFile, outputFile):\n",
    "    fulfillment_centers = pd.read_excel(inputFile, sheet_name = \"Fulfilment Centers\",index_col = 0)\n",
    "    regions = pd.read_excel(inputFile, sheet_name = \"Regions\", index_col = 0)\n",
    "    delta = pd.read_excel(inputFile, sheet_name = \"Distances\", index_col = 0)\n",
    "    items = pd.read_excel(inputFile, sheet_name = \"Items\", index_col = 0)\n",
    "    d = pd.read_excel(inputFile, sheet_name = \"Demand\", index_col = 0)\n",
    "    I = fulfillment_centers.index\n",
    "    J = regions.index\n",
    "    K = items.index\n",
    "    print(K)\n",
    "    w = list(items['shipping_weight'])\n",
    "    s = list(items['storage_size'])\n",
    "    q = pd.Series(index=fulfillment_centers.index,data=fulfillment_centers.capacity)\n",
    "    mod = Model()\n",
    "    x = mod.addVars(I,J,K,vtype = GRB.CONTINUOUS,name = 'x')\n",
    "    mod.setObjective(1.38*sum(x[i,j,k]*delta.loc[j,i]*w[k] for i in I for j in J for k in K), sense = GRB.MINIMIZE)    # shift requirement\n",
    "    # Capacity Constraint\n",
    "    for i in I:\n",
    "        mod.addConstr(sum(s[k]*x[i,j,k] for j in J for k in K) <= q[i])\n",
    "    # Demand Constrain\n",
    "    for j in J:\n",
    "        for k in K:\n",
    "            mod.addConstr(sum(x[i,j,k] for i in I) >= d.loc[k,j])\n",
    "    mod.setParam(\"OutputFlag\", False)\n",
    "    mod.setParam('MIPGap',1e-6)\n",
    "    mod.optimize()\n",
    "    print(f'Finished Optimizing! Objective Value: {mod.objVal}')\n",
    "    # Saving to excel\n",
    "    df1 = pd.DataFrame({'Minimum Total Cost':[mod.objVal]})\n",
    "    df2 = pd.DataFrame({'FC_Name':[],'region_ID':[],'item_ID':[],'Shipment':[]})\n",
    "    fc_name = []\n",
    "    region_id = []\n",
    "    item_id = []\n",
    "    shipment = []\n",
    "    for i in I:\n",
    "        for j in J:\n",
    "            for j in K:\n",
    "                if x[i,j,k].x > 0:\n",
    "                    fc_name.append(i)\n",
    "                    region_id.append(j)\n",
    "                    item_id.append(k)\n",
    "                    shipment.append(x[i,j,k].x)\n",
    "    print(x)\n",
    "    df2 = pd.DataFrame({'FC_Name':fc_name,'region_ID':region_id,'item_ID':item_id,'Shipment':shipment})\n",
    "    '''writer = pd.ExcelWriter(outputFile)\n",
    "    df1.to_excel(writer, sheet_name = \"Summary\", index = False)\n",
    "    df2.to_excel(writer, sheet_name = \"Solution\", index = False)\n",
    "    writer.save()'''"
   ]
  },
  {
   "cell_type": "code",
   "execution_count": 55,
   "id": "eba70a01",
   "metadata": {},
   "outputs": [
    {
     "name": "stdout",
     "output_type": "stream",
     "text": [
      "Int64Index([0, 1], dtype='int64', name='item_ID')\n",
      "Finished Optimizing! Objective Value: 3400.769189999999\n"
     ]
    }
   ],
   "source": [
    "optimizeShipment('12-retail-toy-input.xlsx','12-retail-toy-myOutput.xlsx')"
   ]
  },
  {
   "cell_type": "code",
   "execution_count": 47,
   "id": "22d0af98",
   "metadata": {},
   "outputs": [
    {
     "name": "stdout",
     "output_type": "stream",
     "text": [
      "Finished Optimizing! Objective Value: 9841229.288170151\n"
     ]
    },
    {
     "ename": "KeyError",
     "evalue": "('SAT1', 98, 99)",
     "output_type": "error",
     "traceback": [
      "\u001b[1;31m---------------------------------------------------------------------------\u001b[0m",
      "\u001b[1;31mKeyError\u001b[0m                                  Traceback (most recent call last)",
      "\u001b[1;32m~\\AppData\\Local\\Temp/ipykernel_16000/2056070465.py\u001b[0m in \u001b[0;36m<module>\u001b[1;34m\u001b[0m\n\u001b[1;32m----> 1\u001b[1;33m \u001b[0moptimizeShipment\u001b[0m\u001b[1;33m(\u001b[0m\u001b[1;34m'12-retail-real-input.xlsx'\u001b[0m\u001b[1;33m,\u001b[0m\u001b[1;34m'12-retail-real-myOutput.xlsx'\u001b[0m\u001b[1;33m)\u001b[0m\u001b[1;33m\u001b[0m\u001b[1;33m\u001b[0m\u001b[0m\n\u001b[0m",
      "\u001b[1;32m~\\AppData\\Local\\Temp/ipykernel_16000/1818983908.py\u001b[0m in \u001b[0;36moptimizeShipment\u001b[1;34m(inputFile, outputFile)\u001b[0m\n\u001b[0;32m     40\u001b[0m         \u001b[1;32mfor\u001b[0m \u001b[0mj\u001b[0m \u001b[1;32min\u001b[0m \u001b[0mJ\u001b[0m\u001b[1;33m:\u001b[0m\u001b[1;33m\u001b[0m\u001b[1;33m\u001b[0m\u001b[0m\n\u001b[0;32m     41\u001b[0m             \u001b[1;32mfor\u001b[0m \u001b[0mj\u001b[0m \u001b[1;32min\u001b[0m \u001b[0mK\u001b[0m\u001b[1;33m:\u001b[0m\u001b[1;33m\u001b[0m\u001b[1;33m\u001b[0m\u001b[0m\n\u001b[1;32m---> 42\u001b[1;33m                 \u001b[1;32mif\u001b[0m \u001b[0mx\u001b[0m\u001b[1;33m[\u001b[0m\u001b[0mi\u001b[0m\u001b[1;33m,\u001b[0m\u001b[0mj\u001b[0m\u001b[1;33m,\u001b[0m\u001b[0mk\u001b[0m\u001b[1;33m]\u001b[0m\u001b[1;33m.\u001b[0m\u001b[0mx\u001b[0m \u001b[1;33m>\u001b[0m \u001b[1;36m0\u001b[0m\u001b[1;33m:\u001b[0m\u001b[1;33m\u001b[0m\u001b[1;33m\u001b[0m\u001b[0m\n\u001b[0m\u001b[0;32m     43\u001b[0m                     \u001b[0mfc_name\u001b[0m\u001b[1;33m.\u001b[0m\u001b[0mappend\u001b[0m\u001b[1;33m(\u001b[0m\u001b[0mi\u001b[0m\u001b[1;33m)\u001b[0m\u001b[1;33m\u001b[0m\u001b[1;33m\u001b[0m\u001b[0m\n\u001b[0;32m     44\u001b[0m                     \u001b[0mregion_id\u001b[0m\u001b[1;33m.\u001b[0m\u001b[0mappend\u001b[0m\u001b[1;33m(\u001b[0m\u001b[0mj\u001b[0m\u001b[1;33m)\u001b[0m\u001b[1;33m\u001b[0m\u001b[1;33m\u001b[0m\u001b[0m\n",
      "\u001b[1;31mKeyError\u001b[0m: ('SAT1', 98, 99)"
     ]
    }
   ],
   "source": [
    "optimizeShipment('12-retail-real-input.xlsx','12-retail-real-myOutput.xlsx')"
   ]
  },
  {
   "cell_type": "code",
   "execution_count": null,
   "id": "e10f589a",
   "metadata": {},
   "outputs": [],
   "source": []
  }
 ],
 "metadata": {
  "kernelspec": {
   "display_name": "Python 3 (ipykernel)",
   "language": "python",
   "name": "python3"
  },
  "language_info": {
   "codemirror_mode": {
    "name": "ipython",
    "version": 3
   },
   "file_extension": ".py",
   "mimetype": "text/x-python",
   "name": "python",
   "nbconvert_exporter": "python",
   "pygments_lexer": "ipython3",
   "version": "3.8.8"
  }
 },
 "nbformat": 4,
 "nbformat_minor": 5
}
