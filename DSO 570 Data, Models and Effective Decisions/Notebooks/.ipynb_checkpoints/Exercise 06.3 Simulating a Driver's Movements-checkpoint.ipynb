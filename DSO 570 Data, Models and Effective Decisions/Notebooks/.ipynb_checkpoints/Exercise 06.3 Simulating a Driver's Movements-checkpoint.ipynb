{
 "cells": [
  {
   "cell_type": "markdown",
   "metadata": {},
   "source": [
    "# Exercise 6.3 Simulating a Driver's Movements\n",
    "\n",
    "This question asks you to simulate a driver's movements and cumulative earnings across a given work day under following simplifying assumptions. There is only a finite number of possible locations, each encoded by a certain locationID. Assume that the driver arrives at a given initial location at time $t=0$, at which point he begins accepting dispatches from the platform. Each dispatch tells him to drive a passenger to a given destination. The driver accepts every dispatch and does not move locations unless he is fulfilling a dispatch. Given the driver's current location, the destination of his next dispatch is independently drawn from a given distribution. If the driver's current location is $i$ and the destination of his next dispatch is $j$, then the time elapsed between his arrival at $i$ and his arrival at $j$ is independently drawn from a uniform distribution between certain parameters $a_{ij}$ and $b_{ij}$, where $a_{ij} \\le b_{ij}$. (This time elapsed already includes the idle time waiting for the dispatch, the time needed to pickup the passenger, and the travel time for completing the dispatch.) The driver ends his work day and stops accepting dispatches when he has completed $n$ dispatches, or if the cumulative time $t$ after completing a dispatch is greater than or equal to a certain threshold $T$. \n",
    "\n",
    "**Write a function called \"driver_movement\" with the following input parameters:**\n",
    "\n",
    "- **locations**: a list of possible locationIDs. You may assume that each entry is a string. Denote the length of this list by $m$. You may assume that $m \\ge 1$. \n",
    "- **initial**: the driver's locationID at time $t=0$. \n",
    "- **transition_probs**: a dictionary with $m$ entries in which each key corresponds to a locationID and each value is a list of length $m$ representing the probability of moving to the corresponding locationID in the list \"locations\", assuming that the current location is given by the dictionary key. \n",
    "- **df_a**: a DataFrame in which the row and column labels are both given by the list \"locations\", and each value `df_a.loc[i,j]` corresponds to the parameter $a_{ij}$. \n",
    "- **df_b**: analogous in format to \"df_a\", except that `df_b.loc[i,j]` corresponds to the parameter $b_{ij}$. \n",
    "- **df_earnings**: analogous in format to \"df_a\", except that `df_earnings.loc[i,j]` corresponds to the earnings from moving from location $i$ to the next location $j$. \n",
    "- **n**: a positive integer corresponding to the maximum number of dispatches the driver is willing to fulfill.\n",
    "- **T**: a positive number corresponding to the time after which the driver will no longer accept new dispatches.\n",
    "\n",
    "**The function should return three objects:**\n",
    "\n",
    "- **timeList**: a list in which the first entry is 0, and each subsequent entry corresponds to the time that the driver completes a dispatch.\n",
    "- **locationList**: a list in which the first entry is the same as **initial**, which is the locationID at time 0. Each subsequent entry corresponds to the location of the driver upon completing the corresponding dispatch.\n",
    "- **earningsList**: a list in which the first entry is 0, and each subsequent entry stores the cumultative earnings for the driver after completing a dispatch.\n",
    "\n",
    "See the sample outputs for illustrations. (In the sample outputs, whether a whole number is displayed as int or float does not matter.)"
   ]
  },
  {
   "cell_type": "code",
   "execution_count": 16,
   "metadata": {},
   "outputs": [],
   "source": [
    "# Final Solution \n",
    "import pandas as pd\n",
    "from numpy.random import default_rng\n",
    "def driver_movement(locations,initial,transition_probs,df_a,df_b,df_earnings,trip_lim,t_lim):\n",
    "    rng=default_rng()\n",
    "    t,l,e = [0],[initial],[0]\n",
    "    while t[-1]<t_lim and len(t)<=trip_lim:\n",
    "        next_stop = rng.choice(list(transition_probs.keys()),p=transition_probs[l[-1]])\n",
    "        t.append(t[-1]+rng.uniform(df_a.loc[l[-1],next_stop],df_b.loc[l[-1],next_stop]))\n",
    "        e.append(e[-1]+df_earnings.loc[l[-1],next_stop])\n",
    "        l.append(next_stop)\n",
    "    return(t,l,e)"
   ]
  },
  {
   "cell_type": "code",
   "execution_count": 17,
   "metadata": {},
   "outputs": [
    {
     "name": "stdout",
     "output_type": "stream",
     "text": [
      "Time\tLocation\tCumulative Earnings\n",
      "0\tAirport   \t0\n",
      "70.0\tDowntown  \t40\n",
      "120.0\tAirport   \t70\n",
      "190.0\tDowntown  \t110\n"
     ]
    }
   ],
   "source": [
    "# Sample run 1  (deterministic example)\n",
    "import pandas as pd\n",
    "locations=['Downtown', 'Airport']\n",
    "initial='Airport'\n",
    "transition_probs={'Downtown':[0,1],'Airport':[1,0]}\n",
    "df_a=df_b=pd.DataFrame([[0,50],[70,0]],index=locations,columns=locations)\n",
    "df_earnings=pd.DataFrame([[0,30],[40,0]],index=locations,columns=locations)\n",
    "t,l,e=driver_movement(locations,initial,transition_probs,df_a,df_b,df_earnings,10,190)\n",
    "print('Time\\tLocation\\tCumulative Earnings')\n",
    "for i in range(len(t)):\n",
    "    print(f'{t[i]}\\t{l[i]:10}\\t{e[i]}')\n",
    "    # The { :10} in f-string formatting is to make the table line up by making sure the output \n",
    "    # is exactly 10 characters. Don't worry about it."
   ]
  },
  {
   "cell_type": "code",
   "execution_count": 18,
   "metadata": {},
   "outputs": [
    {
     "name": "stdout",
     "output_type": "stream",
     "text": [
      "Time\tLocation\tCumulative Earnings\n",
      "0\tAirport   \t0\n",
      "70.0\tDowntown  \t40\n",
      "120.0\tAirport   \t70\n",
      "190.0\tDowntown  \t110\n",
      "240.0\tAirport   \t140\n",
      "310.0\tDowntown  \t180\n",
      "360.0\tAirport   \t210\n",
      "430.0\tDowntown  \t250\n"
     ]
    }
   ],
   "source": [
    "# Sample run 2  (deterministic example)\n",
    "import pandas as pd\n",
    "locations=['Downtown', 'Airport']\n",
    "initial='Airport'\n",
    "transition_probs={'Downtown':[0,1],'Airport':[1,0]}\n",
    "df_a=df_b=pd.DataFrame([[0,50],[70,0]],index=locations,columns=locations)\n",
    "df_earnings=pd.DataFrame([[0,30],[40,0]],index=locations,columns=locations)\n",
    "t,l,e=driver_movement(locations,initial,transition_probs,df_a,df_b,df_earnings,10,400)\n",
    "print('Time\\tLocation\\tCumulative Earnings')\n",
    "for i in range(len(t)):\n",
    "    print(f'{t[i]}\\t{l[i]:10}\\t{e[i]}')\n",
    "    # The { :10} in f-string formatting is to make the table line up by making sure the output \n",
    "    # is exactly 10 characters. Don't worry about it."
   ]
  },
  {
   "cell_type": "code",
   "execution_count": 19,
   "metadata": {},
   "outputs": [
    {
     "name": "stdout",
     "output_type": "stream",
     "text": [
      "Time\tLocation\tCumulative Earnings\n",
      "0\tSuburb A  \t0\n",
      "25.0\tDowntown  \t18\n",
      "40.0\tSuburb B  \t28\n",
      "80.0\tAirport   \t58\n",
      "130.0\tDowntown  \t98\n",
      "145.0\tSuburb B  \t108\n",
      "185.0\tAirport   \t138\n",
      "235.0\tDowntown  \t178\n",
      "250.0\tSuburb B  \t188\n",
      "290.0\tAirport   \t218\n",
      "340.0\tDowntown  \t258\n"
     ]
    }
   ],
   "source": [
    "# Sample run 3 (deterministic example)\n",
    "import pandas as pd\n",
    "locations=['Downtown','Airport','Suburb A','Suburb B']\n",
    "initial='Suburb A'\n",
    "transition_probs={'Downtown': [0,0,0,1],\\\n",
    "                 'Airport':[1,0,0,0],\\\n",
    "                 'Suburb A':[1,0,0,0],\\\n",
    "                 'Suburb B':[0,1,0,0]}\n",
    "df_a=df_b=pd.DataFrame([[0,30,20,15],\\\n",
    "                       [50,0,60,30],\\\n",
    "                       [25,80,0,50],\\\n",
    "                       [20,40,50,0]],index=locations,columns=locations)\n",
    "df_earnings=pd.DataFrame([[0,20,15,10],\\\n",
    "                         [40,0,50,30],\\\n",
    "                         [18,50,0,30],\\\n",
    "                         [15,30,40,0]],index=locations,columns=locations)\n",
    "t,l,e=driver_movement(locations,initial,transition_probs,df_a,df_b,df_earnings,10,480)\n",
    "print('Time\\tLocation\\tCumulative Earnings')\n",
    "for i in range(len(t)):\n",
    "    print(f'{t[i]}\\t{l[i]:10}\\t{e[i]}')\n",
    "    # The { :10} in f-string formatting is to make the table line up by making sure the output \n",
    "    # is exactly 10 characters. Don't worry about it."
   ]
  },
  {
   "cell_type": "code",
   "execution_count": 20,
   "metadata": {},
   "outputs": [
    {
     "name": "stdout",
     "output_type": "stream",
     "text": [
      "Average earning: \t$158\t\t Std: 19\n",
      "Average end time: \t260 minutes\t Std: 22\n",
      "Proportion of time ending work at airport: 0.43\n"
     ]
    },
    {
     "data": {
      "image/png": "[encoded data removed]",
      "text/plain": [
       "<Figure size 640x480 with 1 Axes>"
      ]
     },
     "metadata": {},
     "output_type": "display_data"
    }
   ],
   "source": [
    "# Sample run 4 (You may have to run this twice for the graph to show; small variations in results are to be expected)\n",
    "import pandas as pd\n",
    "locations=['Downtown', 'Airport']\n",
    "initial='Airport'\n",
    "transition_probs={'Downtown':[0.7,0.3],'Airport':[1,0]}\n",
    "df_a=pd.DataFrame([[10,40],[50,0]],index=locations,columns=locations)\n",
    "df_b=pd.DataFrame([[20,60],[70,0]],index=locations,columns=locations)\n",
    "df_earnings=pd.DataFrame([[7,30],[40,0]],index=locations,columns=locations)\n",
    "earnings=[]\n",
    "last_location=[]\n",
    "last_time=[]\n",
    "for i in range(1000):\n",
    "    t,l,e=driver_movement(locations,initial,transition_probs,df_a,df_b,df_earnings,10,240)\n",
    "    earnings.append(e[-1])\n",
    "    last_location.append(l[-1])\n",
    "    last_time.append(t[-1])\n",
    "    \n",
    "import numpy as np\n",
    "import matplotlib.pyplot as plt\n",
    "pd.Series(last_time).plot(kind='hist', title='Distribution of time finishing work')\n",
    "print(f'Average earning: \\t${np.mean(earnings):.0f}\\t\\t Std: {np.std(earnings):.0f}')\n",
    "print(f'Average end time: \\t{np.mean(last_time):.0f} minutes\\t Std: {np.std(last_time):.0f}')\n",
    "s=pd.Series(last_location).value_counts()\n",
    "print(f\"Proportion of time ending work at airport: {s['Airport']/len(last_location):.2f}\")\n",
    "plt.show()"
   ]
  },
  {
   "cell_type": "code",
   "execution_count": 21,
   "metadata": {},
   "outputs": [
    {
     "name": "stdout",
     "output_type": "stream",
     "text": [
      "Average earning: \t$126\t\t Std: 16\n",
      "Average end time: \t211 minutes\t Std: 23\n"
     ]
    },
    {
     "data": {
      "image/png": "[encoded data removed]",
      "text/plain": [
       "<Figure size 640x480 with 1 Axes>"
      ]
     },
     "metadata": {},
     "output_type": "display_data"
    }
   ],
   "source": [
    "# Sample run 5 (You may have to run this twice for the graph to show; small variations in results are to be expected)\n",
    "import pandas as pd\n",
    "locations=['Downtown','Airport','Suburb A','Suburb B']\n",
    "initial='Suburb A'\n",
    "transition_probs={'Downtown': [0.1,0.2,0.3,0.4],\\\n",
    "                 'Airport':[0.5,0,0.3,0.2],\\\n",
    "                 'Suburb A':[0.4,0.4,0.1,0.1],\\\n",
    "                 'Suburb B':[0.3,0.5,0.2,0]}\n",
    "df_a=pd.DataFrame([[5,30,20,15],\\\n",
    "                   [50,5,60,30],\\\n",
    "                   [25,80,5,50],\\\n",
    "                   [20,40,50,5]],index=locations,columns=locations)\n",
    "df_b=pd.DataFrame([[10,40,30,25],\\\n",
    "                   [60,5,90,60],\\\n",
    "                   [40,100,10,80],\\\n",
    "                   [30,50,80,10]],index=locations,columns=locations)\n",
    "df_earnings=pd.DataFrame([[7,20,15,10],\\\n",
    "                         [40,0,50,30],\\\n",
    "                         [18,50,0,30],\\\n",
    "                         [15,30,40,0]],index=locations,columns=locations)\n",
    "earnings=[]\n",
    "last_location=[]\n",
    "last_time=[]\n",
    "for i in range(1000):\n",
    "    t,l,e=driver_movement(locations,initial,transition_probs,df_a,df_b,df_earnings,10,180)\n",
    "    earnings.append(e[-1])\n",
    "    last_location.append(l[-1])\n",
    "    last_time.append(t[-1])\n",
    "    \n",
    "import numpy as np\n",
    "import matplotlib.pyplot as plt\n",
    "print(f'Average earning: \\t${np.mean(earnings):.0f}\\t\\t Std: {np.std(earnings):.0f}')\n",
    "print(f'Average end time: \\t{np.mean(last_time):.0f} minutes\\t Std: {np.std(last_time):.0f}')\n",
    "pd.Series(last_location).value_counts().plot(kind='bar',title='Distribution of last location')\n",
    "plt.show()"
   ]
  },
  {
   "cell_type": "code",
   "execution_count": null,
   "metadata": {},
   "outputs": [],
   "source": []
  }
 ],
 "metadata": {
  "kernelspec": {
   "display_name": "Python 3",
   "language": "python",
   "name": "python3"
  },
  "language_info": {
   "codemirror_mode": {
    "name": "ipython",
    "version": 3
   },
   "file_extension": ".py",
   "mimetype": "text/x-python",
   "name": "python",
   "nbconvert_exporter": "python",
   "pygments_lexer": "ipython3",
   "version": "3.8.8"
  }
 },
 "nbformat": 4,
 "nbformat_minor": 4
}
