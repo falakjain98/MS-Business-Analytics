{
 "cells": [
  {
   "cell_type": "markdown",
   "metadata": {},
   "source": [
    "# Exercise 6.6 Distance Travelled to Buy Toilet Paper\n",
    "\n",
    "Suppose that you are on a quest to buy toilet paper for your household. There is a list of stores that you plan to visit in a given order, and you will come home as soon as you find a store that has toilet paper in stock. The question asks you to build a simulation model of the total distance you travel on your quest.\n",
    "\n",
    "**Write a function called \"travel_distance\" with the following input arguments:**\n",
    "\n",
    "- **locations**: a list in which each element represents the location of a distinct retails store, given as a two-element list of the x and y coordinates. For example, if the list is `[[3,4],[-3,4],[-8,6]]`, then the first store you plan to visit is at location $(x,y)=(3,4)$, the second store at $(-3,4)$, and the third store at $(-8,6)$. Assume that your home is located at $(x,y)=(0,0)$. \n",
    "- **probabilities**: a list of numbers between 0 and 1 (inclusive). You can assume that the length of this list is the same as the length of the list \"locations\", and each element represents the probability that the corresponding store has toilet paper in stock. \n",
    "\n",
    "For simplicity, assume that you travel the minimum distance between any two points, so that the distance between coordinates $(x_1, y_1)$ and $(x_2,y_2)$ is $\\sqrt{(x_1-x_2)^2+(y_1-y_2)^2}$. Moreover, whether toilet paper is in stock is independent across stores. \n",
    "\n",
    "**Your function should return one number, which is the total distance travelled on your trip, starting from home and counting all distances travelled until you return to home.** When you find that toilet paper is not in stock at a store, you travel directly to the next store. You return to home only after you have found toilet paper, or after you have gone through all of the stores (in which case you return home empty handed). See the sample outputs for illustrations. Note that the returned number is deterministic if all probabilities are either 0 or 1 (as in test codes 1-4), but should be random otherwise (as in test code 5)."
   ]
  },
  {
   "cell_type": "code",
   "execution_count": 7,
   "metadata": {},
   "outputs": [],
   "source": [
    "# Final Solution\n",
    "from numpy.random import default_rng\n",
    "rng=default_rng()\n",
    "import math\n",
    "def travel_distance(locations,probs):\n",
    "    prev_loc = [0,0]\n",
    "    dist_travel = 0\n",
    "    for i in range(len(locations)):\n",
    "        dist_travel += math.sqrt((locations[i][0]-prev_loc[0])**2+(locations[i][1]-prev_loc[1])**2)\n",
    "        avail = rng.choice(['A','NA'],p = [probs[i],1-probs[i]])\n",
    "        if avail == 'A':\n",
    "            dist_travel += math.sqrt((locations[i][0])**2+(locations[i][1])**2)\n",
    "            break\n",
    "        else:\n",
    "            prev_loc = locations[i]\n",
    "        if i == len(locations)-1:\n",
    "            dist_travel += math.sqrt((locations[i][0])**2+(locations[i][1])**2)\n",
    "    return(dist_travel)\n"
   ]
  },
  {
   "cell_type": "code",
   "execution_count": 8,
   "metadata": {},
   "outputs": [
    {
     "data": {
      "text/plain": [
       "16.0"
      ]
     },
     "execution_count": 8,
     "metadata": {},
     "output_type": "execute_result"
    }
   ],
   "source": [
    "# Test code 1\n",
    "travel_distance([[3,4],[-3,4],[-8,6]],[0,1,1])"
   ]
  },
  {
   "cell_type": "code",
   "execution_count": 9,
   "metadata": {},
   "outputs": [
    {
     "name": "stdout",
     "output_type": "stream",
     "text": [
      "10.0\n"
     ]
    }
   ],
   "source": [
    "# Test code 2\n",
    "print(travel_distance([[3,4],[-3,4],[-8,6]],[1,1,0]))"
   ]
  },
  {
   "cell_type": "code",
   "execution_count": 10,
   "metadata": {},
   "outputs": [
    {
     "data": {
      "text/plain": [
       "26.385164807134505"
      ]
     },
     "execution_count": 10,
     "metadata": {},
     "output_type": "execute_result"
    }
   ],
   "source": [
    "# Test code 3\n",
    "travel_distance([[3,4],[-3,4],[-8,6]],[0,0,1])"
   ]
  },
  {
   "cell_type": "code",
   "execution_count": 11,
   "metadata": {},
   "outputs": [
    {
     "data": {
      "text/plain": [
       "26.385164807134505"
      ]
     },
     "execution_count": 11,
     "metadata": {},
     "output_type": "execute_result"
    }
   ],
   "source": [
    "# Test code 4\n",
    "travel_distance([[3,4],[-3,4],[-8,6]],[0,0,0])"
   ]
  },
  {
   "cell_type": "code",
   "execution_count": 13,
   "metadata": {},
   "outputs": [
    {
     "data": {
      "image/png": "[encoded data removed]",
      "text/plain": [
       "<Figure size 640x480 with 1 Axes>"
      ]
     },
     "metadata": {},
     "output_type": "display_data"
    },
    {
     "name": "stdout",
     "output_type": "stream",
     "text": [
      "Mean: 35.17\n",
      "Standard deviation: 26.13\n"
     ]
    }
   ],
   "source": [
    "# Test code 5\n",
    "locations=[[3,2],[5,4],[7,-1],[5,-8],[-5,-4],[-6,2],[-8,4],[-20,10]]\n",
    "probabilities=[0.1,0.3,0.2,0.2,0.1,0.05,0.2,0.05]\n",
    "import pandas as pd\n",
    "import matplotlib.pyplot as plt\n",
    "distances=pd.Series([travel_distance(locations,probabilities) for i in range(10000)])\n",
    "distances.plot(kind='hist',bins=30,title='Distribution of travel distance (10000 simulations)')\n",
    "plt.show()\n",
    "print('Mean:',round(distances.mean(),2))\n",
    "print('Standard deviation:',round(distances.std(),2))"
   ]
  }
 ],
 "metadata": {
  "kernelspec": {
   "display_name": "Python 3",
   "language": "python",
   "name": "python3"
  },
  "language_info": {
   "codemirror_mode": {
    "name": "ipython",
    "version": 3
   },
   "file_extension": ".py",
   "mimetype": "text/x-python",
   "name": "python",
   "nbconvert_exporter": "python",
   "pygments_lexer": "ipython3",
   "version": "3.8.8"
  }
 },
 "nbformat": 4,
 "nbformat_minor": 4
}
