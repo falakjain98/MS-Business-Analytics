{
 "cells": [
  {
   "cell_type": "markdown",
   "id": "61b72d06",
   "metadata": {
    "toc": true
   },
   "source": [
    "<h1>Table of Contents<span class=\"tocSkip\"></span></h1>\n",
    "<div class=\"toc\"><ul class=\"toc-item\"><li><span><a href=\"#Exercise-11.1:-Abstract-Formulation-for-Supply-Chain-Planning\" data-toc-modified-id=\"Exercise-11.1:-Abstract-Formulation-for-Supply-Chain-Planning-1\"><span class=\"toc-item-num\">1&nbsp;&nbsp;</span>Exercise 11.1: Abstract Formulation for Supply Chain Planning</a></span><ul class=\"toc-item\"><li><span><a href=\"#Abstract-Formulation\" data-toc-modified-id=\"Abstract-Formulation-1.1\"><span class=\"toc-item-num\">1.1&nbsp;&nbsp;</span>Abstract Formulation</a></span></li></ul></li></ul></div>"
   ]
  },
  {
   "cell_type": "markdown",
   "id": "6bf7062c",
   "metadata": {},
   "source": [
    "## Exercise 11.1: Abstract Formulation for Supply Chain Planning\n",
    "\n",
    "Write the abstract formulation corresponding to the following Gurobi code from Session 20. "
   ]
  },
  {
   "cell_type": "code",
   "execution_count": 7,
   "id": "1639fbed",
   "metadata": {},
   "outputs": [
    {
     "name": "stdout",
     "output_type": "stream",
     "text": [
      "\\ LP format - for model browsing. Use MPS format to capture full model detail.\r\n",
      "Minimize\r\n",
      "  20 x[1,A] + 18 x[1,B] + 21 x[1,C] + 8 x[1,D] + 8 x[2,A] + 23 x[2,B]\r\n",
      "   + 24 x[2,C] + 8 x[2,D] + 25 x[3,A] + 8 x[3,B] + 8 x[3,C] + 19 x[3,D]\r\n",
      "Subject To\r\n",
      " Capacity_1: x[1,A] + x[1,B] + x[1,C] + x[1,D] <= 40\r\n",
      " Capacity_2: x[2,A] + x[2,B] + x[2,C] + x[2,D] <= 40\r\n",
      " Capacity_3: x[3,A] + x[3,B] + x[3,C] + x[3,D] <= 40\r\n",
      " Demand_A: x[1,A] + x[2,A] + x[3,A] >= 30\r\n",
      " Demand_B: x[1,B] + x[2,B] + x[3,B] >= 50\r\n",
      " Demand_C: x[1,C] + x[2,C] + x[3,C] >= 10\r\n",
      " Demand_D: x[1,D] + x[2,D] + x[3,D] >= 20\r\n",
      "Bounds\r\n",
      "End\r\n"
     ]
    }
   ],
   "source": [
    "# Gurobi code from Session 20\n",
    "import pandas as pd\n",
    "cost=pd.DataFrame([[20,18,21,8],[8,23,24,8],[25,8,8,19]],\\\n",
    "                 index=[1,2,3],columns=['A','B','C','D'])\n",
    "demand=pd.Series([30,50,10,20],index=['A','B','C','D'])\n",
    "capacity=pd.Series([40]*3, index=[1,2,3])\n",
    "FCs=cost.index\n",
    "regions=cost.columns\n",
    "mod=Model()\n",
    "x=mod.addVars(FCs,regions,name='x')\n",
    "mod.setObjective(sum(cost.loc[f,r]*x[f,r] for f in FCs for r in regions))\n",
    "for f in FCs:\n",
    "    mod.addConstr(sum(x[f,r] for r in regions)<=capacity[f],name=f'Capacity_{f}')\n",
    "for r in regions:\n",
    "    mod.addConstr(sum(x[f,r] for f in FCs)>=demand[r],name=f'Demand_{r}')\n",
    "mod.write('10-supplyChain.lp')\n",
    "%cat 10-supplyChain.lp"
   ]
  },
  {
   "cell_type": "markdown",
   "id": "2a2666f4",
   "metadata": {},
   "source": [
    "### Abstract Formulation\n",
    "\n",
    "**Data:**\n",
    "- $F$: set of FCs (fulfillment centers)\n",
    "- $R$: set of regions\n",
    "- $C_{fr}$: cost of transporting from FC f to region r\n",
    "- $q_f$ capacity of FC f\n",
    "- $d_r$ demand of region r\n",
    "\n",
    "\n",
    "**Decision Variables:**\n",
    "- $x_{fr}$: amount to be transported from FC f to region r. (Continuous)\n",
    "\n",
    "\n",
    "\n",
    "**Objective:**\n",
    "$$\n",
    "\\text{Minimize :} \\qquad \\sum_{f \\in F, r \\in R}c_{fr}x_{fr} \\\\\n",
    "$$\n",
    "\n",
    "\n",
    "**Constraints:**\n",
    "$$\n",
    "\\begin{aligned}\n",
    "\\text{(Capacity)} && \\sum_{r \\in R}x_{fr} & \\le q_f && \\text{for each FC $f \\in F$ } \\\\\n",
    "\\text{(Demand)} && \\sum_{f \\in F}x_{fr} & \\ge d_f && \\text{for each region $r \\in R$} \\\\\n",
    "&& x_fr & \\ge 0 && \\text{for $f \\in F$ and $r \\in R$} \\\\\n",
    "\\end{aligned}\n",
    "$$\n",
    "\n",
    "\n",
    "\n"
   ]
  }
 ],
 "metadata": {
  "kernelspec": {
   "display_name": "Python 3 (ipykernel)",
   "language": "python",
   "name": "python3"
  },
  "language_info": {
   "codemirror_mode": {
    "name": "ipython",
    "version": 3
   },
   "file_extension": ".py",
   "mimetype": "text/x-python",
   "name": "python",
   "nbconvert_exporter": "python",
   "pygments_lexer": "ipython3",
   "version": "3.8.8"
  },
  "toc": {
   "base_numbering": 1,
   "nav_menu": {},
   "number_sections": true,
   "sideBar": true,
   "skip_h1_title": false,
   "title_cell": "Table of Contents",
   "title_sidebar": "Contents",
   "toc_cell": true,
   "toc_position": {},
   "toc_section_display": true,
   "toc_window_display": false
  }
 },
 "nbformat": 4,
 "nbformat_minor": 5
}
