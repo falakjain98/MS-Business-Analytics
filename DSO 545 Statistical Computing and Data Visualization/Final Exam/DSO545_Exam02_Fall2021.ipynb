{
 "cells": [
  {
   "cell_type": "markdown",
   "metadata": {
    "ExecuteTime": {
     "end_time": "2020-09-15T15:56:52.996246Z",
     "start_time": "2020-09-15T15:56:52.990874Z"
    }
   },
   "source": [
    "<p style=\"text-align: center;\"> <span style=\"color:firebrick\"> <font size=\"5\"> <b> USC Marshall School of Business </b> </font> </p> </span> \n",
    "\n",
    "<p style=\"text-align: center;\"> <b> <font font size=\"4\"> DSO 545- Exam 2 </p> </b></font>\n",
    "\n",
    "<p style=\"text-align: center;\"> <b> Fall 2021 </b> </p>\n",
    "<p style=\"text-align: center;\"> <b> <span style=\"color:firebrick\"> Date: </span> Friday Dec 3, 2021 </b> </p>\n",
    "<p style=\"text-align: center;\"> <b> <span style=\"color:firebrick\"> Time period: </span> 8:00am-10:00am PDT </b> </p>"
   ]
  },
  {
   "cell_type": "markdown",
   "metadata": {},
   "source": [
    "<p> <span style=\"color:firebrick\"> <font size=\"2\"> <b> As a Marshall student I declare that I have prepared for this exam within the guidelines given by the professor and with respect to the Honor Code.  I certify that I have not used any unauthorized material during this examination and that the work presented here is entirely my own.</b> </font> </p> </span> \n",
    "\n",
    "<p> <font size=\"2\"> <b>Type down your name below to indicate that you will uphold this commitment to integrity:</b> </font> </p>\n",
    "\n",
    "\n"
   ]
  },
  {
   "cell_type": "markdown",
   "metadata": {},
   "source": [
    "# First, Last Name: Falak Jain"
   ]
  },
  {
   "cell_type": "markdown",
   "metadata": {},
   "source": [
    "# Exam Policies (please read carefully)"
   ]
  },
  {
   "cell_type": "markdown",
   "metadata": {},
   "source": [
    "- This exam is open notes (online as well)\n",
    "- Download the data file `OnlineRetail.csv` and `rfm.csv` from blackboard\n",
    "- You are not allowed to discuss this exam with anyone during the exam period\n",
    "- The exam period is **120** minutes\n",
    "- Please respect the honor code. **Poor scores can be overcome, but cheating will be dealt with harshly!**\n",
    "\n"
   ]
  },
  {
   "cell_type": "markdown",
   "metadata": {},
   "source": [
    "# <span style=\"color:black\"> Case Study: </span>  <span style=\"color:firebrick\"> Online Retail Customer Segmentation </span>"
   ]
  },
  {
   "cell_type": "markdown",
   "metadata": {},
   "source": [
    "A UK-based online retail is looking for your help to better understand their customer base. The company sells unique all-occasion gifts, and many of their customers are wholesalers. \n",
    "\n",
    "They hired you as a data science consultant to explore their data and come up with some data-driven customer profiles. This will help them understand their customer preferences, and thus optimize their product selection.  \n",
    "\n",
    "The company's marketing team has provided you with a dataset that goes back to the time between 1/12/2010 and 9/12/2011. The following table describes each column in the dataset (the data is available on Blackboard `OnlineRetail.csv`)\n",
    "\n",
    "\n",
    "|**Variables**    |**Explanation**|\n",
    "|:-----------------|:--------------|\n",
    "|InvoiceNo| Invoice number that is uniquely assigned to each transaction|\n",
    "|StockCode| Product code number that is uniquely assigned to each distinct product|\n",
    "|Description| Product name|\n",
    "|Quantity| The quantities of each product per transaction|\n",
    "|InvoiceDate| Invice date and time when each transaction was generated|\n",
    "|UnitPrice| Product price per unit|\n",
    "|CustomerID| Customer number that is uniquely assigned to each customer|\n",
    "|Country| The name of the country where each customer resides|\n",
    "\n",
    "\n",
    "Data Source: https://archive.ics.uci.edu/ml/datasets/online+retail"
   ]
  },
  {
   "cell_type": "markdown",
   "metadata": {
    "heading_collapsed": true
   },
   "source": [
    "### <span style=\"color:firebrick\"> Step 1: Run the following code</span>\n"
   ]
  },
  {
   "cell_type": "code",
   "execution_count": 104,
   "metadata": {
    "hidden": true
   },
   "outputs": [],
   "source": [
    "# import all necessary python packages here\n",
    "# for data structures and manipulation\n",
    "\n",
    "import numpy as np # for mathematical caluclations\n",
    "import pandas as pd \n",
    "from datetime import timedelta \n",
    "\n",
    "# for data visualization\n",
    "import matplotlib.pyplot as plt \n",
    "import seaborn as sns\n",
    "import plotly.express as px # for interactive plotting\n",
    "import plotly.graph_objects as go # for interactive plotting\n",
    "\n",
    "# for cluster analysis\n",
    "import math\n",
    "from sklearn import cluster\n",
    "\n",
    "# for ingnoring warnings\n",
    "import warnings # to ignore warning\n",
    "warnings.filterwarnings('ignore')"
   ]
  },
  {
   "cell_type": "markdown",
   "metadata": {
    "heading_collapsed": true
   },
   "source": [
    "### <span style=\"color:firebrick\"> Step 2: Clean the data </span>"
   ]
  },
  {
   "cell_type": "code",
   "execution_count": 105,
   "metadata": {
    "hidden": true
   },
   "outputs": [
    {
     "data": {
      "text/html": [
       "<div>\n",
       "<style scoped>\n",
       "    .dataframe tbody tr th:only-of-type {\n",
       "        vertical-align: middle;\n",
       "    }\n",
       "\n",
       "    .dataframe tbody tr th {\n",
       "        vertical-align: top;\n",
       "    }\n",
       "\n",
       "    .dataframe thead th {\n",
       "        text-align: right;\n",
       "    }\n",
       "</style>\n",
       "<table border=\"1\" class=\"dataframe\">\n",
       "  <thead>\n",
       "    <tr style=\"text-align: right;\">\n",
       "      <th></th>\n",
       "      <th>InvoiceNo</th>\n",
       "      <th>StockCode</th>\n",
       "      <th>Description</th>\n",
       "      <th>Quantity</th>\n",
       "      <th>InvoiceDate</th>\n",
       "      <th>UnitPrice</th>\n",
       "      <th>CustomerID</th>\n",
       "      <th>Country</th>\n",
       "    </tr>\n",
       "  </thead>\n",
       "  <tbody>\n",
       "    <tr>\n",
       "      <th>0</th>\n",
       "      <td>536365</td>\n",
       "      <td>85123A</td>\n",
       "      <td>WHITE HANGING HEART T-LIGHT HOLDER</td>\n",
       "      <td>6</td>\n",
       "      <td>2010-12-01 08:26:00</td>\n",
       "      <td>2.55</td>\n",
       "      <td>17850.0</td>\n",
       "      <td>United Kingdom</td>\n",
       "    </tr>\n",
       "    <tr>\n",
       "      <th>1</th>\n",
       "      <td>536365</td>\n",
       "      <td>71053</td>\n",
       "      <td>WHITE METAL LANTERN</td>\n",
       "      <td>6</td>\n",
       "      <td>2010-12-01 08:26:00</td>\n",
       "      <td>3.39</td>\n",
       "      <td>17850.0</td>\n",
       "      <td>United Kingdom</td>\n",
       "    </tr>\n",
       "    <tr>\n",
       "      <th>2</th>\n",
       "      <td>536365</td>\n",
       "      <td>84406B</td>\n",
       "      <td>CREAM CUPID HEARTS COAT HANGER</td>\n",
       "      <td>8</td>\n",
       "      <td>2010-12-01 08:26:00</td>\n",
       "      <td>2.75</td>\n",
       "      <td>17850.0</td>\n",
       "      <td>United Kingdom</td>\n",
       "    </tr>\n",
       "    <tr>\n",
       "      <th>3</th>\n",
       "      <td>536365</td>\n",
       "      <td>84029G</td>\n",
       "      <td>KNITTED UNION FLAG HOT WATER BOTTLE</td>\n",
       "      <td>6</td>\n",
       "      <td>2010-12-01 08:26:00</td>\n",
       "      <td>3.39</td>\n",
       "      <td>17850.0</td>\n",
       "      <td>United Kingdom</td>\n",
       "    </tr>\n",
       "    <tr>\n",
       "      <th>4</th>\n",
       "      <td>536365</td>\n",
       "      <td>84029E</td>\n",
       "      <td>RED WOOLLY HOTTIE WHITE HEART.</td>\n",
       "      <td>6</td>\n",
       "      <td>2010-12-01 08:26:00</td>\n",
       "      <td>3.39</td>\n",
       "      <td>17850.0</td>\n",
       "      <td>United Kingdom</td>\n",
       "    </tr>\n",
       "  </tbody>\n",
       "</table>\n",
       "</div>"
      ],
      "text/plain": [
       "  InvoiceNo StockCode                          Description  Quantity  \\\n",
       "0    536365    85123A   WHITE HANGING HEART T-LIGHT HOLDER         6   \n",
       "1    536365     71053                  WHITE METAL LANTERN         6   \n",
       "2    536365    84406B       CREAM CUPID HEARTS COAT HANGER         8   \n",
       "3    536365    84029G  KNITTED UNION FLAG HOT WATER BOTTLE         6   \n",
       "4    536365    84029E       RED WOOLLY HOTTIE WHITE HEART.         6   \n",
       "\n",
       "          InvoiceDate  UnitPrice  CustomerID         Country  \n",
       "0 2010-12-01 08:26:00       2.55     17850.0  United Kingdom  \n",
       "1 2010-12-01 08:26:00       3.39     17850.0  United Kingdom  \n",
       "2 2010-12-01 08:26:00       2.75     17850.0  United Kingdom  \n",
       "3 2010-12-01 08:26:00       3.39     17850.0  United Kingdom  \n",
       "4 2010-12-01 08:26:00       3.39     17850.0  United Kingdom  "
      ]
     },
     "execution_count": 105,
     "metadata": {},
     "output_type": "execute_result"
    }
   ],
   "source": [
    "# read the data here, and save it in a dataframe called 'df'\n",
    "\n",
    "df = pd.read_csv('OnlineRetail.csv', parse_dates=['InvoiceDate'],encoding = 'unicode_escape')\n",
    "df.head()"
   ]
  },
  {
   "cell_type": "markdown",
   "metadata": {
    "heading_collapsed": true,
    "hidden": true
   },
   "source": [
    "#### Question 1: Some quantities are negative! (5 pts)\n",
    "\n",
    "While investigating the data, you've noticed that the `Quantity` variable which represent the quantities of each product per transaction has some negative values. This is unsual since quantities are usually positive. \n",
    "\n",
    "Given this, you checked with the marketing department in the company, and they said that negative numbers represent cancelled orders. Use any graphing library (plotly, seaborn, matplotlib, etc.) to create a bar chart that shows the count for cancelled and non cancelled orders. \n",
    "\n",
    "Note: No need to worry about color or graph formatting."
   ]
  },
  {
   "cell_type": "code",
   "execution_count": 106,
   "metadata": {
    "hidden": true,
    "scrolled": true
   },
   "outputs": [
    {
     "data": {
      "image/png": "[encoded data removed]",
      "text/plain": [
       "<Figure size 432x288 with 1 Axes>"
      ]
     },
     "metadata": {
      "needs_background": "light"
     },
     "output_type": "display_data"
    }
   ],
   "source": [
    "df['order_status'] = df['Quantity'].apply(lambda x: 'Not Cancelled' if x >= 0 else 'Cancelled')\n",
    "sns.countplot(x = 'order_status',data = df)\n",
    "plt.title('Cancelled vs. Non-cancelled Orders')\n",
    "plt.show()"
   ]
  },
  {
   "cell_type": "markdown",
   "metadata": {
    "heading_collapsed": true,
    "hidden": true
   },
   "source": [
    "#### Question 2: Let's drop cancelled orders from the dataset (5 pts)\n",
    "\n",
    "The company is not interested in learning about cancelled orders. Filter out the cancelled orders from the dataset `df`.  "
   ]
  },
  {
   "cell_type": "code",
   "execution_count": 107,
   "metadata": {
    "hidden": true
   },
   "outputs": [],
   "source": [
    "df = df[~df['Quantity']<0]"
   ]
  },
  {
   "cell_type": "markdown",
   "metadata": {
    "heading_collapsed": true,
    "hidden": true
   },
   "source": [
    "#### Question 3: What about nulls? (5 pts)\n",
    "\n",
    "In addition, the marketing department pointed out that you might encounter customer data that has no `CustomerID`. They said that these accounts used by the marketing team for testing purposes. \n",
    "\n",
    "- How many transactions has missing `CustomerID`?\n",
    "- Drop all transactions from the dataset `df` with missing `CustomerID`. "
   ]
  },
  {
   "cell_type": "code",
   "execution_count": 108,
   "metadata": {
    "hidden": true
   },
   "outputs": [
    {
     "name": "stdout",
     "output_type": "stream",
     "text": [
      "Total missing IDs in Customer ID: 133361\n"
     ]
    },
    {
     "data": {
      "text/plain": [
       "InvoiceNo       0\n",
       "StockCode       0\n",
       "Description     0\n",
       "Quantity        0\n",
       "InvoiceDate     0\n",
       "UnitPrice       0\n",
       "CustomerID      0\n",
       "Country         0\n",
       "order_status    0\n",
       "dtype: int64"
      ]
     },
     "execution_count": 108,
     "metadata": {},
     "output_type": "execute_result"
    }
   ],
   "source": [
    "print(f\"Total missing IDs in Customer ID: {df['CustomerID'].isna().sum()}\")\n",
    "df = df.dropna(axis=0, subset=['CustomerID'])\n",
    "df.isna().sum()"
   ]
  },
  {
   "cell_type": "markdown",
   "metadata": {
    "heading_collapsed": true
   },
   "source": [
    "### <span style=\"color:firebrick\"> Step 3: Prepare the data </span>"
   ]
  },
  {
   "cell_type": "markdown",
   "metadata": {
    "heading_collapsed": true,
    "hidden": true
   },
   "source": [
    "#### What is RFM Analysis? \n",
    "\n",
    "RFM is simple yet very powerful method that is used in marketing to analyze the customers. RFM stands for: \n",
    "\n",
    "- **R**ecency: How recently a customer had a purchase (total number of dates since last purchase)?\n",
    "- **F**requency: How often a customer makes a purchase (total count of purchases/transactions)?\n",
    "- **M**onetary: How much money a customer spends on purchases (total dollar amount of purchases)?\n",
    "\n",
    "These three KPIs (recency, frequency, and monetary) will be used later to segment the customer base using cluster analysis. In the following question, you will create these three KPIs. \n",
    "\n"
   ]
  },
  {
   "cell_type": "markdown",
   "metadata": {
    "heading_collapsed": true,
    "hidden": true
   },
   "source": [
    "#### Question 4: Compute the Recency, Frequency, and Monetray KPIs (5 pts)\n",
    "\n",
    "Use the steps listed in [this guide](https://www.natasshaselvaraj.com/rfm-analysis-in-python/) in order to create a dataframe called `rfm` which includes the the recency, frequency, and monetary for each customer.\n",
    "\n",
    "Note: \n",
    "- The resulting dataframe presented in the guide has 4 columns (CustomerID, InvoiceDate, MonetaryValue, and recency). The `InvoiceDate` column represents the frequency in the RFM analysis.\n",
    "\n",
    "Link: https://www.natasshaselvaraj.com/rfm-analysis-in-python/"
   ]
  },
  {
   "cell_type": "code",
   "execution_count": 109,
   "metadata": {
    "hidden": true
   },
   "outputs": [
    {
     "data": {
      "text/html": [
       "<div>\n",
       "<style scoped>\n",
       "    .dataframe tbody tr th:only-of-type {\n",
       "        vertical-align: middle;\n",
       "    }\n",
       "\n",
       "    .dataframe tbody tr th {\n",
       "        vertical-align: top;\n",
       "    }\n",
       "\n",
       "    .dataframe thead th {\n",
       "        text-align: right;\n",
       "    }\n",
       "</style>\n",
       "<table border=\"1\" class=\"dataframe\">\n",
       "  <thead>\n",
       "    <tr style=\"text-align: right;\">\n",
       "      <th></th>\n",
       "      <th>CustomerID</th>\n",
       "      <th>MonetaryValue</th>\n",
       "    </tr>\n",
       "  </thead>\n",
       "  <tbody>\n",
       "    <tr>\n",
       "      <th>0</th>\n",
       "      <td>12346.0</td>\n",
       "      <td>77183.60</td>\n",
       "    </tr>\n",
       "    <tr>\n",
       "      <th>1</th>\n",
       "      <td>12347.0</td>\n",
       "      <td>4310.00</td>\n",
       "    </tr>\n",
       "    <tr>\n",
       "      <th>2</th>\n",
       "      <td>12348.0</td>\n",
       "      <td>1797.24</td>\n",
       "    </tr>\n",
       "    <tr>\n",
       "      <th>3</th>\n",
       "      <td>12349.0</td>\n",
       "      <td>1757.55</td>\n",
       "    </tr>\n",
       "    <tr>\n",
       "      <th>4</th>\n",
       "      <td>12350.0</td>\n",
       "      <td>334.40</td>\n",
       "    </tr>\n",
       "  </tbody>\n",
       "</table>\n",
       "</div>"
      ],
      "text/plain": [
       "   CustomerID  MonetaryValue\n",
       "0     12346.0       77183.60\n",
       "1     12347.0        4310.00\n",
       "2     12348.0        1797.24\n",
       "3     12349.0        1757.55\n",
       "4     12350.0         334.40"
      ]
     },
     "execution_count": 109,
     "metadata": {},
     "output_type": "execute_result"
    }
   ],
   "source": [
    "# Monetary Value\n",
    "df['MonetaryValue'] = df['Quantity']*df['UnitPrice']\n",
    "m = df.groupby('CustomerID')['MonetaryValue'].sum()\n",
    "m = pd.DataFrame(m).reset_index()\n",
    "m.head()"
   ]
  },
  {
   "cell_type": "code",
   "execution_count": 110,
   "metadata": {},
   "outputs": [
    {
     "data": {
      "text/html": [
       "<div>\n",
       "<style scoped>\n",
       "    .dataframe tbody tr th:only-of-type {\n",
       "        vertical-align: middle;\n",
       "    }\n",
       "\n",
       "    .dataframe tbody tr th {\n",
       "        vertical-align: top;\n",
       "    }\n",
       "\n",
       "    .dataframe thead th {\n",
       "        text-align: right;\n",
       "    }\n",
       "</style>\n",
       "<table border=\"1\" class=\"dataframe\">\n",
       "  <thead>\n",
       "    <tr style=\"text-align: right;\">\n",
       "      <th></th>\n",
       "      <th>CustomerID</th>\n",
       "      <th>InvoiceDate</th>\n",
       "    </tr>\n",
       "  </thead>\n",
       "  <tbody>\n",
       "    <tr>\n",
       "      <th>0</th>\n",
       "      <td>12346.0</td>\n",
       "      <td>1</td>\n",
       "    </tr>\n",
       "    <tr>\n",
       "      <th>1</th>\n",
       "      <td>12347.0</td>\n",
       "      <td>182</td>\n",
       "    </tr>\n",
       "    <tr>\n",
       "      <th>2</th>\n",
       "      <td>12348.0</td>\n",
       "      <td>31</td>\n",
       "    </tr>\n",
       "    <tr>\n",
       "      <th>3</th>\n",
       "      <td>12349.0</td>\n",
       "      <td>73</td>\n",
       "    </tr>\n",
       "    <tr>\n",
       "      <th>4</th>\n",
       "      <td>12350.0</td>\n",
       "      <td>17</td>\n",
       "    </tr>\n",
       "  </tbody>\n",
       "</table>\n",
       "</div>"
      ],
      "text/plain": [
       "   CustomerID  InvoiceDate\n",
       "0     12346.0            1\n",
       "1     12347.0          182\n",
       "2     12348.0           31\n",
       "3     12349.0           73\n",
       "4     12350.0           17"
      ]
     },
     "execution_count": 110,
     "metadata": {},
     "output_type": "execute_result"
    }
   ],
   "source": [
    "# Frequency\n",
    "freq = df.groupby('CustomerID')['InvoiceDate'].count()\n",
    "f = pd.DataFrame(freq).reset_index()\n",
    "f.head()"
   ]
  },
  {
   "cell_type": "code",
   "execution_count": 111,
   "metadata": {},
   "outputs": [
    {
     "data": {
      "text/html": [
       "<div>\n",
       "<style scoped>\n",
       "    .dataframe tbody tr th:only-of-type {\n",
       "        vertical-align: middle;\n",
       "    }\n",
       "\n",
       "    .dataframe tbody tr th {\n",
       "        vertical-align: top;\n",
       "    }\n",
       "\n",
       "    .dataframe thead th {\n",
       "        text-align: right;\n",
       "    }\n",
       "</style>\n",
       "<table border=\"1\" class=\"dataframe\">\n",
       "  <thead>\n",
       "    <tr style=\"text-align: right;\">\n",
       "      <th></th>\n",
       "      <th>CustomerID</th>\n",
       "      <th>recency</th>\n",
       "    </tr>\n",
       "  </thead>\n",
       "  <tbody>\n",
       "    <tr>\n",
       "      <th>0</th>\n",
       "      <td>17850.0</td>\n",
       "      <td>0</td>\n",
       "    </tr>\n",
       "    <tr>\n",
       "      <th>9</th>\n",
       "      <td>13047.0</td>\n",
       "      <td>0</td>\n",
       "    </tr>\n",
       "    <tr>\n",
       "      <th>26</th>\n",
       "      <td>12583.0</td>\n",
       "      <td>0</td>\n",
       "    </tr>\n",
       "    <tr>\n",
       "      <th>46</th>\n",
       "      <td>13748.0</td>\n",
       "      <td>0</td>\n",
       "    </tr>\n",
       "    <tr>\n",
       "      <th>65</th>\n",
       "      <td>15100.0</td>\n",
       "      <td>0</td>\n",
       "    </tr>\n",
       "  </tbody>\n",
       "</table>\n",
       "</div>"
      ],
      "text/plain": [
       "    CustomerID  recency\n",
       "0      17850.0        0\n",
       "9      13047.0        0\n",
       "26     12583.0        0\n",
       "46     13748.0        0\n",
       "65     15100.0        0"
      ]
     },
     "execution_count": 111,
     "metadata": {},
     "output_type": "execute_result"
    }
   ],
   "source": [
    "# Recency\n",
    "df['Date']= pd.to_datetime(df['InvoiceDate'])\n",
    "df['rank'] = df.sort_values(['CustomerID','Date']).groupby(['CustomerID'])['Date'].rank(method='min').astype(int)\n",
    "recent = df[df['rank']==1]\n",
    "recent['recency'] = recent['Date'] - pd.to_datetime('2010-12-01 08:26:00')\n",
    "def recency(recency):\n",
    "    res = str(recency).split(' ')[0]\n",
    "    return(int(res))\n",
    "    \n",
    "recent['recency'] = recent['recency'].apply(recency)\n",
    "recent = recent[['CustomerID','recency']]\n",
    "recent = recent.drop_duplicates()\n",
    "recent.head()"
   ]
  },
  {
   "cell_type": "code",
   "execution_count": 112,
   "metadata": {},
   "outputs": [
    {
     "data": {
      "text/html": [
       "<div>\n",
       "<style scoped>\n",
       "    .dataframe tbody tr th:only-of-type {\n",
       "        vertical-align: middle;\n",
       "    }\n",
       "\n",
       "    .dataframe tbody tr th {\n",
       "        vertical-align: top;\n",
       "    }\n",
       "\n",
       "    .dataframe thead th {\n",
       "        text-align: right;\n",
       "    }\n",
       "</style>\n",
       "<table border=\"1\" class=\"dataframe\">\n",
       "  <thead>\n",
       "    <tr style=\"text-align: right;\">\n",
       "      <th></th>\n",
       "      <th>CustomerID</th>\n",
       "      <th>InvoiceDate</th>\n",
       "      <th>MonetaryValue</th>\n",
       "      <th>recency</th>\n",
       "    </tr>\n",
       "  </thead>\n",
       "  <tbody>\n",
       "    <tr>\n",
       "      <th>0</th>\n",
       "      <td>12346.0</td>\n",
       "      <td>1</td>\n",
       "      <td>77183.60</td>\n",
       "      <td>48</td>\n",
       "    </tr>\n",
       "    <tr>\n",
       "      <th>1</th>\n",
       "      <td>12347.0</td>\n",
       "      <td>182</td>\n",
       "      <td>4310.00</td>\n",
       "      <td>6</td>\n",
       "    </tr>\n",
       "    <tr>\n",
       "      <th>2</th>\n",
       "      <td>12348.0</td>\n",
       "      <td>31</td>\n",
       "      <td>1797.24</td>\n",
       "      <td>15</td>\n",
       "    </tr>\n",
       "    <tr>\n",
       "      <th>3</th>\n",
       "      <td>12349.0</td>\n",
       "      <td>73</td>\n",
       "      <td>1757.55</td>\n",
       "      <td>355</td>\n",
       "    </tr>\n",
       "    <tr>\n",
       "      <th>4</th>\n",
       "      <td>12350.0</td>\n",
       "      <td>17</td>\n",
       "      <td>334.40</td>\n",
       "      <td>63</td>\n",
       "    </tr>\n",
       "  </tbody>\n",
       "</table>\n",
       "</div>"
      ],
      "text/plain": [
       "   CustomerID  InvoiceDate  MonetaryValue  recency\n",
       "0     12346.0            1       77183.60       48\n",
       "1     12347.0          182        4310.00        6\n",
       "2     12348.0           31        1797.24       15\n",
       "3     12349.0           73        1757.55      355\n",
       "4     12350.0           17         334.40       63"
      ]
     },
     "execution_count": 112,
     "metadata": {},
     "output_type": "execute_result"
    }
   ],
   "source": [
    "# Merging\n",
    "rfm = f.merge(m,on='CustomerID').merge(recent,on='CustomerID')\n",
    "rfm.head()"
   ]
  },
  {
   "cell_type": "markdown",
   "metadata": {
    "heading_collapsed": true
   },
   "source": [
    "### <span style=\"color:firebrick\"> Step 4: Perform Cluster Analysis </span>"
   ]
  },
  {
   "cell_type": "markdown",
   "metadata": {
    "heading_collapsed": true,
    "hidden": true
   },
   "source": [
    "#### Question 5: Standardize the KPIs (5 pts)\n",
    "\n",
    "Now we have the three KPIs ready. In case you were not able to create the `rfm` dataframe in question 4, use the dataset `rfm.csv` in order to proceed with the exam, otherwise use the `rfm` dataframe.\n",
    "\n",
    " \n",
    "- Standardize the columns (Recency, Frequency, and Monetory) to prepare the `rfm` data for clustering.\n",
    "\n",
    "\n",
    "\n",
    "\n"
   ]
  },
  {
   "cell_type": "code",
   "execution_count": 113,
   "metadata": {
    "hidden": true
   },
   "outputs": [
    {
     "data": {
      "text/html": [
       "<div>\n",
       "<style scoped>\n",
       "    .dataframe tbody tr th:only-of-type {\n",
       "        vertical-align: middle;\n",
       "    }\n",
       "\n",
       "    .dataframe tbody tr th {\n",
       "        vertical-align: top;\n",
       "    }\n",
       "\n",
       "    .dataframe thead th {\n",
       "        text-align: right;\n",
       "    }\n",
       "</style>\n",
       "<table border=\"1\" class=\"dataframe\">\n",
       "  <thead>\n",
       "    <tr style=\"text-align: right;\">\n",
       "      <th></th>\n",
       "      <th>CustomerID</th>\n",
       "      <th>InvoiceDate</th>\n",
       "      <th>MonetaryValue</th>\n",
       "      <th>recency</th>\n",
       "      <th>z_InvoiceDate</th>\n",
       "      <th>z_MonetaryValue</th>\n",
       "      <th>z_recency</th>\n",
       "    </tr>\n",
       "  </thead>\n",
       "  <tbody>\n",
       "    <tr>\n",
       "      <th>0</th>\n",
       "      <td>12346.0</td>\n",
       "      <td>1</td>\n",
       "      <td>77183.60</td>\n",
       "      <td>48</td>\n",
       "      <td>-0.396466</td>\n",
       "      <td>8.358671</td>\n",
       "      <td>-0.867034</td>\n",
       "    </tr>\n",
       "    <tr>\n",
       "      <th>1</th>\n",
       "      <td>12347.0</td>\n",
       "      <td>182</td>\n",
       "      <td>4310.00</td>\n",
       "      <td>6</td>\n",
       "      <td>0.394642</td>\n",
       "      <td>0.251017</td>\n",
       "      <td>-1.223321</td>\n",
       "    </tr>\n",
       "    <tr>\n",
       "      <th>2</th>\n",
       "      <td>12348.0</td>\n",
       "      <td>31</td>\n",
       "      <td>1797.24</td>\n",
       "      <td>15</td>\n",
       "      <td>-0.265343</td>\n",
       "      <td>-0.028543</td>\n",
       "      <td>-1.146974</td>\n",
       "    </tr>\n",
       "    <tr>\n",
       "      <th>3</th>\n",
       "      <td>12349.0</td>\n",
       "      <td>73</td>\n",
       "      <td>1757.55</td>\n",
       "      <td>355</td>\n",
       "      <td>-0.081771</td>\n",
       "      <td>-0.032959</td>\n",
       "      <td>1.737250</td>\n",
       "    </tr>\n",
       "    <tr>\n",
       "      <th>4</th>\n",
       "      <td>12350.0</td>\n",
       "      <td>17</td>\n",
       "      <td>334.40</td>\n",
       "      <td>63</td>\n",
       "      <td>-0.326534</td>\n",
       "      <td>-0.191293</td>\n",
       "      <td>-0.739789</td>\n",
       "    </tr>\n",
       "  </tbody>\n",
       "</table>\n",
       "</div>"
      ],
      "text/plain": [
       "   CustomerID  InvoiceDate  MonetaryValue  recency  z_InvoiceDate  \\\n",
       "0     12346.0            1       77183.60       48      -0.396466   \n",
       "1     12347.0          182        4310.00        6       0.394642   \n",
       "2     12348.0           31        1797.24       15      -0.265343   \n",
       "3     12349.0           73        1757.55      355      -0.081771   \n",
       "4     12350.0           17         334.40       63      -0.326534   \n",
       "\n",
       "   z_MonetaryValue  z_recency  \n",
       "0         8.358671  -0.867034  \n",
       "1         0.251017  -1.223321  \n",
       "2        -0.028543  -1.146974  \n",
       "3        -0.032959   1.737250  \n",
       "4        -0.191293  -0.739789  "
      ]
     },
     "execution_count": 113,
     "metadata": {},
     "output_type": "execute_result"
    }
   ],
   "source": [
    "col_names = list(rfm.columns)\n",
    "col_names.remove('CustomerID')\n",
    "for col in col_names:\n",
    "    rfm['z_'+ col] = (rfm[col] - rfm[col].mean())/rfm[col].std()\n",
    "rfm.head()"
   ]
  },
  {
   "cell_type": "markdown",
   "metadata": {
    "heading_collapsed": true,
    "hidden": true
   },
   "source": [
    "#### Question 6: How about 3 customer segments? (5 pts)\n",
    "\n",
    "The marketing team believes that there are 3 segments in their customer base. \n",
    "\n",
    "- Perfom k-means clustering (with k = 3) using all the standardized variables in the `rfm` data. (use `random_state = 10`)\n",
    "- Save the resulting cluster labels in a new column in `rfm` called `Cluster`"
   ]
  },
  {
   "cell_type": "code",
   "execution_count": 114,
   "metadata": {
    "hidden": true
   },
   "outputs": [
    {
     "data": {
      "text/html": [
       "<div>\n",
       "<style scoped>\n",
       "    .dataframe tbody tr th:only-of-type {\n",
       "        vertical-align: middle;\n",
       "    }\n",
       "\n",
       "    .dataframe tbody tr th {\n",
       "        vertical-align: top;\n",
       "    }\n",
       "\n",
       "    .dataframe thead th {\n",
       "        text-align: right;\n",
       "    }\n",
       "</style>\n",
       "<table border=\"1\" class=\"dataframe\">\n",
       "  <thead>\n",
       "    <tr style=\"text-align: right;\">\n",
       "      <th></th>\n",
       "      <th>CustomerID</th>\n",
       "      <th>InvoiceDate</th>\n",
       "      <th>MonetaryValue</th>\n",
       "      <th>recency</th>\n",
       "      <th>z_InvoiceDate</th>\n",
       "      <th>z_MonetaryValue</th>\n",
       "      <th>z_recency</th>\n",
       "      <th>Cluster</th>\n",
       "    </tr>\n",
       "  </thead>\n",
       "  <tbody>\n",
       "    <tr>\n",
       "      <th>0</th>\n",
       "      <td>12346.0</td>\n",
       "      <td>1</td>\n",
       "      <td>77183.60</td>\n",
       "      <td>48</td>\n",
       "      <td>-0.396466</td>\n",
       "      <td>8.358671</td>\n",
       "      <td>-0.867034</td>\n",
       "      <td>0</td>\n",
       "    </tr>\n",
       "    <tr>\n",
       "      <th>1</th>\n",
       "      <td>12347.0</td>\n",
       "      <td>182</td>\n",
       "      <td>4310.00</td>\n",
       "      <td>6</td>\n",
       "      <td>0.394642</td>\n",
       "      <td>0.251017</td>\n",
       "      <td>-1.223321</td>\n",
       "      <td>0</td>\n",
       "    </tr>\n",
       "    <tr>\n",
       "      <th>2</th>\n",
       "      <td>12348.0</td>\n",
       "      <td>31</td>\n",
       "      <td>1797.24</td>\n",
       "      <td>15</td>\n",
       "      <td>-0.265343</td>\n",
       "      <td>-0.028543</td>\n",
       "      <td>-1.146974</td>\n",
       "      <td>0</td>\n",
       "    </tr>\n",
       "    <tr>\n",
       "      <th>3</th>\n",
       "      <td>12349.0</td>\n",
       "      <td>73</td>\n",
       "      <td>1757.55</td>\n",
       "      <td>355</td>\n",
       "      <td>-0.081771</td>\n",
       "      <td>-0.032959</td>\n",
       "      <td>1.737250</td>\n",
       "      <td>1</td>\n",
       "    </tr>\n",
       "    <tr>\n",
       "      <th>4</th>\n",
       "      <td>12350.0</td>\n",
       "      <td>17</td>\n",
       "      <td>334.40</td>\n",
       "      <td>63</td>\n",
       "      <td>-0.326534</td>\n",
       "      <td>-0.191293</td>\n",
       "      <td>-0.739789</td>\n",
       "      <td>0</td>\n",
       "    </tr>\n",
       "  </tbody>\n",
       "</table>\n",
       "</div>"
      ],
      "text/plain": [
       "   CustomerID  InvoiceDate  MonetaryValue  recency  z_InvoiceDate  \\\n",
       "0     12346.0            1       77183.60       48      -0.396466   \n",
       "1     12347.0          182        4310.00        6       0.394642   \n",
       "2     12348.0           31        1797.24       15      -0.265343   \n",
       "3     12349.0           73        1757.55      355      -0.081771   \n",
       "4     12350.0           17         334.40       63      -0.326534   \n",
       "\n",
       "   z_MonetaryValue  z_recency  Cluster  \n",
       "0         8.358671  -0.867034        0  \n",
       "1         0.251017  -1.223321        0  \n",
       "2        -0.028543  -1.146974        0  \n",
       "3        -0.032959   1.737250        1  \n",
       "4        -0.191293  -0.739789        0  "
      ]
     },
     "execution_count": 114,
     "metadata": {},
     "output_type": "execute_result"
    }
   ],
   "source": [
    "model= cluster.KMeans(n_clusters = 3, random_state = 10)\n",
    "model.fit(rfm[['z_InvoiceDate', 'z_MonetaryValue', 'z_recency']])\n",
    "rfm['Cluster'] = model.labels_\n",
    "rfm.head()"
   ]
  },
  {
   "cell_type": "markdown",
   "metadata": {
    "heading_collapsed": true,
    "hidden": true
   },
   "source": [
    "#### Question 7: Which customer segment should we target first from a profitability point of view? (5 pts)\n",
    "\n",
    "An ideal customer segment would have the following characterstics: highest frequency and monetory value on average and lowest recency value on average. \n",
    "\n",
    "- Do we have an ideal customer segmenet in the data? How would you rank the clusters from a profitability point of view (highest to lowest). Please state your reasons for the ranking."
   ]
  },
  {
   "cell_type": "code",
   "execution_count": 115,
   "metadata": {
    "hidden": true
   },
   "outputs": [
    {
     "data": {
      "text/html": [
       "<div>\n",
       "<style scoped>\n",
       "    .dataframe tbody tr th:only-of-type {\n",
       "        vertical-align: middle;\n",
       "    }\n",
       "\n",
       "    .dataframe tbody tr th {\n",
       "        vertical-align: top;\n",
       "    }\n",
       "\n",
       "    .dataframe thead th {\n",
       "        text-align: right;\n",
       "    }\n",
       "</style>\n",
       "<table border=\"1\" class=\"dataframe\">\n",
       "  <thead>\n",
       "    <tr style=\"text-align: right;\">\n",
       "      <th></th>\n",
       "      <th>InvoiceDate</th>\n",
       "      <th>MonetaryValue</th>\n",
       "      <th>recency</th>\n",
       "    </tr>\n",
       "    <tr>\n",
       "      <th>Cluster</th>\n",
       "      <th></th>\n",
       "      <th></th>\n",
       "      <th></th>\n",
       "    </tr>\n",
       "  </thead>\n",
       "  <tbody>\n",
       "    <tr>\n",
       "      <th>2</th>\n",
       "      <td>2566</td>\n",
       "      <td>126118</td>\n",
       "      <td>39</td>\n",
       "    </tr>\n",
       "    <tr>\n",
       "      <th>0</th>\n",
       "      <td>109</td>\n",
       "      <td>2316</td>\n",
       "      <td>67</td>\n",
       "    </tr>\n",
       "    <tr>\n",
       "      <th>1</th>\n",
       "      <td>44</td>\n",
       "      <td>685</td>\n",
       "      <td>281</td>\n",
       "    </tr>\n",
       "  </tbody>\n",
       "</table>\n",
       "</div>"
      ],
      "text/plain": [
       "         InvoiceDate  MonetaryValue  recency\n",
       "Cluster                                     \n",
       "2               2566         126118       39\n",
       "0                109           2316       67\n",
       "1                 44            685      281"
      ]
     },
     "execution_count": 115,
     "metadata": {},
     "output_type": "execute_result"
    }
   ],
   "source": [
    "rfm[['InvoiceDate', 'MonetaryValue', 'recency','Cluster']].groupby('Cluster').mean().astype(int).sort_values(by = ['InvoiceDate','MonetaryValue'],ascending = False)"
   ]
  },
  {
   "cell_type": "markdown",
   "metadata": {},
   "source": [
    "- Therefore the cluster 2 should be targeted first because if has the highest average frequency and monetary value with the lowest average recency.\n",
    "- Post that we should targer cluster 0 and then finally cluster 1 as it has the lowest average frequency and monetary value and the highest average recency\n",
    "- Ranking : Cluster 2 > Cluster 0 > Cluster 1"
   ]
  },
  {
   "cell_type": "markdown",
   "metadata": {
    "heading_collapsed": true,
    "hidden": true
   },
   "source": [
    "#### Question 8: How many customer segments should you consider? (5 pts)\n",
    "\n",
    "The marketing department team argues that based on their experience in the market, there are three segments among their company's customers. \n",
    "\n",
    "- Use data-driven techqniues in order to select the best number of customer segments (clusters). In other words, what should be the value of k in k-means? \n",
    "- Show your work and state why you have selected your value for k."
   ]
  },
  {
   "cell_type": "code",
   "execution_count": 116,
   "metadata": {
    "hidden": true
   },
   "outputs": [
    {
     "name": "stdout",
     "output_type": "stream",
     "text": [
      "[8993.286466924204, 5492.084596758151, 4043.3796883294544, 3014.8691702579717, 2444.29016008565, 1942.6793994818177, 1716.7794335773117, 1533.168400250102, 1362.063840611185]\n"
     ]
    }
   ],
   "source": [
    "ss = []\n",
    "for i in range(2, 11):\n",
    "    model = cluster.KMeans(n_clusters=i, random_state=10)\n",
    "    clusters = model.fit_predict(rfm[['z_InvoiceDate', 'z_MonetaryValue', 'z_recency']])\n",
    "    rfm['Cluster'] = clusters\n",
    "    centers = model.cluster_centers_\n",
    "    ss.append(model.inertia_)\n",
    "print(ss)"
   ]
  },
  {
   "cell_type": "code",
   "execution_count": 117,
   "metadata": {},
   "outputs": [
    {
     "data": {
      "text/plain": [
       "<matplotlib.axes._subplots.AxesSubplot at 0x1f4860007c0>"
      ]
     },
     "execution_count": 117,
     "metadata": {},
     "output_type": "execute_result"
    },
    {
     "data": {
      "image/png": "[encoded data removed]",
      "text/plain": [
       "<Figure size 432x288 with 1 Axes>"
      ]
     },
     "metadata": {
      "needs_background": "light"
     },
     "output_type": "display_data"
    }
   ],
   "source": [
    "%matplotlib inline\n",
    "\n",
    "# plot the elbow plot\n",
    "\n",
    "data = pd.DataFrame({'K': range(2,11), \n",
    "                      'Sum of Squares':ss})\n",
    "sns.lineplot(data = data, \n",
    "             x = 'K', \n",
    "             y = 'Sum of Squares')"
   ]
  },
  {
   "cell_type": "markdown",
   "metadata": {},
   "source": [
    "- From the elbow plot above we can see the the sum of squared errors is fairly constant and low after k = 7\n",
    "- Therefore, using data driven techniques we can conclude that the customers should be segmented into 7 clusters rather than 3 for best results"
   ]
  },
  {
   "cell_type": "markdown",
   "metadata": {},
   "source": [
    "### <span style=\"color:firebrick\"> Step 5: Create a Plotly dashboard </span>"
   ]
  },
  {
   "cell_type": "markdown",
   "metadata": {
    "heading_collapsed": true
   },
   "source": [
    "#### Question 9: RFM Dashboard (10 pts)\n",
    "\n",
    "Create a simple dashboard with the following characterstics:\n",
    "\n",
    "- Use the data from `rfm.csv`.\n",
    "- A header (H1) with the text \"Choose one of the RFM KPIs\"\n",
    "- A dropdown menue that shows only three variables from the `rfm` dataset (Frequency, Monetary, and Recency)\n",
    "- A graph with a box plot fot the selected RFM KPI"
   ]
  },
  {
   "cell_type": "markdown",
   "metadata": {
    "hidden": true,
    "scrolled": false
   },
   "source": [
    "Completed in separate DSO545_Exam2_Falak_Jain.py file"
   ]
  }
 ],
 "metadata": {
  "interpreter": {
   "hash": "40d3a090f54c6569ab1632332b64b2c03c39dcf918b08424e98f38b5ae0af88f"
  },
  "kernelspec": {
   "display_name": "Python 3 (ipykernel)",
   "language": "python",
   "name": "python3"
  },
  "language_info": {
   "codemirror_mode": {
    "name": "ipython",
    "version": 3
   },
   "file_extension": ".py",
   "mimetype": "text/x-python",
   "name": "python",
   "nbconvert_exporter": "python",
   "pygments_lexer": "ipython3",
   "version": "3.8.8"
  },
  "varInspector": {
   "cols": {
    "lenName": 16,
    "lenType": 16,
    "lenVar": 40
   },
   "kernels_config": {
    "python": {
     "delete_cmd_postfix": "",
     "delete_cmd_prefix": "del ",
     "library": "var_list.py",
     "varRefreshCmd": "print(var_dic_list())"
    },
    "r": {
     "delete_cmd_postfix": ") ",
     "delete_cmd_prefix": "rm(",
     "library": "var_list.r",
     "varRefreshCmd": "cat(var_dic_list()) "
    }
   },
   "types_to_exclude": [
    "module",
    "function",
    "builtin_function_or_method",
    "instance",
    "_Feature"
   ],
   "window_display": false
  }
 },
 "nbformat": 4,
 "nbformat_minor": 4
}
