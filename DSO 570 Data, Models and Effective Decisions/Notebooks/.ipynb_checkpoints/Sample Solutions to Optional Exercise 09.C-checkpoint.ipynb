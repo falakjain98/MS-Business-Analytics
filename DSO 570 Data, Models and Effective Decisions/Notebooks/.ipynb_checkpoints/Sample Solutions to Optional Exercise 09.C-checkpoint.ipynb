{
 "cells": [
  {
   "cell_type": "markdown",
   "id": "8af9305a",
   "metadata": {},
   "source": [
    "## (Optional) Practice Problem: Food Production Revisited\n",
    "\n",
    "This question is a modification of the sample problem from Session 17, and it incoporates a limit on how long oil can be stored. \n",
    "\n",
    "A food factory uses a certain amount of canola oil every month as a raw ingredient. The price of canola oil fluctuates from month to month, as well as the amount of oil that is used each month for production. The prices and oil required for the next six months are as follows\n",
    "\n",
    "|Month | 1 | 2 | 3 | 4 | 5 | 6 |\n",
    "|--|--|--|--|--|--|--|\n",
    "| Price (\\$) per ton | 150 | 160 | 180 | 170 | 180 | 160 |\n",
    "| Tons of oil used | 2000 | 2500 | 3000 | 3000 | 2500 | 2000 |\n",
    "\n",
    "The factory's supplier for canola oil delivers it on the first day of every month, and charges the prices above. The factory can decide how much oil to buy each month from the supplier.  At the end of each month, the factory can also store unused oil for future use, but the inventory of oil (the total amount stored) cannot exceed **8000** tons at any given time. (The current inventory of oil before the shipment in Month 1 is zero.) **Moreover, oil be stored for at most 2 months. For example, oil bought in Month 1 can only be used in Months 1, 2 or 3, and must be thrown away at the end of Month 3; in other words, oil bought in Month 1 cannot be used in Month 4, 5, ... An analogous statement holds for oil bought in other months.** \n",
    "\n",
    "Formulate a linear optimization problem to decide how much canola oil to buy for each of the six months in order to minimize the total purchase cost over these six months. "
   ]
  },
  {
   "cell_type": "markdown",
   "id": "54cca99f",
   "metadata": {},
   "source": [
    "**Decision Variables:** \n",
    "\n",
    "- $X_1, X_2, \\cdots, X_6$: amount of oil to buy in each month. (continuous)\n",
    "- $Y_1, Y_2, \\cdots, Y_6$: amount of oil stored at the end of each month to be used exactly in the next month. (continuous)\n",
    "- $Z_1, Z_2, \\cdots, Z_6$: amount of oil stored at the end of each month to be used exactly two months later. (continuous)\n",
    "\n",
    "**Objective:**\n",
    "\n",
    "$$ \\text{Min. } 150X_1 + 160X_2 + 180X_3+170X_4 + 180X_5 + 160X_6 $$\n",
    "\n",
    "\n",
    "**Constraints:**\n",
    "\n",
    "$$\\begin{aligned}\n",
    " X_1 - Y_1 - Z_1 &= 2000 \\\\\n",
    " X_2 - Y_2 - Z_2  &=2500 - Y_1 \\ge 0 \\\\\n",
    " X_3 - Y_3 - Z_3 &=3000 - Y_2 - Z_1 \\ge 0 \\\\\n",
    "  X_4 - Y_4 - Z_4 &=3000- Y_3 - Z_2 \\ge 0\\\\\n",
    "  X_5 - Y_5 - Z_5 &=2500 - Y_4 - Z_3 \\ge 0 \\\\\n",
    "  X_6 - Y_6 - Z_6 &=2000 - Y_5 - Z_4 \\ge 0 \\\\\n",
    " Y_1 + Z_1 &\\le 8000 \\\\\n",
    " Y_2 + Z_2 + Z_1 &\\le 8000 \\\\\n",
    " Y_3 + Z_3 + Z_2 &\\le 8000 \\\\\n",
    " Y_4 + Z_4 + Z_3 &\\le 8000 \\\\\n",
    " Y_5 + Z_5 + Z_4 &\\le 8000 \\\\\n",
    " Y_6 + Z_6 + Z_5 &\\le 8000 \\\\\n",
    " X_t, Y_t, Z_t & \\ge 0 && \\text{for each month $t$.}\n",
    "\\end{aligned}$$\n",
    "\n"
   ]
  }
 ],
 "metadata": {
  "kernelspec": {
   "display_name": "Python 3 (ipykernel)",
   "language": "python",
   "name": "python3"
  },
  "language_info": {
   "codemirror_mode": {
    "name": "ipython",
    "version": 3
   },
   "file_extension": ".py",
   "mimetype": "text/x-python",
   "name": "python",
   "nbconvert_exporter": "python",
   "pygments_lexer": "ipython3",
   "version": "3.8.8"
  }
 },
 "nbformat": 4,
 "nbformat_minor": 5
}
