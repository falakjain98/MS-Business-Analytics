{
 "cells": [
  {
   "cell_type": "markdown",
   "metadata": {},
   "source": [
    "## (Optional) Practice Problem: Supply Chain Planning Revisited\n",
    "\n",
    "This question asks you to do supply chaining while accounting for both production and transportation. You company produces and sells a certain product. There is a certain set of production plants, each with a given capacity, which is the maximum number of units that can be produced there in a given month. There is a certain set of demand regions, each with a given estimated demand, which is the maximum number of units you can sell in that region per month. It is possible to not fulfill all the demand, as that corresponds to having the item being stocked out for some customers. The price that you charge when sell the item may be different in each region, but the prices are determined by another department, so is outside of your control. \n",
    "\n",
    "As an illustration, suppose there are 3 plants, with the following production costs and capacities:\n",
    "\n",
    "|Plant | 1 | 2 | 3 |\n",
    "|--|--|--|--|\n",
    "|Cost per unit | 60 | 60 | 55 |\n",
    "|Capacity | 35 | 40 | 35 |\n",
    "\n",
    "Suppose there are 4 regions, with the following selling prices and demand estimates:\n",
    "\n",
    "| Region | A | B | C | D|\n",
    "|--|--|--|--|--|\n",
    "|Price  |80 | 85 | 70 | 75 |\n",
    "|Demand |30 | 50 | 10 | 20 |\n",
    "\n",
    "\n",
    "The following table provides the transportation cost of shipping each unit from each plant to each region.\n",
    "\n",
    "| Region \\ Plant  | 1 | 2 | 3 |\n",
    "|--|--|--|--|\n",
    "| A | 20 | 8 | 25 | \n",
    "| B| 18 | 23 | 8 | \n",
    "| C| 21 | 24 | 8 | \n",
    "| D | 8 | 8 | 19 |\n",
    "\n",
    "Create an abstract formulation of a linear optimization problem to determine a plan for producing and shipping items, so as to maximize total profit, which is the revenue from the selling the product minus the production and transportation costs. You formulation must be flexible enough to handle arbitrary sets of production plants and regions, and none of the numbers in the above description can be hardcoded.\n",
    "\n",
    "(In this problem, fractional units are allowed, since we are working with rates.)"
   ]
  },
  {
   "cell_type": "markdown",
   "metadata": {},
   "source": [
    "**Data:**\n",
    "\n",
    "\n",
    "\n",
    "\n",
    "\n",
    "\n",
    "\n",
    "\n",
    "**Decision Variables:**\n",
    "\n",
    "\n",
    "\n",
    "\n",
    "\n",
    "**Objective:**\n",
    "\n",
    "\n",
    "\n",
    "\n",
    "**Constraints:**\n",
    "\n",
    "\n",
    "\n",
    "\n",
    "\n",
    "\n",
    "\n",
    "\n",
    "\n"
   ]
  }
 ],
 "metadata": {
  "kernelspec": {
   "display_name": "Python 3 (ipykernel)",
   "language": "python",
   "name": "python3"
  },
  "language_info": {
   "codemirror_mode": {
    "name": "ipython",
    "version": 3
   },
   "file_extension": ".py",
   "mimetype": "text/x-python",
   "name": "python",
   "nbconvert_exporter": "python",
   "pygments_lexer": "ipython3",
   "version": "3.8.8"
  }
 },
 "nbformat": 4,
 "nbformat_minor": 4
}
