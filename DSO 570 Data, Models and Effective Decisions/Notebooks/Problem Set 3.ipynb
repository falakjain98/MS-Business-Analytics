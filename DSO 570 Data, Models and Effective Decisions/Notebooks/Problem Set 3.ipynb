{
 "cells": [
  {
   "cell_type": "markdown",
   "metadata": {},
   "source": [
    "# Name: Falak Jain\n",
    "\n",
    "# Problem Set 3\n",
    "\n",
    "### Learning Objective:\n",
    "\n",
    "- Create Python code to automate a given task.\n",
    "\n",
    "### Overview:\n",
    "\n",
    "This problem set assesses your algorithmic thinking, which is the focus of Week 3. For each problem, you are required to go through each of four steps of algorithmic thinking. See the sample solutions to Exercise 3.3 for an example of the desired format of your responses.\n",
    "\n",
    "### Grading\n",
    "\n",
    "There are three possible scores you can get from submitting this assignment on time (submitting a blank file or one without any apparent effort does not count). Note that the rubric is designed to incentivize you to go for 100% mastery of the material, as the little details matter a lot in programming. \n",
    "\n",
    "| Grade | Description |\n",
    "|--|--|\n",
    "| 5 out of 5 | Perfect submission with no significant errors. | \n",
    "| 4 out of 5 | Near perfect submission with one or more significant errors. |\n",
    "| 2 out of 5 | Apparent effort but far from perfect. |\n",
    "\n",
    "\n",
    "## Q1. Investment Accounting \n",
    "\n",
    "This question asks you to create a tool to perform simple accounting for stock trading. Write a function called \"accounting\" with two input arguments:\n",
    "\n",
    "- prices: a list of positive numbers corresponding to the price of a stock in successive days. \n",
    "- changes: a list of integers (positive or negative) corresponding to the change in the number of shares carried. A positive number corresponds to buying shares of the stock and a negative number corresponds to selling. It is possible for you to own net negative shares of the stock.\n",
    "\n",
    "You may assume that the two lists are of the same length. The function should return (not print) the following two numbers:\n",
    "\n",
    "- net change in shares: the sum of the numbers in the list \"changes\".\n",
    "- net change in cash: the net money spent or earned over the trades in the list \"changes\". Buying the stock costs money and selling it earns money. \n",
    "\n",
    "For example, if `prices=[10,12,13,8,7,15]` and `changes=[3,2,-5,3,1,-5]`, the following table illustrates the calculations.\n",
    "\n",
    "|Price | Change | Cashflow |\n",
    "|--|--|--|\n",
    "|10|+3 | -30 |\n",
    "|12|+2 | -24 |\n",
    "|13|-5 | 65 |\n",
    "|8 | +3 | -24 |\n",
    "|7 | +1 | -7 |\n",
    "|15|-5 | 75 |\n",
    "|**Net**| **-1** | **55** |\n",
    "\n",
    "**Sample run:**\n",
    "```python\n",
    "netShares,netCash=accounting([10,12,13,8,7,15],[3,2,-5,3,1,-5])\n",
    "print(f'Net change in position: {netShares} shares.')\n",
    "print(f'Net change in cash: {netCash} dollars.')\n",
    "```\n",
    "\n",
    "**Sample output:**\n",
    "```\n",
    "Net change in position: -1 shares.\n",
    "Net change in cash: 55 dollars.\n",
    "```"
   ]
  },
  {
   "cell_type": "markdown",
   "metadata": {},
   "source": [
    "### Applying Algorithmic Thinking:\n",
    "\n",
    "**Step 1. Understand** (Write your summary of the task in this cell:)\n",
    "\n",
    "Find the net number of stocks bought or sold in the given time period and the net money lost or gained within the same time period"
   ]
  },
  {
   "cell_type": "markdown",
   "metadata": {},
   "source": [
    "**Step 2. Decompose** (Write your instructions in this Markdown cell)\n",
    "\n",
    "- given the list of number of shares bought or sold, calculate the net sum of all elements in the stocks list\n",
    "- given the stock price for every day, multiply it with the stocks bought or sold on the same day and calculate the net sum of money spent or gained "
   ]
  },
  {
   "cell_type": "markdown",
   "metadata": {},
   "source": [
    "**Step 3. Analyze** (Write code fragments in separate code cells to implement the trickiest steps)"
   ]
  },
  {
   "cell_type": "code",
   "execution_count": 1,
   "metadata": {},
   "outputs": [
    {
     "name": "stdout",
     "output_type": "stream",
     "text": [
      "10 3\n",
      "12 2\n",
      "13 -5\n",
      "8 3\n",
      "7 1\n",
      "15 -5\n"
     ]
    }
   ],
   "source": [
    "changes=[3,2,-5,3,1,-5]\n",
    "prices=[10,12,13,8,7,15]\n",
    "for i in range(len(changes)):\n",
    "    print(prices[i],changes[i])"
   ]
  },
  {
   "cell_type": "code",
   "execution_count": 2,
   "metadata": {},
   "outputs": [
    {
     "name": "stdout",
     "output_type": "stream",
     "text": [
      "Day 0: 30\n",
      "Day 1: 24\n",
      "Day 2: -65\n",
      "Day 3: 24\n",
      "Day 4: 7\n",
      "Day 5: -75\n",
      "Net Stocks: -1\n"
     ]
    }
   ],
   "source": [
    "changes=[3,2,-5,3,1,-5]\n",
    "prices=[10,12,13,8,7,15]\n",
    "for i in range(len(changes)):\n",
    "    print(f'Day {i}: {prices[i]*changes[i]*1}')\n",
    "print('Net Stocks:',sum(changes))"
   ]
  },
  {
   "cell_type": "code",
   "execution_count": 3,
   "metadata": {},
   "outputs": [
    {
     "name": "stdout",
     "output_type": "stream",
     "text": [
      "Net change is cash: 55\n",
      "Net Stocks: -1\n"
     ]
    }
   ],
   "source": [
    "profits = []\n",
    "for i in range(len(changes)):\n",
    "    profits.append(prices[i]*changes[i]*-1)\n",
    "print('Net change is cash:',sum(profits))\n",
    "print('Net Stocks:',sum(changes))"
   ]
  },
  {
   "cell_type": "markdown",
   "metadata": {},
   "source": [
    "**Step 4. Synthesize** (Combine your code fragments from Step 3, but do so in an incremental fashion and print intermediate results)"
   ]
  },
  {
   "cell_type": "code",
   "execution_count": 4,
   "metadata": {},
   "outputs": [
    {
     "name": "stdout",
     "output_type": "stream",
     "text": [
      "Day 0: -30\n",
      "Day 1: -24\n",
      "Day 2: 65\n",
      "Day 3: -24\n",
      "Day 4: -7\n",
      "Day 5: 75\n",
      "Net change is cash: 55\n",
      "Net Stocks: -1\n"
     ]
    },
    {
     "data": {
      "text/plain": [
       "(-1, 55)"
      ]
     },
     "execution_count": 4,
     "metadata": {},
     "output_type": "execute_result"
    }
   ],
   "source": [
    "# Version with intermediate printing and without function encapsulation\n",
    "changes=[3,2,-5,3,1,-5]\n",
    "prices=[10,12,13,8,7,15]\n",
    "def accounting(prices,changes):\n",
    "    profits = []\n",
    "    for i in range(len(changes)):\n",
    "        print(f'Day {i}: {prices[i]*changes[i]*-1}')\n",
    "        profits.append(prices[i]*changes[i]*-1)\n",
    "    print('Net change is cash:',sum(profits))\n",
    "    print('Net Stocks:',sum(changes))\n",
    "    return(sum(changes),sum(profits))\n",
    "\n",
    "accounting([10,12,13,8,7,15],[3,2,-5,3,1,-5])"
   ]
  },
  {
   "cell_type": "code",
   "execution_count": 5,
   "metadata": {},
   "outputs": [],
   "source": [
    "# Final code\n",
    "def accounting(prices,changes):\n",
    "    netCash = []\n",
    "    for i in range(len(changes)):\n",
    "        netCash.append(prices[i]*changes[i]*-1)\n",
    "    return(sum(changes),sum(netCash))"
   ]
  },
  {
   "cell_type": "code",
   "execution_count": 6,
   "metadata": {},
   "outputs": [
    {
     "name": "stdout",
     "output_type": "stream",
     "text": [
      "Net change in position: -1 shares.\n",
      "Net change in cash: 55 dollars.\n"
     ]
    }
   ],
   "source": [
    "# Sample run\n",
    "netShares,netCash=accounting([10,12,13,8,7,15],[3,2,-5,3,1,-5])\n",
    "print(f'Net change in position: {netShares} shares.')\n",
    "print(f'Net change in cash: {netCash} dollars.')"
   ]
  },
  {
   "cell_type": "markdown",
   "metadata": {},
   "source": [
    "## Q2. Demand Estimation with $n$ Substitutable Products\n",
    "\n",
    "This exercise generalizes Exercise 3.3 to $n$ products, where $n$ is any positive integer.\n",
    "\n",
    "Write a function called `demand` with two input arguments:\n",
    "\n",
    "- `prices`: a list of $n$ prices, one for each product. \n",
    "- `values`: a list in which each element represents a customer's valuations for the $n$ products. The valuations is a list of length $n$, which corresponds to the customer's willingness to pay for each of the $n$ products.\n",
    "\n",
    "The function should return a list of length $n$ representing the number of each product sold. You should assume that each customer:\n",
    "\n",
    "- Does not purchase anything if his/her valuation for each product is strictly less than its price.\n",
    "- Otherwise, purchase the product in which the difference between his/her valuation and the price is the largest. When there is a tie, the customer will purchase the product with the smaller index. \n",
    "\n",
    "For example, if `prices=[10,8,12]`, then\n",
    "\n",
    "- A customer with valuations `[9,7,11]` purchases nothing.\n",
    "- A customer with valuations `[10,8,12]` purchases product 1.\n",
    "- A customer with valuations `[9,8,12]` purchases product 2.\n",
    "- A customer with valuations `[9,8,13]` purchases product 3.\n",
    "\n",
    "**Sample run 1:**\n",
    "\n",
    "```python\n",
    "prices=[10,8,12]\n",
    "values=[[9,7,11],[10,8,12],[9,8,12],[9,8,13]]\n",
    "ans=demand(prices,values)\n",
    "for i in range(len(prices)):\n",
    "    print(f'Demand for product {i+1}:',ans[i])\n",
    "```\n",
    "\n",
    "**Correct output:**\n",
    "\n",
    "```\n",
    "Demand for product 1: 1\n",
    "Demand for product 2: 1\n",
    "Demand for product 3: 1\n",
    "```\n",
    "\n",
    "**Sample run 2:**\n",
    "\n",
    "```python\n",
    "prices=[20,15,30]\n",
    "values=[[30,30,20],[40,10,15],[18,13,29],[40,30,50],[10,30,50],[10,10,10],[20,15,30]]\n",
    "ans=demand(prices,values)\n",
    "for i in range(len(prices)):\n",
    "    print(f'Demand for product {i+1}:',ans[i])\n",
    "   ```\n",
    "   \n",
    "**Correct output:**\n",
    "\n",
    "```\n",
    "Demand for product 1: 3\n",
    "Demand for product 2: 1\n",
    "Demand for product 3: 1\n",
    "```"
   ]
  },
  {
   "cell_type": "markdown",
   "metadata": {},
   "source": [
    "### Applying Algorithmic Thinking:\n",
    "\n",
    "**Step 1. Understand** (Write your summary of the task in this cell:)\n",
    "\n",
    "For a given list of costs of n products, find the number of purchasers for each product provided that a customer buys a product if their evaluation is more than the product cost."
   ]
  },
  {
   "cell_type": "markdown",
   "metadata": {},
   "source": [
    "**Step 2. Decompose** (Write your instructions in this Markdown cell)\n",
    "\n",
    "- Read the cost of n products and store in a list\n",
    "- Read the evaluations of n customers for those n products and store in a list of lists\n",
    "- For every customer, iterate through their evaluations and compare the difference between their evaluation and the product price\n",
    "- If the difference is positive then they purchase the product which has the highest difference\n",
    "- If the difference for multiple products is positive and same then the customer buys the earliest product\n",
    "- Count the number of purchases for each of the n products"
   ]
  },
  {
   "cell_type": "markdown",
   "metadata": {},
   "source": [
    "**Step 3. Analyze** (Write code fragments in separate code cells to implement the trickiest steps)"
   ]
  },
  {
   "cell_type": "code",
   "execution_count": 7,
   "metadata": {},
   "outputs": [
    {
     "name": "stdout",
     "output_type": "stream",
     "text": [
      "Customer 1\n",
      "Product 1 cost: 20, evaluation: 30\n",
      "Product 2 cost: 15, evaluation: 30\n",
      "Product 3 cost: 30, evaluation: 20\n",
      "Customer 2\n",
      "Product 1 cost: 20, evaluation: 40\n",
      "Product 2 cost: 15, evaluation: 10\n",
      "Product 3 cost: 30, evaluation: 15\n",
      "Customer 3\n",
      "Product 1 cost: 20, evaluation: 18\n",
      "Product 2 cost: 15, evaluation: 13\n",
      "Product 3 cost: 30, evaluation: 29\n",
      "Customer 4\n",
      "Product 1 cost: 20, evaluation: 40\n",
      "Product 2 cost: 15, evaluation: 30\n",
      "Product 3 cost: 30, evaluation: 50\n",
      "Customer 5\n",
      "Product 1 cost: 20, evaluation: 10\n",
      "Product 2 cost: 15, evaluation: 30\n",
      "Product 3 cost: 30, evaluation: 50\n",
      "Customer 6\n",
      "Product 1 cost: 20, evaluation: 10\n",
      "Product 2 cost: 15, evaluation: 10\n",
      "Product 3 cost: 30, evaluation: 10\n",
      "Customer 7\n",
      "Product 1 cost: 20, evaluation: 20\n",
      "Product 2 cost: 15, evaluation: 15\n",
      "Product 3 cost: 30, evaluation: 30\n"
     ]
    }
   ],
   "source": [
    "prices=[20,15,30]\n",
    "values=[[30,30,20],[40,10,15],[18,13,29],[40,30,50],[10,30,50],[10,10,10],[20,15,30]]\n",
    "for value in values:\n",
    "    print(f'Customer {values.index(value)+1}')\n",
    "    for i in range(len(value)):\n",
    "        print(f'Product {i+1} cost: {prices[i]}, evaluation: {value[i]}')"
   ]
  },
  {
   "cell_type": "code",
   "execution_count": 8,
   "metadata": {},
   "outputs": [
    {
     "name": "stdout",
     "output_type": "stream",
     "text": [
      "Customer 1\n",
      "Product 1 cost: 20, evaluation: 30, difference: 10\n",
      "Product 2 cost: 15, evaluation: 30, difference: 15\n",
      "Product 3 cost: 30, evaluation: 20, difference: -10\n",
      "Customer 2\n",
      "Product 1 cost: 20, evaluation: 40, difference: 20\n",
      "Product 2 cost: 15, evaluation: 10, difference: -5\n",
      "Product 3 cost: 30, evaluation: 15, difference: -15\n",
      "Customer 3\n",
      "Product 1 cost: 20, evaluation: 18, difference: -2\n",
      "Product 2 cost: 15, evaluation: 13, difference: -2\n",
      "Product 3 cost: 30, evaluation: 29, difference: -1\n",
      "Customer 4\n",
      "Product 1 cost: 20, evaluation: 40, difference: 20\n",
      "Product 2 cost: 15, evaluation: 30, difference: 15\n",
      "Product 3 cost: 30, evaluation: 50, difference: 20\n",
      "Customer 5\n",
      "Product 1 cost: 20, evaluation: 10, difference: -10\n",
      "Product 2 cost: 15, evaluation: 30, difference: 15\n",
      "Product 3 cost: 30, evaluation: 50, difference: 20\n",
      "Customer 6\n",
      "Product 1 cost: 20, evaluation: 10, difference: -10\n",
      "Product 2 cost: 15, evaluation: 10, difference: -5\n",
      "Product 3 cost: 30, evaluation: 10, difference: -20\n",
      "Customer 7\n",
      "Product 1 cost: 20, evaluation: 20, difference: 0\n",
      "Product 2 cost: 15, evaluation: 15, difference: 0\n",
      "Product 3 cost: 30, evaluation: 30, difference: 0\n"
     ]
    }
   ],
   "source": [
    "prices=[20,15,30]\n",
    "values=[[30,30,20],[40,10,15],[18,13,29],[40,30,50],[10,30,50],[10,10,10],[20,15,30]]\n",
    "for value in values:\n",
    "    print(f'Customer {values.index(value)+1}')\n",
    "    for i in range(len(value)):\n",
    "        print(f'Product {i+1} cost: {prices[i]}, evaluation: {value[i]}, difference: {value[i]-prices[i]}')"
   ]
  },
  {
   "cell_type": "code",
   "execution_count": 9,
   "metadata": {},
   "outputs": [
    {
     "name": "stdout",
     "output_type": "stream",
     "text": [
      "Customer 1\n",
      "Product 1 cost: 20, evaluation: 30\n",
      "Product 2 cost: 15, evaluation: 30\n",
      "Product 3 cost: 30, evaluation: 20\n",
      "[10, 15, -10]\n",
      "Max difference at index 1\n",
      "Purchased product 2 \n",
      "\n",
      "Customer 2\n",
      "Product 1 cost: 20, evaluation: 40\n",
      "Product 2 cost: 15, evaluation: 10\n",
      "Product 3 cost: 30, evaluation: 15\n",
      "[20, -5, -15]\n",
      "Max difference at index 0\n",
      "Purchased product 1 \n",
      "\n",
      "Customer 3\n",
      "Product 1 cost: 20, evaluation: 18\n",
      "Product 2 cost: 15, evaluation: 13\n",
      "Product 3 cost: 30, evaluation: 29\n",
      "[-2, -2, -1]\n",
      "Max difference at index 2\n",
      "No Product Purchased \n",
      "\n",
      "Customer 4\n",
      "Product 1 cost: 20, evaluation: 40\n",
      "Product 2 cost: 15, evaluation: 30\n",
      "Product 3 cost: 30, evaluation: 50\n",
      "[20, 15, 20]\n",
      "Max difference at index 0\n",
      "Purchased product 1 \n",
      "\n",
      "Customer 5\n",
      "Product 1 cost: 20, evaluation: 10\n",
      "Product 2 cost: 15, evaluation: 30\n",
      "Product 3 cost: 30, evaluation: 50\n",
      "[-10, 15, 20]\n",
      "Max difference at index 2\n",
      "Purchased product 3 \n",
      "\n",
      "Customer 6\n",
      "Product 1 cost: 20, evaluation: 10\n",
      "Product 2 cost: 15, evaluation: 10\n",
      "Product 3 cost: 30, evaluation: 10\n",
      "[-10, -5, -20]\n",
      "Max difference at index 1\n",
      "No Product Purchased \n",
      "\n",
      "Customer 7\n",
      "Product 1 cost: 20, evaluation: 20\n",
      "Product 2 cost: 15, evaluation: 15\n",
      "Product 3 cost: 30, evaluation: 30\n",
      "[0, 0, 0]\n",
      "Max difference at index 0\n",
      "Purchased product 1 \n",
      "\n"
     ]
    }
   ],
   "source": [
    "prices=[20,15,30]\n",
    "values=[[30,30,20],[40,10,15],[18,13,29],[40,30,50],[10,30,50],[10,10,10],[20,15,30]]\n",
    "for value in values:\n",
    "    differences = []\n",
    "    print(f'Customer {values.index(value)+1}')\n",
    "    for i in range(len(value)):\n",
    "        print(f'Product {i+1} cost: {prices[i]}, evaluation: {value[i]}')\n",
    "        differences.append(value[i]-prices[i])\n",
    "    print(differences)\n",
    "    print(f'Max difference at index {differences.index(max(differences))}')\n",
    "    print(f'Purchased product {differences.index(max(differences))+1}' if max(differences)>= 0 else 'No Product Purchased','\\n')"
   ]
  },
  {
   "cell_type": "code",
   "execution_count": 10,
   "metadata": {},
   "outputs": [
    {
     "data": {
      "text/plain": [
       "[0, 0, 0]"
      ]
     },
     "execution_count": 10,
     "metadata": {},
     "output_type": "execute_result"
    }
   ],
   "source": [
    "a = [0]*len(prices)\n",
    "a"
   ]
  },
  {
   "cell_type": "markdown",
   "metadata": {},
   "source": [
    "**Step 4. Synthesize** (Combine your code fragments from Step 3, but do so in an incremental fashion and print intermediate results)"
   ]
  },
  {
   "cell_type": "code",
   "execution_count": 11,
   "metadata": {},
   "outputs": [
    {
     "name": "stdout",
     "output_type": "stream",
     "text": [
      "Customer 1\n",
      "Product 1 cost: 20, evaluation: 30\n",
      "Product 2 cost: 15, evaluation: 30\n",
      "Product 3 cost: 30, evaluation: 20\n",
      "[10, 15, -10]\n",
      "Max difference at index 1\n",
      "Purchased product 2 \n",
      "\n",
      "Customer 2\n",
      "Product 1 cost: 20, evaluation: 40\n",
      "Product 2 cost: 15, evaluation: 10\n",
      "Product 3 cost: 30, evaluation: 15\n",
      "[20, -5, -15]\n",
      "Max difference at index 0\n",
      "Purchased product 1 \n",
      "\n",
      "Customer 3\n",
      "Product 1 cost: 20, evaluation: 18\n",
      "Product 2 cost: 15, evaluation: 13\n",
      "Product 3 cost: 30, evaluation: 29\n",
      "[-2, -2, -1]\n",
      "Max difference at index 2\n",
      "No Product Purchased \n",
      "\n",
      "Customer 4\n",
      "Product 1 cost: 20, evaluation: 40\n",
      "Product 2 cost: 15, evaluation: 30\n",
      "Product 3 cost: 30, evaluation: 50\n",
      "[20, 15, 20]\n",
      "Max difference at index 0\n",
      "Purchased product 1 \n",
      "\n",
      "Customer 5\n",
      "Product 1 cost: 20, evaluation: 10\n",
      "Product 2 cost: 15, evaluation: 30\n",
      "Product 3 cost: 30, evaluation: 50\n",
      "[-10, 15, 20]\n",
      "Max difference at index 2\n",
      "Purchased product 3 \n",
      "\n",
      "Customer 6\n",
      "Product 1 cost: 20, evaluation: 10\n",
      "Product 2 cost: 15, evaluation: 10\n",
      "Product 3 cost: 30, evaluation: 10\n",
      "[-10, -5, -20]\n",
      "Max difference at index 1\n",
      "No Product Purchased \n",
      "\n",
      "Customer 7\n",
      "Product 1 cost: 20, evaluation: 20\n",
      "Product 2 cost: 15, evaluation: 15\n",
      "Product 3 cost: 30, evaluation: 30\n",
      "[0, 0, 0]\n",
      "Max difference at index 0\n",
      "Purchased product 1 \n",
      "\n"
     ]
    },
    {
     "data": {
      "text/plain": [
       "[3, 1, 1]"
      ]
     },
     "execution_count": 11,
     "metadata": {},
     "output_type": "execute_result"
    }
   ],
   "source": [
    "# Version for debugging: with intermediate printing and no function encapsulation\n",
    "prices=[20,15,30]\n",
    "values=[[30,30,20],[40,10,15],[18,13,29],[40,30,50],[10,30,50],[10,10,10],[20,15,30]]\n",
    "def demand(prices,values):\n",
    "    purchases = [0] * len(prices)\n",
    "    for value in values:\n",
    "        differences = []\n",
    "        print(f'Customer {values.index(value)+1}')\n",
    "        for i in range(len(value)):\n",
    "            print(f'Product {i+1} cost: {prices[i]}, evaluation: {value[i]}')\n",
    "            differences.append(value[i]-prices[i])\n",
    "        print(differences)\n",
    "        print(f'Max difference at index {differences.index(max(differences))}')\n",
    "        print(f'Purchased product {differences.index(max(differences))+1}' if max(differences)>= 0 else 'No Product Purchased','\\n')\n",
    "        if max(differences)>=0: purchases[differences.index(max(differences))]+=1\n",
    "    return(purchases)\n",
    "        \n",
    "\n",
    "demand(prices,values)\n",
    "        "
   ]
  },
  {
   "cell_type": "code",
   "execution_count": 12,
   "metadata": {},
   "outputs": [],
   "source": [
    "# Final code: removing intermediate printing and encapuslating in a function\n",
    "def demand(prices,values):\n",
    "    purchases = [0] * len(prices)\n",
    "    for value in values:\n",
    "        differences = []\n",
    "        for i in range(len(value)):\n",
    "            differences.append(value[i]-prices[i])\n",
    "        if max(differences)>=0: purchases[differences.index(max(differences))]+=1\n",
    "    return(purchases)"
   ]
  },
  {
   "cell_type": "code",
   "execution_count": 13,
   "metadata": {},
   "outputs": [
    {
     "name": "stdout",
     "output_type": "stream",
     "text": [
      "Demand for product 1 : 1\n",
      "Demand for product 2 : 1\n",
      "Demand for product 3 : 1\n"
     ]
    }
   ],
   "source": [
    "# Sample run 1\n",
    "prices=[10,8,12]\n",
    "values=[[9,7,11],[10,8,12],[9,8,12],[9,8,13]]\n",
    "ans=demand(prices,values)\n",
    "for i in range(len(prices)):\n",
    "    print('Demand for product',i+1,':',ans[i])"
   ]
  },
  {
   "cell_type": "code",
   "execution_count": 14,
   "metadata": {},
   "outputs": [
    {
     "name": "stdout",
     "output_type": "stream",
     "text": [
      "Demand for product 1 : 3\n",
      "Demand for product 2 : 1\n",
      "Demand for product 3 : 1\n"
     ]
    }
   ],
   "source": [
    "# Sample run 2\n",
    "prices=[20,15,30]\n",
    "values=[[30,30,20],[40,10,15],[18,13,29],[40,30,50],[10,30,50],[10,10,10],[20,15,30]]\n",
    "ans=demand(prices,values)\n",
    "for i in range(len(prices)):\n",
    "    print('Demand for product',i+1,':',ans[i])"
   ]
  },
  {
   "cell_type": "markdown",
   "metadata": {},
   "source": [
    "## Q3. Grocery Store Restocking\n",
    "\n",
    "This question asks you to make a tool that helps a grocery store to analyze their policy for restocking shelves for a certain non-perishable item. Write a function called `analyzeScenario` with three input parameters:\n",
    "\n",
    "- `demandList`: a non-empty list of non-negative integers representing the forecasted daily demand for the item, corresponding to a period of consecutive days. The number of days is `len(demandList)`.\n",
    "- `stockingLevel`: a positive integer representing the maximum number of units that the store will stock on its shelves at any time.\n",
    "- `minimumLevel`: a non-negative integer representing the minimum number of units on the shelves that the store can tolerate without restocking. \n",
    "\n",
    "Assume that the store makes its stocking decision at the end of each day after closing. If the leftover inventory on the shelf at the end of a day is strictly below the \"minimumLevel\", then the store will restock to a full shelf, and the inventory at the beginning of the next day will be equal to \"stockingLevel\". If the leftover inventory at the end of a day is greater than or equal to \"minimumLevel\", then the store will not add anything to the shelf, and the inventory at the beginning of the next day will be the same as the leftover inventory. On the first day, the shelf is full, so the inventory level is equal to \"stockingLevel\".\n",
    "\n",
    "Your function should print (not return) the number of times it would decide to restock during the period represented by the input data. \n",
    "\n",
    "For example, the sample run\n",
    "```python\n",
    "analyzeScenario([3,4,2,5,15,3,9,3,1,3,9],10,3)\n",
    "```\n",
    "should result in exactly the following message printed to screen.\n",
    "```\n",
    "The store needs to restock 4 times.\n",
    "```\n",
    "The following table illustrates the inventory dynamics.\n",
    "\n",
    "| Beginning Inventory | Demand |   Leftover Inventory | Restock? |\n",
    "|--|--|--|--|\n",
    "|10|3 |7 |No |\n",
    "|7 |4 |3 |No |\n",
    "|3 |2 |1 | Yes |\n",
    "|10|5 |5 | No |\n",
    "| 5|15|0 |Yes |\n",
    "|10|3|7 | No|\n",
    "|7|9 | 0 | Yes |\n",
    "|10|3| 7 | No |\n",
    "|7 |1 | 6 | No |\n",
    "|6 | 3|  3 | No |\n",
    "|3 | 9 |  0 | Yes |\n",
    "|**# of times to restock:**|` `|` `| **4**|\n",
    "\n",
    "Note that if demand is greater than the beginning inventory, the leftover inventory is zero. Otherwise, the leftover inventory is equal to the beginning inventory minus the demand. The final answer (the number of times to restock) is equal to the number of Yes's in the last column of the table.\n",
    "\n",
    "**Sample run 2:**\n",
    "```python\n",
    "analyzeScenario([3,4,2,5,15,3,9,3,1,3,9],9,3)\n",
    "```\n",
    "\n",
    "The printed message should be exactly as below:\n",
    "```\n",
    "The store needs to restock 6 times.\n",
    "\n",
    "```\n",
    "\n",
    "**Sample run 3:**\n",
    "```python\n",
    "analyzeScenario([8,3,2,6,9,3,5,2,9,10],9,5)\n",
    "```\n",
    "\n",
    "The printed message should be exactly as below:\n",
    "\n",
    "```\n",
    "The store needs to restock 7 times.\n",
    "\n",
    "```"
   ]
  },
  {
   "cell_type": "markdown",
   "metadata": {},
   "source": [
    "### Applying Algorithmic Thinking:\n",
    "\n",
    "**Step 1. Understand** (Write your summary of the task in this cell:)\n",
    "\n",
    "Find the number of times inventory of a product has to be restocked back to maximum inventory level, given that restocking takes place once current inventory reaches below a minimum permissable level."
   ]
  },
  {
   "cell_type": "markdown",
   "metadata": {},
   "source": [
    "**Step 2. Decompose** (Write your instructions in this Markdown cell)\n",
    "\n",
    "- Start with an inventory at the maximum level.\n",
    "- Iterate through the demand list and keep subtracting each value from the total inventory\n",
    "- Whenever the inventory falls below minimum, restock back to maximum level and count it as one restock\n",
    "- Continue the procedure and find the total number of restocks"
   ]
  },
  {
   "cell_type": "markdown",
   "metadata": {},
   "source": [
    "**Step 3. Analyze** (Write code fragments in separate code cells to implement the trickiest steps)"
   ]
  },
  {
   "cell_type": "code",
   "execution_count": 15,
   "metadata": {},
   "outputs": [
    {
     "name": "stdout",
     "output_type": "stream",
     "text": [
      "3\n",
      "4\n",
      "2\n",
      "5\n",
      "15\n",
      "3\n",
      "9\n",
      "3\n",
      "1\n",
      "3\n",
      "9\n"
     ]
    }
   ],
   "source": [
    "demandlist = [3,4,2,5,15,3,9,3,1,3,9]\n",
    "max_inv = 10\n",
    "min_inv = 3\n",
    "for i in demandlist:\n",
    "    print(i)"
   ]
  },
  {
   "cell_type": "code",
   "execution_count": 16,
   "metadata": {},
   "outputs": [
    {
     "name": "stdout",
     "output_type": "stream",
     "text": [
      "10-3=7\n",
      "7-4=3\n",
      "3-2=1\n",
      "1-5=-4\n",
      "-4-15=-19\n",
      "-19-3=-22\n",
      "-22-9=-31\n",
      "-31-3=-34\n",
      "-34-1=-35\n",
      "-35-3=-38\n",
      "-38-9=-47\n"
     ]
    }
   ],
   "source": [
    "demandlist = [3,4,2,5,15,3,9,3,1,3,9]\n",
    "max_inv = 10\n",
    "min_inv = 3\n",
    "for i in demandlist:\n",
    "    print(f'{max_inv}-{i}={max_inv-i}')\n",
    "    max_inv-=i"
   ]
  },
  {
   "cell_type": "code",
   "execution_count": 17,
   "metadata": {},
   "outputs": [
    {
     "name": "stdout",
     "output_type": "stream",
     "text": [
      "10-3=7\n",
      "7-4=3\n",
      "3-2=1\n",
      "Restocking\n",
      "10-5=5\n",
      "5-15=0\n",
      "Restocking\n",
      "10-3=7\n",
      "7-9=0\n",
      "Restocking\n",
      "10-3=7\n",
      "7-1=6\n",
      "6-3=3\n",
      "3-9=0\n",
      "Restocking\n"
     ]
    }
   ],
   "source": [
    "demand = [3,4,2,5,15,3,9,3,1,3,9]\n",
    "max_inv = 10\n",
    "curr_inv = max_inv\n",
    "min_inv = 3\n",
    "count = 0\n",
    "for i in demand:\n",
    "    print(f'{curr_inv}-{i}={max(0,curr_inv-i)}')\n",
    "    curr_inv = max(0,curr_inv-i)\n",
    "    if curr_inv < min_inv:\n",
    "        curr_inv = max_inv\n",
    "        count += 1\n",
    "        print('Restocking')"
   ]
  },
  {
   "cell_type": "markdown",
   "metadata": {},
   "source": [
    "**Step 4. Synthesize** (Combine your code fragments from Step 3, but do so in an incremental fashion and print intermediate results)"
   ]
  },
  {
   "cell_type": "code",
   "execution_count": 18,
   "metadata": {},
   "outputs": [
    {
     "name": "stdout",
     "output_type": "stream",
     "text": [
      "9-8=1\n",
      "Restocking\n",
      "9-3=6\n",
      "6-2=4\n",
      "Restocking\n",
      "9-6=3\n",
      "Restocking\n",
      "9-9=0\n",
      "Restocking\n",
      "9-3=6\n",
      "6-5=1\n",
      "Restocking\n",
      "9-2=7\n",
      "7-9=0\n",
      "Restocking\n",
      "9-10=0\n",
      "Restocking\n",
      "The store needs to restock 7 times.\n"
     ]
    }
   ],
   "source": [
    "# Code with intermediate printing\n",
    "def analyzeScenario(demandList,stockingLevel,minimumLevel):\n",
    "    currLevel = stockingLevel\n",
    "    count = 0\n",
    "    for i in demandList:\n",
    "        print(f'{currLevel}-{i}={max(0,currLevel-i)}')\n",
    "        currLevel = max(0,currLevel-i)\n",
    "        if currLevel < minimumLevel:\n",
    "            currLevel = stockingLevel\n",
    "            count += 1\n",
    "            print('Restocking')\n",
    "    print(f'The store needs to restock {count} times.')\n",
    "analyzeScenario([8,3,2,6,9,3,5,2,9,10],9,5)"
   ]
  },
  {
   "cell_type": "code",
   "execution_count": 19,
   "metadata": {},
   "outputs": [],
   "source": [
    "# Final code\n",
    "def analyzeScenario(demandList,stockingLevel,minimumLevel):\n",
    "    currLevel = stockingLevel\n",
    "    count = 0\n",
    "    for i in demandList:\n",
    "        currLevel = max(0,currLevel-i)\n",
    "        if currLevel < minimumLevel:\n",
    "            currLevel = stockingLevel\n",
    "            count += 1\n",
    "    print(f'The store needs to restock {count} times.')"
   ]
  },
  {
   "cell_type": "code",
   "execution_count": 20,
   "metadata": {},
   "outputs": [
    {
     "name": "stdout",
     "output_type": "stream",
     "text": [
      "The store needs to restock 4 times.\n"
     ]
    }
   ],
   "source": [
    "# Sample run 1\n",
    "analyzeScenario([3,4,2,5,15,3,9,3,1,3,9],10,3)"
   ]
  },
  {
   "cell_type": "code",
   "execution_count": 21,
   "metadata": {},
   "outputs": [
    {
     "name": "stdout",
     "output_type": "stream",
     "text": [
      "The store needs to restock 6 times.\n"
     ]
    }
   ],
   "source": [
    "# Sample run 2\n",
    "analyzeScenario([3,4,2,5,15,3,9,3,1,3,9],9,3)"
   ]
  },
  {
   "cell_type": "code",
   "execution_count": 22,
   "metadata": {},
   "outputs": [
    {
     "name": "stdout",
     "output_type": "stream",
     "text": [
      "The store needs to restock 7 times.\n"
     ]
    }
   ],
   "source": [
    "# Sample run 3\n",
    "analyzeScenario([8,3,2,6,9,3,5,2,9,10],9,5)"
   ]
  }
 ],
 "metadata": {
  "kernelspec": {
   "display_name": "Python 3",
   "language": "python",
   "name": "python3"
  },
  "language_info": {
   "codemirror_mode": {
    "name": "ipython",
    "version": 3
   },
   "file_extension": ".py",
   "mimetype": "text/x-python",
   "name": "python",
   "nbconvert_exporter": "python",
   "pygments_lexer": "ipython3",
   "version": "3.8.8"
  }
 },
 "nbformat": 4,
 "nbformat_minor": 2
}
