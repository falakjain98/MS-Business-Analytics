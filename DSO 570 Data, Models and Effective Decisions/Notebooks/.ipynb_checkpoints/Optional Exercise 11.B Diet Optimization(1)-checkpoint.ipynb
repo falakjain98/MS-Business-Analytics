{
 "cells": [
  {
   "cell_type": "markdown",
   "metadata": {},
   "source": [
    "## (Optional) Practice Problem: Diet Optimization\n",
    "\n",
    "Luke would like to optimize his diet to minimize cost while satisfying minimal nutritional requirements, as represented by being within a certain range of intake for each kind of nutrition. The first table below shows his favorite foods, as well as the nutrition information per serving and cost per serving. The second table shows the upper and lower bounds on his total daily in-take of each nutrient.\n",
    "\n",
    "| Foods | Calories | Protein | Fat | Sodium | Costs |\n",
    "|--|--|--|--|--|--|\n",
    "| 1. ice cream | 330 | 8 | 15 | 180 | \\$1.59 |\n",
    "| 2. chicken | 420 | 32 | 10 | 300 | \\$2.89 |\n",
    "| 3. pizza | 320 | 15 | 20 | 820 | \\$1.99 |\n",
    "| 4. fries | 380 | 4 | 19 | 270 | \\$1.89 |\n",
    "| 5. macaroni | 320 | 12 | 10 | 830 | \\$2.09 |\n",
    "| 6. milk | 100 | 8 | 2.5 | 125 | \\$0.89 |\n",
    "| 7. salad | 320 | 31 | 2 | 123 | \\$2.49 |\n",
    " \n",
    "|` ` | Calories | Protein | Fat | Sodium | \n",
    "|--|--|--|--|--|\n",
    "| Lower bound | 1800 | 91 | 0 | 0 | \n",
    "| Upper bound | 2200 | 9999 | 65 | 1779 | \n",
    "\n",
    "The above table specifies what is the minimum and maximum amount of calories that Luke would like to have in his diet, as well as the amount of protein, fat and sodium. For example, having only one serving of ice cream and one serving of chicken would not give him enough calories, but having 6 servings of ice cream would be enough calories, but that would be too much fat. Luke is okay with fractional servings, but he would like to make sure that the number of servings of each item is either zero, or between 1 and 3. (For example, 0 or 1.2 servings of pizza are okay, but 0.2 or 3.2 are not.) \n",
    "\n",
    "Write an abstract formulation of a linear optimization model to help him decide his optimal diet. Your formulation must be able to allow an arbitrary set foods and nutrients, and none of the numbers in the above description can be hardcoded."
   ]
  },
  {
   "cell_type": "markdown",
   "metadata": {},
   "source": [
    "\n",
    "**Data:**\n",
    "\n",
    "\n",
    "\n",
    "\n",
    "\n",
    "\n",
    "\n",
    "\n"
   ]
  },
  {
   "cell_type": "markdown",
   "metadata": {},
   "source": [
    "**Decision Variables:** \n",
    "\n",
    "\n",
    "\n",
    "\n",
    "\n",
    "**Objective:**\n",
    "\n",
    "\n",
    "\n",
    "\n",
    "\n",
    "**Constraints:**\n",
    "\n",
    "\n",
    "\n",
    "\n",
    "\n",
    "\n"
   ]
  }
 ],
 "metadata": {
  "kernelspec": {
   "display_name": "Python 3 (ipykernel)",
   "language": "python",
   "name": "python3"
  },
  "language_info": {
   "codemirror_mode": {
    "name": "ipython",
    "version": 3
   },
   "file_extension": ".py",
   "mimetype": "text/x-python",
   "name": "python",
   "nbconvert_exporter": "python",
   "pygments_lexer": "ipython3",
   "version": "3.8.8"
  }
 },
 "nbformat": 4,
 "nbformat_minor": 4
}
