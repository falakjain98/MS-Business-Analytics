{
 "cells": [
  {
   "cell_type": "markdown",
   "id": "147038db",
   "metadata": {},
   "source": [
    "## Exercise 4.4 Debugging Exercise\n",
    "\n",
    "**Fix all bugs in the following student attempts of session exercises from Week 3. You should try to make the code correct using as few changes as possible, after figuring out the errors using code dissection and intermediate printing.** Do not rewrite the code from scratch or copy/paste a correct solution. Refer to previous weeks' handouts for the instructions to these exercises.\n"
   ]
  },
  {
   "cell_type": "markdown",
   "id": "066363ed",
   "metadata": {},
   "source": [
    "### a) Attempt for Exercise 3.1 Python Code for Referral Marketing"
   ]
  },
  {
   "cell_type": "code",
   "execution_count": 15,
   "id": "a6d48ae6",
   "metadata": {},
   "outputs": [],
   "source": [
    "# Code to debug\n",
    "def buyer(nmonths):\n",
    "    \n",
    "    buyers=[1]\n",
    "    for n in nmonths:\n",
    "        buyers = buyers[-1]+buyers[-2]\n",
    "    return buyers[-1]"
   ]
  },
  {
   "cell_type": "code",
   "execution_count": null,
   "id": "f840e8cd",
   "metadata": {},
   "outputs": [],
   "source": [
    "def buyer(nmonths):\n",
    "    \n",
    "    buyers=[1]\n",
    "    for n in range(1,nmonths+1):\n",
    "        if n == 1:\n",
    "            buyers.append(buyers[n-1])\n",
    "        else:\n",
    "            buyers.append(buyers[n-1]+buyers[n-2])\n",
    "    return buyers[-1]"
   ]
  },
  {
   "cell_type": "code",
   "execution_count": 20,
   "id": "4e240803",
   "metadata": {},
   "outputs": [
    {
     "data": {
      "text/plain": [
       "233"
      ]
     },
     "execution_count": 20,
     "metadata": {},
     "output_type": "execute_result"
    }
   ],
   "source": [
    "# Create as many new cells as you need to do code dissection\n",
    "nmonths = 12\n",
    "buyers=[1]\n",
    "for n in range(1,nmonths+1):\n",
    "    if n == 1:\n",
    "        buyers.append(buyers[n-1])\n",
    "    else:\n",
    "        buyers.append(buyers[n-1]+buyers[n-2])\n",
    "buyers[-1]"
   ]
  },
  {
   "cell_type": "code",
   "execution_count": 21,
   "id": "bb0e74f9",
   "metadata": {},
   "outputs": [
    {
     "data": {
      "text/plain": [
       "[1, 1, 2, 3, 5, 8, 13, 21, 34, 55, 89, 144, 233]"
      ]
     },
     "execution_count": 21,
     "metadata": {},
     "output_type": "execute_result"
    }
   ],
   "source": [
    "buyers"
   ]
  },
  {
   "cell_type": "code",
   "execution_count": 22,
   "id": "dc5054d4",
   "metadata": {},
   "outputs": [
    {
     "data": {
      "text/plain": [
       "233"
      ]
     },
     "execution_count": 22,
     "metadata": {},
     "output_type": "execute_result"
    }
   ],
   "source": [
    "# Test code\n",
    "buyer(12)"
   ]
  },
  {
   "cell_type": "markdown",
   "id": "b216027e",
   "metadata": {},
   "source": [
    "### b) Attempt for Exercise 3.2 Python Code for Epidemic Capacity Planning"
   ]
  },
  {
   "cell_type": "code",
   "execution_count": null,
   "id": "33b43fa8",
   "metadata": {},
   "outputs": [],
   "source": [
    "# Code to debug\n",
    "def capacityNeeded(arrivals):\n",
    "    maxdemand=[arrivals[0]]\n",
    "    week=0\n",
    "    for i in range(0,(len(arrivals))):\n",
    "        week+=1\n",
    "        if i>=2:\n",
    "            demand=arrivals[i]+arrivals[i-1]+arrivals[i-2]\n",
    "        if i>=1:\n",
    "            demand=arrivals[i]+arrivals[i-1]\n",
    "     #   else:\n",
    "    #      demand=arrivals[i]\n",
    "        if maxdemand<demand:\n",
    "            maxdemand=demand\n",
    "    print(maxdemand)"
   ]
  },
  {
   "cell_type": "code",
   "execution_count": 39,
   "id": "fb83cea4",
   "metadata": {},
   "outputs": [],
   "source": [
    "def capacityNeeded(arrivals):\n",
    "    print('Week\\tArrival\\tDemand\\tMax Demand')\n",
    "    maxdemand=arrivals[0]\n",
    "    week=0\n",
    "    for i in range(0,(len(arrivals))):\n",
    "        week+=1\n",
    "        if i>=2:\n",
    "            demand=arrivals[i]+arrivals[i-1]+arrivals[i-2]\n",
    "        elif i>=1:\n",
    "            demand=arrivals[i]+arrivals[i-1]\n",
    "        else:\n",
    "            demand=arrivals[i]\n",
    "        if maxdemand<demand:\n",
    "            maxdemand=demand\n",
    "        print(f'{week}\\t{arrivals[i]}\\t{demand}\\t{maxdemand}')\n",
    "    return(maxdemand)"
   ]
  },
  {
   "cell_type": "code",
   "execution_count": 40,
   "id": "b9aeb3be",
   "metadata": {},
   "outputs": [
    {
     "name": "stdout",
     "output_type": "stream",
     "text": [
      "22\n"
     ]
    }
   ],
   "source": [
    "# Create as many new cells as you need to do code dissection\n",
    "arrivals = [5,8,3,10,7,4,9,5,8]\n",
    "maxdemand=arrivals[0]\n",
    "week=0\n",
    "for i in range(0,(len(arrivals))):\n",
    "    week+=1\n",
    "    if i>=2:\n",
    "        demand=arrivals[i]+arrivals[i-1]+arrivals[i-2]\n",
    "    elif i>=1:\n",
    "        demand=arrivals[i]+arrivals[i-1]\n",
    "    else:\n",
    "        demand=arrivals[i]\n",
    "    if maxdemand<demand:\n",
    "        maxdemand=demand\n",
    "print(maxdemand)"
   ]
  },
  {
   "cell_type": "code",
   "execution_count": 41,
   "id": "af597b99",
   "metadata": {},
   "outputs": [
    {
     "name": "stdout",
     "output_type": "stream",
     "text": [
      "Week\tArrival\tDemand\tMax Demand\n",
      "1\t5\t5\t5\n",
      "2\t8\t13\t13\n",
      "3\t3\t16\t16\n",
      "4\t10\t21\t21\n",
      "5\t7\t20\t21\n",
      "6\t4\t21\t21\n",
      "7\t9\t20\t21\n",
      "8\t5\t18\t21\n",
      "9\t8\t22\t22\n",
      "Capacity Needed: 22\n"
     ]
    }
   ],
   "source": [
    "# Test code 1\n",
    "arrivals=[5,8,3,10,7,4,9,5,8]\n",
    "print('Capacity Needed:',capacityNeeded(arrivals))"
   ]
  },
  {
   "cell_type": "code",
   "execution_count": 42,
   "id": "89ac1adb",
   "metadata": {},
   "outputs": [
    {
     "name": "stdout",
     "output_type": "stream",
     "text": [
      "Week\tArrival\tDemand\tMax Demand\n",
      "1\t5\t5\t5\n",
      "2\t8\t13\t13\n",
      "3\t3\t16\t16\n",
      "4\t10\t21\t21\n",
      "5\t6\t19\t21\n",
      "6\t11\t27\t27\n",
      "7\t9\t26\t27\n",
      "8\t12\t32\t32\n",
      "9\t15\t36\t36\n",
      "10\t9\t36\t36\n",
      "11\t5\t29\t36\n",
      "12\t7\t21\t36\n"
     ]
    },
    {
     "data": {
      "text/plain": [
       "36"
      ]
     },
     "execution_count": 42,
     "metadata": {},
     "output_type": "execute_result"
    }
   ],
   "source": [
    "# Test code 2\n",
    "capacityNeeded([5,8,3,10,6,11,9,12,15,9,5,7])"
   ]
  },
  {
   "cell_type": "markdown",
   "id": "483550e3",
   "metadata": {},
   "source": [
    "### c) Attempt for Exercise 3.3 Python Code for Demand Estimation"
   ]
  },
  {
   "cell_type": "code",
   "execution_count": null,
   "id": "9c240609",
   "metadata": {},
   "outputs": [],
   "source": [
    "def demand(priceVector,values):\n",
    "    for i in values:\n",
    "        product1=[]\n",
    "        product2=[]\n",
    "        diff0=values[0]-priceVector[0]\n",
    "        diff1=values[1]-priceVector[1]\n",
    "        if diff0<0 and diff1<0:\n",
    "            continue\n",
    "        elif diff0>=diff1:\n",
    "            product1.append(1)\n",
    "        else:\n",
    "            product2.append(1)\n",
    "        totalproduct=product1+product2\n",
    "        return totalproduct"
   ]
  },
  {
   "cell_type": "code",
   "execution_count": 1,
   "id": "4de0057e",
   "metadata": {},
   "outputs": [],
   "source": [
    "def demand(priceVector,values):\n",
    "    product1=[0]\n",
    "    product2=[0]\n",
    "    for i in values:\n",
    "        diff0=i[0]-priceVector[0]\n",
    "        diff1=i[1]-priceVector[1]\n",
    "        if diff0<0 and diff1<0:\n",
    "            continue\n",
    "        elif diff0>=diff1:\n",
    "            product1[0]+=1\n",
    "        else:\n",
    "            product2[0]+=1\n",
    "        totalproduct=product1+product2\n",
    "    return(totalproduct)"
   ]
  },
  {
   "cell_type": "code",
   "execution_count": 56,
   "id": "088b9643",
   "metadata": {},
   "outputs": [
    {
     "name": "stdout",
     "output_type": "stream",
     "text": [
      "0\n",
      "-5\n",
      "Product 1 bought\n",
      "-7\n",
      "-2\n",
      "5\n",
      "0\n",
      "Product 1 bought\n",
      "5\n",
      "10\n",
      "Product 2 bought\n"
     ]
    },
    {
     "data": {
      "text/plain": [
       "[2, 1]"
      ]
     },
     "execution_count": 56,
     "metadata": {},
     "output_type": "execute_result"
    }
   ],
   "source": [
    "# Create as many new cells as you need to do code dissection\n",
    "values=[[25,15],[18,18],[30,20],[30,30]]\n",
    "priceVector=[25,20]\n",
    "product1=[0]\n",
    "product2=[0]\n",
    "for i in values:\n",
    "    diff0=i[0]-priceVector[0]\n",
    "    print(diff0)\n",
    "    diff1=i[1]-priceVector[1]\n",
    "    print(diff1)\n",
    "    if diff0<0 and diff1<0:\n",
    "        continue\n",
    "    elif diff0>=diff1:\n",
    "        product1[0]+=1\n",
    "        print('Product 1 bought')\n",
    "    else:\n",
    "        product2[0]+=1\n",
    "        print('Product 2 bought')\n",
    "    totalproduct=product1+product2\n",
    "totalproduct"
   ]
  },
  {
   "cell_type": "code",
   "execution_count": 2,
   "id": "0aec27ab",
   "metadata": {},
   "outputs": [
    {
     "data": {
      "text/plain": [
       "[2, 1]"
      ]
     },
     "execution_count": 2,
     "metadata": {},
     "output_type": "execute_result"
    }
   ],
   "source": [
    "# Test code 1\n",
    "values=[[25,15],[18,18],[30,20],[30,30]]\n",
    "priceVector=[25,20]\n",
    "demand(priceVector,values)"
   ]
  },
  {
   "cell_type": "code",
   "execution_count": 3,
   "id": "4faa541d",
   "metadata": {},
   "outputs": [
    {
     "data": {
      "text/plain": [
       "[3, 2]"
      ]
     },
     "execution_count": 3,
     "metadata": {},
     "output_type": "execute_result"
    }
   ],
   "source": [
    "# Test code 2\n",
    "values=[[25,15],[18,18],[25,20],[25,35],[18,20],[26,21]]\n",
    "priceVector=[25,20]\n",
    "demand(priceVector,values)"
   ]
  },
  {
   "cell_type": "code",
   "execution_count": null,
   "id": "d1ac5264",
   "metadata": {},
   "outputs": [],
   "source": []
  }
 ],
 "metadata": {
  "kernelspec": {
   "display_name": "Python 3",
   "language": "python",
   "name": "python3"
  },
  "language_info": {
   "codemirror_mode": {
    "name": "ipython",
    "version": 3
   },
   "file_extension": ".py",
   "mimetype": "text/x-python",
   "name": "python",
   "nbconvert_exporter": "python",
   "pygments_lexer": "ipython3",
   "version": "3.8.8"
  }
 },
 "nbformat": 4,
 "nbformat_minor": 5
}
