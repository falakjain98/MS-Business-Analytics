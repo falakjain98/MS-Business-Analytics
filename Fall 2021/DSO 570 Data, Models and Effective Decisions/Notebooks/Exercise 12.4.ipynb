{
 "cells": [
  {
   "cell_type": "code",
   "execution_count": 65,
   "id": "5702000a",
   "metadata": {},
   "outputs": [],
   "source": [
    "# Final Code\n",
    "import pandas as pd\n",
    "import numpy as np\n",
    "from gurobipy import Model, GRB\n",
    "\n",
    "def computeSchedule(inputFile, k, outputFile):\n",
    "    preferences = pd.read_excel(inputFile, sheet_name = \"Preferences\",index_col = 0)\n",
    "    reqs = pd.read_excel(inputFile, sheet_name = \"Requirements\", index_col = 0)\n",
    "    nurses = preferences.index\n",
    "    shifts = reqs.index\n",
    "    night_shifts = reqs.index[2::3]\n",
    "    mod = Model()\n",
    "    x = mod.addVars(nurses,shifts,vtype = GRB.BINARY,name = 'x')\n",
    "    L = mod.addVar()\n",
    "    mod.setObjective(sum(preferences.loc[n,s]*x[n,s] for n in nurses for s in shifts), sense = GRB.MAXIMIZE)\n",
    "    # shift requirement\n",
    "    for s in shifts:\n",
    "        mod.addConstr(sum(x[n,s] for n in nurses) == reqs.loc[s,'persons'])\n",
    "    # no consecutive shifts\n",
    "    for n in nurses:\n",
    "        for s in shifts[:-1]:\n",
    "            mod.addConstr(x[n,s] + x[n,s+1] <= 1)\n",
    "    # rest before night shift\n",
    "    for n in nurses:\n",
    "        for s in night_shifts:\n",
    "            mod.addConstr(x[n,s] + x[n,s-2] <= 1)\n",
    "    # rest after night shift\n",
    "    for n in nurses:\n",
    "        for s in night_shifts[:-1]:\n",
    "            mod.addConstr(x[n,s] + x[n,s+2] <= 1)\n",
    "    # preferences:\n",
    "    for n in nurses:\n",
    "        for s in shifts:\n",
    "            mod.addConstr(x[n,s] <= preferences.loc[n,s])\n",
    "    # fairness:\n",
    "    for n in nurses:\n",
    "        mod.addConstr(sum(x[n,s] for s in shifts) <= L+k)\n",
    "        mod.addConstr(sum(x[n,s] for s in shifts) >= L)\n",
    "    mod.setParam(\"OutputFlag\", False)\n",
    "    mod.optimize()\n",
    "    df = pd.DataFrame(index = preferences.index,columns = preferences.columns)\n",
    "    for n in nurses:\n",
    "        for s in shifts:\n",
    "            df.loc[n,s] = int(x[n,s].x)\n",
    "    df1 = pd.DataFrame({'Objective':[mod.objVal],'k':[k],'Average Preference Score':[mod.ObjVal/sum(df.sum())]})\n",
    "    writer = pd.ExcelWriter(outputFile)\n",
    "    df.to_excel(writer, sheet_name = \"Schedule\", index = True)\n",
    "    df1.to_excel(writer, sheet_name = \"Summary\", index = False)\n",
    "    writer.save()"
   ]
  },
  {
   "cell_type": "code",
   "execution_count": 66,
   "id": "6a0568ed",
   "metadata": {},
   "outputs": [],
   "source": [
    "computeSchedule('12-scheduling-input-1.xlsx',3,'12-scheduling-myOutput-1_Falak.xlsx')\n",
    "computeSchedule('12-scheduling-input-2.xlsx',1,'12-scheduling-myOutput-2_Falak.xlsx')"
   ]
  }
 ],
 "metadata": {
  "kernelspec": {
   "display_name": "Python 3 (ipykernel)",
   "language": "python",
   "name": "python3"
  },
  "language_info": {
   "codemirror_mode": {
    "name": "ipython",
    "version": 3
   },
   "file_extension": ".py",
   "mimetype": "text/x-python",
   "name": "python",
   "nbconvert_exporter": "python",
   "pygments_lexer": "ipython3",
   "version": "3.8.8"
  }
 },
 "nbformat": 4,
 "nbformat_minor": 5
}
