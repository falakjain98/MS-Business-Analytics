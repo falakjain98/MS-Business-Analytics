{
 "cells": [
  {
   "cell_type": "markdown",
   "id": "e2a47bce",
   "metadata": {},
   "source": [
    "## Exercise 3.3: Python Code for Demand Estimation\n",
    "\n",
    "Complete Steps 3 and 4 of algorithmic thinking for the problem below.\n",
    "\n",
    "### Sample Problem: Demand Estimation for Substitutable Products\n",
    "\n",
    "Write a function named \"demand\" with two input arguments:\n",
    "\n",
    "- `priceVector`: a list of length 2 containing two positive numbers, corresponding to the proposed prices for the two products.\n",
    "- `values`: a list in which each element is a list of length 2, corresponding to the valuation of a customer for the two products.\n",
    "\n",
    "\n",
    "The function should return a list of two numbers, representing the number of customers purchasing each product. Assume the same customer behavior as in the paper coding exercise.\n",
    "\n",
    "\n",
    "**Sample run:** \n",
    "\n",
    "```python\n",
    "values=[[25,15],[18,18],[30,20],[30,30]]\n",
    "priceVector=[25,20]\n",
    "demand(priceVector,values)\n",
    "```\n",
    "\n",
    "**Correct result:**\n",
    "\n",
    "```\n",
    "[2, 1]\n",
    "```\n",
    "\n",
    "\n",
    "\n"
   ]
  },
  {
   "cell_type": "markdown",
   "id": "5b92864f",
   "metadata": {},
   "source": [
    "## Solutions\n",
    "\n",
    "**Steps 1 and 2:** Refer to the in-class exercise.\n",
    "\n",
    "**Step 3. Analyze:** For each part of the instructions above, plan how you would carry them out using Python. For the trickest parts, write fragments of runnable Python code to implement them, while creating sample intermediate inputs to test each fragment separately on the computer. "
   ]
  },
  {
   "cell_type": "code",
   "execution_count": 6,
   "id": "0a3f69de",
   "metadata": {},
   "outputs": [],
   "source": [
    "curVal = [25,15]\n",
    "priceVector = [25,10]\n",
    "\n",
    "diff = []\n",
    "diff.append(curVal[0]-priceVector[0])\n",
    "diff.append(curVal[1]-priceVector[1])"
   ]
  },
  {
   "cell_type": "code",
   "execution_count": 7,
   "id": "885c14f3",
   "metadata": {},
   "outputs": [
    {
     "name": "stdout",
     "output_type": "stream",
     "text": [
      "Purchase Product 1\n"
     ]
    }
   ],
   "source": [
    "if diff[0]<0 and diff[1]<0:\n",
    "    print('Purchase Nothing')\n",
    "elif diff[0]<diff[1]:\n",
    "    print('Purchase Product 1')\n",
    "else:\n",
    "    print('Purchase Product 0')"
   ]
  },
  {
   "cell_type": "code",
   "execution_count": 27,
   "id": "1b9c8b94",
   "metadata": {},
   "outputs": [
    {
     "name": "stdout",
     "output_type": "stream",
     "text": [
      "[25, 15]\n",
      "[18, 18]\n",
      "[30, 20]\n",
      "[30, 30]\n"
     ]
    }
   ],
   "source": [
    "curVal=[[25,15],[18,18],[30,20],[30,30]]\n",
    "for Val in curVal:\n",
    "    print(Val)"
   ]
  },
  {
   "cell_type": "markdown",
   "id": "52e799a1",
   "metadata": {},
   "source": [
    "**Step 4. Synthesize:** Following the instructions from Step 2 and the code fragments from Step 3, write complete Python code to implement the instructions and solve the problem. You should do this in an incremental fashion and print intermediate outputs as you go to make sure that each part of the code matches your expectations."
   ]
  },
  {
   "cell_type": "code",
   "execution_count": 31,
   "id": "f2083b71",
   "metadata": {},
   "outputs": [
    {
     "name": "stdout",
     "output_type": "stream",
     "text": [
      "Customer: 1 : differences are [0, -5]\n",
      "Incrementing Product 0 for customer 1\n",
      "Customer: 2 : differences are [-7, -2]\n",
      "Customer: 3 : differences are [5, 0]\n",
      "Incrementing Product 0 for customer 3\n",
      "Customer: 4 : differences are [5, 10]\n",
      "Incrementing Product 1 for customer 4\n"
     ]
    },
    {
     "data": {
      "text/plain": [
       "[2, 1]"
      ]
     },
     "execution_count": 31,
     "metadata": {},
     "output_type": "execute_result"
    }
   ],
   "source": [
    "# Version for debugging: with intermediate printing and no function encapsulation\n",
    "def demand(priceVector,values):\n",
    "    products = [0,0]\n",
    "    for i in values:\n",
    "        idx = values.index(i)\n",
    "        d = []\n",
    "        d.append(i[0]-priceVector[0])\n",
    "        d.append(i[1]-priceVector[1])\n",
    "        print('Customer:',idx+1,':','differences are',d)\n",
    "        if d[0]>=0 or d[1]>=0:\n",
    "            if d[0]<d[1]:\n",
    "                products[1] += 1\n",
    "                print(f'Incrementing Product 1 for customer {idx+1}')\n",
    "            else:\n",
    "                products[0] += 1\n",
    "                print(f'Incrementing Product 0 for customer {idx+1}')\n",
    "    return(products)\n",
    "values=[[25,15],[18,18],[30,20],[30,30]]\n",
    "priceVector=[25,20]\n",
    "demand(priceVector,values)"
   ]
  },
  {
   "cell_type": "code",
   "execution_count": 25,
   "id": "ed0fc7d6",
   "metadata": {},
   "outputs": [],
   "source": [
    "# Final code (modify the above after it already works)\n",
    "def demand(priceVector,values):\n",
    "    products = [0,0]\n",
    "    for i in values:\n",
    "        idx = values.index(i)\n",
    "        d = []\n",
    "        d.append(i[0]-priceVector[0])\n",
    "        d.append(i[1]-priceVector[1])\n",
    "        if d[0]>=0 or d[1]>=0:\n",
    "            if d[0]<d[1]:\n",
    "                products[1] += 1\n",
    "            else:\n",
    "                products[0] += 1\n",
    "    return(products)"
   ]
  },
  {
   "cell_type": "code",
   "execution_count": 26,
   "id": "4b12a0cf",
   "metadata": {},
   "outputs": [
    {
     "data": {
      "text/plain": [
       "[2, 1]"
      ]
     },
     "execution_count": 26,
     "metadata": {},
     "output_type": "execute_result"
    }
   ],
   "source": [
    "# Test code\n",
    "values=[[25,15],[18,18],[30,20],[30,30]]\n",
    "priceVector=[25,20]\n",
    "demand(priceVector,values)"
   ]
  }
 ],
 "metadata": {
  "kernelspec": {
   "display_name": "Python 3",
   "language": "python",
   "name": "python3"
  },
  "language_info": {
   "codemirror_mode": {
    "name": "ipython",
    "version": 3
   },
   "file_extension": ".py",
   "mimetype": "text/x-python",
   "name": "python",
   "nbconvert_exporter": "python",
   "pygments_lexer": "ipython3",
   "version": "3.8.8"
  }
 },
 "nbformat": 4,
 "nbformat_minor": 5
}
