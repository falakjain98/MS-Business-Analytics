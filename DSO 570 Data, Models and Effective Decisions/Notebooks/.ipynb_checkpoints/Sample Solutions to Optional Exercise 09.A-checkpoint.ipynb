{
 "cells": [
  {
   "cell_type": "markdown",
   "id": "46241d14",
   "metadata": {},
   "source": [
    "## (Optional) Practice Problem: Investment Planning\n",
    "\n",
    "Finco Investment Corporation wishes to determine an investment strategy for the firm for the next 3 years. At present (Year 0), $100,000$ is available for investment. The goal is to maximize the cash on hand at the end of Year 3. \n",
    "\n",
    "There are five investment options, each of which allows you to put in an arbitrary amount of principal at a given time, and will payoff a certain percentage of the principal at a later time. (The payoff includes all of the money you will get back; you won't get back the principal at a later time.) The five options are summarized below:\n",
    "\n",
    "|Investment option | Time of investment | Payoff schedule |\n",
    "|--|--|--|\n",
    "|A | Year 0 | 50\\% in Year 1 and 100\\% in Year 2 |\n",
    "|B | Year 1 | 50\\% in Year 2 and 100\\% in Year 3 |\n",
    "|C|  Year 0 | 120\\% in Year 1  |\n",
    "|D| Year 0 | 190\\% in Year 3 |\n",
    "|E| Year 2 | 150\\% in Year 3 |\n",
    "\n",
    "To ensure that the company’s portfolio is diversified, Finco required that at most \\$75,000 be placed in any single investment option. Payoffs happen at the beginning of the year, so can be reinvested in the same year. For example, the positive cash flow received from Option C in Year 1 can be reinvested immediately in Option B. However, Finco cannot borrow funds, so net cash on hand must be non-negative in all years. Formulate this as a linear optimization problem."
   ]
  },
  {
   "cell_type": "markdown",
   "id": "2e2179ff",
   "metadata": {},
   "source": [
    "###  English Description\n",
    "\n",
    "**Decision:** How much to invest in each of the five options? (This determines the amount of cash on hand at the end of each year.)\n",
    "\n",
    "**Objective:** Maximize cash at hand at the end of year 3.\n",
    "\n",
    "**Constraints:**\n",
    "\n",
    "- Cash flow: Cash at end of a year is equal to cash at beginning plus returns minus investments.\n",
    "- Amount invested in each option is no more than 75000.\n",
    "- Non-negative cash on hand at the end of each year.\n"
   ]
  },
  {
   "cell_type": "markdown",
   "id": "f0b6a066",
   "metadata": {},
   "source": [
    "### Concrete Formulation\n",
    "\n",
    "**Decision Variables:**\n",
    "\n",
    "- Let $x_A, x_B, x_C, x_D, x_E$ denote how much to invest in each of the five options. (continuous)\n",
    "- Let $y_0,y_1,y_2,y_3$ denote the cash at hand at the end of each year. (Continuous)\n",
    "\n",
    "**Objective:**\n",
    "\n",
    "$$\\text{Maximize: }  y_3 $$\n",
    "\n",
    "**Constraints:**\n",
    "\n",
    "$$\\begin{aligned}\n",
    "\\text{(Cash flow in year 0)} && 100000 - x_A-x_C-x_D &= y_0 \\\\\n",
    "\\text{(Cash flow in year 1)} && y_0 + 0.5x_A + 1.2x_C - x_B &= y_1 \\\\\n",
    "\\text{(Cash flow in year 2)} && y_1 + x_A + 0.5x_B - x_E &= y_2 \\\\\n",
    "\\text{(Cash flow in year 3)} && y_2 + x_B + 1.9x_D + 1.5x_E &= y3\\\\\n",
    "\\text{(Limit on investment)} && x_A, x_B, x_C, x_D, x_E & \\le 75000 \\\\\n",
    "\\text{(Non-negative cash on hand)} && y_0, y_1, y_2, y_3 & \\ge 0 \\\\\n",
    "\\text{(Non-negative investments)} && x_A, x_B, x_C, x_D, x_E & \\ge 0 \n",
    "\\end{aligned}$$\n"
   ]
  }
 ],
 "metadata": {
  "kernelspec": {
   "display_name": "Python 3 (ipykernel)",
   "language": "python",
   "name": "python3"
  },
  "language_info": {
   "codemirror_mode": {
    "name": "ipython",
    "version": 3
   },
   "file_extension": ".py",
   "mimetype": "text/x-python",
   "name": "python",
   "nbconvert_exporter": "python",
   "pygments_lexer": "ipython3",
   "version": "3.8.8"
  }
 },
 "nbformat": 4,
 "nbformat_minor": 5
}
