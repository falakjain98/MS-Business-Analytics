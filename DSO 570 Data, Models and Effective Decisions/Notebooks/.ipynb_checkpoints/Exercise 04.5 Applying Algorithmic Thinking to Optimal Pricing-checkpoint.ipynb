{
 "cells": [
  {
   "cell_type": "markdown",
   "id": "ffcb7040",
   "metadata": {},
   "source": [
    "## Exercise 4.5 Applying Algorithmic Thinking to Optimal Pricing\n",
    "\n",
    "Write a function \"optPrice\" with two input arguments:\n",
    "\n",
    "- `priceList`: a list of proposed prices.\n",
    "- `valueList`: a list of numbers. Each number represents the willingness to pay for the product from a particular customer.\n",
    "\n",
    "For a given price, the demand is equal to the number of customers with willingness to pay greater than or equal to the price. The function should iterate through the list of prices, and compute the estimated revenue for each price, which is equal to the price times the demand. \n",
    "\n",
    "The function should return two objects: the first is the best price found. The second object is a dictionary mapping each price to the estimated revenue for that price. \n",
    "\n",
    "**Sample run:**\n",
    "\n",
    "```python\n",
    "priceList=range(0,36,5)\n",
    "valueList=[32,10,15,18,25,40,50,43]\n",
    "bestPrice,revenueDict=optPrice(priceList,valueList)\n",
    "print('Best price:',bestPrice)\n",
    "print('Revenue dictionary:',revenueDict)\n",
    "```\n",
    "\n",
    "**Correct output:**\n",
    "\n",
    "```\n",
    "Best price: 25\n",
    "Revenue dictionary: {0: 0, 5: 40, 10: 80, 15: 105, 20: 100, 25: 125, 30: 120, 35: 105}\n",
    "```\n",
    "\n",
    "Applying the four steps of algorithmic thinking to the above problem. \n",
    "\n",
    "## Solutions:"
   ]
  },
  {
   "cell_type": "markdown",
   "id": "9e63688a",
   "metadata": {},
   "source": [
    "**Step 1. Understand** (Write your summary in this Markdown cell)\n",
    "\n",
    "Given a list of proposed prices and the willingness of customers to pay, find the total revenue at every price point. Plot the revenue values to find the optimal selling price."
   ]
  },
  {
   "cell_type": "markdown",
   "id": "656a5952",
   "metadata": {},
   "source": [
    "**Step 2. Decompose** (Write your instructions in this Markdown cell)\n",
    "\n",
    "- For every price point, find the differences between the customer valuation and that price point.\n",
    "- If the difference for a customer is non-negative, the customer buys the product and therefore demand increments by 1 unit.\n",
    "- Find the total demand, calculate revenue as product of the price point and demand.\n",
    "- Plot revenue for every price point and find the optimal price point where revenue is optimal."
   ]
  },
  {
   "cell_type": "markdown",
   "id": "083cfac8",
   "metadata": {},
   "source": [
    "**Step 3. Analyze** (Write code fragments in separate code cells to implement the trickiest steps)"
   ]
  },
  {
   "cell_type": "code",
   "execution_count": 2,
   "id": "6b6c9725",
   "metadata": {},
   "outputs": [
    {
     "name": "stdout",
     "output_type": "stream",
     "text": [
      "32\n",
      "10\n",
      "15\n",
      "18\n",
      "25\n",
      "40\n",
      "50\n",
      "43\n",
      "27\n",
      "5\n",
      "10\n",
      "13\n",
      "20\n",
      "35\n",
      "45\n",
      "38\n",
      "22\n",
      "0\n",
      "5\n",
      "8\n",
      "15\n",
      "30\n",
      "40\n",
      "33\n",
      "17\n",
      "-5\n",
      "0\n",
      "3\n",
      "10\n",
      "25\n",
      "35\n",
      "28\n",
      "12\n",
      "-10\n",
      "-5\n",
      "-2\n",
      "5\n",
      "20\n",
      "30\n",
      "23\n",
      "7\n",
      "-15\n",
      "-10\n",
      "-7\n",
      "0\n",
      "15\n",
      "25\n",
      "18\n",
      "2\n",
      "-20\n",
      "-15\n",
      "-12\n",
      "-5\n",
      "10\n",
      "20\n",
      "13\n",
      "-3\n",
      "-25\n",
      "-20\n",
      "-17\n",
      "-10\n",
      "5\n",
      "15\n",
      "8\n"
     ]
    }
   ],
   "source": [
    "priceList=list(range(0,40,5))\n",
    "valueList=[32,10,15,18,25,40,50,43]\n",
    "for i in priceList:\n",
    "    for j in valueList:\n",
    "        print(j-i)"
   ]
  },
  {
   "cell_type": "code",
   "execution_count": 5,
   "id": "c5099453",
   "metadata": {},
   "outputs": [
    {
     "name": "stdout",
     "output_type": "stream",
     "text": [
      "At selling price of 0, the demand is 8.\n",
      "At selling price of 5, the demand is 8.\n",
      "At selling price of 10, the demand is 8.\n",
      "At selling price of 15, the demand is 7.\n",
      "At selling price of 20, the demand is 5.\n",
      "At selling price of 25, the demand is 5.\n",
      "At selling price of 30, the demand is 4.\n",
      "At selling price of 35, the demand is 3.\n"
     ]
    }
   ],
   "source": [
    "priceList=list(range(0,40,5))\n",
    "valueList=[32,10,15,18,25,40,50,43]\n",
    "demand = 0\n",
    "for i in priceList:\n",
    "    for j in valueList:\n",
    "        if j-i >= 0:\n",
    "            demand += 1\n",
    "    print(f'At selling price of {i}, the demand is {demand}.')\n",
    "    demand = 0"
   ]
  },
  {
   "cell_type": "code",
   "execution_count": 6,
   "id": "b6299026",
   "metadata": {},
   "outputs": [
    {
     "name": "stdout",
     "output_type": "stream",
     "text": [
      "At selling price of 0, the demand is 8 and revenue is 0.\n",
      "At selling price of 5, the demand is 8 and revenue is 40.\n",
      "At selling price of 10, the demand is 8 and revenue is 80.\n",
      "At selling price of 15, the demand is 7 and revenue is 105.\n",
      "At selling price of 20, the demand is 5 and revenue is 100.\n",
      "At selling price of 25, the demand is 5 and revenue is 125.\n",
      "At selling price of 30, the demand is 4 and revenue is 120.\n",
      "At selling price of 35, the demand is 3 and revenue is 105.\n"
     ]
    }
   ],
   "source": [
    "priceList=list(range(0,40,5))\n",
    "valueList=[32,10,15,18,25,40,50,43]\n",
    "demand = 0\n",
    "for i in priceList:\n",
    "    for j in valueList:\n",
    "        if j-i >= 0:\n",
    "            demand += 1\n",
    "    print(f'At selling price of {i}, the demand is {demand} and revenue is {i*demand}.')\n",
    "    demand = 0"
   ]
  },
  {
   "cell_type": "markdown",
   "id": "3e8548a9",
   "metadata": {},
   "source": [
    "**Step 4. Synthesis** \n"
   ]
  },
  {
   "cell_type": "code",
   "execution_count": 28,
   "id": "3f5d65c0",
   "metadata": {},
   "outputs": [
    {
     "name": "stdout",
     "output_type": "stream",
     "text": [
      "At selling price of 0, the demand is 8 and revenue is 0.\n",
      "At selling price of 5, the demand is 8 and revenue is 40.\n",
      "At selling price of 10, the demand is 8 and revenue is 80.\n",
      "At selling price of 15, the demand is 7 and revenue is 105.\n",
      "At selling price of 20, the demand is 5 and revenue is 100.\n",
      "At selling price of 25, the demand is 5 and revenue is 125.\n",
      "At selling price of 30, the demand is 4 and revenue is 120.\n",
      "At selling price of 35, the demand is 3 and revenue is 105.\n",
      "25\n"
     ]
    },
    {
     "data": {
      "text/plain": [
       "{0: 0, 5: 40, 10: 80, 15: 105, 20: 100, 25: 125, 30: 120, 35: 105}"
      ]
     },
     "execution_count": 28,
     "metadata": {},
     "output_type": "execute_result"
    }
   ],
   "source": [
    "# Version for debugging: with intermediate printing and no function encapsulation\n",
    "priceList=list(range(0,40,5))\n",
    "valueList=[32,10,15,18,25,40,50,43]\n",
    "demand = 0\n",
    "maxDemand = 0\n",
    "rev_dict = {}\n",
    "for i in priceList:\n",
    "    for j in valueList:\n",
    "        if j-i >= 0:\n",
    "            demand += 1\n",
    "    if demand>maxDemand:\n",
    "        maxPrice = i\n",
    "    print(f'At selling price of {i}, the demand is {demand} and revenue is {i*demand}.')\n",
    "    rev_dict[i]=i*demand\n",
    "    demand = 0\n",
    "print(max(rev_dict,key = rev_dict.get))\n",
    "rev_dict"
   ]
  },
  {
   "cell_type": "code",
   "execution_count": 29,
   "id": "73b571fe",
   "metadata": {},
   "outputs": [],
   "source": [
    "# Final code \n",
    "def optPrice(priceList,valueList):\n",
    "    demand = 0\n",
    "    rev_dict = {}\n",
    "    for i in priceList:\n",
    "        for j in valueList:\n",
    "            if j-i >= 0:\n",
    "                demand += 1\n",
    "        rev_dict[i]=i*demand\n",
    "        demand = 0\n",
    "    maxPrice = max(rev_dict,key = rev_dict.get)\n",
    "    return(maxPrice,rev_dict)"
   ]
  },
  {
   "cell_type": "code",
   "execution_count": 30,
   "id": "702646b3",
   "metadata": {},
   "outputs": [
    {
     "name": "stdout",
     "output_type": "stream",
     "text": [
      "Best price: 25\n",
      "Revenue dictionary: {0: 0, 5: 40, 10: 80, 15: 105, 20: 100, 25: 125, 30: 120, 35: 105}\n"
     ]
    }
   ],
   "source": [
    "# Test code\n",
    "priceList=list(range(0,40,5))\n",
    "valueList=[32,10,15,18,25,40,50,43]\n",
    "bestPrice,revenueDict=optPrice(priceList,valueList)\n",
    "print('Best price:',bestPrice)\n",
    "print('Revenue dictionary:',revenueDict)"
   ]
  },
  {
   "cell_type": "code",
   "execution_count": 31,
   "id": "dcfff9c2",
   "metadata": {},
   "outputs": [
    {
     "data": {
      "image/png": "[encoded data removed]",
      "text/plain": [
       "<Figure size 640x480 with 1 Axes>"
      ]
     },
     "metadata": {},
     "output_type": "display_data"
    }
   ],
   "source": [
    "# Graphical display\n",
    "priceList=list(range(0,40,5))\n",
    "valueList=[32,10,15,18,25,40,50,43]\n",
    "bestPrice,revenueDict=optPrice(priceList,valueList)\n",
    "\n",
    "import matplotlib.pyplot as plt\n",
    "revenueList=[revenueDict[price] for price in priceList]\n",
    "plt.plot(priceList,revenueList)\n",
    "plt.plot([bestPrice],[revenueDict[bestPrice]],'ro')\n",
    "plt.xlabel('Price')\n",
    "plt.ylabel('Revenue')\n",
    "plt.title(f'Optimal price is \\${bestPrice} with revenue \\${revenueDict[bestPrice]}')\n",
    "plt.show()"
   ]
  },
  {
   "cell_type": "code",
   "execution_count": null,
   "id": "7a82c009",
   "metadata": {},
   "outputs": [],
   "source": []
  }
 ],
 "metadata": {
  "kernelspec": {
   "display_name": "Python 3",
   "language": "python",
   "name": "python3"
  },
  "language_info": {
   "codemirror_mode": {
    "name": "ipython",
    "version": 3
   },
   "file_extension": ".py",
   "mimetype": "text/x-python",
   "name": "python",
   "nbconvert_exporter": "python",
   "pygments_lexer": "ipython3",
   "version": "3.8.8"
  }
 },
 "nbformat": 4,
 "nbformat_minor": 5
}
