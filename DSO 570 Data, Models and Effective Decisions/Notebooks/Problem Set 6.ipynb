{
 "cells": [
  {
   "cell_type": "markdown",
   "metadata": {},
   "source": [
    "# Name: Falak Jain\n",
    "\n",
    "# Problem Set 6\n",
    "\n",
    "### Learning Objective:\n",
    "\n",
    "- Formulate linear optimization models to inform a business decision.\n",
    "\n",
    "### Overview:\n",
    "\n",
    "This problem set assesses your ability to analyze a given business descision by creating a concrete formulation of a linear optimization model, as discussed in the lectures for Weeks 7 and 8. You should typeset math within Markdown cells using Latex, as discussed in Week 7.\n",
    "\n",
    "### Grading\n",
    "\n",
    "There are three possible scores you can get from submitting this assignment on time (submitting a blank file or one without any apparent effort does not count). Note that the rubric is designed to incentivize you to go for 100% mastery of the material, as the little details matter a lot in business analytics. \n",
    "\n",
    "| Grade | Description |\n",
    "|--|--|\n",
    "| 5 out of 5 | Perfect submission with no significant errors. | \n",
    "| 4 out of 5 | Near perfect submission with one or more significant errors. |\n",
    "| 2 out of 5 | Apparent effort but far from perfect. |"
   ]
  },
  {
   "cell_type": "markdown",
   "metadata": {},
   "source": [
    "## Q1. Production Planning\n",
    "\n",
    "**(Adapted from DMD Exercise 7.2)** The Magnetron Company manufactures and markets microwave ovens. Currently, the company produces two models: full-size and compact. Production is limited by the amount of labor available in the general assembly and electronic assembly departments, as well as by the demand for each model. Each full-size oven requires 2 hours of general assembly and 2 hours of electronic assembly, whereas each compact oven requires 1 hour of general assembly and 3 hours of electronic assembly. In the current production period, there are 500 hours of general assembly labor available and 800 hours of electronic assembly labor available. \n",
    "\n",
    "In additional, the company estimates that it can sell at most 220 full-size ovens and 180 compact ovens in the current production period. The earnings contribution per oven is 120 dollars for a full-size oven and 130 dollars for a compact oven. The company would like to find an earnings-maximizing production plan for the current production period. \n",
    "\n",
    "**a)** Succintly describe the decision, objective and constraints in English."
   ]
  },
  {
   "cell_type": "markdown",
   "metadata": {},
   "source": [
    "**Decision:** \n",
    "How many full-size and compact ovens to produce in current production period\n",
    "\n",
    "**Objective:** \n",
    "Maximize the profit generated from sales of the two types of ovens\n",
    "\n",
    "**Constraints:** \n",
    "- The production quantity of ovens should not exceed the maximum projected demand\n",
    "- General assembly labor and electronic assembly labor are limited and cannot exceed the maximum limit"
   ]
  },
  {
   "cell_type": "markdown",
   "metadata": {},
   "source": [
    "**b)** Translate the above English description into a concrete formulation of a linear optimization problem."
   ]
  },
  {
   "cell_type": "markdown",
   "metadata": {},
   "source": [
    "## Concrete Formulation\n",
    "\n",
    "**Decision Variable:**\n",
    "- $X$: Number of units of full size oven to produce (integer)\n",
    "- $Y$: Number of units of compact oven to produce (integer)\n",
    "\n",
    "**Objective:**\n",
    "$$\\text{Maximize:} \\qquad 120X + 130Y$$\n",
    "\n",
    "**Constraints:**\n",
    "$$\\begin{aligned}\n",
    "\\text{(General Assembly Labor)} && 2X + Y & \\le 500 \\\\\n",
    "\\text{(Electronic Assembly Labor)} && X + 3Y & \\le 800 \\\\\n",
    "\\text{(Full Size Oven Demand)} && X & \\le 220 \\\\\n",
    "\\text{(Compact Oven Demand)} && Y & \\le 180 \\\\\n",
    "\\end{aligned}$$"
   ]
  },
  {
   "cell_type": "markdown",
   "metadata": {},
   "source": [
    "## Q2. Portfolio Planning\n",
    "\n",
    "**(Adapted from DMD Exercise 7.12)** An investor would like to construct an optimal portfolio consisting of five possible funds. (A portfolio consists of a certain amount of money in each fund.) The five funds and their respective fund categories, risk levels, and percentage annual returns are shown below. \n",
    "\n",
    "| Fund | Category | Risk Level | Percentage Annual Return |\n",
    "|--|--|--|--|\n",
    "| A | Money Market | 1 | 4.50\\% |\n",
    "| B | Money Market | 2 | 5.62 \\% |\n",
    "| C | Bond | 2 | 6.80\\% |\n",
    "| D | Bond | 3 | 10.15\\% |\n",
    "| E | Aggressive Growth | 5 | 20.60\\% |\n",
    "\n",
    "The risk level of each fund is rated on a scale of 1 to 5, where 1 is very conservative and 5 is very risky. The investor would like to maximize the total annual return (i.e., the total monetary amount earned) of the portfolio subject to the following restrictions: \n",
    "\n",
    "1. The average risk level of the entire investment should not exceed 2.5. (The average here is weighted by the amount of money in each fund. For example, if the entire investment consists of 7500 in C and 1000 in D, then the average risk level is $(7500 \\times 2 + 1000 \\times 3)/(7500+1000) \\approx 2.12$.)\n",
    "\n",
    "2. At least 30\\% of the money invetsed should be placed in money market funds.\n",
    "\n",
    "3. At most 2,000 dollars should be invested in the aggressive growth fund.\n",
    "\n",
    "4. The total amount of initial investment should be between 5,000 and 10,000 dollars (inclusive).\n",
    "\n",
    "**a)** Succintly describe the decision, objective and constraints in English."
   ]
  },
  {
   "cell_type": "markdown",
   "metadata": {},
   "source": [
    "**Decision:** \n",
    "Decide the money to be invested in different funds of the portfolio\n",
    "\n",
    "**Objective:** \n",
    "Maximize the return on total investment\n",
    "\n",
    "**Constraints:**\n",
    "- Average risk should not exceed 2.5\n",
    "- Money market should hold atleast 30% of the funds\n",
    "- Aggressive growth funds should atmost hold 2000\n",
    "- Total amount of investment should be between 5000 and 10000 USD"
   ]
  },
  {
   "cell_type": "markdown",
   "metadata": {},
   "source": [
    "**b)** Translate the above English description into a concrete formulation of a linear optimization problem."
   ]
  },
  {
   "cell_type": "markdown",
   "metadata": {},
   "source": [
    "## Concrete Formulation\n",
    "\n",
    "**Decision Variable:**\n",
    "- $A$: The investment to be made in Fund A\n",
    "- $B$: The investment to be made in Fund B\n",
    "- $C$: The investment to be made in Fund C\n",
    "- $D$: The investment to be made in Fund D\n",
    "- $E$: The investment to be made in Fund E\n",
    "\n",
    "**Objective:**\n",
    "$$\\text{Maximize:} \\qquad 0.045A + 0.0562B + 0.068C + 0.1015D + 0.2060E$$\n",
    "\n",
    "**Constraints:**\n",
    "$$\\begin{aligned}\n",
    "\\text{(Money Market Funds)} && 0.7A + 0.7B - 0.3C - 0.3D - 0.3E & \\ge 0 \\\\\n",
    "\\text{(Aggressive Growth Fund)} && E & \\le 2000 \\\\\n",
    "\\text{(Initial Investment 1)} && A + B + C + D + E & \\le 10000 \\\\\n",
    "\\text{(Initial Investment 2)} && A + B + C + D + E & \\ge 5000 \\\\\n",
    "\\text{(Average Risk Level)} && 1.5A + 0.5B + 0.5C - 0.5D - 2.5E & \\ge 0 \\\\\n",
    "\\end{aligned}$$"
   ]
  },
  {
   "cell_type": "markdown",
   "metadata": {},
   "source": [
    "## Q3. Assignment of Consultants to Projects\n",
    "\n",
    "There are two projects and four consultants: Alice, Bob, Charles, and Daphne. Each consultant can be assigned to at most one project, and each project requires at least two consultants. As a manager, you evaluated the relative fitness of the four consultants for each project on a scale of 1 to 5, with 5 being the best fit and 1 being the worst.\n",
    "\n",
    "| ` `| Project 1 | Project 2 |\n",
    "|--|--|--|\n",
    "|Alice | 5 | 2 |\n",
    "|Bob | 3 | 2 |\n",
    "|Charles | 4 | 5 |\n",
    "|Daphne | 3 | 1 |\n",
    " \n",
    "Furthermore, Alice, Bob and Daphne are senior consultants and each project requires at least one senior on the team. \n",
    "\n",
    "Formulate a linear optimization problem to maximize the total fitness of the consultants to their assigned project, subject to all the business constraints."
   ]
  },
  {
   "cell_type": "markdown",
   "metadata": {},
   "source": [
    "### Step 1. English Description\n",
    "\n",
    "**Decision:** \n",
    "Determine which project should be offered to which consultant\n",
    "\n",
    "**Objective:**\n",
    "Maximize the total fitness of consultants to their assigned projects\n",
    "\n",
    "**Constraints:**\n",
    "- Each project should have atleast one senior consultant\n",
    "- Every consultant can be assigned to atmost one project\n",
    "- Every project must be handled by at least two consultants\n",
    "\n",
    "### Step 2. Concrete Formulation\n",
    "\n",
    "**Decision Variable:**\n",
    "- $X_{ij}$: If project i should be assigned to consultant j (binary)\n",
    "\n",
    "**Objective:**\n",
    "$$\\text{Maximize:} \\qquad 5X_{1A} + 2X_{2A} + 3X_{1B} + 2X_{2B} + 4X_{1C} + 5X_{2C} + 3X_{1D} + 1X_{2D}$$\n",
    "\n",
    "**Constraints:**\n",
    "$$\\begin{aligned}\n",
    "\\text{(Project 1 Senior Consultant)} && X_{1A} + X_{1B} + X_{1D} & \\ge 1 \\\\\n",
    "\\text{(Project 2 Senior Consultant)} && X_{2A} + X_{2B} + X_{2D} & \\ge 1 \\\\\n",
    "\\text{(Consultant A)} && X_{1A} + X_{2A} & \\le 1 \\\\\n",
    "\\text{(Consultant B)} && X_{1B} + X_{2B} & \\le 1 \\\\\n",
    "\\text{(Consultant C)} && X_{1C} + X_{2C} & \\le 1 \\\\\n",
    "\\text{(Consultant D)} && X_{1D} + X_{2D} & \\le 1 \\\\\n",
    "\\text{(Project 1 Minimum Requirement)} && X_{1A} + X_{1B} + X_{1C} + X_{1D} & \\ge 2 \\\\\n",
    "\\text{(Project 2 Minimum Requirement)} && X_{2A} + X_{2B} + X_{2C} + X_{2D} & \\ge 2 \\\\\n",
    "\\end{aligned}$$\n",
    "\n",
    "\n",
    "\n",
    "\n",
    "\n",
    "\n",
    "\n",
    "\n"
   ]
  }
 ],
 "metadata": {
  "kernelspec": {
   "display_name": "Python 3 (ipykernel)",
   "language": "python",
   "name": "python3"
  },
  "language_info": {
   "codemirror_mode": {
    "name": "ipython",
    "version": 3
   },
   "file_extension": ".py",
   "mimetype": "text/x-python",
   "name": "python",
   "nbconvert_exporter": "python",
   "pygments_lexer": "ipython3",
   "version": "3.8.8"
  }
 },
 "nbformat": 4,
 "nbformat_minor": 2
}
